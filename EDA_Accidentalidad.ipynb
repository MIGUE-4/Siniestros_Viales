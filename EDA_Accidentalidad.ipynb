{
 "cells": [
  {
   "cell_type": "code",
   "execution_count": 126,
   "id": "67245fca",
   "metadata": {},
   "outputs": [],
   "source": [
    "import pandas as pd\n",
    "import numpy as np\n",
    "import matplotlib.pyplot as plt\n",
    "import seaborn as sns\n",
    "from plotly import graph_objects as go\n",
    "from plotly import express as exp\n",
    "import folium\n",
    "import ydata_profiling\n",
    "sns.set_theme()"
   ]
  },
  {
   "cell_type": "markdown",
   "id": "321cac95",
   "metadata": {},
   "source": [
    "Extracción información de la hoja de HECHOS, haciendo referencia a detalles de la ubicación del siniestro "
   ]
  },
  {
   "cell_type": "code",
   "execution_count": 68,
   "id": "64f32e2e",
   "metadata": {},
   "outputs": [
    {
     "data": {
      "text/html": [
       "<div>\n",
       "<style scoped>\n",
       "    .dataframe tbody tr th:only-of-type {\n",
       "        vertical-align: middle;\n",
       "    }\n",
       "\n",
       "    .dataframe tbody tr th {\n",
       "        vertical-align: top;\n",
       "    }\n",
       "\n",
       "    .dataframe thead th {\n",
       "        text-align: right;\n",
       "    }\n",
       "</style>\n",
       "<table border=\"1\" class=\"dataframe\">\n",
       "  <thead>\n",
       "    <tr style=\"text-align: right;\">\n",
       "      <th></th>\n",
       "      <th>ID</th>\n",
       "      <th>N_VICTIMAS</th>\n",
       "      <th>FECHA</th>\n",
       "      <th>AAAA</th>\n",
       "      <th>MM</th>\n",
       "      <th>DD</th>\n",
       "      <th>HORA</th>\n",
       "      <th>HH</th>\n",
       "      <th>LUGAR_DEL_HECHO</th>\n",
       "      <th>TIPO_DE_CALLE</th>\n",
       "      <th>...</th>\n",
       "      <th>Altura</th>\n",
       "      <th>Cruce</th>\n",
       "      <th>Dirección Normalizada</th>\n",
       "      <th>COMUNA</th>\n",
       "      <th>XY (CABA)</th>\n",
       "      <th>pos x</th>\n",
       "      <th>pos y</th>\n",
       "      <th>PARTICIPANTES</th>\n",
       "      <th>VICTIMA</th>\n",
       "      <th>ACUSADO</th>\n",
       "    </tr>\n",
       "  </thead>\n",
       "  <tbody>\n",
       "    <tr>\n",
       "      <th>0</th>\n",
       "      <td>2016-0001</td>\n",
       "      <td>1</td>\n",
       "      <td>2016-01-01</td>\n",
       "      <td>2016</td>\n",
       "      <td>1</td>\n",
       "      <td>1</td>\n",
       "      <td>04:00:00</td>\n",
       "      <td>4</td>\n",
       "      <td>AV PIEDRA BUENA Y AV FERNANDEZ DE LA CRUZ</td>\n",
       "      <td>AVENIDA</td>\n",
       "      <td>...</td>\n",
       "      <td>NaN</td>\n",
       "      <td>FERNANDEZ DE LA CRUZ, F., GRAL. AV.</td>\n",
       "      <td>PIEDRA BUENA AV. y FERNANDEZ DE LA CRUZ, F., G...</td>\n",
       "      <td>8</td>\n",
       "      <td>Point (98896.78238426 93532.43437792)</td>\n",
       "      <td>-58.47533969</td>\n",
       "      <td>-34.68757022</td>\n",
       "      <td>MOTO-AUTO</td>\n",
       "      <td>MOTO</td>\n",
       "      <td>AUTO</td>\n",
       "    </tr>\n",
       "    <tr>\n",
       "      <th>1</th>\n",
       "      <td>2016-0002</td>\n",
       "      <td>1</td>\n",
       "      <td>2016-01-02</td>\n",
       "      <td>2016</td>\n",
       "      <td>1</td>\n",
       "      <td>2</td>\n",
       "      <td>01:15:00</td>\n",
       "      <td>1</td>\n",
       "      <td>AV GRAL PAZ  Y AV DE LOS CORRALES</td>\n",
       "      <td>GRAL PAZ</td>\n",
       "      <td>...</td>\n",
       "      <td>NaN</td>\n",
       "      <td>DE LOS CORRALES AV.</td>\n",
       "      <td>PAZ, GRAL. AV. y DE LOS CORRALES AV.</td>\n",
       "      <td>9</td>\n",
       "      <td>Point (95832.05571093 95505.41641999)</td>\n",
       "      <td>-58.50877521</td>\n",
       "      <td>-34.66977709</td>\n",
       "      <td>AUTO-PASAJEROS</td>\n",
       "      <td>AUTO</td>\n",
       "      <td>PASAJEROS</td>\n",
       "    </tr>\n",
       "    <tr>\n",
       "      <th>2</th>\n",
       "      <td>2016-0003</td>\n",
       "      <td>1</td>\n",
       "      <td>2016-01-03</td>\n",
       "      <td>2016</td>\n",
       "      <td>1</td>\n",
       "      <td>3</td>\n",
       "      <td>07:00:00</td>\n",
       "      <td>7</td>\n",
       "      <td>AV ENTRE RIOS 2034</td>\n",
       "      <td>AVENIDA</td>\n",
       "      <td>...</td>\n",
       "      <td>2034.0</td>\n",
       "      <td>NaN</td>\n",
       "      <td>ENTRE RIOS AV. 2034</td>\n",
       "      <td>1</td>\n",
       "      <td>Point (106684.29090040 99706.57687843)</td>\n",
       "      <td>-58.39040293</td>\n",
       "      <td>-34.63189362</td>\n",
       "      <td>MOTO-AUTO</td>\n",
       "      <td>MOTO</td>\n",
       "      <td>AUTO</td>\n",
       "    </tr>\n",
       "    <tr>\n",
       "      <th>3</th>\n",
       "      <td>2016-0004</td>\n",
       "      <td>1</td>\n",
       "      <td>2016-01-10</td>\n",
       "      <td>2016</td>\n",
       "      <td>1</td>\n",
       "      <td>10</td>\n",
       "      <td>00:00:00</td>\n",
       "      <td>0</td>\n",
       "      <td>AV LARRAZABAL Y GRAL VILLEGAS CONRADO</td>\n",
       "      <td>AVENIDA</td>\n",
       "      <td>...</td>\n",
       "      <td>NaN</td>\n",
       "      <td>VILLEGAS, CONRADO, GRAL.</td>\n",
       "      <td>LARRAZABAL AV. y VILLEGAS, CONRADO, GRAL.</td>\n",
       "      <td>8</td>\n",
       "      <td>Point (99840.65224780 94269.16534422)</td>\n",
       "      <td>-58.46503904</td>\n",
       "      <td>-34.68092974</td>\n",
       "      <td>MOTO-SD</td>\n",
       "      <td>MOTO</td>\n",
       "      <td>SD</td>\n",
       "    </tr>\n",
       "    <tr>\n",
       "      <th>4</th>\n",
       "      <td>2016-0005</td>\n",
       "      <td>1</td>\n",
       "      <td>2016-01-21</td>\n",
       "      <td>2016</td>\n",
       "      <td>1</td>\n",
       "      <td>21</td>\n",
       "      <td>05:20:00</td>\n",
       "      <td>5</td>\n",
       "      <td>AV SAN JUAN Y PRESIDENTE LUIS SAENZ PEÑA</td>\n",
       "      <td>AVENIDA</td>\n",
       "      <td>...</td>\n",
       "      <td>NaN</td>\n",
       "      <td>SAENZ PE?A, LUIS, PRES.</td>\n",
       "      <td>SAN JUAN AV. y SAENZ PEÃ‘A, LUIS, PRES.</td>\n",
       "      <td>1</td>\n",
       "      <td>Point (106980.32827929 100752.16915795)</td>\n",
       "      <td>-58.38718297</td>\n",
       "      <td>-34.62246630</td>\n",
       "      <td>MOTO-PASAJEROS</td>\n",
       "      <td>MOTO</td>\n",
       "      <td>PASAJEROS</td>\n",
       "    </tr>\n",
       "    <tr>\n",
       "      <th>...</th>\n",
       "      <td>...</td>\n",
       "      <td>...</td>\n",
       "      <td>...</td>\n",
       "      <td>...</td>\n",
       "      <td>...</td>\n",
       "      <td>...</td>\n",
       "      <td>...</td>\n",
       "      <td>...</td>\n",
       "      <td>...</td>\n",
       "      <td>...</td>\n",
       "      <td>...</td>\n",
       "      <td>...</td>\n",
       "      <td>...</td>\n",
       "      <td>...</td>\n",
       "      <td>...</td>\n",
       "      <td>...</td>\n",
       "      <td>...</td>\n",
       "      <td>...</td>\n",
       "      <td>...</td>\n",
       "      <td>...</td>\n",
       "      <td>...</td>\n",
       "    </tr>\n",
       "    <tr>\n",
       "      <th>691</th>\n",
       "      <td>2021-0093</td>\n",
       "      <td>1</td>\n",
       "      <td>2021-12-13</td>\n",
       "      <td>2021</td>\n",
       "      <td>12</td>\n",
       "      <td>13</td>\n",
       "      <td>17:10:00</td>\n",
       "      <td>17</td>\n",
       "      <td>AV. RIESTRA Y MOM</td>\n",
       "      <td>AVENIDA</td>\n",
       "      <td>...</td>\n",
       "      <td>NaN</td>\n",
       "      <td>MOM</td>\n",
       "      <td>RIESTRA AV. y MOM</td>\n",
       "      <td>7</td>\n",
       "      <td>Point (102728.60090138 98186.24929177)</td>\n",
       "      <td>-58.43353773</td>\n",
       "      <td>-34.64561636</td>\n",
       "      <td>MOTO-AUTO</td>\n",
       "      <td>MOTO</td>\n",
       "      <td>AUTO</td>\n",
       "    </tr>\n",
       "    <tr>\n",
       "      <th>692</th>\n",
       "      <td>2021-0094</td>\n",
       "      <td>1</td>\n",
       "      <td>2021-12-20</td>\n",
       "      <td>2021</td>\n",
       "      <td>12</td>\n",
       "      <td>20</td>\n",
       "      <td>01:10:00</td>\n",
       "      <td>1</td>\n",
       "      <td>AU DELLEPIANE Y LACARRA</td>\n",
       "      <td>AUTOPISTA</td>\n",
       "      <td>...</td>\n",
       "      <td>NaN</td>\n",
       "      <td>LACARRA AV.</td>\n",
       "      <td>DELLEPIANE, LUIS, TTE. GRAL. y LACARRA AV.</td>\n",
       "      <td>9</td>\n",
       "      <td>Point (99624.29795829 97569.69801131)</td>\n",
       "      <td>-58.46739825</td>\n",
       "      <td>-34.65117757</td>\n",
       "      <td>MOTO-AUTO</td>\n",
       "      <td>MOTO</td>\n",
       "      <td>AUTO</td>\n",
       "    </tr>\n",
       "    <tr>\n",
       "      <th>693</th>\n",
       "      <td>2021-0095</td>\n",
       "      <td>1</td>\n",
       "      <td>2021-12-30</td>\n",
       "      <td>2021</td>\n",
       "      <td>12</td>\n",
       "      <td>30</td>\n",
       "      <td>00:43:00</td>\n",
       "      <td>0</td>\n",
       "      <td>AV. GAONA Y TERRADA</td>\n",
       "      <td>AVENIDA</td>\n",
       "      <td>...</td>\n",
       "      <td>NaN</td>\n",
       "      <td>TERRADA</td>\n",
       "      <td>GAONA AV. y TERRADA</td>\n",
       "      <td>11</td>\n",
       "      <td>Point (99116.45492358 101045.23284826)</td>\n",
       "      <td>-58.47293407</td>\n",
       "      <td>-34.61984745</td>\n",
       "      <td>MOTO-CARGAS</td>\n",
       "      <td>MOTO</td>\n",
       "      <td>CARGAS</td>\n",
       "    </tr>\n",
       "    <tr>\n",
       "      <th>694</th>\n",
       "      <td>2021-0096</td>\n",
       "      <td>1</td>\n",
       "      <td>2021-12-15</td>\n",
       "      <td>2021</td>\n",
       "      <td>12</td>\n",
       "      <td>15</td>\n",
       "      <td>10:30:00</td>\n",
       "      <td>10</td>\n",
       "      <td>AV. EVA PERON 4071</td>\n",
       "      <td>AVENIDA</td>\n",
       "      <td>...</td>\n",
       "      <td>4071.0</td>\n",
       "      <td>NaN</td>\n",
       "      <td>PERON, EVA AV. 4071</td>\n",
       "      <td>9</td>\n",
       "      <td>Point (99324.54463985 97676.26932409)</td>\n",
       "      <td>-58.47066794</td>\n",
       "      <td>-34.65021673</td>\n",
       "      <td>AUTO-CARGAS</td>\n",
       "      <td>AUTO</td>\n",
       "      <td>CARGAS</td>\n",
       "    </tr>\n",
       "    <tr>\n",
       "      <th>695</th>\n",
       "      <td>2021-0097</td>\n",
       "      <td>1</td>\n",
       "      <td>2021-11-18</td>\n",
       "      <td>2021</td>\n",
       "      <td>11</td>\n",
       "      <td>18</td>\n",
       "      <td>06:10:00</td>\n",
       "      <td>6</td>\n",
       "      <td>PADRE CARLOS MUJICA 709</td>\n",
       "      <td>CALLE</td>\n",
       "      <td>...</td>\n",
       "      <td>709.0</td>\n",
       "      <td>NaN</td>\n",
       "      <td>PADRE CARLOS MUGICA 709</td>\n",
       "      <td>1</td>\n",
       "      <td>Point (107664.16647795 104708.63962087)</td>\n",
       "      <td>-58.37976155</td>\n",
       "      <td>-34.58679619</td>\n",
       "      <td>BICICLETA-AUTO</td>\n",
       "      <td>BICICLETA</td>\n",
       "      <td>AUTO</td>\n",
       "    </tr>\n",
       "  </tbody>\n",
       "</table>\n",
       "<p>696 rows × 21 columns</p>\n",
       "</div>"
      ],
      "text/plain": [
       "            ID  N_VICTIMAS      FECHA  AAAA  MM  DD      HORA  HH  \\\n",
       "0    2016-0001           1 2016-01-01  2016   1   1  04:00:00   4   \n",
       "1    2016-0002           1 2016-01-02  2016   1   2  01:15:00   1   \n",
       "2    2016-0003           1 2016-01-03  2016   1   3  07:00:00   7   \n",
       "3    2016-0004           1 2016-01-10  2016   1  10  00:00:00   0   \n",
       "4    2016-0005           1 2016-01-21  2016   1  21  05:20:00   5   \n",
       "..         ...         ...        ...   ...  ..  ..       ...  ..   \n",
       "691  2021-0093           1 2021-12-13  2021  12  13  17:10:00  17   \n",
       "692  2021-0094           1 2021-12-20  2021  12  20  01:10:00   1   \n",
       "693  2021-0095           1 2021-12-30  2021  12  30  00:43:00   0   \n",
       "694  2021-0096           1 2021-12-15  2021  12  15  10:30:00  10   \n",
       "695  2021-0097           1 2021-11-18  2021  11  18  06:10:00   6   \n",
       "\n",
       "                               LUGAR_DEL_HECHO TIPO_DE_CALLE  ...  Altura  \\\n",
       "0    AV PIEDRA BUENA Y AV FERNANDEZ DE LA CRUZ       AVENIDA  ...     NaN   \n",
       "1            AV GRAL PAZ  Y AV DE LOS CORRALES      GRAL PAZ  ...     NaN   \n",
       "2                           AV ENTRE RIOS 2034       AVENIDA  ...  2034.0   \n",
       "3        AV LARRAZABAL Y GRAL VILLEGAS CONRADO       AVENIDA  ...     NaN   \n",
       "4    AV SAN JUAN Y PRESIDENTE LUIS SAENZ PEÑA        AVENIDA  ...     NaN   \n",
       "..                                         ...           ...  ...     ...   \n",
       "691                          AV. RIESTRA Y MOM       AVENIDA  ...     NaN   \n",
       "692                    AU DELLEPIANE Y LACARRA     AUTOPISTA  ...     NaN   \n",
       "693                        AV. GAONA Y TERRADA       AVENIDA  ...     NaN   \n",
       "694                         AV. EVA PERON 4071       AVENIDA  ...  4071.0   \n",
       "695                    PADRE CARLOS MUJICA 709         CALLE  ...   709.0   \n",
       "\n",
       "                                   Cruce  \\\n",
       "0    FERNANDEZ DE LA CRUZ, F., GRAL. AV.   \n",
       "1                    DE LOS CORRALES AV.   \n",
       "2                                    NaN   \n",
       "3               VILLEGAS, CONRADO, GRAL.   \n",
       "4                SAENZ PE?A, LUIS, PRES.   \n",
       "..                                   ...   \n",
       "691                                  MOM   \n",
       "692                          LACARRA AV.   \n",
       "693                              TERRADA   \n",
       "694                                  NaN   \n",
       "695                                  NaN   \n",
       "\n",
       "                                 Dirección Normalizada COMUNA  \\\n",
       "0    PIEDRA BUENA AV. y FERNANDEZ DE LA CRUZ, F., G...      8   \n",
       "1                 PAZ, GRAL. AV. y DE LOS CORRALES AV.      9   \n",
       "2                                  ENTRE RIOS AV. 2034      1   \n",
       "3            LARRAZABAL AV. y VILLEGAS, CONRADO, GRAL.      8   \n",
       "4              SAN JUAN AV. y SAENZ PEÃ‘A, LUIS, PRES.      1   \n",
       "..                                                 ...    ...   \n",
       "691                                  RIESTRA AV. y MOM      7   \n",
       "692         DELLEPIANE, LUIS, TTE. GRAL. y LACARRA AV.      9   \n",
       "693                                GAONA AV. y TERRADA     11   \n",
       "694                                PERON, EVA AV. 4071      9   \n",
       "695                            PADRE CARLOS MUGICA 709      1   \n",
       "\n",
       "                                   XY (CABA)         pos x         pos y  \\\n",
       "0      Point (98896.78238426 93532.43437792)  -58.47533969  -34.68757022   \n",
       "1      Point (95832.05571093 95505.41641999)  -58.50877521  -34.66977709   \n",
       "2     Point (106684.29090040 99706.57687843)  -58.39040293  -34.63189362   \n",
       "3      Point (99840.65224780 94269.16534422)  -58.46503904  -34.68092974   \n",
       "4    Point (106980.32827929 100752.16915795)  -58.38718297  -34.62246630   \n",
       "..                                       ...           ...           ...   \n",
       "691   Point (102728.60090138 98186.24929177)  -58.43353773  -34.64561636   \n",
       "692    Point (99624.29795829 97569.69801131)  -58.46739825  -34.65117757   \n",
       "693   Point (99116.45492358 101045.23284826)  -58.47293407  -34.61984745   \n",
       "694    Point (99324.54463985 97676.26932409)  -58.47066794  -34.65021673   \n",
       "695  Point (107664.16647795 104708.63962087)  -58.37976155  -34.58679619   \n",
       "\n",
       "      PARTICIPANTES    VICTIMA    ACUSADO  \n",
       "0         MOTO-AUTO       MOTO       AUTO  \n",
       "1    AUTO-PASAJEROS       AUTO  PASAJEROS  \n",
       "2         MOTO-AUTO       MOTO       AUTO  \n",
       "3           MOTO-SD       MOTO         SD  \n",
       "4    MOTO-PASAJEROS       MOTO  PASAJEROS  \n",
       "..              ...        ...        ...  \n",
       "691       MOTO-AUTO       MOTO       AUTO  \n",
       "692       MOTO-AUTO       MOTO       AUTO  \n",
       "693     MOTO-CARGAS       MOTO     CARGAS  \n",
       "694     AUTO-CARGAS       AUTO     CARGAS  \n",
       "695  BICICLETA-AUTO  BICICLETA       AUTO  \n",
       "\n",
       "[696 rows x 21 columns]"
      ]
     },
     "execution_count": 68,
     "metadata": {},
     "output_type": "execute_result"
    }
   ],
   "source": [
    "siniestros_viales_hechos = pd.read_excel(r\"C:\\Users\\MSI\\Downloads\\homicidios.xlsx\", sheet_name='HECHOS')\n",
    "siniestros_viales_hechos"
   ]
  },
  {
   "cell_type": "code",
   "execution_count": 110,
   "id": "ce251b24",
   "metadata": {},
   "outputs": [],
   "source": [
    "siniestros_viales_hechos.drop(columns=['LUGAR_DEL_HECHO','TIPO_DE_CALLE','Calle','Dirección Normalizada'],inplace=True)"
   ]
  },
  {
   "cell_type": "markdown",
   "id": "722deb00",
   "metadata": {},
   "source": [
    "Gráfico de barra mostrando los accidentes reportados por cada comuna"
   ]
  },
  {
   "cell_type": "code",
   "execution_count": 69,
   "id": "82f4c5ca",
   "metadata": {},
   "outputs": [
    {
     "data": {
      "application/vnd.plotly.v1+json": {
       "config": {
        "plotlyServerURL": "https://plot.ly"
       },
       "data": [
        {
         "marker": {
          "color": [
           "#440154",
           "#482878",
           "#3e4a89",
           "#31688e",
           "#26828e",
           "#1f9e89",
           "#35b779",
           "#6dcd59",
           "#b4de2c",
           "#fde725",
           "#ff7f00",
           "#ffa07a",
           "#6495ed",
           "#8a2be2",
           "#da70d6",
           "#20b2aa"
          ]
         },
         "type": "bar",
         "x": [
          1,
          4,
          9,
          8,
          7,
          3,
          15,
          13,
          12,
          14,
          11,
          10,
          2,
          5,
          6,
          0
         ],
         "y": [
          90,
          76,
          73,
          65,
          60,
          45,
          44,
          40,
          37,
          35,
          32,
          29,
          25,
          22,
          21,
          2
         ]
        }
       ],
       "layout": {
        "template": {
         "data": {
          "bar": [
           {
            "error_x": {
             "color": "#2a3f5f"
            },
            "error_y": {
             "color": "#2a3f5f"
            },
            "marker": {
             "line": {
              "color": "#E5ECF6",
              "width": 0.5
             },
             "pattern": {
              "fillmode": "overlay",
              "size": 10,
              "solidity": 0.2
             }
            },
            "type": "bar"
           }
          ],
          "barpolar": [
           {
            "marker": {
             "line": {
              "color": "#E5ECF6",
              "width": 0.5
             },
             "pattern": {
              "fillmode": "overlay",
              "size": 10,
              "solidity": 0.2
             }
            },
            "type": "barpolar"
           }
          ],
          "carpet": [
           {
            "aaxis": {
             "endlinecolor": "#2a3f5f",
             "gridcolor": "white",
             "linecolor": "white",
             "minorgridcolor": "white",
             "startlinecolor": "#2a3f5f"
            },
            "baxis": {
             "endlinecolor": "#2a3f5f",
             "gridcolor": "white",
             "linecolor": "white",
             "minorgridcolor": "white",
             "startlinecolor": "#2a3f5f"
            },
            "type": "carpet"
           }
          ],
          "choropleth": [
           {
            "colorbar": {
             "outlinewidth": 0,
             "ticks": ""
            },
            "type": "choropleth"
           }
          ],
          "contour": [
           {
            "colorbar": {
             "outlinewidth": 0,
             "ticks": ""
            },
            "colorscale": [
             [
              0,
              "#0d0887"
             ],
             [
              0.1111111111111111,
              "#46039f"
             ],
             [
              0.2222222222222222,
              "#7201a8"
             ],
             [
              0.3333333333333333,
              "#9c179e"
             ],
             [
              0.4444444444444444,
              "#bd3786"
             ],
             [
              0.5555555555555556,
              "#d8576b"
             ],
             [
              0.6666666666666666,
              "#ed7953"
             ],
             [
              0.7777777777777778,
              "#fb9f3a"
             ],
             [
              0.8888888888888888,
              "#fdca26"
             ],
             [
              1,
              "#f0f921"
             ]
            ],
            "type": "contour"
           }
          ],
          "contourcarpet": [
           {
            "colorbar": {
             "outlinewidth": 0,
             "ticks": ""
            },
            "type": "contourcarpet"
           }
          ],
          "heatmap": [
           {
            "colorbar": {
             "outlinewidth": 0,
             "ticks": ""
            },
            "colorscale": [
             [
              0,
              "#0d0887"
             ],
             [
              0.1111111111111111,
              "#46039f"
             ],
             [
              0.2222222222222222,
              "#7201a8"
             ],
             [
              0.3333333333333333,
              "#9c179e"
             ],
             [
              0.4444444444444444,
              "#bd3786"
             ],
             [
              0.5555555555555556,
              "#d8576b"
             ],
             [
              0.6666666666666666,
              "#ed7953"
             ],
             [
              0.7777777777777778,
              "#fb9f3a"
             ],
             [
              0.8888888888888888,
              "#fdca26"
             ],
             [
              1,
              "#f0f921"
             ]
            ],
            "type": "heatmap"
           }
          ],
          "heatmapgl": [
           {
            "colorbar": {
             "outlinewidth": 0,
             "ticks": ""
            },
            "colorscale": [
             [
              0,
              "#0d0887"
             ],
             [
              0.1111111111111111,
              "#46039f"
             ],
             [
              0.2222222222222222,
              "#7201a8"
             ],
             [
              0.3333333333333333,
              "#9c179e"
             ],
             [
              0.4444444444444444,
              "#bd3786"
             ],
             [
              0.5555555555555556,
              "#d8576b"
             ],
             [
              0.6666666666666666,
              "#ed7953"
             ],
             [
              0.7777777777777778,
              "#fb9f3a"
             ],
             [
              0.8888888888888888,
              "#fdca26"
             ],
             [
              1,
              "#f0f921"
             ]
            ],
            "type": "heatmapgl"
           }
          ],
          "histogram": [
           {
            "marker": {
             "pattern": {
              "fillmode": "overlay",
              "size": 10,
              "solidity": 0.2
             }
            },
            "type": "histogram"
           }
          ],
          "histogram2d": [
           {
            "colorbar": {
             "outlinewidth": 0,
             "ticks": ""
            },
            "colorscale": [
             [
              0,
              "#0d0887"
             ],
             [
              0.1111111111111111,
              "#46039f"
             ],
             [
              0.2222222222222222,
              "#7201a8"
             ],
             [
              0.3333333333333333,
              "#9c179e"
             ],
             [
              0.4444444444444444,
              "#bd3786"
             ],
             [
              0.5555555555555556,
              "#d8576b"
             ],
             [
              0.6666666666666666,
              "#ed7953"
             ],
             [
              0.7777777777777778,
              "#fb9f3a"
             ],
             [
              0.8888888888888888,
              "#fdca26"
             ],
             [
              1,
              "#f0f921"
             ]
            ],
            "type": "histogram2d"
           }
          ],
          "histogram2dcontour": [
           {
            "colorbar": {
             "outlinewidth": 0,
             "ticks": ""
            },
            "colorscale": [
             [
              0,
              "#0d0887"
             ],
             [
              0.1111111111111111,
              "#46039f"
             ],
             [
              0.2222222222222222,
              "#7201a8"
             ],
             [
              0.3333333333333333,
              "#9c179e"
             ],
             [
              0.4444444444444444,
              "#bd3786"
             ],
             [
              0.5555555555555556,
              "#d8576b"
             ],
             [
              0.6666666666666666,
              "#ed7953"
             ],
             [
              0.7777777777777778,
              "#fb9f3a"
             ],
             [
              0.8888888888888888,
              "#fdca26"
             ],
             [
              1,
              "#f0f921"
             ]
            ],
            "type": "histogram2dcontour"
           }
          ],
          "mesh3d": [
           {
            "colorbar": {
             "outlinewidth": 0,
             "ticks": ""
            },
            "type": "mesh3d"
           }
          ],
          "parcoords": [
           {
            "line": {
             "colorbar": {
              "outlinewidth": 0,
              "ticks": ""
             }
            },
            "type": "parcoords"
           }
          ],
          "pie": [
           {
            "automargin": true,
            "type": "pie"
           }
          ],
          "scatter": [
           {
            "fillpattern": {
             "fillmode": "overlay",
             "size": 10,
             "solidity": 0.2
            },
            "type": "scatter"
           }
          ],
          "scatter3d": [
           {
            "line": {
             "colorbar": {
              "outlinewidth": 0,
              "ticks": ""
             }
            },
            "marker": {
             "colorbar": {
              "outlinewidth": 0,
              "ticks": ""
             }
            },
            "type": "scatter3d"
           }
          ],
          "scattercarpet": [
           {
            "marker": {
             "colorbar": {
              "outlinewidth": 0,
              "ticks": ""
             }
            },
            "type": "scattercarpet"
           }
          ],
          "scattergeo": [
           {
            "marker": {
             "colorbar": {
              "outlinewidth": 0,
              "ticks": ""
             }
            },
            "type": "scattergeo"
           }
          ],
          "scattergl": [
           {
            "marker": {
             "colorbar": {
              "outlinewidth": 0,
              "ticks": ""
             }
            },
            "type": "scattergl"
           }
          ],
          "scattermapbox": [
           {
            "marker": {
             "colorbar": {
              "outlinewidth": 0,
              "ticks": ""
             }
            },
            "type": "scattermapbox"
           }
          ],
          "scatterpolar": [
           {
            "marker": {
             "colorbar": {
              "outlinewidth": 0,
              "ticks": ""
             }
            },
            "type": "scatterpolar"
           }
          ],
          "scatterpolargl": [
           {
            "marker": {
             "colorbar": {
              "outlinewidth": 0,
              "ticks": ""
             }
            },
            "type": "scatterpolargl"
           }
          ],
          "scatterternary": [
           {
            "marker": {
             "colorbar": {
              "outlinewidth": 0,
              "ticks": ""
             }
            },
            "type": "scatterternary"
           }
          ],
          "surface": [
           {
            "colorbar": {
             "outlinewidth": 0,
             "ticks": ""
            },
            "colorscale": [
             [
              0,
              "#0d0887"
             ],
             [
              0.1111111111111111,
              "#46039f"
             ],
             [
              0.2222222222222222,
              "#7201a8"
             ],
             [
              0.3333333333333333,
              "#9c179e"
             ],
             [
              0.4444444444444444,
              "#bd3786"
             ],
             [
              0.5555555555555556,
              "#d8576b"
             ],
             [
              0.6666666666666666,
              "#ed7953"
             ],
             [
              0.7777777777777778,
              "#fb9f3a"
             ],
             [
              0.8888888888888888,
              "#fdca26"
             ],
             [
              1,
              "#f0f921"
             ]
            ],
            "type": "surface"
           }
          ],
          "table": [
           {
            "cells": {
             "fill": {
              "color": "#EBF0F8"
             },
             "line": {
              "color": "white"
             }
            },
            "header": {
             "fill": {
              "color": "#C8D4E3"
             },
             "line": {
              "color": "white"
             }
            },
            "type": "table"
           }
          ]
         },
         "layout": {
          "annotationdefaults": {
           "arrowcolor": "#2a3f5f",
           "arrowhead": 0,
           "arrowwidth": 1
          },
          "autotypenumbers": "strict",
          "coloraxis": {
           "colorbar": {
            "outlinewidth": 0,
            "ticks": ""
           }
          },
          "colorscale": {
           "diverging": [
            [
             0,
             "#8e0152"
            ],
            [
             0.1,
             "#c51b7d"
            ],
            [
             0.2,
             "#de77ae"
            ],
            [
             0.3,
             "#f1b6da"
            ],
            [
             0.4,
             "#fde0ef"
            ],
            [
             0.5,
             "#f7f7f7"
            ],
            [
             0.6,
             "#e6f5d0"
            ],
            [
             0.7,
             "#b8e186"
            ],
            [
             0.8,
             "#7fbc41"
            ],
            [
             0.9,
             "#4d9221"
            ],
            [
             1,
             "#276419"
            ]
           ],
           "sequential": [
            [
             0,
             "#0d0887"
            ],
            [
             0.1111111111111111,
             "#46039f"
            ],
            [
             0.2222222222222222,
             "#7201a8"
            ],
            [
             0.3333333333333333,
             "#9c179e"
            ],
            [
             0.4444444444444444,
             "#bd3786"
            ],
            [
             0.5555555555555556,
             "#d8576b"
            ],
            [
             0.6666666666666666,
             "#ed7953"
            ],
            [
             0.7777777777777778,
             "#fb9f3a"
            ],
            [
             0.8888888888888888,
             "#fdca26"
            ],
            [
             1,
             "#f0f921"
            ]
           ],
           "sequentialminus": [
            [
             0,
             "#0d0887"
            ],
            [
             0.1111111111111111,
             "#46039f"
            ],
            [
             0.2222222222222222,
             "#7201a8"
            ],
            [
             0.3333333333333333,
             "#9c179e"
            ],
            [
             0.4444444444444444,
             "#bd3786"
            ],
            [
             0.5555555555555556,
             "#d8576b"
            ],
            [
             0.6666666666666666,
             "#ed7953"
            ],
            [
             0.7777777777777778,
             "#fb9f3a"
            ],
            [
             0.8888888888888888,
             "#fdca26"
            ],
            [
             1,
             "#f0f921"
            ]
           ]
          },
          "colorway": [
           "#636efa",
           "#EF553B",
           "#00cc96",
           "#ab63fa",
           "#FFA15A",
           "#19d3f3",
           "#FF6692",
           "#B6E880",
           "#FF97FF",
           "#FECB52"
          ],
          "font": {
           "color": "#2a3f5f"
          },
          "geo": {
           "bgcolor": "white",
           "lakecolor": "white",
           "landcolor": "#E5ECF6",
           "showlakes": true,
           "showland": true,
           "subunitcolor": "white"
          },
          "hoverlabel": {
           "align": "left"
          },
          "hovermode": "closest",
          "mapbox": {
           "style": "light"
          },
          "paper_bgcolor": "white",
          "plot_bgcolor": "#E5ECF6",
          "polar": {
           "angularaxis": {
            "gridcolor": "white",
            "linecolor": "white",
            "ticks": ""
           },
           "bgcolor": "#E5ECF6",
           "radialaxis": {
            "gridcolor": "white",
            "linecolor": "white",
            "ticks": ""
           }
          },
          "scene": {
           "xaxis": {
            "backgroundcolor": "#E5ECF6",
            "gridcolor": "white",
            "gridwidth": 2,
            "linecolor": "white",
            "showbackground": true,
            "ticks": "",
            "zerolinecolor": "white"
           },
           "yaxis": {
            "backgroundcolor": "#E5ECF6",
            "gridcolor": "white",
            "gridwidth": 2,
            "linecolor": "white",
            "showbackground": true,
            "ticks": "",
            "zerolinecolor": "white"
           },
           "zaxis": {
            "backgroundcolor": "#E5ECF6",
            "gridcolor": "white",
            "gridwidth": 2,
            "linecolor": "white",
            "showbackground": true,
            "ticks": "",
            "zerolinecolor": "white"
           }
          },
          "shapedefaults": {
           "line": {
            "color": "#2a3f5f"
           }
          },
          "ternary": {
           "aaxis": {
            "gridcolor": "white",
            "linecolor": "white",
            "ticks": ""
           },
           "baxis": {
            "gridcolor": "white",
            "linecolor": "white",
            "ticks": ""
           },
           "bgcolor": "#E5ECF6",
           "caxis": {
            "gridcolor": "white",
            "linecolor": "white",
            "ticks": ""
           }
          },
          "title": {
           "x": 0.05
          },
          "xaxis": {
           "automargin": true,
           "gridcolor": "white",
           "linecolor": "white",
           "ticks": "",
           "title": {
            "standoff": 15
           },
           "zerolinecolor": "white",
           "zerolinewidth": 2
          },
          "yaxis": {
           "automargin": true,
           "gridcolor": "white",
           "linecolor": "white",
           "ticks": "",
           "title": {
            "standoff": 15
           },
           "zerolinecolor": "white",
           "zerolinewidth": 2
          }
         }
        },
        "title": {
         "text": "Víctimas reportadas en el siniestro vial separadas por comuna"
        }
       }
      }
     },
     "metadata": {},
     "output_type": "display_data"
    }
   ],
   "source": [
    "comunas = siniestros_viales_hechos.COMUNA.value_counts().index\n",
    "frecuencias = siniestros_viales_hechos.COMUNA.value_counts().values\n",
    "\n",
    "normalized_frecuencias = (frecuencias - min(frecuencias)) / (max(frecuencias) - min(frecuencias))\n",
    "\n",
    "color_palette = ['#440154', '#482878', '#3e4a89', '#31688e', '#26828e', '#1f9e89', \n",
    "                 '#35b779', '#6dcd59', '#b4de2c', '#fde725', '#ff7f00', '#ffa07a', \n",
    "                 '#6495ed', '#8a2be2', '#da70d6', '#20b2aa']\n",
    "\n",
    "fig1 = go.Figure(data=[go.Bar(x=comunas, y=frecuencias, marker_color=color_palette)])\n",
    "fig1.update_layout(title_text='Víctimas reportadas en el siniestro vial separadas por comuna')\n",
    "fig1.show()"
   ]
  },
  {
   "cell_type": "markdown",
   "id": "bbf5c5f8",
   "metadata": {},
   "source": [
    "Se eliminan columnas que no proporcionan nueva información o es redundante, en este caso se elimina Cruces tener muchos datos que ya están presentes en la columna Dirección y Calle, también se elimina la columna Altura por exceso de nulos/faltantesy y Altura por la misma razón "
   ]
  },
  {
   "cell_type": "code",
   "execution_count": 70,
   "id": "85c3c9ef",
   "metadata": {},
   "outputs": [],
   "source": [
    "siniestros_viales_hechos.drop(columns=['Cruce','Altura','XY (CABA)'], inplace=True)"
   ]
  },
  {
   "cell_type": "markdown",
   "id": "86c60ea7",
   "metadata": {},
   "source": [
    "Extraemos la información acerca de las Víctimas y la información posible"
   ]
  },
  {
   "cell_type": "code",
   "execution_count": 71,
   "id": "3e2c25a8",
   "metadata": {},
   "outputs": [
    {
     "data": {
      "text/html": [
       "<div>\n",
       "<style scoped>\n",
       "    .dataframe tbody tr th:only-of-type {\n",
       "        vertical-align: middle;\n",
       "    }\n",
       "\n",
       "    .dataframe tbody tr th {\n",
       "        vertical-align: top;\n",
       "    }\n",
       "\n",
       "    .dataframe thead th {\n",
       "        text-align: right;\n",
       "    }\n",
       "</style>\n",
       "<table border=\"1\" class=\"dataframe\">\n",
       "  <thead>\n",
       "    <tr style=\"text-align: right;\">\n",
       "      <th></th>\n",
       "      <th>ID_hecho</th>\n",
       "      <th>FECHA</th>\n",
       "      <th>AAAA</th>\n",
       "      <th>MM</th>\n",
       "      <th>DD</th>\n",
       "      <th>ROL</th>\n",
       "      <th>VICTIMA</th>\n",
       "      <th>SEXO</th>\n",
       "      <th>EDAD</th>\n",
       "      <th>FECHA_FALLECIMIENTO</th>\n",
       "    </tr>\n",
       "  </thead>\n",
       "  <tbody>\n",
       "    <tr>\n",
       "      <th>0</th>\n",
       "      <td>2016-0001</td>\n",
       "      <td>2016-01-01</td>\n",
       "      <td>2016</td>\n",
       "      <td>1</td>\n",
       "      <td>1</td>\n",
       "      <td>CONDUCTOR</td>\n",
       "      <td>MOTO</td>\n",
       "      <td>MASCULINO</td>\n",
       "      <td>19</td>\n",
       "      <td>2016-01-01 00:00:00</td>\n",
       "    </tr>\n",
       "    <tr>\n",
       "      <th>1</th>\n",
       "      <td>2016-0002</td>\n",
       "      <td>2016-01-02</td>\n",
       "      <td>2016</td>\n",
       "      <td>1</td>\n",
       "      <td>2</td>\n",
       "      <td>CONDUCTOR</td>\n",
       "      <td>AUTO</td>\n",
       "      <td>MASCULINO</td>\n",
       "      <td>70</td>\n",
       "      <td>2016-01-02 00:00:00</td>\n",
       "    </tr>\n",
       "    <tr>\n",
       "      <th>2</th>\n",
       "      <td>2016-0003</td>\n",
       "      <td>2016-01-03</td>\n",
       "      <td>2016</td>\n",
       "      <td>1</td>\n",
       "      <td>3</td>\n",
       "      <td>CONDUCTOR</td>\n",
       "      <td>MOTO</td>\n",
       "      <td>MASCULINO</td>\n",
       "      <td>30</td>\n",
       "      <td>2016-01-03 00:00:00</td>\n",
       "    </tr>\n",
       "    <tr>\n",
       "      <th>3</th>\n",
       "      <td>2016-0004</td>\n",
       "      <td>2016-01-10</td>\n",
       "      <td>2016</td>\n",
       "      <td>1</td>\n",
       "      <td>10</td>\n",
       "      <td>CONDUCTOR</td>\n",
       "      <td>MOTO</td>\n",
       "      <td>MASCULINO</td>\n",
       "      <td>18</td>\n",
       "      <td>SD</td>\n",
       "    </tr>\n",
       "    <tr>\n",
       "      <th>4</th>\n",
       "      <td>2016-0005</td>\n",
       "      <td>2016-01-21</td>\n",
       "      <td>2016</td>\n",
       "      <td>1</td>\n",
       "      <td>21</td>\n",
       "      <td>CONDUCTOR</td>\n",
       "      <td>MOTO</td>\n",
       "      <td>MASCULINO</td>\n",
       "      <td>29</td>\n",
       "      <td>2016-02-01 00:00:00</td>\n",
       "    </tr>\n",
       "    <tr>\n",
       "      <th>...</th>\n",
       "      <td>...</td>\n",
       "      <td>...</td>\n",
       "      <td>...</td>\n",
       "      <td>...</td>\n",
       "      <td>...</td>\n",
       "      <td>...</td>\n",
       "      <td>...</td>\n",
       "      <td>...</td>\n",
       "      <td>...</td>\n",
       "      <td>...</td>\n",
       "    </tr>\n",
       "    <tr>\n",
       "      <th>712</th>\n",
       "      <td>2021-0092</td>\n",
       "      <td>2021-12-12</td>\n",
       "      <td>2021</td>\n",
       "      <td>12</td>\n",
       "      <td>12</td>\n",
       "      <td>PEATON</td>\n",
       "      <td>PEATON</td>\n",
       "      <td>FEMENINO</td>\n",
       "      <td>50</td>\n",
       "      <td>2021-12-12 00:00:00</td>\n",
       "    </tr>\n",
       "    <tr>\n",
       "      <th>713</th>\n",
       "      <td>2021-0093</td>\n",
       "      <td>2021-12-13</td>\n",
       "      <td>2021</td>\n",
       "      <td>12</td>\n",
       "      <td>13</td>\n",
       "      <td>PASAJERO_ACOMPAÑANTE</td>\n",
       "      <td>MOTO</td>\n",
       "      <td>FEMENINO</td>\n",
       "      <td>18</td>\n",
       "      <td>2021-12-18 00:00:00</td>\n",
       "    </tr>\n",
       "    <tr>\n",
       "      <th>714</th>\n",
       "      <td>2021-0094</td>\n",
       "      <td>2021-12-20</td>\n",
       "      <td>2021</td>\n",
       "      <td>12</td>\n",
       "      <td>20</td>\n",
       "      <td>PASAJERO_ACOMPAÑANTE</td>\n",
       "      <td>MOTO</td>\n",
       "      <td>FEMENINO</td>\n",
       "      <td>43</td>\n",
       "      <td>2021-12-20 00:00:00</td>\n",
       "    </tr>\n",
       "    <tr>\n",
       "      <th>715</th>\n",
       "      <td>2021-0095</td>\n",
       "      <td>2021-12-30</td>\n",
       "      <td>2021</td>\n",
       "      <td>12</td>\n",
       "      <td>30</td>\n",
       "      <td>CONDUCTOR</td>\n",
       "      <td>MOTO</td>\n",
       "      <td>MASCULINO</td>\n",
       "      <td>27</td>\n",
       "      <td>2022-01-02 00:00:00</td>\n",
       "    </tr>\n",
       "    <tr>\n",
       "      <th>716</th>\n",
       "      <td>2021-0096</td>\n",
       "      <td>2021-12-15</td>\n",
       "      <td>2021</td>\n",
       "      <td>12</td>\n",
       "      <td>15</td>\n",
       "      <td>CONDUCTOR</td>\n",
       "      <td>AUTO</td>\n",
       "      <td>MASCULINO</td>\n",
       "      <td>60</td>\n",
       "      <td>2021-12-20 00:00:00</td>\n",
       "    </tr>\n",
       "  </tbody>\n",
       "</table>\n",
       "<p>717 rows × 10 columns</p>\n",
       "</div>"
      ],
      "text/plain": [
       "      ID_hecho      FECHA  AAAA  MM  DD                   ROL VICTIMA  \\\n",
       "0    2016-0001 2016-01-01  2016   1   1             CONDUCTOR    MOTO   \n",
       "1    2016-0002 2016-01-02  2016   1   2             CONDUCTOR    AUTO   \n",
       "2    2016-0003 2016-01-03  2016   1   3             CONDUCTOR    MOTO   \n",
       "3    2016-0004 2016-01-10  2016   1  10             CONDUCTOR    MOTO   \n",
       "4    2016-0005 2016-01-21  2016   1  21             CONDUCTOR    MOTO   \n",
       "..         ...        ...   ...  ..  ..                   ...     ...   \n",
       "712  2021-0092 2021-12-12  2021  12  12                PEATON  PEATON   \n",
       "713  2021-0093 2021-12-13  2021  12  13  PASAJERO_ACOMPAÑANTE    MOTO   \n",
       "714  2021-0094 2021-12-20  2021  12  20  PASAJERO_ACOMPAÑANTE    MOTO   \n",
       "715  2021-0095 2021-12-30  2021  12  30             CONDUCTOR    MOTO   \n",
       "716  2021-0096 2021-12-15  2021  12  15             CONDUCTOR    AUTO   \n",
       "\n",
       "          SEXO EDAD  FECHA_FALLECIMIENTO  \n",
       "0    MASCULINO   19  2016-01-01 00:00:00  \n",
       "1    MASCULINO   70  2016-01-02 00:00:00  \n",
       "2    MASCULINO   30  2016-01-03 00:00:00  \n",
       "3    MASCULINO   18                   SD  \n",
       "4    MASCULINO   29  2016-02-01 00:00:00  \n",
       "..         ...  ...                  ...  \n",
       "712   FEMENINO   50  2021-12-12 00:00:00  \n",
       "713   FEMENINO   18  2021-12-18 00:00:00  \n",
       "714   FEMENINO   43  2021-12-20 00:00:00  \n",
       "715  MASCULINO   27  2022-01-02 00:00:00  \n",
       "716  MASCULINO   60  2021-12-20 00:00:00  \n",
       "\n",
       "[717 rows x 10 columns]"
      ]
     },
     "execution_count": 71,
     "metadata": {},
     "output_type": "execute_result"
    }
   ],
   "source": [
    "siniestros_viales_victimas = pd.read_excel(r\"C:\\Users\\MSI\\Downloads\\homicidios.xlsx\", sheet_name='VICTIMAS')\n",
    "siniestros_viales_victimas"
   ]
  },
  {
   "cell_type": "code",
   "execution_count": 75,
   "id": "0c75df02",
   "metadata": {},
   "outputs": [],
   "source": [
    "siniestros_viales_victimas.EDAD = siniestros_viales_victimas.EDAD.replace('SD',0)\n",
    "siniestros_viales_victimas.EDAD = siniestros_viales_victimas.EDAD.astype('int')"
   ]
  },
  {
   "cell_type": "code",
   "execution_count": 76,
   "id": "30db26d9",
   "metadata": {},
   "outputs": [],
   "source": [
    "siniestros_viales_victimas.EDAD = siniestros_viales_victimas.EDAD.replace(0, siniestros_viales_victimas.EDAD.mean())"
   ]
  },
  {
   "cell_type": "markdown",
   "id": "0a6ce707",
   "metadata": {},
   "source": [
    "Información de la distribución de la edad en un boxplot, donde da una distribución más equitativa o simétrica en cuanto a los sesgos"
   ]
  },
  {
   "cell_type": "code",
   "execution_count": 98,
   "id": "8b9bc2c6",
   "metadata": {},
   "outputs": [
    {
     "data": {
      "image/png": "[encoded data removed]",
      "text/plain": [
       "<Figure size 640x480 with 1 Axes>"
      ]
     },
     "metadata": {},
     "output_type": "display_data"
    }
   ],
   "source": [
    "sns.boxplot(siniestros_viales_victimas.EDAD,  palette=sns.color_palette('viridis'))\n",
    "plt.title('Diagrama de caja para la evaluación de edad')\n",
    "plt.show()\n"
   ]
  },
  {
   "cell_type": "markdown",
   "id": "1b341e3b",
   "metadata": {},
   "source": [
    "En el siguiente código tratamos de hallar outlers, pero desde el boxplot no se ven outlers, de hecho dan una distribución sesgada a la izquierda, por lo tanto podríamo ver "
   ]
  },
  {
   "cell_type": "code",
   "execution_count": 133,
   "id": "e92c89a8",
   "metadata": {},
   "outputs": [
    {
     "data": {
      "image/png": "[encoded data removed]",
      "text/plain": [
       "<Figure size 640x480 with 1 Axes>"
      ]
     },
     "metadata": {},
     "output_type": "display_data"
    }
   ],
   "source": [
    "IQ1 = siniestros_viales_victimas.EDAD.quantile(0.25)\n",
    "IQ3 = siniestros_viales_victimas.EDAD.quantile(0.75)\n",
    "\n",
    "IQR = IQ3-IQ1\n",
    "BI_Cal = (IQ1-1.5*IQR)\n",
    "BS_Cal = (IQ3+1.5*IQR)\n",
    "datos_edad = siniestros_viales_victimas.EDAD\n",
    "\n",
    "sns.histplot(datos_edad[((datos_edad > BI_Cal) & (datos_edad < BS_Cal))], kde=True)\n",
    "plt.title('Gráfico de barra usando la edad ')\n",
    "plt.ylabel('Total por edad')\n",
    "plt.xlabel('Edad')\n",
    "plt.show()"
   ]
  },
  {
   "cell_type": "code",
   "execution_count": 77,
   "id": "39951556",
   "metadata": {},
   "outputs": [
    {
     "data": {
      "application/vnd.plotly.v1+json": {
       "config": {
        "plotlyServerURL": "https://plot.ly"
       },
       "data": [
        {
         "marker": {
          "color": [
           "#440154",
           "#482878",
           "#3e4a89",
           "#31688e",
           "#26828e",
           "#1f9e89",
           "#35b779",
           "#6dcd59",
           "#b4de2c",
           "#fde725",
           "#ff7f00",
           "#ffa07a",
           "#6495ed",
           "#8a2be2",
           "#da70d6",
           "#20b2aa"
          ]
         },
         "type": "bar",
         "x": [
          "AUTO",
          "BICICLETA",
          "CARGAS",
          "MOTO",
          "MOVIL",
          "PASAJEROS",
          "PEATON",
          "SD"
         ],
         "y": [
          40.321285498086,
          39.65690376569038,
          40.714285714285715,
          32.495394727757294,
          36.333333333333336,
          61.8,
          53.00413708805416,
          47.46675964667597
         ]
        }
       ],
       "layout": {
        "template": {
         "data": {
          "bar": [
           {
            "error_x": {
             "color": "#2a3f5f"
            },
            "error_y": {
             "color": "#2a3f5f"
            },
            "marker": {
             "line": {
              "color": "#E5ECF6",
              "width": 0.5
             },
             "pattern": {
              "fillmode": "overlay",
              "size": 10,
              "solidity": 0.2
             }
            },
            "type": "bar"
           }
          ],
          "barpolar": [
           {
            "marker": {
             "line": {
              "color": "#E5ECF6",
              "width": 0.5
             },
             "pattern": {
              "fillmode": "overlay",
              "size": 10,
              "solidity": 0.2
             }
            },
            "type": "barpolar"
           }
          ],
          "carpet": [
           {
            "aaxis": {
             "endlinecolor": "#2a3f5f",
             "gridcolor": "white",
             "linecolor": "white",
             "minorgridcolor": "white",
             "startlinecolor": "#2a3f5f"
            },
            "baxis": {
             "endlinecolor": "#2a3f5f",
             "gridcolor": "white",
             "linecolor": "white",
             "minorgridcolor": "white",
             "startlinecolor": "#2a3f5f"
            },
            "type": "carpet"
           }
          ],
          "choropleth": [
           {
            "colorbar": {
             "outlinewidth": 0,
             "ticks": ""
            },
            "type": "choropleth"
           }
          ],
          "contour": [
           {
            "colorbar": {
             "outlinewidth": 0,
             "ticks": ""
            },
            "colorscale": [
             [
              0,
              "#0d0887"
             ],
             [
              0.1111111111111111,
              "#46039f"
             ],
             [
              0.2222222222222222,
              "#7201a8"
             ],
             [
              0.3333333333333333,
              "#9c179e"
             ],
             [
              0.4444444444444444,
              "#bd3786"
             ],
             [
              0.5555555555555556,
              "#d8576b"
             ],
             [
              0.6666666666666666,
              "#ed7953"
             ],
             [
              0.7777777777777778,
              "#fb9f3a"
             ],
             [
              0.8888888888888888,
              "#fdca26"
             ],
             [
              1,
              "#f0f921"
             ]
            ],
            "type": "contour"
           }
          ],
          "contourcarpet": [
           {
            "colorbar": {
             "outlinewidth": 0,
             "ticks": ""
            },
            "type": "contourcarpet"
           }
          ],
          "heatmap": [
           {
            "colorbar": {
             "outlinewidth": 0,
             "ticks": ""
            },
            "colorscale": [
             [
              0,
              "#0d0887"
             ],
             [
              0.1111111111111111,
              "#46039f"
             ],
             [
              0.2222222222222222,
              "#7201a8"
             ],
             [
              0.3333333333333333,
              "#9c179e"
             ],
             [
              0.4444444444444444,
              "#bd3786"
             ],
             [
              0.5555555555555556,
              "#d8576b"
             ],
             [
              0.6666666666666666,
              "#ed7953"
             ],
             [
              0.7777777777777778,
              "#fb9f3a"
             ],
             [
              0.8888888888888888,
              "#fdca26"
             ],
             [
              1,
              "#f0f921"
             ]
            ],
            "type": "heatmap"
           }
          ],
          "heatmapgl": [
           {
            "colorbar": {
             "outlinewidth": 0,
             "ticks": ""
            },
            "colorscale": [
             [
              0,
              "#0d0887"
             ],
             [
              0.1111111111111111,
              "#46039f"
             ],
             [
              0.2222222222222222,
              "#7201a8"
             ],
             [
              0.3333333333333333,
              "#9c179e"
             ],
             [
              0.4444444444444444,
              "#bd3786"
             ],
             [
              0.5555555555555556,
              "#d8576b"
             ],
             [
              0.6666666666666666,
              "#ed7953"
             ],
             [
              0.7777777777777778,
              "#fb9f3a"
             ],
             [
              0.8888888888888888,
              "#fdca26"
             ],
             [
              1,
              "#f0f921"
             ]
            ],
            "type": "heatmapgl"
           }
          ],
          "histogram": [
           {
            "marker": {
             "pattern": {
              "fillmode": "overlay",
              "size": 10,
              "solidity": 0.2
             }
            },
            "type": "histogram"
           }
          ],
          "histogram2d": [
           {
            "colorbar": {
             "outlinewidth": 0,
             "ticks": ""
            },
            "colorscale": [
             [
              0,
              "#0d0887"
             ],
             [
              0.1111111111111111,
              "#46039f"
             ],
             [
              0.2222222222222222,
              "#7201a8"
             ],
             [
              0.3333333333333333,
              "#9c179e"
             ],
             [
              0.4444444444444444,
              "#bd3786"
             ],
             [
              0.5555555555555556,
              "#d8576b"
             ],
             [
              0.6666666666666666,
              "#ed7953"
             ],
             [
              0.7777777777777778,
              "#fb9f3a"
             ],
             [
              0.8888888888888888,
              "#fdca26"
             ],
             [
              1,
              "#f0f921"
             ]
            ],
            "type": "histogram2d"
           }
          ],
          "histogram2dcontour": [
           {
            "colorbar": {
             "outlinewidth": 0,
             "ticks": ""
            },
            "colorscale": [
             [
              0,
              "#0d0887"
             ],
             [
              0.1111111111111111,
              "#46039f"
             ],
             [
              0.2222222222222222,
              "#7201a8"
             ],
             [
              0.3333333333333333,
              "#9c179e"
             ],
             [
              0.4444444444444444,
              "#bd3786"
             ],
             [
              0.5555555555555556,
              "#d8576b"
             ],
             [
              0.6666666666666666,
              "#ed7953"
             ],
             [
              0.7777777777777778,
              "#fb9f3a"
             ],
             [
              0.8888888888888888,
              "#fdca26"
             ],
             [
              1,
              "#f0f921"
             ]
            ],
            "type": "histogram2dcontour"
           }
          ],
          "mesh3d": [
           {
            "colorbar": {
             "outlinewidth": 0,
             "ticks": ""
            },
            "type": "mesh3d"
           }
          ],
          "parcoords": [
           {
            "line": {
             "colorbar": {
              "outlinewidth": 0,
              "ticks": ""
             }
            },
            "type": "parcoords"
           }
          ],
          "pie": [
           {
            "automargin": true,
            "type": "pie"
           }
          ],
          "scatter": [
           {
            "fillpattern": {
             "fillmode": "overlay",
             "size": 10,
             "solidity": 0.2
            },
            "type": "scatter"
           }
          ],
          "scatter3d": [
           {
            "line": {
             "colorbar": {
              "outlinewidth": 0,
              "ticks": ""
             }
            },
            "marker": {
             "colorbar": {
              "outlinewidth": 0,
              "ticks": ""
             }
            },
            "type": "scatter3d"
           }
          ],
          "scattercarpet": [
           {
            "marker": {
             "colorbar": {
              "outlinewidth": 0,
              "ticks": ""
             }
            },
            "type": "scattercarpet"
           }
          ],
          "scattergeo": [
           {
            "marker": {
             "colorbar": {
              "outlinewidth": 0,
              "ticks": ""
             }
            },
            "type": "scattergeo"
           }
          ],
          "scattergl": [
           {
            "marker": {
             "colorbar": {
              "outlinewidth": 0,
              "ticks": ""
             }
            },
            "type": "scattergl"
           }
          ],
          "scattermapbox": [
           {
            "marker": {
             "colorbar": {
              "outlinewidth": 0,
              "ticks": ""
             }
            },
            "type": "scattermapbox"
           }
          ],
          "scatterpolar": [
           {
            "marker": {
             "colorbar": {
              "outlinewidth": 0,
              "ticks": ""
             }
            },
            "type": "scatterpolar"
           }
          ],
          "scatterpolargl": [
           {
            "marker": {
             "colorbar": {
              "outlinewidth": 0,
              "ticks": ""
             }
            },
            "type": "scatterpolargl"
           }
          ],
          "scatterternary": [
           {
            "marker": {
             "colorbar": {
              "outlinewidth": 0,
              "ticks": ""
             }
            },
            "type": "scatterternary"
           }
          ],
          "surface": [
           {
            "colorbar": {
             "outlinewidth": 0,
             "ticks": ""
            },
            "colorscale": [
             [
              0,
              "#0d0887"
             ],
             [
              0.1111111111111111,
              "#46039f"
             ],
             [
              0.2222222222222222,
              "#7201a8"
             ],
             [
              0.3333333333333333,
              "#9c179e"
             ],
             [
              0.4444444444444444,
              "#bd3786"
             ],
             [
              0.5555555555555556,
              "#d8576b"
             ],
             [
              0.6666666666666666,
              "#ed7953"
             ],
             [
              0.7777777777777778,
              "#fb9f3a"
             ],
             [
              0.8888888888888888,
              "#fdca26"
             ],
             [
              1,
              "#f0f921"
             ]
            ],
            "type": "surface"
           }
          ],
          "table": [
           {
            "cells": {
             "fill": {
              "color": "#EBF0F8"
             },
             "line": {
              "color": "white"
             }
            },
            "header": {
             "fill": {
              "color": "#C8D4E3"
             },
             "line": {
              "color": "white"
             }
            },
            "type": "table"
           }
          ]
         },
         "layout": {
          "annotationdefaults": {
           "arrowcolor": "#2a3f5f",
           "arrowhead": 0,
           "arrowwidth": 1
          },
          "autotypenumbers": "strict",
          "coloraxis": {
           "colorbar": {
            "outlinewidth": 0,
            "ticks": ""
           }
          },
          "colorscale": {
           "diverging": [
            [
             0,
             "#8e0152"
            ],
            [
             0.1,
             "#c51b7d"
            ],
            [
             0.2,
             "#de77ae"
            ],
            [
             0.3,
             "#f1b6da"
            ],
            [
             0.4,
             "#fde0ef"
            ],
            [
             0.5,
             "#f7f7f7"
            ],
            [
             0.6,
             "#e6f5d0"
            ],
            [
             0.7,
             "#b8e186"
            ],
            [
             0.8,
             "#7fbc41"
            ],
            [
             0.9,
             "#4d9221"
            ],
            [
             1,
             "#276419"
            ]
           ],
           "sequential": [
            [
             0,
             "#0d0887"
            ],
            [
             0.1111111111111111,
             "#46039f"
            ],
            [
             0.2222222222222222,
             "#7201a8"
            ],
            [
             0.3333333333333333,
             "#9c179e"
            ],
            [
             0.4444444444444444,
             "#bd3786"
            ],
            [
             0.5555555555555556,
             "#d8576b"
            ],
            [
             0.6666666666666666,
             "#ed7953"
            ],
            [
             0.7777777777777778,
             "#fb9f3a"
            ],
            [
             0.8888888888888888,
             "#fdca26"
            ],
            [
             1,
             "#f0f921"
            ]
           ],
           "sequentialminus": [
            [
             0,
             "#0d0887"
            ],
            [
             0.1111111111111111,
             "#46039f"
            ],
            [
             0.2222222222222222,
             "#7201a8"
            ],
            [
             0.3333333333333333,
             "#9c179e"
            ],
            [
             0.4444444444444444,
             "#bd3786"
            ],
            [
             0.5555555555555556,
             "#d8576b"
            ],
            [
             0.6666666666666666,
             "#ed7953"
            ],
            [
             0.7777777777777778,
             "#fb9f3a"
            ],
            [
             0.8888888888888888,
             "#fdca26"
            ],
            [
             1,
             "#f0f921"
            ]
           ]
          },
          "colorway": [
           "#636efa",
           "#EF553B",
           "#00cc96",
           "#ab63fa",
           "#FFA15A",
           "#19d3f3",
           "#FF6692",
           "#B6E880",
           "#FF97FF",
           "#FECB52"
          ],
          "font": {
           "color": "#2a3f5f"
          },
          "geo": {
           "bgcolor": "white",
           "lakecolor": "white",
           "landcolor": "#E5ECF6",
           "showlakes": true,
           "showland": true,
           "subunitcolor": "white"
          },
          "hoverlabel": {
           "align": "left"
          },
          "hovermode": "closest",
          "mapbox": {
           "style": "light"
          },
          "paper_bgcolor": "white",
          "plot_bgcolor": "#E5ECF6",
          "polar": {
           "angularaxis": {
            "gridcolor": "white",
            "linecolor": "white",
            "ticks": ""
           },
           "bgcolor": "#E5ECF6",
           "radialaxis": {
            "gridcolor": "white",
            "linecolor": "white",
            "ticks": ""
           }
          },
          "scene": {
           "xaxis": {
            "backgroundcolor": "#E5ECF6",
            "gridcolor": "white",
            "gridwidth": 2,
            "linecolor": "white",
            "showbackground": true,
            "ticks": "",
            "zerolinecolor": "white"
           },
           "yaxis": {
            "backgroundcolor": "#E5ECF6",
            "gridcolor": "white",
            "gridwidth": 2,
            "linecolor": "white",
            "showbackground": true,
            "ticks": "",
            "zerolinecolor": "white"
           },
           "zaxis": {
            "backgroundcolor": "#E5ECF6",
            "gridcolor": "white",
            "gridwidth": 2,
            "linecolor": "white",
            "showbackground": true,
            "ticks": "",
            "zerolinecolor": "white"
           }
          },
          "shapedefaults": {
           "line": {
            "color": "#2a3f5f"
           }
          },
          "ternary": {
           "aaxis": {
            "gridcolor": "white",
            "linecolor": "white",
            "ticks": ""
           },
           "baxis": {
            "gridcolor": "white",
            "linecolor": "white",
            "ticks": ""
           },
           "bgcolor": "#E5ECF6",
           "caxis": {
            "gridcolor": "white",
            "linecolor": "white",
            "ticks": ""
           }
          },
          "title": {
           "x": 0.05
          },
          "xaxis": {
           "automargin": true,
           "gridcolor": "white",
           "linecolor": "white",
           "ticks": "",
           "title": {
            "standoff": 15
           },
           "zerolinecolor": "white",
           "zerolinewidth": 2
          },
          "yaxis": {
           "automargin": true,
           "gridcolor": "white",
           "linecolor": "white",
           "ticks": "",
           "title": {
            "standoff": 15
           },
           "zerolinecolor": "white",
           "zerolinewidth": 2
          }
         }
        },
        "title": {
         "text": "Promedio de edad en víctimas por cada modalidad de transporte"
        }
       }
      }
     },
     "metadata": {},
     "output_type": "display_data"
    }
   ],
   "source": [
    "VICTIMAS = siniestros_viales_victimas[['VICTIMA','EDAD']].groupby('VICTIMA')['EDAD'].mean().index\n",
    "AVE_VIC = siniestros_viales_victimas[['VICTIMA','EDAD']].groupby('VICTIMA')['EDAD'].mean().values\n",
    "\n",
    "color_palette = ['#440154', '#482878', '#3e4a89', '#31688e', '#26828e', '#1f9e89', \n",
    "                 '#35b779', '#6dcd59', '#b4de2c', '#fde725', '#ff7f00', '#ffa07a', \n",
    "                 '#6495ed', '#8a2be2', '#da70d6', '#20b2aa']\n",
    "\n",
    "fig = go.Figure(data=[go.Bar(x=VICTIMAS,y=AVE_VIC, marker_color= color_palette)])\n",
    "                        \n",
    "fig.update_layout(title_text='Promedio de edad en víctimas por cada modalidad de transporte')\n",
    "fig.show()"
   ]
  },
  {
   "cell_type": "markdown",
   "id": "bf8cced3",
   "metadata": {},
   "source": [
    "En esa sección tratamos de ver un \"resúmen\" de la información con distintas medidas de tendencia central y de distribución"
   ]
  },
  {
   "cell_type": "code",
   "execution_count": 78,
   "id": "fdeae189",
   "metadata": {},
   "outputs": [
    {
     "name": "stdout",
     "output_type": "stream",
     "text": [
      "count    664.000000\n",
      "mean      42.167169\n",
      "std       19.788034\n",
      "min        1.000000\n",
      "25%       27.000000\n",
      "50%       37.000000\n",
      "75%       56.250000\n",
      "max       95.000000\n",
      "Name: EDAD, dtype: float64 \n",
      "Mediana:  37.0\n"
     ]
    }
   ],
   "source": [
    "print(datos_edad.describe(),'\\nMediana: ' ,datos_edad.median())"
   ]
  },
  {
   "cell_type": "markdown",
   "id": "e208c8c5",
   "metadata": {},
   "source": [
    "Cambiamos nombres de columnas"
   ]
  },
  {
   "cell_type": "code",
   "execution_count": 79,
   "id": "6b51dc32",
   "metadata": {},
   "outputs": [],
   "source": [
    "siniestros_viales_victimas.rename(columns={'ID_hecho':'ID'}, inplace=True)"
   ]
  },
  {
   "cell_type": "code",
   "execution_count": 80,
   "id": "8688a10d",
   "metadata": {},
   "outputs": [],
   "source": [
    "siniestros_viales_hechos.rename(columns={'pos x':'longitud','pos y':'latitud'}, inplace=True)"
   ]
  },
  {
   "cell_type": "markdown",
   "id": "6a02c53a",
   "metadata": {},
   "source": [
    "Eliminamos datos de las víctimas que ya están presentes en el dataset de HECHOS"
   ]
  },
  {
   "cell_type": "code",
   "execution_count": 81,
   "id": "3ff85da1",
   "metadata": {},
   "outputs": [],
   "source": [
    "siniestros_viales_victimas.drop(columns=['FECHA','AAAA','MM','DD'], inplace=True)"
   ]
  },
  {
   "cell_type": "markdown",
   "id": "18ad44ed",
   "metadata": {},
   "source": [
    "Unimos con sus respectiva relación que sería ID, ambas tablas (Hechos y Victimas)"
   ]
  },
  {
   "cell_type": "code",
   "execution_count": 82,
   "id": "8581a6b2",
   "metadata": {},
   "outputs": [],
   "source": [
    "data_siniestros = pd.merge(siniestros_viales_hechos, siniestros_viales_victimas,on='ID',how='inner')"
   ]
  },
  {
   "cell_type": "code",
   "execution_count": 83,
   "id": "d65e8eac",
   "metadata": {},
   "outputs": [
    {
     "data": {
      "application/vnd.plotly.v1+json": {
       "config": {
        "plotlyServerURL": "https://plot.ly"
       },
       "data": [
        {
         "marker": {
          "color": [
           "#440154",
           "#482878",
           "#3e4a89",
           "#31688e",
           "#26828e",
           "#1f9e89",
           "#35b779",
           "#6dcd59",
           "#b4de2c",
           "#fde725"
          ]
         },
         "orientation": "h",
         "type": "bar",
         "x": [
          204,
          173,
          146,
          62,
          57,
          23,
          17,
          7,
          6,
          1
         ],
         "y": [
          "AUTO",
          "PASAJEROS",
          "CARGAS",
          "OBJETO FIJO",
          "MOTO",
          "SD",
          "MULTIPLE",
          "BICICLETA",
          "OTRO",
          "TREN"
         ]
        }
       ],
       "layout": {
        "template": {
         "data": {
          "bar": [
           {
            "error_x": {
             "color": "#2a3f5f"
            },
            "error_y": {
             "color": "#2a3f5f"
            },
            "marker": {
             "line": {
              "color": "#E5ECF6",
              "width": 0.5
             },
             "pattern": {
              "fillmode": "overlay",
              "size": 10,
              "solidity": 0.2
             }
            },
            "type": "bar"
           }
          ],
          "barpolar": [
           {
            "marker": {
             "line": {
              "color": "#E5ECF6",
              "width": 0.5
             },
             "pattern": {
              "fillmode": "overlay",
              "size": 10,
              "solidity": 0.2
             }
            },
            "type": "barpolar"
           }
          ],
          "carpet": [
           {
            "aaxis": {
             "endlinecolor": "#2a3f5f",
             "gridcolor": "white",
             "linecolor": "white",
             "minorgridcolor": "white",
             "startlinecolor": "#2a3f5f"
            },
            "baxis": {
             "endlinecolor": "#2a3f5f",
             "gridcolor": "white",
             "linecolor": "white",
             "minorgridcolor": "white",
             "startlinecolor": "#2a3f5f"
            },
            "type": "carpet"
           }
          ],
          "choropleth": [
           {
            "colorbar": {
             "outlinewidth": 0,
             "ticks": ""
            },
            "type": "choropleth"
           }
          ],
          "contour": [
           {
            "colorbar": {
             "outlinewidth": 0,
             "ticks": ""
            },
            "colorscale": [
             [
              0,
              "#0d0887"
             ],
             [
              0.1111111111111111,
              "#46039f"
             ],
             [
              0.2222222222222222,
              "#7201a8"
             ],
             [
              0.3333333333333333,
              "#9c179e"
             ],
             [
              0.4444444444444444,
              "#bd3786"
             ],
             [
              0.5555555555555556,
              "#d8576b"
             ],
             [
              0.6666666666666666,
              "#ed7953"
             ],
             [
              0.7777777777777778,
              "#fb9f3a"
             ],
             [
              0.8888888888888888,
              "#fdca26"
             ],
             [
              1,
              "#f0f921"
             ]
            ],
            "type": "contour"
           }
          ],
          "contourcarpet": [
           {
            "colorbar": {
             "outlinewidth": 0,
             "ticks": ""
            },
            "type": "contourcarpet"
           }
          ],
          "heatmap": [
           {
            "colorbar": {
             "outlinewidth": 0,
             "ticks": ""
            },
            "colorscale": [
             [
              0,
              "#0d0887"
             ],
             [
              0.1111111111111111,
              "#46039f"
             ],
             [
              0.2222222222222222,
              "#7201a8"
             ],
             [
              0.3333333333333333,
              "#9c179e"
             ],
             [
              0.4444444444444444,
              "#bd3786"
             ],
             [
              0.5555555555555556,
              "#d8576b"
             ],
             [
              0.6666666666666666,
              "#ed7953"
             ],
             [
              0.7777777777777778,
              "#fb9f3a"
             ],
             [
              0.8888888888888888,
              "#fdca26"
             ],
             [
              1,
              "#f0f921"
             ]
            ],
            "type": "heatmap"
           }
          ],
          "heatmapgl": [
           {
            "colorbar": {
             "outlinewidth": 0,
             "ticks": ""
            },
            "colorscale": [
             [
              0,
              "#0d0887"
             ],
             [
              0.1111111111111111,
              "#46039f"
             ],
             [
              0.2222222222222222,
              "#7201a8"
             ],
             [
              0.3333333333333333,
              "#9c179e"
             ],
             [
              0.4444444444444444,
              "#bd3786"
             ],
             [
              0.5555555555555556,
              "#d8576b"
             ],
             [
              0.6666666666666666,
              "#ed7953"
             ],
             [
              0.7777777777777778,
              "#fb9f3a"
             ],
             [
              0.8888888888888888,
              "#fdca26"
             ],
             [
              1,
              "#f0f921"
             ]
            ],
            "type": "heatmapgl"
           }
          ],
          "histogram": [
           {
            "marker": {
             "pattern": {
              "fillmode": "overlay",
              "size": 10,
              "solidity": 0.2
             }
            },
            "type": "histogram"
           }
          ],
          "histogram2d": [
           {
            "colorbar": {
             "outlinewidth": 0,
             "ticks": ""
            },
            "colorscale": [
             [
              0,
              "#0d0887"
             ],
             [
              0.1111111111111111,
              "#46039f"
             ],
             [
              0.2222222222222222,
              "#7201a8"
             ],
             [
              0.3333333333333333,
              "#9c179e"
             ],
             [
              0.4444444444444444,
              "#bd3786"
             ],
             [
              0.5555555555555556,
              "#d8576b"
             ],
             [
              0.6666666666666666,
              "#ed7953"
             ],
             [
              0.7777777777777778,
              "#fb9f3a"
             ],
             [
              0.8888888888888888,
              "#fdca26"
             ],
             [
              1,
              "#f0f921"
             ]
            ],
            "type": "histogram2d"
           }
          ],
          "histogram2dcontour": [
           {
            "colorbar": {
             "outlinewidth": 0,
             "ticks": ""
            },
            "colorscale": [
             [
              0,
              "#0d0887"
             ],
             [
              0.1111111111111111,
              "#46039f"
             ],
             [
              0.2222222222222222,
              "#7201a8"
             ],
             [
              0.3333333333333333,
              "#9c179e"
             ],
             [
              0.4444444444444444,
              "#bd3786"
             ],
             [
              0.5555555555555556,
              "#d8576b"
             ],
             [
              0.6666666666666666,
              "#ed7953"
             ],
             [
              0.7777777777777778,
              "#fb9f3a"
             ],
             [
              0.8888888888888888,
              "#fdca26"
             ],
             [
              1,
              "#f0f921"
             ]
            ],
            "type": "histogram2dcontour"
           }
          ],
          "mesh3d": [
           {
            "colorbar": {
             "outlinewidth": 0,
             "ticks": ""
            },
            "type": "mesh3d"
           }
          ],
          "parcoords": [
           {
            "line": {
             "colorbar": {
              "outlinewidth": 0,
              "ticks": ""
             }
            },
            "type": "parcoords"
           }
          ],
          "pie": [
           {
            "automargin": true,
            "type": "pie"
           }
          ],
          "scatter": [
           {
            "fillpattern": {
             "fillmode": "overlay",
             "size": 10,
             "solidity": 0.2
            },
            "type": "scatter"
           }
          ],
          "scatter3d": [
           {
            "line": {
             "colorbar": {
              "outlinewidth": 0,
              "ticks": ""
             }
            },
            "marker": {
             "colorbar": {
              "outlinewidth": 0,
              "ticks": ""
             }
            },
            "type": "scatter3d"
           }
          ],
          "scattercarpet": [
           {
            "marker": {
             "colorbar": {
              "outlinewidth": 0,
              "ticks": ""
             }
            },
            "type": "scattercarpet"
           }
          ],
          "scattergeo": [
           {
            "marker": {
             "colorbar": {
              "outlinewidth": 0,
              "ticks": ""
             }
            },
            "type": "scattergeo"
           }
          ],
          "scattergl": [
           {
            "marker": {
             "colorbar": {
              "outlinewidth": 0,
              "ticks": ""
             }
            },
            "type": "scattergl"
           }
          ],
          "scattermapbox": [
           {
            "marker": {
             "colorbar": {
              "outlinewidth": 0,
              "ticks": ""
             }
            },
            "type": "scattermapbox"
           }
          ],
          "scatterpolar": [
           {
            "marker": {
             "colorbar": {
              "outlinewidth": 0,
              "ticks": ""
             }
            },
            "type": "scatterpolar"
           }
          ],
          "scatterpolargl": [
           {
            "marker": {
             "colorbar": {
              "outlinewidth": 0,
              "ticks": ""
             }
            },
            "type": "scatterpolargl"
           }
          ],
          "scatterternary": [
           {
            "marker": {
             "colorbar": {
              "outlinewidth": 0,
              "ticks": ""
             }
            },
            "type": "scatterternary"
           }
          ],
          "surface": [
           {
            "colorbar": {
             "outlinewidth": 0,
             "ticks": ""
            },
            "colorscale": [
             [
              0,
              "#0d0887"
             ],
             [
              0.1111111111111111,
              "#46039f"
             ],
             [
              0.2222222222222222,
              "#7201a8"
             ],
             [
              0.3333333333333333,
              "#9c179e"
             ],
             [
              0.4444444444444444,
              "#bd3786"
             ],
             [
              0.5555555555555556,
              "#d8576b"
             ],
             [
              0.6666666666666666,
              "#ed7953"
             ],
             [
              0.7777777777777778,
              "#fb9f3a"
             ],
             [
              0.8888888888888888,
              "#fdca26"
             ],
             [
              1,
              "#f0f921"
             ]
            ],
            "type": "surface"
           }
          ],
          "table": [
           {
            "cells": {
             "fill": {
              "color": "#EBF0F8"
             },
             "line": {
              "color": "white"
             }
            },
            "header": {
             "fill": {
              "color": "#C8D4E3"
             },
             "line": {
              "color": "white"
             }
            },
            "type": "table"
           }
          ]
         },
         "layout": {
          "annotationdefaults": {
           "arrowcolor": "#2a3f5f",
           "arrowhead": 0,
           "arrowwidth": 1
          },
          "autotypenumbers": "strict",
          "coloraxis": {
           "colorbar": {
            "outlinewidth": 0,
            "ticks": ""
           }
          },
          "colorscale": {
           "diverging": [
            [
             0,
             "#8e0152"
            ],
            [
             0.1,
             "#c51b7d"
            ],
            [
             0.2,
             "#de77ae"
            ],
            [
             0.3,
             "#f1b6da"
            ],
            [
             0.4,
             "#fde0ef"
            ],
            [
             0.5,
             "#f7f7f7"
            ],
            [
             0.6,
             "#e6f5d0"
            ],
            [
             0.7,
             "#b8e186"
            ],
            [
             0.8,
             "#7fbc41"
            ],
            [
             0.9,
             "#4d9221"
            ],
            [
             1,
             "#276419"
            ]
           ],
           "sequential": [
            [
             0,
             "#0d0887"
            ],
            [
             0.1111111111111111,
             "#46039f"
            ],
            [
             0.2222222222222222,
             "#7201a8"
            ],
            [
             0.3333333333333333,
             "#9c179e"
            ],
            [
             0.4444444444444444,
             "#bd3786"
            ],
            [
             0.5555555555555556,
             "#d8576b"
            ],
            [
             0.6666666666666666,
             "#ed7953"
            ],
            [
             0.7777777777777778,
             "#fb9f3a"
            ],
            [
             0.8888888888888888,
             "#fdca26"
            ],
            [
             1,
             "#f0f921"
            ]
           ],
           "sequentialminus": [
            [
             0,
             "#0d0887"
            ],
            [
             0.1111111111111111,
             "#46039f"
            ],
            [
             0.2222222222222222,
             "#7201a8"
            ],
            [
             0.3333333333333333,
             "#9c179e"
            ],
            [
             0.4444444444444444,
             "#bd3786"
            ],
            [
             0.5555555555555556,
             "#d8576b"
            ],
            [
             0.6666666666666666,
             "#ed7953"
            ],
            [
             0.7777777777777778,
             "#fb9f3a"
            ],
            [
             0.8888888888888888,
             "#fdca26"
            ],
            [
             1,
             "#f0f921"
            ]
           ]
          },
          "colorway": [
           "#636efa",
           "#EF553B",
           "#00cc96",
           "#ab63fa",
           "#FFA15A",
           "#19d3f3",
           "#FF6692",
           "#B6E880",
           "#FF97FF",
           "#FECB52"
          ],
          "font": {
           "color": "#2a3f5f"
          },
          "geo": {
           "bgcolor": "white",
           "lakecolor": "white",
           "landcolor": "#E5ECF6",
           "showlakes": true,
           "showland": true,
           "subunitcolor": "white"
          },
          "hoverlabel": {
           "align": "left"
          },
          "hovermode": "closest",
          "mapbox": {
           "style": "light"
          },
          "paper_bgcolor": "white",
          "plot_bgcolor": "#E5ECF6",
          "polar": {
           "angularaxis": {
            "gridcolor": "white",
            "linecolor": "white",
            "ticks": ""
           },
           "bgcolor": "#E5ECF6",
           "radialaxis": {
            "gridcolor": "white",
            "linecolor": "white",
            "ticks": ""
           }
          },
          "scene": {
           "xaxis": {
            "backgroundcolor": "#E5ECF6",
            "gridcolor": "white",
            "gridwidth": 2,
            "linecolor": "white",
            "showbackground": true,
            "ticks": "",
            "zerolinecolor": "white"
           },
           "yaxis": {
            "backgroundcolor": "#E5ECF6",
            "gridcolor": "white",
            "gridwidth": 2,
            "linecolor": "white",
            "showbackground": true,
            "ticks": "",
            "zerolinecolor": "white"
           },
           "zaxis": {
            "backgroundcolor": "#E5ECF6",
            "gridcolor": "white",
            "gridwidth": 2,
            "linecolor": "white",
            "showbackground": true,
            "ticks": "",
            "zerolinecolor": "white"
           }
          },
          "shapedefaults": {
           "line": {
            "color": "#2a3f5f"
           }
          },
          "ternary": {
           "aaxis": {
            "gridcolor": "white",
            "linecolor": "white",
            "ticks": ""
           },
           "baxis": {
            "gridcolor": "white",
            "linecolor": "white",
            "ticks": ""
           },
           "bgcolor": "#E5ECF6",
           "caxis": {
            "gridcolor": "white",
            "linecolor": "white",
            "ticks": ""
           }
          },
          "title": {
           "x": 0.05
          },
          "xaxis": {
           "automargin": true,
           "gridcolor": "white",
           "linecolor": "white",
           "ticks": "",
           "title": {
            "standoff": 15
           },
           "zerolinecolor": "white",
           "zerolinewidth": 2
          },
          "yaxis": {
           "automargin": true,
           "gridcolor": "white",
           "linecolor": "white",
           "ticks": "",
           "title": {
            "standoff": 15
           },
           "zerolinecolor": "white",
           "zerolinewidth": 2
          }
         }
        },
        "title": {
         "text": "Acusados de ocasionar el siniestro vial"
        }
       }
      }
     },
     "metadata": {},
     "output_type": "display_data"
    }
   ],
   "source": [
    "\n",
    "color_palette = ['#440154', '#482878', '#3e4a89', '#31688e', '#26828e', '#1f9e89', '#35b779', '#6dcd59', '#b4de2c', '#fde725']\n",
    "\n",
    "fig1 = go.Figure(data=[go.Bar(x=siniestros_viales_hechos['ACUSADO'].value_counts().values, y=siniestros_viales_hechos['ACUSADO'].value_counts().index, orientation='h', marker_color=color_palette)])\n",
    "fig1.update_layout(title_text='Acusados de ocasionar el siniestro vial')\n",
    "fig1.show()"
   ]
  },
  {
   "cell_type": "markdown",
   "id": "897ed9f6",
   "metadata": {},
   "source": [
    "Un gráfico el cual podemos apreciar el medio por el cual las victimas sufrieron accidentes "
   ]
  },
  {
   "cell_type": "code",
   "execution_count": 84,
   "id": "ddc8b478",
   "metadata": {},
   "outputs": [
    {
     "data": {
      "application/vnd.plotly.v1+json": {
       "config": {
        "plotlyServerURL": "https://plot.ly"
       },
       "data": [
        {
         "marker": {
          "color": [
           "#440154",
           "#482878",
           "#3e4a89",
           "#31688e",
           "#26828e",
           "#1f9e89",
           "#35b779",
           "#6dcd59",
           "#b4de2c",
           "#fde725"
          ]
         },
         "type": "bar",
         "x": [
          "MOTO",
          "PEATON",
          "AUTO",
          "BICICLETA",
          "SD",
          "CARGAS",
          "PASAJEROS",
          "MOVIL",
          "OBJETO FIJO",
          "PEATON_MOTO"
         ],
         "y": [
          295,
          264,
          83,
          29,
          9,
          7,
          5,
          2,
          1,
          1
         ]
        }
       ],
       "layout": {
        "template": {
         "data": {
          "bar": [
           {
            "error_x": {
             "color": "#2a3f5f"
            },
            "error_y": {
             "color": "#2a3f5f"
            },
            "marker": {
             "line": {
              "color": "#E5ECF6",
              "width": 0.5
             },
             "pattern": {
              "fillmode": "overlay",
              "size": 10,
              "solidity": 0.2
             }
            },
            "type": "bar"
           }
          ],
          "barpolar": [
           {
            "marker": {
             "line": {
              "color": "#E5ECF6",
              "width": 0.5
             },
             "pattern": {
              "fillmode": "overlay",
              "size": 10,
              "solidity": 0.2
             }
            },
            "type": "barpolar"
           }
          ],
          "carpet": [
           {
            "aaxis": {
             "endlinecolor": "#2a3f5f",
             "gridcolor": "white",
             "linecolor": "white",
             "minorgridcolor": "white",
             "startlinecolor": "#2a3f5f"
            },
            "baxis": {
             "endlinecolor": "#2a3f5f",
             "gridcolor": "white",
             "linecolor": "white",
             "minorgridcolor": "white",
             "startlinecolor": "#2a3f5f"
            },
            "type": "carpet"
           }
          ],
          "choropleth": [
           {
            "colorbar": {
             "outlinewidth": 0,
             "ticks": ""
            },
            "type": "choropleth"
           }
          ],
          "contour": [
           {
            "colorbar": {
             "outlinewidth": 0,
             "ticks": ""
            },
            "colorscale": [
             [
              0,
              "#0d0887"
             ],
             [
              0.1111111111111111,
              "#46039f"
             ],
             [
              0.2222222222222222,
              "#7201a8"
             ],
             [
              0.3333333333333333,
              "#9c179e"
             ],
             [
              0.4444444444444444,
              "#bd3786"
             ],
             [
              0.5555555555555556,
              "#d8576b"
             ],
             [
              0.6666666666666666,
              "#ed7953"
             ],
             [
              0.7777777777777778,
              "#fb9f3a"
             ],
             [
              0.8888888888888888,
              "#fdca26"
             ],
             [
              1,
              "#f0f921"
             ]
            ],
            "type": "contour"
           }
          ],
          "contourcarpet": [
           {
            "colorbar": {
             "outlinewidth": 0,
             "ticks": ""
            },
            "type": "contourcarpet"
           }
          ],
          "heatmap": [
           {
            "colorbar": {
             "outlinewidth": 0,
             "ticks": ""
            },
            "colorscale": [
             [
              0,
              "#0d0887"
             ],
             [
              0.1111111111111111,
              "#46039f"
             ],
             [
              0.2222222222222222,
              "#7201a8"
             ],
             [
              0.3333333333333333,
              "#9c179e"
             ],
             [
              0.4444444444444444,
              "#bd3786"
             ],
             [
              0.5555555555555556,
              "#d8576b"
             ],
             [
              0.6666666666666666,
              "#ed7953"
             ],
             [
              0.7777777777777778,
              "#fb9f3a"
             ],
             [
              0.8888888888888888,
              "#fdca26"
             ],
             [
              1,
              "#f0f921"
             ]
            ],
            "type": "heatmap"
           }
          ],
          "heatmapgl": [
           {
            "colorbar": {
             "outlinewidth": 0,
             "ticks": ""
            },
            "colorscale": [
             [
              0,
              "#0d0887"
             ],
             [
              0.1111111111111111,
              "#46039f"
             ],
             [
              0.2222222222222222,
              "#7201a8"
             ],
             [
              0.3333333333333333,
              "#9c179e"
             ],
             [
              0.4444444444444444,
              "#bd3786"
             ],
             [
              0.5555555555555556,
              "#d8576b"
             ],
             [
              0.6666666666666666,
              "#ed7953"
             ],
             [
              0.7777777777777778,
              "#fb9f3a"
             ],
             [
              0.8888888888888888,
              "#fdca26"
             ],
             [
              1,
              "#f0f921"
             ]
            ],
            "type": "heatmapgl"
           }
          ],
          "histogram": [
           {
            "marker": {
             "pattern": {
              "fillmode": "overlay",
              "size": 10,
              "solidity": 0.2
             }
            },
            "type": "histogram"
           }
          ],
          "histogram2d": [
           {
            "colorbar": {
             "outlinewidth": 0,
             "ticks": ""
            },
            "colorscale": [
             [
              0,
              "#0d0887"
             ],
             [
              0.1111111111111111,
              "#46039f"
             ],
             [
              0.2222222222222222,
              "#7201a8"
             ],
             [
              0.3333333333333333,
              "#9c179e"
             ],
             [
              0.4444444444444444,
              "#bd3786"
             ],
             [
              0.5555555555555556,
              "#d8576b"
             ],
             [
              0.6666666666666666,
              "#ed7953"
             ],
             [
              0.7777777777777778,
              "#fb9f3a"
             ],
             [
              0.8888888888888888,
              "#fdca26"
             ],
             [
              1,
              "#f0f921"
             ]
            ],
            "type": "histogram2d"
           }
          ],
          "histogram2dcontour": [
           {
            "colorbar": {
             "outlinewidth": 0,
             "ticks": ""
            },
            "colorscale": [
             [
              0,
              "#0d0887"
             ],
             [
              0.1111111111111111,
              "#46039f"
             ],
             [
              0.2222222222222222,
              "#7201a8"
             ],
             [
              0.3333333333333333,
              "#9c179e"
             ],
             [
              0.4444444444444444,
              "#bd3786"
             ],
             [
              0.5555555555555556,
              "#d8576b"
             ],
             [
              0.6666666666666666,
              "#ed7953"
             ],
             [
              0.7777777777777778,
              "#fb9f3a"
             ],
             [
              0.8888888888888888,
              "#fdca26"
             ],
             [
              1,
              "#f0f921"
             ]
            ],
            "type": "histogram2dcontour"
           }
          ],
          "mesh3d": [
           {
            "colorbar": {
             "outlinewidth": 0,
             "ticks": ""
            },
            "type": "mesh3d"
           }
          ],
          "parcoords": [
           {
            "line": {
             "colorbar": {
              "outlinewidth": 0,
              "ticks": ""
             }
            },
            "type": "parcoords"
           }
          ],
          "pie": [
           {
            "automargin": true,
            "type": "pie"
           }
          ],
          "scatter": [
           {
            "fillpattern": {
             "fillmode": "overlay",
             "size": 10,
             "solidity": 0.2
            },
            "type": "scatter"
           }
          ],
          "scatter3d": [
           {
            "line": {
             "colorbar": {
              "outlinewidth": 0,
              "ticks": ""
             }
            },
            "marker": {
             "colorbar": {
              "outlinewidth": 0,
              "ticks": ""
             }
            },
            "type": "scatter3d"
           }
          ],
          "scattercarpet": [
           {
            "marker": {
             "colorbar": {
              "outlinewidth": 0,
              "ticks": ""
             }
            },
            "type": "scattercarpet"
           }
          ],
          "scattergeo": [
           {
            "marker": {
             "colorbar": {
              "outlinewidth": 0,
              "ticks": ""
             }
            },
            "type": "scattergeo"
           }
          ],
          "scattergl": [
           {
            "marker": {
             "colorbar": {
              "outlinewidth": 0,
              "ticks": ""
             }
            },
            "type": "scattergl"
           }
          ],
          "scattermapbox": [
           {
            "marker": {
             "colorbar": {
              "outlinewidth": 0,
              "ticks": ""
             }
            },
            "type": "scattermapbox"
           }
          ],
          "scatterpolar": [
           {
            "marker": {
             "colorbar": {
              "outlinewidth": 0,
              "ticks": ""
             }
            },
            "type": "scatterpolar"
           }
          ],
          "scatterpolargl": [
           {
            "marker": {
             "colorbar": {
              "outlinewidth": 0,
              "ticks": ""
             }
            },
            "type": "scatterpolargl"
           }
          ],
          "scatterternary": [
           {
            "marker": {
             "colorbar": {
              "outlinewidth": 0,
              "ticks": ""
             }
            },
            "type": "scatterternary"
           }
          ],
          "surface": [
           {
            "colorbar": {
             "outlinewidth": 0,
             "ticks": ""
            },
            "colorscale": [
             [
              0,
              "#0d0887"
             ],
             [
              0.1111111111111111,
              "#46039f"
             ],
             [
              0.2222222222222222,
              "#7201a8"
             ],
             [
              0.3333333333333333,
              "#9c179e"
             ],
             [
              0.4444444444444444,
              "#bd3786"
             ],
             [
              0.5555555555555556,
              "#d8576b"
             ],
             [
              0.6666666666666666,
              "#ed7953"
             ],
             [
              0.7777777777777778,
              "#fb9f3a"
             ],
             [
              0.8888888888888888,
              "#fdca26"
             ],
             [
              1,
              "#f0f921"
             ]
            ],
            "type": "surface"
           }
          ],
          "table": [
           {
            "cells": {
             "fill": {
              "color": "#EBF0F8"
             },
             "line": {
              "color": "white"
             }
            },
            "header": {
             "fill": {
              "color": "#C8D4E3"
             },
             "line": {
              "color": "white"
             }
            },
            "type": "table"
           }
          ]
         },
         "layout": {
          "annotationdefaults": {
           "arrowcolor": "#2a3f5f",
           "arrowhead": 0,
           "arrowwidth": 1
          },
          "autotypenumbers": "strict",
          "coloraxis": {
           "colorbar": {
            "outlinewidth": 0,
            "ticks": ""
           }
          },
          "colorscale": {
           "diverging": [
            [
             0,
             "#8e0152"
            ],
            [
             0.1,
             "#c51b7d"
            ],
            [
             0.2,
             "#de77ae"
            ],
            [
             0.3,
             "#f1b6da"
            ],
            [
             0.4,
             "#fde0ef"
            ],
            [
             0.5,
             "#f7f7f7"
            ],
            [
             0.6,
             "#e6f5d0"
            ],
            [
             0.7,
             "#b8e186"
            ],
            [
             0.8,
             "#7fbc41"
            ],
            [
             0.9,
             "#4d9221"
            ],
            [
             1,
             "#276419"
            ]
           ],
           "sequential": [
            [
             0,
             "#0d0887"
            ],
            [
             0.1111111111111111,
             "#46039f"
            ],
            [
             0.2222222222222222,
             "#7201a8"
            ],
            [
             0.3333333333333333,
             "#9c179e"
            ],
            [
             0.4444444444444444,
             "#bd3786"
            ],
            [
             0.5555555555555556,
             "#d8576b"
            ],
            [
             0.6666666666666666,
             "#ed7953"
            ],
            [
             0.7777777777777778,
             "#fb9f3a"
            ],
            [
             0.8888888888888888,
             "#fdca26"
            ],
            [
             1,
             "#f0f921"
            ]
           ],
           "sequentialminus": [
            [
             0,
             "#0d0887"
            ],
            [
             0.1111111111111111,
             "#46039f"
            ],
            [
             0.2222222222222222,
             "#7201a8"
            ],
            [
             0.3333333333333333,
             "#9c179e"
            ],
            [
             0.4444444444444444,
             "#bd3786"
            ],
            [
             0.5555555555555556,
             "#d8576b"
            ],
            [
             0.6666666666666666,
             "#ed7953"
            ],
            [
             0.7777777777777778,
             "#fb9f3a"
            ],
            [
             0.8888888888888888,
             "#fdca26"
            ],
            [
             1,
             "#f0f921"
            ]
           ]
          },
          "colorway": [
           "#636efa",
           "#EF553B",
           "#00cc96",
           "#ab63fa",
           "#FFA15A",
           "#19d3f3",
           "#FF6692",
           "#B6E880",
           "#FF97FF",
           "#FECB52"
          ],
          "font": {
           "color": "#2a3f5f"
          },
          "geo": {
           "bgcolor": "white",
           "lakecolor": "white",
           "landcolor": "#E5ECF6",
           "showlakes": true,
           "showland": true,
           "subunitcolor": "white"
          },
          "hoverlabel": {
           "align": "left"
          },
          "hovermode": "closest",
          "mapbox": {
           "style": "light"
          },
          "paper_bgcolor": "white",
          "plot_bgcolor": "#E5ECF6",
          "polar": {
           "angularaxis": {
            "gridcolor": "white",
            "linecolor": "white",
            "ticks": ""
           },
           "bgcolor": "#E5ECF6",
           "radialaxis": {
            "gridcolor": "white",
            "linecolor": "white",
            "ticks": ""
           }
          },
          "scene": {
           "xaxis": {
            "backgroundcolor": "#E5ECF6",
            "gridcolor": "white",
            "gridwidth": 2,
            "linecolor": "white",
            "showbackground": true,
            "ticks": "",
            "zerolinecolor": "white"
           },
           "yaxis": {
            "backgroundcolor": "#E5ECF6",
            "gridcolor": "white",
            "gridwidth": 2,
            "linecolor": "white",
            "showbackground": true,
            "ticks": "",
            "zerolinecolor": "white"
           },
           "zaxis": {
            "backgroundcolor": "#E5ECF6",
            "gridcolor": "white",
            "gridwidth": 2,
            "linecolor": "white",
            "showbackground": true,
            "ticks": "",
            "zerolinecolor": "white"
           }
          },
          "shapedefaults": {
           "line": {
            "color": "#2a3f5f"
           }
          },
          "ternary": {
           "aaxis": {
            "gridcolor": "white",
            "linecolor": "white",
            "ticks": ""
           },
           "baxis": {
            "gridcolor": "white",
            "linecolor": "white",
            "ticks": ""
           },
           "bgcolor": "#E5ECF6",
           "caxis": {
            "gridcolor": "white",
            "linecolor": "white",
            "ticks": ""
           }
          },
          "title": {
           "x": 0.05
          },
          "xaxis": {
           "automargin": true,
           "gridcolor": "white",
           "linecolor": "white",
           "ticks": "",
           "title": {
            "standoff": 15
           },
           "zerolinecolor": "white",
           "zerolinewidth": 2
          },
          "yaxis": {
           "automargin": true,
           "gridcolor": "white",
           "linecolor": "white",
           "ticks": "",
           "title": {
            "standoff": 15
           },
           "zerolinecolor": "white",
           "zerolinewidth": 2
          }
         }
        },
        "title": {
         "text": "Víctimas reportadas en el siniestro vial"
        }
       }
      }
     },
     "metadata": {},
     "output_type": "display_data"
    }
   ],
   "source": [
    "fig1 = go.Figure(data=[go.Bar(x=siniestros_viales_hechos['VICTIMA'].value_counts().index, y=siniestros_viales_hechos['VICTIMA'].value_counts().values, marker_color=color_palette)])\n",
    "fig1.update_layout(title_text='Víctimas reportadas en el siniestro vial')\n",
    "fig1.show()"
   ]
  },
  {
   "cell_type": "markdown",
   "id": "eacd0f05",
   "metadata": {},
   "source": [
    "En este gráfico de línea tratamos de ver cómo se ha comportado el número de accidentes a lo largo de los años"
   ]
  },
  {
   "cell_type": "code",
   "execution_count": 85,
   "id": "b8cc6d89",
   "metadata": {},
   "outputs": [
    {
     "data": {
      "image/png": "[encoded data removed]",
      "text/plain": [
       "<Figure size 640x480 with 1 Axes>"
      ]
     },
     "metadata": {},
     "output_type": "display_data"
    }
   ],
   "source": [
    "sns.lineplot(data_siniestros.sort_values(by='FECHA')['AAAA'].value_counts())\n",
    "plt.title('Siniestros viales a travez del \\ntiempo tomando en cuenta los años', color='r')\n",
    "plt.xlabel('Anio')\n",
    "plt.ylabel('Total accidentes reportados')\n",
    "plt.show()"
   ]
  },
  {
   "cell_type": "code",
   "execution_count": 86,
   "id": "8497a125",
   "metadata": {},
   "outputs": [
    {
     "data": {
      "image/png": "[encoded data removed]",
      "text/plain": [
       "<Figure size 640x480 with 1 Axes>"
      ]
     },
     "metadata": {},
     "output_type": "display_data"
    }
   ],
   "source": [
    "sns.lineplot(data_siniestros.sort_values(by='MM')['MM'].value_counts())\n",
    "plt.title('Siniestros viales a travez del tiempo')\n",
    "plt.title('Siniestros viales a travez del \\ntiempo los meses del años', color='r')\n",
    "plt.xlabel('Mes del anio')\n",
    "plt.ylabel('Total accidentes reportados')\n",
    "plt.show()"
   ]
  },
  {
   "cell_type": "markdown",
   "id": "66ea174e",
   "metadata": {},
   "source": [
    "Breve histograma para evaluar los accidentes dados en determinadas horas del día"
   ]
  },
  {
   "cell_type": "code",
   "execution_count": 87,
   "id": "69c0f11d",
   "metadata": {},
   "outputs": [],
   "source": [
    "data_siniestros = data_siniestros[(data_siniestros['HORA'] !='SD') & (data_siniestros['HORA']!='SD')]"
   ]
  },
  {
   "cell_type": "code",
   "execution_count": 88,
   "id": "5089259f",
   "metadata": {},
   "outputs": [
    {
     "data": {
      "image/png": "[encoded data removed]",
      "text/plain": [
       "<Figure size 640x480 with 1 Axes>"
      ]
     },
     "metadata": {},
     "output_type": "display_data"
    }
   ],
   "source": [
    "plt.plot(data_siniestros['HH'].sort_values().value_counts(sort=False).index,data_siniestros['HH'].sort_values().value_counts(sort=False).values)\n",
    "plt.xlabel('Hora del accidente')\n",
    "plt.ylabel('Total número de accidentes')\n",
    "plt.title('Accidentalidad reportada en horas del día')\n",
    "plt.show()"
   ]
  },
  {
   "cell_type": "markdown",
   "id": "4d5660ba",
   "metadata": {},
   "source": [
    "Gráfico circular para comparar las muertes por género de nacimiento"
   ]
  },
  {
   "cell_type": "code",
   "execution_count": 99,
   "id": "7eb63a9b",
   "metadata": {},
   "outputs": [
    {
     "data": {
      "application/vnd.plotly.v1+json": {
       "config": {
        "plotlyServerURL": "https://plot.ly"
       },
       "data": [
        {
         "domain": {
          "x": [
           0,
           1
          ],
          "y": [
           0,
           1
          ]
         },
         "hovertemplate": "SEXO=%{label}<extra></extra>",
         "labels": [
          "MASCULINO",
          "MASCULINO",
          "MASCULINO",
          "MASCULINO",
          "MASCULINO",
          "MASCULINO",
          "MASCULINO",
          "MASCULINO",
          "MASCULINO",
          "MASCULINO",
          "FEMENINO",
          "FEMENINO",
          "MASCULINO",
          "FEMENINO",
          "MASCULINO",
          "MASCULINO",
          "MASCULINO",
          "MASCULINO",
          "MASCULINO",
          "MASCULINO",
          "MASCULINO",
          "MASCULINO",
          "MASCULINO",
          "MASCULINO",
          "MASCULINO",
          "MASCULINO",
          "MASCULINO",
          "MASCULINO",
          "MASCULINO",
          "MASCULINO",
          "MASCULINO",
          "FEMENINO",
          "MASCULINO",
          "MASCULINO",
          "MASCULINO",
          "FEMENINO",
          "SD",
          "MASCULINO",
          "MASCULINO",
          "SD",
          "MASCULINO",
          "MASCULINO",
          "MASCULINO",
          "MASCULINO",
          "FEMENINO",
          "MASCULINO",
          "MASCULINO",
          "MASCULINO",
          "FEMENINO",
          "MASCULINO",
          "MASCULINO",
          "MASCULINO",
          "MASCULINO",
          "MASCULINO",
          "FEMENINO",
          "FEMENINO",
          "MASCULINO",
          "FEMENINO",
          "MASCULINO",
          "MASCULINO",
          "MASCULINO",
          "FEMENINO",
          "MASCULINO",
          "MASCULINO",
          "MASCULINO",
          "MASCULINO",
          "FEMENINO",
          "MASCULINO",
          "MASCULINO",
          "MASCULINO",
          "MASCULINO",
          "MASCULINO",
          "MASCULINO",
          "MASCULINO",
          "FEMENINO",
          "MASCULINO",
          "MASCULINO",
          "MASCULINO",
          "MASCULINO",
          "MASCULINO",
          "MASCULINO",
          "MASCULINO",
          "MASCULINO",
          "FEMENINO",
          "MASCULINO",
          "MASCULINO",
          "MASCULINO",
          "FEMENINO",
          "FEMENINO",
          "MASCULINO",
          "MASCULINO",
          "MASCULINO",
          "MASCULINO",
          "FEMENINO",
          "MASCULINO",
          "FEMENINO",
          "MASCULINO",
          "MASCULINO",
          "MASCULINO",
          "MASCULINO",
          "MASCULINO",
          "FEMENINO",
          "MASCULINO",
          "MASCULINO",
          "MASCULINO",
          "MASCULINO",
          "MASCULINO",
          "MASCULINO",
          "SD",
          "MASCULINO",
          "FEMENINO",
          "FEMENINO",
          "MASCULINO",
          "MASCULINO",
          "MASCULINO",
          "MASCULINO",
          "MASCULINO",
          "FEMENINO",
          "MASCULINO",
          "MASCULINO",
          "MASCULINO",
          "SD",
          "MASCULINO",
          "FEMENINO",
          "MASCULINO",
          "FEMENINO",
          "MASCULINO",
          "MASCULINO",
          "MASCULINO",
          "MASCULINO",
          "MASCULINO",
          "MASCULINO",
          "MASCULINO",
          "MASCULINO",
          "MASCULINO",
          "MASCULINO",
          "MASCULINO",
          "MASCULINO",
          "SD",
          "MASCULINO",
          "MASCULINO",
          "SD",
          "FEMENINO",
          "MASCULINO",
          "FEMENINO",
          "FEMENINO",
          "MASCULINO",
          "MASCULINO",
          "MASCULINO",
          "MASCULINO",
          "MASCULINO",
          "MASCULINO",
          "FEMENINO",
          "MASCULINO",
          "MASCULINO",
          "FEMENINO",
          "MASCULINO",
          "MASCULINO",
          "MASCULINO",
          "MASCULINO",
          "MASCULINO",
          "MASCULINO",
          "MASCULINO",
          "FEMENINO",
          "MASCULINO",
          "MASCULINO",
          "MASCULINO",
          "MASCULINO",
          "FEMENINO",
          "MASCULINO",
          "FEMENINO",
          "MASCULINO",
          "MASCULINO",
          "MASCULINO",
          "MASCULINO",
          "MASCULINO",
          "FEMENINO",
          "MASCULINO",
          "MASCULINO",
          "FEMENINO",
          "MASCULINO",
          "MASCULINO",
          "MASCULINO",
          "MASCULINO",
          "MASCULINO",
          "MASCULINO",
          "MASCULINO",
          "MASCULINO",
          "MASCULINO",
          "FEMENINO",
          "MASCULINO",
          "FEMENINO",
          "MASCULINO",
          "MASCULINO",
          "FEMENINO",
          "MASCULINO",
          "MASCULINO",
          "MASCULINO",
          "FEMENINO",
          "MASCULINO",
          "MASCULINO",
          "MASCULINO",
          "MASCULINO",
          "MASCULINO",
          "MASCULINO",
          "MASCULINO",
          "MASCULINO",
          "MASCULINO",
          "MASCULINO",
          "MASCULINO",
          "FEMENINO",
          "FEMENINO",
          "MASCULINO",
          "FEMENINO",
          "MASCULINO",
          "MASCULINO",
          "FEMENINO",
          "MASCULINO",
          "FEMENINO",
          "FEMENINO",
          "MASCULINO",
          "MASCULINO",
          "MASCULINO",
          "MASCULINO",
          "MASCULINO",
          "MASCULINO",
          "FEMENINO",
          "MASCULINO",
          "MASCULINO",
          "FEMENINO",
          "MASCULINO",
          "FEMENINO",
          "FEMENINO",
          "MASCULINO",
          "FEMENINO",
          "FEMENINO",
          "MASCULINO",
          "MASCULINO",
          "MASCULINO",
          "MASCULINO",
          "MASCULINO",
          "FEMENINO",
          "MASCULINO",
          "MASCULINO",
          "FEMENINO",
          "MASCULINO",
          "MASCULINO",
          "MASCULINO",
          "FEMENINO",
          "MASCULINO",
          "FEMENINO",
          "MASCULINO",
          "MASCULINO",
          "MASCULINO",
          "MASCULINO",
          "MASCULINO",
          "FEMENINO",
          "MASCULINO",
          "MASCULINO",
          "MASCULINO",
          "FEMENINO",
          "MASCULINO",
          "MASCULINO",
          "FEMENINO",
          "MASCULINO",
          "FEMENINO",
          "MASCULINO",
          "FEMENINO",
          "MASCULINO",
          "FEMENINO",
          "MASCULINO",
          "MASCULINO",
          "FEMENINO",
          "MASCULINO",
          "MASCULINO",
          "MASCULINO",
          "MASCULINO",
          "MASCULINO",
          "MASCULINO",
          "MASCULINO",
          "MASCULINO",
          "MASCULINO",
          "MASCULINO",
          "MASCULINO",
          "FEMENINO",
          "FEMENINO",
          "MASCULINO",
          "FEMENINO",
          "FEMENINO",
          "MASCULINO",
          "MASCULINO",
          "FEMENINO",
          "MASCULINO",
          "FEMENINO",
          "MASCULINO",
          "MASCULINO",
          "MASCULINO",
          "MASCULINO",
          "MASCULINO",
          "MASCULINO",
          "MASCULINO",
          "MASCULINO",
          "MASCULINO",
          "MASCULINO",
          "MASCULINO",
          "FEMENINO",
          "MASCULINO",
          "FEMENINO",
          "MASCULINO",
          "MASCULINO",
          "MASCULINO",
          "MASCULINO",
          "MASCULINO",
          "MASCULINO",
          "FEMENINO",
          "MASCULINO",
          "MASCULINO",
          "MASCULINO",
          "MASCULINO",
          "MASCULINO",
          "FEMENINO",
          "MASCULINO",
          "FEMENINO",
          "MASCULINO",
          "MASCULINO",
          "FEMENINO",
          "MASCULINO",
          "MASCULINO",
          "FEMENINO",
          "FEMENINO",
          "MASCULINO",
          "MASCULINO",
          "FEMENINO",
          "MASCULINO",
          "MASCULINO",
          "MASCULINO",
          "MASCULINO",
          "FEMENINO",
          "FEMENINO",
          "FEMENINO",
          "MASCULINO",
          "MASCULINO",
          "FEMENINO",
          "MASCULINO",
          "FEMENINO",
          "MASCULINO",
          "MASCULINO",
          "MASCULINO",
          "MASCULINO",
          "MASCULINO",
          "MASCULINO",
          "FEMENINO",
          "MASCULINO",
          "MASCULINO",
          "MASCULINO",
          "FEMENINO",
          "MASCULINO",
          "MASCULINO",
          "MASCULINO",
          "MASCULINO",
          "MASCULINO",
          "FEMENINO",
          "MASCULINO",
          "MASCULINO",
          "MASCULINO",
          "MASCULINO",
          "MASCULINO",
          "MASCULINO",
          "MASCULINO",
          "MASCULINO",
          "FEMENINO",
          "MASCULINO",
          "MASCULINO",
          "FEMENINO",
          "MASCULINO",
          "MASCULINO",
          "MASCULINO",
          "MASCULINO",
          "MASCULINO",
          "MASCULINO",
          "FEMENINO",
          "MASCULINO",
          "MASCULINO",
          "MASCULINO",
          "FEMENINO",
          "MASCULINO",
          "FEMENINO",
          "MASCULINO",
          "MASCULINO",
          "MASCULINO",
          "FEMENINO",
          "MASCULINO",
          "MASCULINO",
          "MASCULINO",
          "MASCULINO",
          "FEMENINO",
          "MASCULINO",
          "FEMENINO",
          "MASCULINO",
          "MASCULINO",
          "MASCULINO",
          "MASCULINO",
          "FEMENINO",
          "MASCULINO",
          "MASCULINO",
          "MASCULINO",
          "MASCULINO",
          "MASCULINO",
          "FEMENINO",
          "FEMENINO",
          "FEMENINO",
          "FEMENINO",
          "MASCULINO",
          "MASCULINO",
          "MASCULINO",
          "MASCULINO",
          "MASCULINO",
          "MASCULINO",
          "MASCULINO",
          "FEMENINO",
          "MASCULINO",
          "MASCULINO",
          "MASCULINO",
          "MASCULINO",
          "FEMENINO",
          "MASCULINO",
          "MASCULINO",
          "FEMENINO",
          "MASCULINO",
          "FEMENINO",
          "MASCULINO",
          "MASCULINO",
          "MASCULINO",
          "MASCULINO",
          "MASCULINO",
          "MASCULINO",
          "MASCULINO",
          "MASCULINO",
          "MASCULINO",
          "MASCULINO",
          "FEMENINO",
          "MASCULINO",
          "MASCULINO",
          "MASCULINO",
          "MASCULINO",
          "MASCULINO",
          "MASCULINO",
          "MASCULINO",
          "MASCULINO",
          "MASCULINO",
          "MASCULINO",
          "MASCULINO",
          "MASCULINO",
          "FEMENINO",
          "MASCULINO",
          "MASCULINO",
          "MASCULINO",
          "MASCULINO",
          "MASCULINO",
          "MASCULINO",
          "MASCULINO",
          "MASCULINO",
          "MASCULINO",
          "FEMENINO",
          "MASCULINO",
          "MASCULINO",
          "MASCULINO",
          "FEMENINO",
          "MASCULINO",
          "MASCULINO",
          "FEMENINO",
          "MASCULINO",
          "MASCULINO",
          "FEMENINO",
          "MASCULINO",
          "MASCULINO",
          "FEMENINO",
          "MASCULINO",
          "FEMENINO",
          "FEMENINO",
          "MASCULINO",
          "FEMENINO",
          "MASCULINO",
          "MASCULINO",
          "FEMENINO",
          "MASCULINO",
          "MASCULINO",
          "MASCULINO",
          "MASCULINO",
          "MASCULINO",
          "FEMENINO",
          "FEMENINO",
          "MASCULINO",
          "MASCULINO",
          "FEMENINO",
          "FEMENINO",
          "FEMENINO",
          "MASCULINO",
          "MASCULINO",
          "FEMENINO",
          "MASCULINO",
          "MASCULINO",
          "MASCULINO",
          "MASCULINO",
          "MASCULINO",
          "MASCULINO",
          "MASCULINO",
          "MASCULINO",
          "MASCULINO",
          "MASCULINO",
          "FEMENINO",
          "FEMENINO",
          "FEMENINO",
          "MASCULINO",
          "MASCULINO",
          "MASCULINO",
          "MASCULINO",
          "MASCULINO",
          "FEMENINO",
          "MASCULINO",
          "MASCULINO",
          "MASCULINO",
          "MASCULINO",
          "FEMENINO",
          "MASCULINO",
          "MASCULINO",
          "MASCULINO",
          "MASCULINO",
          "FEMENINO",
          "MASCULINO",
          "MASCULINO",
          "FEMENINO",
          "FEMENINO",
          "MASCULINO",
          "MASCULINO",
          "MASCULINO",
          "FEMENINO",
          "FEMENINO",
          "FEMENINO",
          "MASCULINO",
          "MASCULINO",
          "MASCULINO",
          "MASCULINO",
          "MASCULINO",
          "MASCULINO",
          "MASCULINO",
          "MASCULINO",
          "MASCULINO",
          "MASCULINO",
          "FEMENINO",
          "FEMENINO",
          "MASCULINO",
          "MASCULINO",
          "MASCULINO",
          "MASCULINO",
          "MASCULINO",
          "FEMENINO",
          "FEMENINO",
          "FEMENINO",
          "MASCULINO",
          "MASCULINO",
          "MASCULINO",
          "MASCULINO",
          "MASCULINO",
          "MASCULINO",
          "MASCULINO",
          "MASCULINO",
          "MASCULINO",
          "MASCULINO",
          "MASCULINO",
          "MASCULINO",
          "FEMENINO",
          "MASCULINO",
          "MASCULINO",
          "MASCULINO",
          "MASCULINO",
          "MASCULINO",
          "MASCULINO",
          "MASCULINO",
          "MASCULINO",
          "FEMENINO",
          "MASCULINO",
          "MASCULINO",
          "MASCULINO",
          "MASCULINO",
          "MASCULINO",
          "MASCULINO",
          "MASCULINO",
          "FEMENINO",
          "MASCULINO",
          "MASCULINO",
          "MASCULINO",
          "MASCULINO",
          "MASCULINO",
          "FEMENINO",
          "MASCULINO",
          "MASCULINO",
          "FEMENINO",
          "FEMENINO",
          "MASCULINO",
          "MASCULINO",
          "MASCULINO",
          "MASCULINO",
          "MASCULINO",
          "MASCULINO",
          "MASCULINO",
          "MASCULINO",
          "MASCULINO",
          "FEMENINO",
          "MASCULINO",
          "MASCULINO",
          "MASCULINO",
          "MASCULINO",
          "MASCULINO",
          "FEMENINO",
          "FEMENINO",
          "FEMENINO",
          "MASCULINO",
          "MASCULINO",
          "MASCULINO",
          "FEMENINO",
          "MASCULINO",
          "FEMENINO",
          "MASCULINO",
          "FEMENINO",
          "MASCULINO",
          "MASCULINO",
          "MASCULINO",
          "MASCULINO",
          "MASCULINO",
          "MASCULINO",
          "MASCULINO",
          "MASCULINO",
          "MASCULINO",
          "MASCULINO",
          "MASCULINO",
          "MASCULINO",
          "MASCULINO",
          "FEMENINO",
          "MASCULINO",
          "MASCULINO",
          "MASCULINO",
          "MASCULINO",
          "MASCULINO",
          "MASCULINO",
          "FEMENINO",
          "MASCULINO",
          "MASCULINO",
          "MASCULINO",
          "FEMENINO",
          "MASCULINO",
          "MASCULINO",
          "FEMENINO",
          "MASCULINO",
          "MASCULINO",
          "FEMENINO",
          "FEMENINO",
          "MASCULINO",
          "MASCULINO",
          "MASCULINO",
          "MASCULINO",
          "MASCULINO",
          "MASCULINO",
          "MASCULINO",
          "MASCULINO",
          "MASCULINO",
          "MASCULINO",
          "MASCULINO",
          "MASCULINO",
          "MASCULINO",
          "FEMENINO",
          "MASCULINO",
          "MASCULINO",
          "MASCULINO",
          "MASCULINO",
          "MASCULINO",
          "MASCULINO",
          "FEMENINO",
          "FEMENINO",
          "FEMENINO",
          "MASCULINO",
          "FEMENINO",
          "MASCULINO",
          "FEMENINO",
          "MASCULINO",
          "MASCULINO",
          "MASCULINO",
          "MASCULINO",
          "MASCULINO",
          "MASCULINO",
          "FEMENINO",
          "FEMENINO",
          "MASCULINO",
          "MASCULINO",
          "MASCULINO",
          "FEMENINO",
          "MASCULINO",
          "MASCULINO",
          "MASCULINO",
          "MASCULINO",
          "MASCULINO",
          "MASCULINO",
          "MASCULINO",
          "MASCULINO",
          "MASCULINO",
          "FEMENINO",
          "MASCULINO",
          "MASCULINO",
          "MASCULINO",
          "MASCULINO",
          "FEMENINO",
          "FEMENINO",
          "FEMENINO",
          "MASCULINO",
          "MASCULINO",
          "MASCULINO"
         ],
         "legendgroup": "",
         "name": "",
         "showlegend": true,
         "textinfo": "percent+label",
         "textposition": "inside",
         "type": "pie"
        }
       ],
       "layout": {
        "height": 390,
        "legend": {
         "tracegroupgap": 0
        },
        "margin": {
         "b": 50,
         "l": 10,
         "pad": 0,
         "r": 0,
         "t": 50
        },
        "template": {
         "data": {
          "bar": [
           {
            "error_x": {
             "color": "#2a3f5f"
            },
            "error_y": {
             "color": "#2a3f5f"
            },
            "marker": {
             "line": {
              "color": "#E5ECF6",
              "width": 0.5
             },
             "pattern": {
              "fillmode": "overlay",
              "size": 10,
              "solidity": 0.2
             }
            },
            "type": "bar"
           }
          ],
          "barpolar": [
           {
            "marker": {
             "line": {
              "color": "#E5ECF6",
              "width": 0.5
             },
             "pattern": {
              "fillmode": "overlay",
              "size": 10,
              "solidity": 0.2
             }
            },
            "type": "barpolar"
           }
          ],
          "carpet": [
           {
            "aaxis": {
             "endlinecolor": "#2a3f5f",
             "gridcolor": "white",
             "linecolor": "white",
             "minorgridcolor": "white",
             "startlinecolor": "#2a3f5f"
            },
            "baxis": {
             "endlinecolor": "#2a3f5f",
             "gridcolor": "white",
             "linecolor": "white",
             "minorgridcolor": "white",
             "startlinecolor": "#2a3f5f"
            },
            "type": "carpet"
           }
          ],
          "choropleth": [
           {
            "colorbar": {
             "outlinewidth": 0,
             "ticks": ""
            },
            "type": "choropleth"
           }
          ],
          "contour": [
           {
            "colorbar": {
             "outlinewidth": 0,
             "ticks": ""
            },
            "colorscale": [
             [
              0,
              "#0d0887"
             ],
             [
              0.1111111111111111,
              "#46039f"
             ],
             [
              0.2222222222222222,
              "#7201a8"
             ],
             [
              0.3333333333333333,
              "#9c179e"
             ],
             [
              0.4444444444444444,
              "#bd3786"
             ],
             [
              0.5555555555555556,
              "#d8576b"
             ],
             [
              0.6666666666666666,
              "#ed7953"
             ],
             [
              0.7777777777777778,
              "#fb9f3a"
             ],
             [
              0.8888888888888888,
              "#fdca26"
             ],
             [
              1,
              "#f0f921"
             ]
            ],
            "type": "contour"
           }
          ],
          "contourcarpet": [
           {
            "colorbar": {
             "outlinewidth": 0,
             "ticks": ""
            },
            "type": "contourcarpet"
           }
          ],
          "heatmap": [
           {
            "colorbar": {
             "outlinewidth": 0,
             "ticks": ""
            },
            "colorscale": [
             [
              0,
              "#0d0887"
             ],
             [
              0.1111111111111111,
              "#46039f"
             ],
             [
              0.2222222222222222,
              "#7201a8"
             ],
             [
              0.3333333333333333,
              "#9c179e"
             ],
             [
              0.4444444444444444,
              "#bd3786"
             ],
             [
              0.5555555555555556,
              "#d8576b"
             ],
             [
              0.6666666666666666,
              "#ed7953"
             ],
             [
              0.7777777777777778,
              "#fb9f3a"
             ],
             [
              0.8888888888888888,
              "#fdca26"
             ],
             [
              1,
              "#f0f921"
             ]
            ],
            "type": "heatmap"
           }
          ],
          "heatmapgl": [
           {
            "colorbar": {
             "outlinewidth": 0,
             "ticks": ""
            },
            "colorscale": [
             [
              0,
              "#0d0887"
             ],
             [
              0.1111111111111111,
              "#46039f"
             ],
             [
              0.2222222222222222,
              "#7201a8"
             ],
             [
              0.3333333333333333,
              "#9c179e"
             ],
             [
              0.4444444444444444,
              "#bd3786"
             ],
             [
              0.5555555555555556,
              "#d8576b"
             ],
             [
              0.6666666666666666,
              "#ed7953"
             ],
             [
              0.7777777777777778,
              "#fb9f3a"
             ],
             [
              0.8888888888888888,
              "#fdca26"
             ],
             [
              1,
              "#f0f921"
             ]
            ],
            "type": "heatmapgl"
           }
          ],
          "histogram": [
           {
            "marker": {
             "pattern": {
              "fillmode": "overlay",
              "size": 10,
              "solidity": 0.2
             }
            },
            "type": "histogram"
           }
          ],
          "histogram2d": [
           {
            "colorbar": {
             "outlinewidth": 0,
             "ticks": ""
            },
            "colorscale": [
             [
              0,
              "#0d0887"
             ],
             [
              0.1111111111111111,
              "#46039f"
             ],
             [
              0.2222222222222222,
              "#7201a8"
             ],
             [
              0.3333333333333333,
              "#9c179e"
             ],
             [
              0.4444444444444444,
              "#bd3786"
             ],
             [
              0.5555555555555556,
              "#d8576b"
             ],
             [
              0.6666666666666666,
              "#ed7953"
             ],
             [
              0.7777777777777778,
              "#fb9f3a"
             ],
             [
              0.8888888888888888,
              "#fdca26"
             ],
             [
              1,
              "#f0f921"
             ]
            ],
            "type": "histogram2d"
           }
          ],
          "histogram2dcontour": [
           {
            "colorbar": {
             "outlinewidth": 0,
             "ticks": ""
            },
            "colorscale": [
             [
              0,
              "#0d0887"
             ],
             [
              0.1111111111111111,
              "#46039f"
             ],
             [
              0.2222222222222222,
              "#7201a8"
             ],
             [
              0.3333333333333333,
              "#9c179e"
             ],
             [
              0.4444444444444444,
              "#bd3786"
             ],
             [
              0.5555555555555556,
              "#d8576b"
             ],
             [
              0.6666666666666666,
              "#ed7953"
             ],
             [
              0.7777777777777778,
              "#fb9f3a"
             ],
             [
              0.8888888888888888,
              "#fdca26"
             ],
             [
              1,
              "#f0f921"
             ]
            ],
            "type": "histogram2dcontour"
           }
          ],
          "mesh3d": [
           {
            "colorbar": {
             "outlinewidth": 0,
             "ticks": ""
            },
            "type": "mesh3d"
           }
          ],
          "parcoords": [
           {
            "line": {
             "colorbar": {
              "outlinewidth": 0,
              "ticks": ""
             }
            },
            "type": "parcoords"
           }
          ],
          "pie": [
           {
            "automargin": true,
            "type": "pie"
           }
          ],
          "scatter": [
           {
            "fillpattern": {
             "fillmode": "overlay",
             "size": 10,
             "solidity": 0.2
            },
            "type": "scatter"
           }
          ],
          "scatter3d": [
           {
            "line": {
             "colorbar": {
              "outlinewidth": 0,
              "ticks": ""
             }
            },
            "marker": {
             "colorbar": {
              "outlinewidth": 0,
              "ticks": ""
             }
            },
            "type": "scatter3d"
           }
          ],
          "scattercarpet": [
           {
            "marker": {
             "colorbar": {
              "outlinewidth": 0,
              "ticks": ""
             }
            },
            "type": "scattercarpet"
           }
          ],
          "scattergeo": [
           {
            "marker": {
             "colorbar": {
              "outlinewidth": 0,
              "ticks": ""
             }
            },
            "type": "scattergeo"
           }
          ],
          "scattergl": [
           {
            "marker": {
             "colorbar": {
              "outlinewidth": 0,
              "ticks": ""
             }
            },
            "type": "scattergl"
           }
          ],
          "scattermapbox": [
           {
            "marker": {
             "colorbar": {
              "outlinewidth": 0,
              "ticks": ""
             }
            },
            "type": "scattermapbox"
           }
          ],
          "scatterpolar": [
           {
            "marker": {
             "colorbar": {
              "outlinewidth": 0,
              "ticks": ""
             }
            },
            "type": "scatterpolar"
           }
          ],
          "scatterpolargl": [
           {
            "marker": {
             "colorbar": {
              "outlinewidth": 0,
              "ticks": ""
             }
            },
            "type": "scatterpolargl"
           }
          ],
          "scatterternary": [
           {
            "marker": {
             "colorbar": {
              "outlinewidth": 0,
              "ticks": ""
             }
            },
            "type": "scatterternary"
           }
          ],
          "surface": [
           {
            "colorbar": {
             "outlinewidth": 0,
             "ticks": ""
            },
            "colorscale": [
             [
              0,
              "#0d0887"
             ],
             [
              0.1111111111111111,
              "#46039f"
             ],
             [
              0.2222222222222222,
              "#7201a8"
             ],
             [
              0.3333333333333333,
              "#9c179e"
             ],
             [
              0.4444444444444444,
              "#bd3786"
             ],
             [
              0.5555555555555556,
              "#d8576b"
             ],
             [
              0.6666666666666666,
              "#ed7953"
             ],
             [
              0.7777777777777778,
              "#fb9f3a"
             ],
             [
              0.8888888888888888,
              "#fdca26"
             ],
             [
              1,
              "#f0f921"
             ]
            ],
            "type": "surface"
           }
          ],
          "table": [
           {
            "cells": {
             "fill": {
              "color": "#EBF0F8"
             },
             "line": {
              "color": "white"
             }
            },
            "header": {
             "fill": {
              "color": "#C8D4E3"
             },
             "line": {
              "color": "white"
             }
            },
            "type": "table"
           }
          ]
         },
         "layout": {
          "annotationdefaults": {
           "arrowcolor": "#2a3f5f",
           "arrowhead": 0,
           "arrowwidth": 1
          },
          "autotypenumbers": "strict",
          "coloraxis": {
           "colorbar": {
            "outlinewidth": 0,
            "ticks": ""
           }
          },
          "colorscale": {
           "diverging": [
            [
             0,
             "#8e0152"
            ],
            [
             0.1,
             "#c51b7d"
            ],
            [
             0.2,
             "#de77ae"
            ],
            [
             0.3,
             "#f1b6da"
            ],
            [
             0.4,
             "#fde0ef"
            ],
            [
             0.5,
             "#f7f7f7"
            ],
            [
             0.6,
             "#e6f5d0"
            ],
            [
             0.7,
             "#b8e186"
            ],
            [
             0.8,
             "#7fbc41"
            ],
            [
             0.9,
             "#4d9221"
            ],
            [
             1,
             "#276419"
            ]
           ],
           "sequential": [
            [
             0,
             "#0d0887"
            ],
            [
             0.1111111111111111,
             "#46039f"
            ],
            [
             0.2222222222222222,
             "#7201a8"
            ],
            [
             0.3333333333333333,
             "#9c179e"
            ],
            [
             0.4444444444444444,
             "#bd3786"
            ],
            [
             0.5555555555555556,
             "#d8576b"
            ],
            [
             0.6666666666666666,
             "#ed7953"
            ],
            [
             0.7777777777777778,
             "#fb9f3a"
            ],
            [
             0.8888888888888888,
             "#fdca26"
            ],
            [
             1,
             "#f0f921"
            ]
           ],
           "sequentialminus": [
            [
             0,
             "#0d0887"
            ],
            [
             0.1111111111111111,
             "#46039f"
            ],
            [
             0.2222222222222222,
             "#7201a8"
            ],
            [
             0.3333333333333333,
             "#9c179e"
            ],
            [
             0.4444444444444444,
             "#bd3786"
            ],
            [
             0.5555555555555556,
             "#d8576b"
            ],
            [
             0.6666666666666666,
             "#ed7953"
            ],
            [
             0.7777777777777778,
             "#fb9f3a"
            ],
            [
             0.8888888888888888,
             "#fdca26"
            ],
            [
             1,
             "#f0f921"
            ]
           ]
          },
          "colorway": [
           "#636efa",
           "#EF553B",
           "#00cc96",
           "#ab63fa",
           "#FFA15A",
           "#19d3f3",
           "#FF6692",
           "#B6E880",
           "#FF97FF",
           "#FECB52"
          ],
          "font": {
           "color": "#2a3f5f"
          },
          "geo": {
           "bgcolor": "white",
           "lakecolor": "white",
           "landcolor": "#E5ECF6",
           "showlakes": true,
           "showland": true,
           "subunitcolor": "white"
          },
          "hoverlabel": {
           "align": "left"
          },
          "hovermode": "closest",
          "mapbox": {
           "style": "light"
          },
          "paper_bgcolor": "white",
          "plot_bgcolor": "#E5ECF6",
          "polar": {
           "angularaxis": {
            "gridcolor": "white",
            "linecolor": "white",
            "ticks": ""
           },
           "bgcolor": "#E5ECF6",
           "radialaxis": {
            "gridcolor": "white",
            "linecolor": "white",
            "ticks": ""
           }
          },
          "scene": {
           "xaxis": {
            "backgroundcolor": "#E5ECF6",
            "gridcolor": "white",
            "gridwidth": 2,
            "linecolor": "white",
            "showbackground": true,
            "ticks": "",
            "zerolinecolor": "white"
           },
           "yaxis": {
            "backgroundcolor": "#E5ECF6",
            "gridcolor": "white",
            "gridwidth": 2,
            "linecolor": "white",
            "showbackground": true,
            "ticks": "",
            "zerolinecolor": "white"
           },
           "zaxis": {
            "backgroundcolor": "#E5ECF6",
            "gridcolor": "white",
            "gridwidth": 2,
            "linecolor": "white",
            "showbackground": true,
            "ticks": "",
            "zerolinecolor": "white"
           }
          },
          "shapedefaults": {
           "line": {
            "color": "#2a3f5f"
           }
          },
          "ternary": {
           "aaxis": {
            "gridcolor": "white",
            "linecolor": "white",
            "ticks": ""
           },
           "baxis": {
            "gridcolor": "white",
            "linecolor": "white",
            "ticks": ""
           },
           "bgcolor": "#E5ECF6",
           "caxis": {
            "gridcolor": "white",
            "linecolor": "white",
            "ticks": ""
           }
          },
          "title": {
           "x": 0.05
          },
          "xaxis": {
           "automargin": true,
           "gridcolor": "white",
           "linecolor": "white",
           "ticks": "",
           "title": {
            "standoff": 15
           },
           "zerolinecolor": "white",
           "zerolinewidth": 2
          },
          "yaxis": {
           "automargin": true,
           "gridcolor": "white",
           "linecolor": "white",
           "ticks": "",
           "title": {
            "standoff": 15
           },
           "zerolinecolor": "white",
           "zerolinewidth": 2
          }
         }
        },
        "title": {
         "text": "Víctimas divididas por género"
        },
        "width": 550
       }
      }
     },
     "metadata": {},
     "output_type": "display_data"
    }
   ],
   "source": [
    "fig = exp.pie(data_siniestros['SEXO'], \n",
    "              names='SEXO', width=550,height=390, title='Víctimas divididas por género')\n",
    "\n",
    "fig.update_traces(textposition='inside', textinfo='percent+label')\n",
    "fig.update_layout(margin=dict(l=10, r=0, b=50, t=50, pad=0))\n",
    "fig.show()"
   ]
  },
  {
   "cell_type": "code",
   "execution_count": 90,
   "id": "dcac115f",
   "metadata": {},
   "outputs": [],
   "source": [
    "def replace_nat_with_nan(value):\n",
    "    if pd.isna(value) or isinstance(value, pd.Timestamp):\n",
    "        return value\n",
    "    else:\n",
    "        return np.nan\n"
   ]
  },
  {
   "cell_type": "markdown",
   "id": "0164f2dc",
   "metadata": {},
   "source": [
    "Transformación de las fechas en un formato trabajable o que corresponda"
   ]
  },
  {
   "cell_type": "code",
   "execution_count": 91,
   "id": "b359d45b",
   "metadata": {},
   "outputs": [],
   "source": [
    "data_siniestros.loc[:,'FECHA_FALLECIMIENTO'] = pd.to_datetime(data_siniestros['FECHA_FALLECIMIENTO'], errors='coerce')\n",
    "data_siniestros.loc[:,'FECHA'] = pd.to_datetime(data_siniestros['FECHA'], errors='coerce')"
   ]
  },
  {
   "cell_type": "markdown",
   "id": "069c119f",
   "metadata": {},
   "source": [
    "En la siguiente línea tratamos de calcular el número de días que se necesitaron para que la persona falleciera, esto con el fin de ver cuán letal son ciertos lugares"
   ]
  },
  {
   "cell_type": "code",
   "execution_count": 92,
   "id": "4c18ea6a",
   "metadata": {},
   "outputs": [],
   "source": [
    "data_siniestros.loc[:,'Estimado_dias_fallecimiento']= (pd.to_datetime(data_siniestros.loc[:,'FECHA_FALLECIMIENTO'])-pd.to_datetime(data_siniestros.loc[:,'FECHA'])).dt.days.copy()"
   ]
  },
  {
   "cell_type": "markdown",
   "id": "d93fec15",
   "metadata": {},
   "source": [
    "Porcentaje de accidentes en donde la fatalidad se dió de inmediato al accidente por comuna (entiéndase letalidad por muertes instatáneas, es decir en el acto y no muertes dias después del suceso)"
   ]
  },
  {
   "cell_type": "code",
   "execution_count": 93,
   "id": "9b322593",
   "metadata": {},
   "outputs": [
    {
     "data": {
      "application/vnd.plotly.v1+json": {
       "config": {
        "plotlyServerURL": "https://plot.ly"
       },
       "data": [
        {
         "alignmentgroup": "True",
         "hovertemplate": "Comuna=%{x}<br>Letalidad (%)=%{y}<extra></extra>",
         "legendgroup": "",
         "marker": {
          "color": "#636efa",
          "pattern": {
           "shape": ""
          }
         },
         "name": "",
         "offsetgroup": "",
         "orientation": "v",
         "showlegend": false,
         "textposition": "auto",
         "type": "bar",
         "x": [
          1,
          2,
          3,
          4,
          5,
          6,
          7,
          8,
          9,
          10,
          11,
          12,
          13,
          14,
          15
         ],
         "xaxis": "x",
         "y": [
          73.11827956989248,
          76,
          71.73913043478261,
          75.9493670886076,
          68.18181818181819,
          72.72727272727273,
          58.064516129032256,
          74.6268656716418,
          74.66666666666667,
          56.666666666666664,
          65.625,
          66.66666666666667,
          60,
          72.97297297297297,
          60
         ],
         "yaxis": "y"
        }
       ],
       "layout": {
        "barmode": "relative",
        "height": 500,
        "legend": {
         "tracegroupgap": 0
        },
        "template": {
         "data": {
          "bar": [
           {
            "error_x": {
             "color": "#2a3f5f"
            },
            "error_y": {
             "color": "#2a3f5f"
            },
            "marker": {
             "line": {
              "color": "#E5ECF6",
              "width": 0.5
             },
             "pattern": {
              "fillmode": "overlay",
              "size": 10,
              "solidity": 0.2
             }
            },
            "type": "bar"
           }
          ],
          "barpolar": [
           {
            "marker": {
             "line": {
              "color": "#E5ECF6",
              "width": 0.5
             },
             "pattern": {
              "fillmode": "overlay",
              "size": 10,
              "solidity": 0.2
             }
            },
            "type": "barpolar"
           }
          ],
          "carpet": [
           {
            "aaxis": {
             "endlinecolor": "#2a3f5f",
             "gridcolor": "white",
             "linecolor": "white",
             "minorgridcolor": "white",
             "startlinecolor": "#2a3f5f"
            },
            "baxis": {
             "endlinecolor": "#2a3f5f",
             "gridcolor": "white",
             "linecolor": "white",
             "minorgridcolor": "white",
             "startlinecolor": "#2a3f5f"
            },
            "type": "carpet"
           }
          ],
          "choropleth": [
           {
            "colorbar": {
             "outlinewidth": 0,
             "ticks": ""
            },
            "type": "choropleth"
           }
          ],
          "contour": [
           {
            "colorbar": {
             "outlinewidth": 0,
             "ticks": ""
            },
            "colorscale": [
             [
              0,
              "#0d0887"
             ],
             [
              0.1111111111111111,
              "#46039f"
             ],
             [
              0.2222222222222222,
              "#7201a8"
             ],
             [
              0.3333333333333333,
              "#9c179e"
             ],
             [
              0.4444444444444444,
              "#bd3786"
             ],
             [
              0.5555555555555556,
              "#d8576b"
             ],
             [
              0.6666666666666666,
              "#ed7953"
             ],
             [
              0.7777777777777778,
              "#fb9f3a"
             ],
             [
              0.8888888888888888,
              "#fdca26"
             ],
             [
              1,
              "#f0f921"
             ]
            ],
            "type": "contour"
           }
          ],
          "contourcarpet": [
           {
            "colorbar": {
             "outlinewidth": 0,
             "ticks": ""
            },
            "type": "contourcarpet"
           }
          ],
          "heatmap": [
           {
            "colorbar": {
             "outlinewidth": 0,
             "ticks": ""
            },
            "colorscale": [
             [
              0,
              "#0d0887"
             ],
             [
              0.1111111111111111,
              "#46039f"
             ],
             [
              0.2222222222222222,
              "#7201a8"
             ],
             [
              0.3333333333333333,
              "#9c179e"
             ],
             [
              0.4444444444444444,
              "#bd3786"
             ],
             [
              0.5555555555555556,
              "#d8576b"
             ],
             [
              0.6666666666666666,
              "#ed7953"
             ],
             [
              0.7777777777777778,
              "#fb9f3a"
             ],
             [
              0.8888888888888888,
              "#fdca26"
             ],
             [
              1,
              "#f0f921"
             ]
            ],
            "type": "heatmap"
           }
          ],
          "heatmapgl": [
           {
            "colorbar": {
             "outlinewidth": 0,
             "ticks": ""
            },
            "colorscale": [
             [
              0,
              "#0d0887"
             ],
             [
              0.1111111111111111,
              "#46039f"
             ],
             [
              0.2222222222222222,
              "#7201a8"
             ],
             [
              0.3333333333333333,
              "#9c179e"
             ],
             [
              0.4444444444444444,
              "#bd3786"
             ],
             [
              0.5555555555555556,
              "#d8576b"
             ],
             [
              0.6666666666666666,
              "#ed7953"
             ],
             [
              0.7777777777777778,
              "#fb9f3a"
             ],
             [
              0.8888888888888888,
              "#fdca26"
             ],
             [
              1,
              "#f0f921"
             ]
            ],
            "type": "heatmapgl"
           }
          ],
          "histogram": [
           {
            "marker": {
             "pattern": {
              "fillmode": "overlay",
              "size": 10,
              "solidity": 0.2
             }
            },
            "type": "histogram"
           }
          ],
          "histogram2d": [
           {
            "colorbar": {
             "outlinewidth": 0,
             "ticks": ""
            },
            "colorscale": [
             [
              0,
              "#0d0887"
             ],
             [
              0.1111111111111111,
              "#46039f"
             ],
             [
              0.2222222222222222,
              "#7201a8"
             ],
             [
              0.3333333333333333,
              "#9c179e"
             ],
             [
              0.4444444444444444,
              "#bd3786"
             ],
             [
              0.5555555555555556,
              "#d8576b"
             ],
             [
              0.6666666666666666,
              "#ed7953"
             ],
             [
              0.7777777777777778,
              "#fb9f3a"
             ],
             [
              0.8888888888888888,
              "#fdca26"
             ],
             [
              1,
              "#f0f921"
             ]
            ],
            "type": "histogram2d"
           }
          ],
          "histogram2dcontour": [
           {
            "colorbar": {
             "outlinewidth": 0,
             "ticks": ""
            },
            "colorscale": [
             [
              0,
              "#0d0887"
             ],
             [
              0.1111111111111111,
              "#46039f"
             ],
             [
              0.2222222222222222,
              "#7201a8"
             ],
             [
              0.3333333333333333,
              "#9c179e"
             ],
             [
              0.4444444444444444,
              "#bd3786"
             ],
             [
              0.5555555555555556,
              "#d8576b"
             ],
             [
              0.6666666666666666,
              "#ed7953"
             ],
             [
              0.7777777777777778,
              "#fb9f3a"
             ],
             [
              0.8888888888888888,
              "#fdca26"
             ],
             [
              1,
              "#f0f921"
             ]
            ],
            "type": "histogram2dcontour"
           }
          ],
          "mesh3d": [
           {
            "colorbar": {
             "outlinewidth": 0,
             "ticks": ""
            },
            "type": "mesh3d"
           }
          ],
          "parcoords": [
           {
            "line": {
             "colorbar": {
              "outlinewidth": 0,
              "ticks": ""
             }
            },
            "type": "parcoords"
           }
          ],
          "pie": [
           {
            "automargin": true,
            "type": "pie"
           }
          ],
          "scatter": [
           {
            "fillpattern": {
             "fillmode": "overlay",
             "size": 10,
             "solidity": 0.2
            },
            "type": "scatter"
           }
          ],
          "scatter3d": [
           {
            "line": {
             "colorbar": {
              "outlinewidth": 0,
              "ticks": ""
             }
            },
            "marker": {
             "colorbar": {
              "outlinewidth": 0,
              "ticks": ""
             }
            },
            "type": "scatter3d"
           }
          ],
          "scattercarpet": [
           {
            "marker": {
             "colorbar": {
              "outlinewidth": 0,
              "ticks": ""
             }
            },
            "type": "scattercarpet"
           }
          ],
          "scattergeo": [
           {
            "marker": {
             "colorbar": {
              "outlinewidth": 0,
              "ticks": ""
             }
            },
            "type": "scattergeo"
           }
          ],
          "scattergl": [
           {
            "marker": {
             "colorbar": {
              "outlinewidth": 0,
              "ticks": ""
             }
            },
            "type": "scattergl"
           }
          ],
          "scattermapbox": [
           {
            "marker": {
             "colorbar": {
              "outlinewidth": 0,
              "ticks": ""
             }
            },
            "type": "scattermapbox"
           }
          ],
          "scatterpolar": [
           {
            "marker": {
             "colorbar": {
              "outlinewidth": 0,
              "ticks": ""
             }
            },
            "type": "scatterpolar"
           }
          ],
          "scatterpolargl": [
           {
            "marker": {
             "colorbar": {
              "outlinewidth": 0,
              "ticks": ""
             }
            },
            "type": "scatterpolargl"
           }
          ],
          "scatterternary": [
           {
            "marker": {
             "colorbar": {
              "outlinewidth": 0,
              "ticks": ""
             }
            },
            "type": "scatterternary"
           }
          ],
          "surface": [
           {
            "colorbar": {
             "outlinewidth": 0,
             "ticks": ""
            },
            "colorscale": [
             [
              0,
              "#0d0887"
             ],
             [
              0.1111111111111111,
              "#46039f"
             ],
             [
              0.2222222222222222,
              "#7201a8"
             ],
             [
              0.3333333333333333,
              "#9c179e"
             ],
             [
              0.4444444444444444,
              "#bd3786"
             ],
             [
              0.5555555555555556,
              "#d8576b"
             ],
             [
              0.6666666666666666,
              "#ed7953"
             ],
             [
              0.7777777777777778,
              "#fb9f3a"
             ],
             [
              0.8888888888888888,
              "#fdca26"
             ],
             [
              1,
              "#f0f921"
             ]
            ],
            "type": "surface"
           }
          ],
          "table": [
           {
            "cells": {
             "fill": {
              "color": "#EBF0F8"
             },
             "line": {
              "color": "white"
             }
            },
            "header": {
             "fill": {
              "color": "#C8D4E3"
             },
             "line": {
              "color": "white"
             }
            },
            "type": "table"
           }
          ]
         },
         "layout": {
          "annotationdefaults": {
           "arrowcolor": "#2a3f5f",
           "arrowhead": 0,
           "arrowwidth": 1
          },
          "autotypenumbers": "strict",
          "coloraxis": {
           "colorbar": {
            "outlinewidth": 0,
            "ticks": ""
           }
          },
          "colorscale": {
           "diverging": [
            [
             0,
             "#8e0152"
            ],
            [
             0.1,
             "#c51b7d"
            ],
            [
             0.2,
             "#de77ae"
            ],
            [
             0.3,
             "#f1b6da"
            ],
            [
             0.4,
             "#fde0ef"
            ],
            [
             0.5,
             "#f7f7f7"
            ],
            [
             0.6,
             "#e6f5d0"
            ],
            [
             0.7,
             "#b8e186"
            ],
            [
             0.8,
             "#7fbc41"
            ],
            [
             0.9,
             "#4d9221"
            ],
            [
             1,
             "#276419"
            ]
           ],
           "sequential": [
            [
             0,
             "#0d0887"
            ],
            [
             0.1111111111111111,
             "#46039f"
            ],
            [
             0.2222222222222222,
             "#7201a8"
            ],
            [
             0.3333333333333333,
             "#9c179e"
            ],
            [
             0.4444444444444444,
             "#bd3786"
            ],
            [
             0.5555555555555556,
             "#d8576b"
            ],
            [
             0.6666666666666666,
             "#ed7953"
            ],
            [
             0.7777777777777778,
             "#fb9f3a"
            ],
            [
             0.8888888888888888,
             "#fdca26"
            ],
            [
             1,
             "#f0f921"
            ]
           ],
           "sequentialminus": [
            [
             0,
             "#0d0887"
            ],
            [
             0.1111111111111111,
             "#46039f"
            ],
            [
             0.2222222222222222,
             "#7201a8"
            ],
            [
             0.3333333333333333,
             "#9c179e"
            ],
            [
             0.4444444444444444,
             "#bd3786"
            ],
            [
             0.5555555555555556,
             "#d8576b"
            ],
            [
             0.6666666666666666,
             "#ed7953"
            ],
            [
             0.7777777777777778,
             "#fb9f3a"
            ],
            [
             0.8888888888888888,
             "#fdca26"
            ],
            [
             1,
             "#f0f921"
            ]
           ]
          },
          "colorway": [
           "#636efa",
           "#EF553B",
           "#00cc96",
           "#ab63fa",
           "#FFA15A",
           "#19d3f3",
           "#FF6692",
           "#B6E880",
           "#FF97FF",
           "#FECB52"
          ],
          "font": {
           "color": "#2a3f5f"
          },
          "geo": {
           "bgcolor": "white",
           "lakecolor": "white",
           "landcolor": "#E5ECF6",
           "showlakes": true,
           "showland": true,
           "subunitcolor": "white"
          },
          "hoverlabel": {
           "align": "left"
          },
          "hovermode": "closest",
          "mapbox": {
           "style": "light"
          },
          "paper_bgcolor": "white",
          "plot_bgcolor": "#E5ECF6",
          "polar": {
           "angularaxis": {
            "gridcolor": "white",
            "linecolor": "white",
            "ticks": ""
           },
           "bgcolor": "#E5ECF6",
           "radialaxis": {
            "gridcolor": "white",
            "linecolor": "white",
            "ticks": ""
           }
          },
          "scene": {
           "xaxis": {
            "backgroundcolor": "#E5ECF6",
            "gridcolor": "white",
            "gridwidth": 2,
            "linecolor": "white",
            "showbackground": true,
            "ticks": "",
            "zerolinecolor": "white"
           },
           "yaxis": {
            "backgroundcolor": "#E5ECF6",
            "gridcolor": "white",
            "gridwidth": 2,
            "linecolor": "white",
            "showbackground": true,
            "ticks": "",
            "zerolinecolor": "white"
           },
           "zaxis": {
            "backgroundcolor": "#E5ECF6",
            "gridcolor": "white",
            "gridwidth": 2,
            "linecolor": "white",
            "showbackground": true,
            "ticks": "",
            "zerolinecolor": "white"
           }
          },
          "shapedefaults": {
           "line": {
            "color": "#2a3f5f"
           }
          },
          "ternary": {
           "aaxis": {
            "gridcolor": "white",
            "linecolor": "white",
            "ticks": ""
           },
           "baxis": {
            "gridcolor": "white",
            "linecolor": "white",
            "ticks": ""
           },
           "bgcolor": "#E5ECF6",
           "caxis": {
            "gridcolor": "white",
            "linecolor": "white",
            "ticks": ""
           }
          },
          "title": {
           "x": 0.05
          },
          "xaxis": {
           "automargin": true,
           "gridcolor": "white",
           "linecolor": "white",
           "ticks": "",
           "title": {
            "standoff": 15
           },
           "zerolinecolor": "white",
           "zerolinewidth": 2
          },
          "yaxis": {
           "automargin": true,
           "gridcolor": "white",
           "linecolor": "white",
           "ticks": "",
           "title": {
            "standoff": 15
           },
           "zerolinecolor": "white",
           "zerolinewidth": 2
          }
         }
        },
        "title": {
         "text": "Letalidad por comuna"
        },
        "width": 800,
        "xaxis": {
         "anchor": "y",
         "domain": [
          0,
          1
         ],
         "title": {
          "text": "Comuna"
         }
        },
        "yaxis": {
         "anchor": "x",
         "domain": [
          0,
          1
         ],
         "title": {
          "text": "Letalidad (%)"
         }
        }
       }
      }
     },
     "metadata": {},
     "output_type": "display_data"
    }
   ],
   "source": [
    "letalidad_por_comuna = ((data_siniestros[data_siniestros['Estimado_dias_fallecimiento']==0]\n",
    "                         [['COMUNA','Estimado_dias_fallecimiento']].groupby('COMUNA').count().values.reshape(1,-1)[0])\n",
    "                        * 100) / data_siniestros['COMUNA'].value_counts().sort_index()[1:].values\n",
    "\n",
    "fig = exp.bar(x=[x for x in range(1, 16)], y=letalidad_por_comuna,\n",
    "             labels={'x': 'Comuna', 'y': 'Letalidad (%)'},\n",
    "             title='Letalidad por comuna',\n",
    "             width=800, height=500)\n",
    "\n",
    "fig.show()"
   ]
  },
  {
   "cell_type": "code",
   "execution_count": 94,
   "id": "9ea3d2eb",
   "metadata": {},
   "outputs": [],
   "source": [
    "def correct_inst(row):\n",
    "    try:\n",
    "        return float(row)\n",
    "    \n",
    "    except:\n",
    "        return 0"
   ]
  },
  {
   "cell_type": "code",
   "execution_count": 95,
   "id": "6c5722f3",
   "metadata": {},
   "outputs": [],
   "source": [
    "data_siniestros['latitud'] = data_siniestros.loc[:,'latitud'].apply(correct_inst)\n",
    "data_siniestros['longitud'] = data_siniestros.loc[:,'longitud'].apply(correct_inst)\n"
   ]
  },
  {
   "cell_type": "code",
   "execution_count": 96,
   "id": "52d8208d",
   "metadata": {},
   "outputs": [],
   "source": [
    "accidentes_por_coordenada = data_siniestros[['latitud','longitud']].value_counts()"
   ]
  },
  {
   "cell_type": "markdown",
   "id": "723af314",
   "metadata": {},
   "source": [
    "Gráfico interactivo en donde se muestra la ubicación y a su vez los lugares más frecuentes en accidentalidad"
   ]
  },
  {
   "cell_type": "code",
   "execution_count": 97,
   "id": "d4d7a290",
   "metadata": {},
   "outputs": [
    {
     "name": "stdout",
     "output_type": "stream",
     "text": [
      "Los puntos negros son las ubicaciones con más accidentes, o con mayor frecuencia\n"
     ]
    },
    {
     "data": {
      "text/html": [
       "<div style=\"width:100%;\"><div style=\"position:relative;width:100%;height:0;padding-bottom:60%;\"><span style=\"color:#565656\">Make this Notebook Trusted to load map: File -> Trust Notebook</span><iframe srcdoc=\"&lt;!DOCTYPE html&gt;\n",
       "&lt;html&gt;\n",
       "&lt;head&gt;\n",
       "    \n",
       "    &lt;meta http-equiv=&quot;content-type&quot; content=&quot;text/html; charset=UTF-8&quot; /&gt;\n",
       "    \n",
       "        &lt;script&gt;\n",
       "            L_NO_TOUCH = false;\n",
       "            L_DISABLE_3D = false;\n",
       "        &lt;/script&gt;\n",
       "    \n",
       "    &lt;style&gt;html, body {width: 100%;height: 100%;margin: 0;padding: 0;}&lt;/style&gt;\n",
       "    &lt;style&gt;#map {position:absolute;top:0;bottom:0;right:0;left:0;}&lt;/style&gt;\n",
       "    &lt;script src=&quot;https://cdn.jsdelivr.net/npm/leaflet@1.9.3/dist/leaflet.js&quot;&gt;&lt;/script&gt;\n",
       "    &lt;script src=&quot;https://code.jquery.com/jquery-3.7.1.min.js&quot;&gt;&lt;/script&gt;\n",
       "    &lt;script src=&quot;https://cdn.jsdelivr.net/npm/bootstrap@5.2.2/dist/js/bootstrap.bundle.min.js&quot;&gt;&lt;/script&gt;\n",
       "    &lt;script src=&quot;https://cdnjs.cloudflare.com/ajax/libs/Leaflet.awesome-markers/2.0.2/leaflet.awesome-markers.js&quot;&gt;&lt;/script&gt;\n",
       "    &lt;link rel=&quot;stylesheet&quot; href=&quot;https://cdn.jsdelivr.net/npm/leaflet@1.9.3/dist/leaflet.css&quot;/&gt;\n",
       "    &lt;link rel=&quot;stylesheet&quot; href=&quot;https://cdn.jsdelivr.net/npm/bootstrap@5.2.2/dist/css/bootstrap.min.css&quot;/&gt;\n",
       "    &lt;link rel=&quot;stylesheet&quot; href=&quot;https://netdna.bootstrapcdn.com/bootstrap/3.0.0/css/bootstrap.min.css&quot;/&gt;\n",
       "    &lt;link rel=&quot;stylesheet&quot; href=&quot;https://cdn.jsdelivr.net/npm/@fortawesome/fontawesome-free@6.2.0/css/all.min.css&quot;/&gt;\n",
       "    &lt;link rel=&quot;stylesheet&quot; href=&quot;https://cdnjs.cloudflare.com/ajax/libs/Leaflet.awesome-markers/2.0.2/leaflet.awesome-markers.css&quot;/&gt;\n",
       "    &lt;link rel=&quot;stylesheet&quot; href=&quot;https://cdn.jsdelivr.net/gh/python-visualization/folium/folium/templates/leaflet.awesome.rotate.min.css&quot;/&gt;\n",
       "    \n",
       "            &lt;meta name=&quot;viewport&quot; content=&quot;width=device-width,\n",
       "                initial-scale=1.0, maximum-scale=1.0, user-scalable=no&quot; /&gt;\n",
       "            &lt;style&gt;\n",
       "                #map_65086584e849e701b7a03696943cbf61 {\n",
       "                    position: relative;\n",
       "                    width: 100.0%;\n",
       "                    height: 100.0%;\n",
       "                    left: 0.0%;\n",
       "                    top: 0.0%;\n",
       "                }\n",
       "                .leaflet-container { font-size: 1rem; }\n",
       "            &lt;/style&gt;\n",
       "        \n",
       "&lt;/head&gt;\n",
       "&lt;body&gt;\n",
       "    \n",
       "    \n",
       "             &lt;h3 align=&quot;center&quot; style=&quot;font-size:16px&quot;&gt;&lt;b&gt;Mapeo de accidentalidad&lt;/b&gt;&lt;/h3&gt;\n",
       "             \n",
       "    \n",
       "            &lt;div class=&quot;folium-map&quot; id=&quot;map_65086584e849e701b7a03696943cbf61&quot; &gt;&lt;/div&gt;\n",
       "        \n",
       "&lt;/body&gt;\n",
       "&lt;script&gt;\n",
       "    \n",
       "    \n",
       "            var map_65086584e849e701b7a03696943cbf61 = L.map(\n",
       "                &quot;map_65086584e849e701b7a03696943cbf61&quot;,\n",
       "                {\n",
       "                    center: [-34.61315, -58.37723],\n",
       "                    crs: L.CRS.EPSG3857,\n",
       "                    zoom: 12,\n",
       "                    zoomControl: true,\n",
       "                    preferCanvas: false,\n",
       "                }\n",
       "            );\n",
       "\n",
       "            \n",
       "\n",
       "        \n",
       "    \n",
       "            var tile_layer_5488487f74faeeae313425e469b80e04 = L.tileLayer(\n",
       "                &quot;https://tile.openstreetmap.org/{z}/{x}/{y}.png&quot;,\n",
       "                {&quot;attribution&quot;: &quot;\\u0026copy; \\u003ca href=\\&quot;https://www.openstreetmap.org/copyright\\&quot;\\u003eOpenStreetMap\\u003c/a\\u003e contributors&quot;, &quot;detectRetina&quot;: false, &quot;maxNativeZoom&quot;: 19, &quot;maxZoom&quot;: 19, &quot;minZoom&quot;: 0, &quot;noWrap&quot;: false, &quot;opacity&quot;: 1, &quot;subdomains&quot;: &quot;abc&quot;, &quot;tms&quot;: false}\n",
       "            );\n",
       "        \n",
       "    \n",
       "            tile_layer_5488487f74faeeae313425e469b80e04.addTo(map_65086584e849e701b7a03696943cbf61);\n",
       "        \n",
       "    \n",
       "            var circle_marker_85c5b692e9ed3210c54c3aea05960858 = L.circleMarker(\n",
       "                [0.0, 0.0],\n",
       "                {&quot;bubblingMouseEvents&quot;: true, &quot;color&quot;: &quot;black&quot;, &quot;dashArray&quot;: null, &quot;dashOffset&quot;: null, &quot;fill&quot;: true, &quot;fillColor&quot;: &quot;black&quot;, &quot;fillOpacity&quot;: 0.6, &quot;fillRule&quot;: &quot;evenodd&quot;, &quot;lineCap&quot;: &quot;round&quot;, &quot;lineJoin&quot;: &quot;round&quot;, &quot;opacity&quot;: 1, &quot;radius&quot;: 18, &quot;stroke&quot;: false, &quot;weight&quot;: 3}\n",
       "            ).addTo(map_65086584e849e701b7a03696943cbf61);\n",
       "        \n",
       "    \n",
       "            var circle_marker_6374a7fb8104fc495347fb1fc74217c5 = L.circleMarker(\n",
       "                [-34.68475866, -58.44451316],\n",
       "                {&quot;bubblingMouseEvents&quot;: true, &quot;color&quot;: &quot;black&quot;, &quot;dashArray&quot;: null, &quot;dashOffset&quot;: null, &quot;fill&quot;: true, &quot;fillColor&quot;: &quot;black&quot;, &quot;fillOpacity&quot;: 0.6, &quot;fillRule&quot;: &quot;evenodd&quot;, &quot;lineCap&quot;: &quot;round&quot;, &quot;lineJoin&quot;: &quot;round&quot;, &quot;opacity&quot;: 1, &quot;radius&quot;: 10, &quot;stroke&quot;: false, &quot;weight&quot;: 3}\n",
       "            ).addTo(map_65086584e849e701b7a03696943cbf61);\n",
       "        \n",
       "    \n",
       "            var circle_marker_357c99515d3a751debf2f3df4d8f79a6 = L.circleMarker(\n",
       "                [-34.54795581, -58.49491054],\n",
       "                {&quot;bubblingMouseEvents&quot;: true, &quot;color&quot;: &quot;black&quot;, &quot;dashArray&quot;: null, &quot;dashOffset&quot;: null, &quot;fill&quot;: true, &quot;fillColor&quot;: &quot;black&quot;, &quot;fillOpacity&quot;: 0.6, &quot;fillRule&quot;: &quot;evenodd&quot;, &quot;lineCap&quot;: &quot;round&quot;, &quot;lineJoin&quot;: &quot;round&quot;, &quot;opacity&quot;: 1, &quot;radius&quot;: 9, &quot;stroke&quot;: false, &quot;weight&quot;: 3}\n",
       "            ).addTo(map_65086584e849e701b7a03696943cbf61);\n",
       "        \n",
       "    \n",
       "            var circle_marker_99906eef67cbc84e7eb030906090d30b = L.circleMarker(\n",
       "                [-34.66977709, -58.50877521],\n",
       "                {&quot;bubblingMouseEvents&quot;: true, &quot;color&quot;: &quot;black&quot;, &quot;dashArray&quot;: null, &quot;dashOffset&quot;: null, &quot;fill&quot;: true, &quot;fillColor&quot;: &quot;black&quot;, &quot;fillOpacity&quot;: 0.6, &quot;fillRule&quot;: &quot;evenodd&quot;, &quot;lineCap&quot;: &quot;round&quot;, &quot;lineJoin&quot;: &quot;round&quot;, &quot;opacity&quot;: 1, &quot;radius&quot;: 9, &quot;stroke&quot;: false, &quot;weight&quot;: 3}\n",
       "            ).addTo(map_65086584e849e701b7a03696943cbf61);\n",
       "        \n",
       "    \n",
       "            var circle_marker_0af1cb77a799593a9cdddd00dee1b2a4 = L.circleMarker(\n",
       "                [-34.5497951, -58.5007381],\n",
       "                {&quot;bubblingMouseEvents&quot;: true, &quot;color&quot;: &quot;black&quot;, &quot;dashArray&quot;: null, &quot;dashOffset&quot;: null, &quot;fill&quot;: true, &quot;fillColor&quot;: &quot;black&quot;, &quot;fillOpacity&quot;: 0.6, &quot;fillRule&quot;: &quot;evenodd&quot;, &quot;lineCap&quot;: &quot;round&quot;, &quot;lineJoin&quot;: &quot;round&quot;, &quot;opacity&quot;: 1, &quot;radius&quot;: 9, &quot;stroke&quot;: false, &quot;weight&quot;: 3}\n",
       "            ).addTo(map_65086584e849e701b7a03696943cbf61);\n",
       "        \n",
       "    \n",
       "            var circle_marker_8fbe6d443cc2f538784e43a12f08ce82 = L.circleMarker(\n",
       "                [-34.65476216, -58.41657793],\n",
       "                {&quot;bubblingMouseEvents&quot;: true, &quot;color&quot;: &quot;black&quot;, &quot;dashArray&quot;: null, &quot;dashOffset&quot;: null, &quot;fill&quot;: true, &quot;fillColor&quot;: &quot;black&quot;, &quot;fillOpacity&quot;: 0.6, &quot;fillRule&quot;: &quot;evenodd&quot;, &quot;lineCap&quot;: &quot;round&quot;, &quot;lineJoin&quot;: &quot;round&quot;, &quot;opacity&quot;: 1, &quot;radius&quot;: 9, &quot;stroke&quot;: false, &quot;weight&quot;: 3}\n",
       "            ).addTo(map_65086584e849e701b7a03696943cbf61);\n",
       "        \n",
       "    \n",
       "            var circle_marker_4a12aa9e0b99f42e8409908116cc1ef0 = L.circleMarker(\n",
       "                [-34.53476874, -58.46743471],\n",
       "                {&quot;bubblingMouseEvents&quot;: true, &quot;color&quot;: &quot;black&quot;, &quot;dashArray&quot;: null, &quot;dashOffset&quot;: null, &quot;fill&quot;: true, &quot;fillColor&quot;: &quot;black&quot;, &quot;fillOpacity&quot;: 0.6, &quot;fillRule&quot;: &quot;evenodd&quot;, &quot;lineCap&quot;: &quot;round&quot;, &quot;lineJoin&quot;: &quot;round&quot;, &quot;opacity&quot;: 1, &quot;radius&quot;: 9, &quot;stroke&quot;: false, &quot;weight&quot;: 3}\n",
       "            ).addTo(map_65086584e849e701b7a03696943cbf61);\n",
       "        \n",
       "    \n",
       "            var circle_marker_d8fcf5f2a625796b2e4377e48785afef = L.circleMarker(\n",
       "                [-34.69153196, -58.47976785],\n",
       "                {&quot;bubblingMouseEvents&quot;: true, &quot;color&quot;: &quot;black&quot;, &quot;dashArray&quot;: null, &quot;dashOffset&quot;: null, &quot;fill&quot;: true, &quot;fillColor&quot;: &quot;black&quot;, &quot;fillOpacity&quot;: 0.6, &quot;fillRule&quot;: &quot;evenodd&quot;, &quot;lineCap&quot;: &quot;round&quot;, &quot;lineJoin&quot;: &quot;round&quot;, &quot;opacity&quot;: 1, &quot;radius&quot;: 8, &quot;stroke&quot;: false, &quot;weight&quot;: 3}\n",
       "            ).addTo(map_65086584e849e701b7a03696943cbf61);\n",
       "        \n",
       "    \n",
       "            var circle_marker_9d7302da9089ef5127cb2743c182bdec = L.circleMarker(\n",
       "                [-34.59276462, -58.37533517],\n",
       "                {&quot;bubblingMouseEvents&quot;: true, &quot;color&quot;: &quot;black&quot;, &quot;dashArray&quot;: null, &quot;dashOffset&quot;: null, &quot;fill&quot;: true, &quot;fillColor&quot;: &quot;black&quot;, &quot;fillOpacity&quot;: 0.6, &quot;fillRule&quot;: &quot;evenodd&quot;, &quot;lineCap&quot;: &quot;round&quot;, &quot;lineJoin&quot;: &quot;round&quot;, &quot;opacity&quot;: 1, &quot;radius&quot;: 8, &quot;stroke&quot;: false, &quot;weight&quot;: 3}\n",
       "            ).addTo(map_65086584e849e701b7a03696943cbf61);\n",
       "        \n",
       "    \n",
       "            var circle_marker_23496ae74c894ccde57876930120daed = L.circleMarker(\n",
       "                [-34.65076549, -58.40623949],\n",
       "                {&quot;bubblingMouseEvents&quot;: true, &quot;color&quot;: &quot;black&quot;, &quot;dashArray&quot;: null, &quot;dashOffset&quot;: null, &quot;fill&quot;: true, &quot;fillColor&quot;: &quot;black&quot;, &quot;fillOpacity&quot;: 0.6, &quot;fillRule&quot;: &quot;evenodd&quot;, &quot;lineCap&quot;: &quot;round&quot;, &quot;lineJoin&quot;: &quot;round&quot;, &quot;opacity&quot;: 1, &quot;radius&quot;: 8, &quot;stroke&quot;: false, &quot;weight&quot;: 3}\n",
       "            ).addTo(map_65086584e849e701b7a03696943cbf61);\n",
       "        \n",
       "    \n",
       "            var circle_marker_17bcb9fae9a3b9e89b708509c2d3814e = L.circleMarker(\n",
       "                [-34.64035082, -58.37709334],\n",
       "                {&quot;bubblingMouseEvents&quot;: true, &quot;color&quot;: &quot;black&quot;, &quot;dashArray&quot;: null, &quot;dashOffset&quot;: null, &quot;fill&quot;: true, &quot;fillColor&quot;: &quot;black&quot;, &quot;fillOpacity&quot;: 0.6, &quot;fillRule&quot;: &quot;evenodd&quot;, &quot;lineCap&quot;: &quot;round&quot;, &quot;lineJoin&quot;: &quot;round&quot;, &quot;opacity&quot;: 1, &quot;radius&quot;: 8, &quot;stroke&quot;: false, &quot;weight&quot;: 3}\n",
       "            ).addTo(map_65086584e849e701b7a03696943cbf61);\n",
       "        \n",
       "    \n",
       "            var circle_marker_3d818fefe7db8b4dcf109c01859ef13d = L.circleMarker(\n",
       "                [-34.63652467, -58.48727942],\n",
       "                {&quot;bubblingMouseEvents&quot;: true, &quot;color&quot;: &quot;black&quot;, &quot;dashArray&quot;: null, &quot;dashOffset&quot;: null, &quot;fill&quot;: true, &quot;fillColor&quot;: &quot;black&quot;, &quot;fillOpacity&quot;: 0.6, &quot;fillRule&quot;: &quot;evenodd&quot;, &quot;lineCap&quot;: &quot;round&quot;, &quot;lineJoin&quot;: &quot;round&quot;, &quot;opacity&quot;: 1, &quot;radius&quot;: 8, &quot;stroke&quot;: false, &quot;weight&quot;: 3}\n",
       "            ).addTo(map_65086584e849e701b7a03696943cbf61);\n",
       "        \n",
       "    \n",
       "            var circle_marker_d7e84cfaef143bd6518c16b30b223df5 = L.circleMarker(\n",
       "                [-34.63551751, -58.46749188],\n",
       "                {&quot;bubblingMouseEvents&quot;: true, &quot;color&quot;: &quot;black&quot;, &quot;dashArray&quot;: null, &quot;dashOffset&quot;: null, &quot;fill&quot;: true, &quot;fillColor&quot;: &quot;black&quot;, &quot;fillOpacity&quot;: 0.6, &quot;fillRule&quot;: &quot;evenodd&quot;, &quot;lineCap&quot;: &quot;round&quot;, &quot;lineJoin&quot;: &quot;round&quot;, &quot;opacity&quot;: 1, &quot;radius&quot;: 8, &quot;stroke&quot;: false, &quot;weight&quot;: 3}\n",
       "            ).addTo(map_65086584e849e701b7a03696943cbf61);\n",
       "        \n",
       "    \n",
       "            var circle_marker_3c5c2ded19b593c3e0d011e4f13b920f = L.circleMarker(\n",
       "                [-34.63070603, -58.46963952],\n",
       "                {&quot;bubblingMouseEvents&quot;: true, &quot;color&quot;: &quot;black&quot;, &quot;dashArray&quot;: null, &quot;dashOffset&quot;: null, &quot;fill&quot;: true, &quot;fillColor&quot;: &quot;black&quot;, &quot;fillOpacity&quot;: 0.6, &quot;fillRule&quot;: &quot;evenodd&quot;, &quot;lineCap&quot;: &quot;round&quot;, &quot;lineJoin&quot;: &quot;round&quot;, &quot;opacity&quot;: 1, &quot;radius&quot;: 8, &quot;stroke&quot;: false, &quot;weight&quot;: 3}\n",
       "            ).addTo(map_65086584e849e701b7a03696943cbf61);\n",
       "        \n",
       "    \n",
       "            var circle_marker_75dfb6176a979f46fb7532a69c37c1c0 = L.circleMarker(\n",
       "                [-34.62704273, -58.39118948],\n",
       "                {&quot;bubblingMouseEvents&quot;: true, &quot;color&quot;: &quot;black&quot;, &quot;dashArray&quot;: null, &quot;dashOffset&quot;: null, &quot;fill&quot;: true, &quot;fillColor&quot;: &quot;black&quot;, &quot;fillOpacity&quot;: 0.6, &quot;fillRule&quot;: &quot;evenodd&quot;, &quot;lineCap&quot;: &quot;round&quot;, &quot;lineJoin&quot;: &quot;round&quot;, &quot;opacity&quot;: 1, &quot;radius&quot;: 8, &quot;stroke&quot;: false, &quot;weight&quot;: 3}\n",
       "            ).addTo(map_65086584e849e701b7a03696943cbf61);\n",
       "        \n",
       "    \n",
       "            var circle_marker_5c7f5a9fd260f0c1ed6b2155dfd72580 = L.circleMarker(\n",
       "                [-34.61799615, -58.38896772],\n",
       "                {&quot;bubblingMouseEvents&quot;: true, &quot;color&quot;: &quot;black&quot;, &quot;dashArray&quot;: null, &quot;dashOffset&quot;: null, &quot;fill&quot;: true, &quot;fillColor&quot;: &quot;black&quot;, &quot;fillOpacity&quot;: 0.6, &quot;fillRule&quot;: &quot;evenodd&quot;, &quot;lineCap&quot;: &quot;round&quot;, &quot;lineJoin&quot;: &quot;round&quot;, &quot;opacity&quot;: 1, &quot;radius&quot;: 8, &quot;stroke&quot;: false, &quot;weight&quot;: 3}\n",
       "            ).addTo(map_65086584e849e701b7a03696943cbf61);\n",
       "        \n",
       "    \n",
       "            var circle_marker_65383f9f7cef84f74134c3d63c3be137 = L.circleMarker(\n",
       "                [-34.61113641, -58.35881506],\n",
       "                {&quot;bubblingMouseEvents&quot;: true, &quot;color&quot;: &quot;black&quot;, &quot;dashArray&quot;: null, &quot;dashOffset&quot;: null, &quot;fill&quot;: true, &quot;fillColor&quot;: &quot;black&quot;, &quot;fillOpacity&quot;: 0.6, &quot;fillRule&quot;: &quot;evenodd&quot;, &quot;lineCap&quot;: &quot;round&quot;, &quot;lineJoin&quot;: &quot;round&quot;, &quot;opacity&quot;: 1, &quot;radius&quot;: 8, &quot;stroke&quot;: false, &quot;weight&quot;: 3}\n",
       "            ).addTo(map_65086584e849e701b7a03696943cbf61);\n",
       "        \n",
       "    \n",
       "            var circle_marker_fa1622132d84ff45331ac264a6c1e67a = L.circleMarker(\n",
       "                [-34.59798754, -58.52340614],\n",
       "                {&quot;bubblingMouseEvents&quot;: true, &quot;color&quot;: &quot;black&quot;, &quot;dashArray&quot;: null, &quot;dashOffset&quot;: null, &quot;fill&quot;: true, &quot;fillColor&quot;: &quot;black&quot;, &quot;fillOpacity&quot;: 0.6, &quot;fillRule&quot;: &quot;evenodd&quot;, &quot;lineCap&quot;: &quot;round&quot;, &quot;lineJoin&quot;: &quot;round&quot;, &quot;opacity&quot;: 1, &quot;radius&quot;: 8, &quot;stroke&quot;: false, &quot;weight&quot;: 3}\n",
       "            ).addTo(map_65086584e849e701b7a03696943cbf61);\n",
       "        \n",
       "    \n",
       "            var circle_marker_6999c4aa92b4932e909eec17b5ec59ef = L.circleMarker(\n",
       "                [-34.69843756, -58.47064556],\n",
       "                {&quot;bubblingMouseEvents&quot;: true, &quot;color&quot;: &quot;black&quot;, &quot;dashArray&quot;: null, &quot;dashOffset&quot;: null, &quot;fill&quot;: true, &quot;fillColor&quot;: &quot;black&quot;, &quot;fillOpacity&quot;: 0.6, &quot;fillRule&quot;: &quot;evenodd&quot;, &quot;lineCap&quot;: &quot;round&quot;, &quot;lineJoin&quot;: &quot;round&quot;, &quot;opacity&quot;: 1, &quot;radius&quot;: 8, &quot;stroke&quot;: false, &quot;weight&quot;: 3}\n",
       "            ).addTo(map_65086584e849e701b7a03696943cbf61);\n",
       "        \n",
       "    \n",
       "            var circle_marker_4e084e6c836e2f30d214f537a8b1ba82 = L.circleMarker(\n",
       "                [-34.5780581, -58.38526125],\n",
       "                {&quot;bubblingMouseEvents&quot;: true, &quot;color&quot;: &quot;black&quot;, &quot;dashArray&quot;: null, &quot;dashOffset&quot;: null, &quot;fill&quot;: true, &quot;fillColor&quot;: &quot;black&quot;, &quot;fillOpacity&quot;: 0.6, &quot;fillRule&quot;: &quot;evenodd&quot;, &quot;lineCap&quot;: &quot;round&quot;, &quot;lineJoin&quot;: &quot;round&quot;, &quot;opacity&quot;: 1, &quot;radius&quot;: 8, &quot;stroke&quot;: false, &quot;weight&quot;: 3}\n",
       "            ).addTo(map_65086584e849e701b7a03696943cbf61);\n",
       "        \n",
       "    \n",
       "            var circle_marker_c25ea9bba4726b921201f4ed1c55beb2 = L.circleMarker(\n",
       "                [-34.59176378, -58.39189441],\n",
       "                {&quot;bubblingMouseEvents&quot;: true, &quot;color&quot;: &quot;cornflowerblue&quot;, &quot;dashArray&quot;: null, &quot;dashOffset&quot;: null, &quot;fill&quot;: true, &quot;fillColor&quot;: &quot;cornflowerblue&quot;, &quot;fillOpacity&quot;: 0.6, &quot;fillRule&quot;: &quot;evenodd&quot;, &quot;lineCap&quot;: &quot;round&quot;, &quot;lineJoin&quot;: &quot;round&quot;, &quot;opacity&quot;: 1, &quot;radius&quot;: 7, &quot;stroke&quot;: false, &quot;weight&quot;: 3}\n",
       "            ).addTo(map_65086584e849e701b7a03696943cbf61);\n",
       "        \n",
       "    \n",
       "            var circle_marker_eeebabda4db346b2445196e56866c076 = L.circleMarker(\n",
       "                [-34.59832047, -58.36951669],\n",
       "                {&quot;bubblingMouseEvents&quot;: true, &quot;color&quot;: &quot;cornflowerblue&quot;, &quot;dashArray&quot;: null, &quot;dashOffset&quot;: null, &quot;fill&quot;: true, &quot;fillColor&quot;: &quot;cornflowerblue&quot;, &quot;fillOpacity&quot;: 0.6, &quot;fillRule&quot;: &quot;evenodd&quot;, &quot;lineCap&quot;: &quot;round&quot;, &quot;lineJoin&quot;: &quot;round&quot;, &quot;opacity&quot;: 1, &quot;radius&quot;: 7, &quot;stroke&quot;: false, &quot;weight&quot;: 3}\n",
       "            ).addTo(map_65086584e849e701b7a03696943cbf61);\n",
       "        \n",
       "    \n",
       "            var circle_marker_e4d62f611c74326f6ef10fe112e475f4 = L.circleMarker(\n",
       "                [-34.62925068, -58.46411215],\n",
       "                {&quot;bubblingMouseEvents&quot;: true, &quot;color&quot;: &quot;cornflowerblue&quot;, &quot;dashArray&quot;: null, &quot;dashOffset&quot;: null, &quot;fill&quot;: true, &quot;fillColor&quot;: &quot;cornflowerblue&quot;, &quot;fillOpacity&quot;: 0.6, &quot;fillRule&quot;: &quot;evenodd&quot;, &quot;lineCap&quot;: &quot;round&quot;, &quot;lineJoin&quot;: &quot;round&quot;, &quot;opacity&quot;: 1, &quot;radius&quot;: 7, &quot;stroke&quot;: false, &quot;weight&quot;: 3}\n",
       "            ).addTo(map_65086584e849e701b7a03696943cbf61);\n",
       "        \n",
       "    \n",
       "            var circle_marker_fd91a67ab7200f4c36e76cf1c8121191 = L.circleMarker(\n",
       "                [-34.63036565, -58.39626094],\n",
       "                {&quot;bubblingMouseEvents&quot;: true, &quot;color&quot;: &quot;cornflowerblue&quot;, &quot;dashArray&quot;: null, &quot;dashOffset&quot;: null, &quot;fill&quot;: true, &quot;fillColor&quot;: &quot;cornflowerblue&quot;, &quot;fillOpacity&quot;: 0.6, &quot;fillRule&quot;: &quot;evenodd&quot;, &quot;lineCap&quot;: &quot;round&quot;, &quot;lineJoin&quot;: &quot;round&quot;, &quot;opacity&quot;: 1, &quot;radius&quot;: 7, &quot;stroke&quot;: false, &quot;weight&quot;: 3}\n",
       "            ).addTo(map_65086584e849e701b7a03696943cbf61);\n",
       "        \n",
       "    \n",
       "            var circle_marker_cb2f9aad4f1d3752f0236b8697b4d13e = L.circleMarker(\n",
       "                [-34.63350444, -58.4607655],\n",
       "                {&quot;bubblingMouseEvents&quot;: true, &quot;color&quot;: &quot;cornflowerblue&quot;, &quot;dashArray&quot;: null, &quot;dashOffset&quot;: null, &quot;fill&quot;: true, &quot;fillColor&quot;: &quot;cornflowerblue&quot;, &quot;fillOpacity&quot;: 0.6, &quot;fillRule&quot;: &quot;evenodd&quot;, &quot;lineCap&quot;: &quot;round&quot;, &quot;lineJoin&quot;: &quot;round&quot;, &quot;opacity&quot;: 1, &quot;radius&quot;: 7, &quot;stroke&quot;: false, &quot;weight&quot;: 3}\n",
       "            ).addTo(map_65086584e849e701b7a03696943cbf61);\n",
       "        \n",
       "    \n",
       "            var circle_marker_b7c4e7049d18946d7f523e3d565d6141 = L.circleMarker(\n",
       "                [-34.56961468, -58.42668489],\n",
       "                {&quot;bubblingMouseEvents&quot;: true, &quot;color&quot;: &quot;cornflowerblue&quot;, &quot;dashArray&quot;: null, &quot;dashOffset&quot;: null, &quot;fill&quot;: true, &quot;fillColor&quot;: &quot;cornflowerblue&quot;, &quot;fillOpacity&quot;: 0.6, &quot;fillRule&quot;: &quot;evenodd&quot;, &quot;lineCap&quot;: &quot;round&quot;, &quot;lineJoin&quot;: &quot;round&quot;, &quot;opacity&quot;: 1, &quot;radius&quot;: 7, &quot;stroke&quot;: false, &quot;weight&quot;: 3}\n",
       "            ).addTo(map_65086584e849e701b7a03696943cbf61);\n",
       "        \n",
       "    \n",
       "            var circle_marker_e324ce2f589e51e411558bffa70eb4f2 = L.circleMarker(\n",
       "                [-34.53825652, -58.47617802],\n",
       "                {&quot;bubblingMouseEvents&quot;: true, &quot;color&quot;: &quot;cornflowerblue&quot;, &quot;dashArray&quot;: null, &quot;dashOffset&quot;: null, &quot;fill&quot;: true, &quot;fillColor&quot;: &quot;cornflowerblue&quot;, &quot;fillOpacity&quot;: 0.6, &quot;fillRule&quot;: &quot;evenodd&quot;, &quot;lineCap&quot;: &quot;round&quot;, &quot;lineJoin&quot;: &quot;round&quot;, &quot;opacity&quot;: 1, &quot;radius&quot;: 7, &quot;stroke&quot;: false, &quot;weight&quot;: 3}\n",
       "            ).addTo(map_65086584e849e701b7a03696943cbf61);\n",
       "        \n",
       "    \n",
       "            var circle_marker_168a52a46379f4aa50328659c697c4d7 = L.circleMarker(\n",
       "                [-34.63659934, -58.52280139],\n",
       "                {&quot;bubblingMouseEvents&quot;: true, &quot;color&quot;: &quot;cornflowerblue&quot;, &quot;dashArray&quot;: null, &quot;dashOffset&quot;: null, &quot;fill&quot;: true, &quot;fillColor&quot;: &quot;cornflowerblue&quot;, &quot;fillOpacity&quot;: 0.6, &quot;fillRule&quot;: &quot;evenodd&quot;, &quot;lineCap&quot;: &quot;round&quot;, &quot;lineJoin&quot;: &quot;round&quot;, &quot;opacity&quot;: 1, &quot;radius&quot;: 7, &quot;stroke&quot;: false, &quot;weight&quot;: 3}\n",
       "            ).addTo(map_65086584e849e701b7a03696943cbf61);\n",
       "        \n",
       "    \n",
       "            var circle_marker_6e425249fdaef96df9168a0a6aa44239 = L.circleMarker(\n",
       "                [-34.63931752, -58.52927982],\n",
       "                {&quot;bubblingMouseEvents&quot;: true, &quot;color&quot;: &quot;cornflowerblue&quot;, &quot;dashArray&quot;: null, &quot;dashOffset&quot;: null, &quot;fill&quot;: true, &quot;fillColor&quot;: &quot;cornflowerblue&quot;, &quot;fillOpacity&quot;: 0.6, &quot;fillRule&quot;: &quot;evenodd&quot;, &quot;lineCap&quot;: &quot;round&quot;, &quot;lineJoin&quot;: &quot;round&quot;, &quot;opacity&quot;: 1, &quot;radius&quot;: 7, &quot;stroke&quot;: false, &quot;weight&quot;: 3}\n",
       "            ).addTo(map_65086584e849e701b7a03696943cbf61);\n",
       "        \n",
       "    \n",
       "            var circle_marker_f086c915b92334aca4c53df77dc9ecdf = L.circleMarker(\n",
       "                [-34.6399743, -58.45807401],\n",
       "                {&quot;bubblingMouseEvents&quot;: true, &quot;color&quot;: &quot;cornflowerblue&quot;, &quot;dashArray&quot;: null, &quot;dashOffset&quot;: null, &quot;fill&quot;: true, &quot;fillColor&quot;: &quot;cornflowerblue&quot;, &quot;fillOpacity&quot;: 0.6, &quot;fillRule&quot;: &quot;evenodd&quot;, &quot;lineCap&quot;: &quot;round&quot;, &quot;lineJoin&quot;: &quot;round&quot;, &quot;opacity&quot;: 1, &quot;radius&quot;: 7, &quot;stroke&quot;: false, &quot;weight&quot;: 3}\n",
       "            ).addTo(map_65086584e849e701b7a03696943cbf61);\n",
       "        \n",
       "    \n",
       "            var circle_marker_0e51faf3c46df56909d2e4d543fe2804 = L.circleMarker(\n",
       "                [-34.56353635, -58.49659234],\n",
       "                {&quot;bubblingMouseEvents&quot;: true, &quot;color&quot;: &quot;cornflowerblue&quot;, &quot;dashArray&quot;: null, &quot;dashOffset&quot;: null, &quot;fill&quot;: true, &quot;fillColor&quot;: &quot;cornflowerblue&quot;, &quot;fillOpacity&quot;: 0.6, &quot;fillRule&quot;: &quot;evenodd&quot;, &quot;lineCap&quot;: &quot;round&quot;, &quot;lineJoin&quot;: &quot;round&quot;, &quot;opacity&quot;: 1, &quot;radius&quot;: 7, &quot;stroke&quot;: false, &quot;weight&quot;: 3}\n",
       "            ).addTo(map_65086584e849e701b7a03696943cbf61);\n",
       "        \n",
       "    \n",
       "            var circle_marker_898a1c338dced93a04bb85d65f2d2a7c = L.circleMarker(\n",
       "                [-34.64119105, -58.42323628],\n",
       "                {&quot;bubblingMouseEvents&quot;: true, &quot;color&quot;: &quot;cornflowerblue&quot;, &quot;dashArray&quot;: null, &quot;dashOffset&quot;: null, &quot;fill&quot;: true, &quot;fillColor&quot;: &quot;cornflowerblue&quot;, &quot;fillOpacity&quot;: 0.6, &quot;fillRule&quot;: &quot;evenodd&quot;, &quot;lineCap&quot;: &quot;round&quot;, &quot;lineJoin&quot;: &quot;round&quot;, &quot;opacity&quot;: 1, &quot;radius&quot;: 7, &quot;stroke&quot;: false, &quot;weight&quot;: 3}\n",
       "            ).addTo(map_65086584e849e701b7a03696943cbf61);\n",
       "        \n",
       "    \n",
       "            var circle_marker_56d051e2fc83e3c06cbaf498aee2b5a1 = L.circleMarker(\n",
       "                [-34.64546845, -58.40184094],\n",
       "                {&quot;bubblingMouseEvents&quot;: true, &quot;color&quot;: &quot;cornflowerblue&quot;, &quot;dashArray&quot;: null, &quot;dashOffset&quot;: null, &quot;fill&quot;: true, &quot;fillColor&quot;: &quot;cornflowerblue&quot;, &quot;fillOpacity&quot;: 0.6, &quot;fillRule&quot;: &quot;evenodd&quot;, &quot;lineCap&quot;: &quot;round&quot;, &quot;lineJoin&quot;: &quot;round&quot;, &quot;opacity&quot;: 1, &quot;radius&quot;: 7, &quot;stroke&quot;: false, &quot;weight&quot;: 3}\n",
       "            ).addTo(map_65086584e849e701b7a03696943cbf61);\n",
       "        \n",
       "    \n",
       "            var circle_marker_ae5623441fbbb2ce9e0901f8f3a6f685 = L.circleMarker(\n",
       "                [-34.64564271, -58.49603546],\n",
       "                {&quot;bubblingMouseEvents&quot;: true, &quot;color&quot;: &quot;cornflowerblue&quot;, &quot;dashArray&quot;: null, &quot;dashOffset&quot;: null, &quot;fill&quot;: true, &quot;fillColor&quot;: &quot;cornflowerblue&quot;, &quot;fillOpacity&quot;: 0.6, &quot;fillRule&quot;: &quot;evenodd&quot;, &quot;lineCap&quot;: &quot;round&quot;, &quot;lineJoin&quot;: &quot;round&quot;, &quot;opacity&quot;: 1, &quot;radius&quot;: 7, &quot;stroke&quot;: false, &quot;weight&quot;: 3}\n",
       "            ).addTo(map_65086584e849e701b7a03696943cbf61);\n",
       "        \n",
       "    \n",
       "            var circle_marker_bf5336058798ac7acc37db908f82a500 = L.circleMarker(\n",
       "                [-34.64592873, -58.52844623],\n",
       "                {&quot;bubblingMouseEvents&quot;: true, &quot;color&quot;: &quot;cornflowerblue&quot;, &quot;dashArray&quot;: null, &quot;dashOffset&quot;: null, &quot;fill&quot;: true, &quot;fillColor&quot;: &quot;cornflowerblue&quot;, &quot;fillOpacity&quot;: 0.6, &quot;fillRule&quot;: &quot;evenodd&quot;, &quot;lineCap&quot;: &quot;round&quot;, &quot;lineJoin&quot;: &quot;round&quot;, &quot;opacity&quot;: 1, &quot;radius&quot;: 7, &quot;stroke&quot;: false, &quot;weight&quot;: 3}\n",
       "            ).addTo(map_65086584e849e701b7a03696943cbf61);\n",
       "        \n",
       "    \n",
       "            var circle_marker_478b1a59ce40908fee899f40a910fe30 = L.circleMarker(\n",
       "                [-34.64684275, -58.38636298],\n",
       "                {&quot;bubblingMouseEvents&quot;: true, &quot;color&quot;: &quot;cornflowerblue&quot;, &quot;dashArray&quot;: null, &quot;dashOffset&quot;: null, &quot;fill&quot;: true, &quot;fillColor&quot;: &quot;cornflowerblue&quot;, &quot;fillOpacity&quot;: 0.6, &quot;fillRule&quot;: &quot;evenodd&quot;, &quot;lineCap&quot;: &quot;round&quot;, &quot;lineJoin&quot;: &quot;round&quot;, &quot;opacity&quot;: 1, &quot;radius&quot;: 7, &quot;stroke&quot;: false, &quot;weight&quot;: 3}\n",
       "            ).addTo(map_65086584e849e701b7a03696943cbf61);\n",
       "        \n",
       "    \n",
       "            var circle_marker_ab1d6676dfd00b1f0e16c16fdb38da3f = L.circleMarker(\n",
       "                [-34.64979057, -58.41842777],\n",
       "                {&quot;bubblingMouseEvents&quot;: true, &quot;color&quot;: &quot;cornflowerblue&quot;, &quot;dashArray&quot;: null, &quot;dashOffset&quot;: null, &quot;fill&quot;: true, &quot;fillColor&quot;: &quot;cornflowerblue&quot;, &quot;fillOpacity&quot;: 0.6, &quot;fillRule&quot;: &quot;evenodd&quot;, &quot;lineCap&quot;: &quot;round&quot;, &quot;lineJoin&quot;: &quot;round&quot;, &quot;opacity&quot;: 1, &quot;radius&quot;: 7, &quot;stroke&quot;: false, &quot;weight&quot;: 3}\n",
       "            ).addTo(map_65086584e849e701b7a03696943cbf61);\n",
       "        \n",
       "    \n",
       "            var circle_marker_815ffcb7dcdb344e112bb3854aa1067c = L.circleMarker(\n",
       "                [-34.65014993, -58.52932872],\n",
       "                {&quot;bubblingMouseEvents&quot;: true, &quot;color&quot;: &quot;cornflowerblue&quot;, &quot;dashArray&quot;: null, &quot;dashOffset&quot;: null, &quot;fill&quot;: true, &quot;fillColor&quot;: &quot;cornflowerblue&quot;, &quot;fillOpacity&quot;: 0.6, &quot;fillRule&quot;: &quot;evenodd&quot;, &quot;lineCap&quot;: &quot;round&quot;, &quot;lineJoin&quot;: &quot;round&quot;, &quot;opacity&quot;: 1, &quot;radius&quot;: 7, &quot;stroke&quot;: false, &quot;weight&quot;: 3}\n",
       "            ).addTo(map_65086584e849e701b7a03696943cbf61);\n",
       "        \n",
       "    \n",
       "            var circle_marker_a1d654247031d47de4897f343836daab = L.circleMarker(\n",
       "                [-34.54048625, -58.44927253],\n",
       "                {&quot;bubblingMouseEvents&quot;: true, &quot;color&quot;: &quot;cornflowerblue&quot;, &quot;dashArray&quot;: null, &quot;dashOffset&quot;: null, &quot;fill&quot;: true, &quot;fillColor&quot;: &quot;cornflowerblue&quot;, &quot;fillOpacity&quot;: 0.6, &quot;fillRule&quot;: &quot;evenodd&quot;, &quot;lineCap&quot;: &quot;round&quot;, &quot;lineJoin&quot;: &quot;round&quot;, &quot;opacity&quot;: 1, &quot;radius&quot;: 7, &quot;stroke&quot;: false, &quot;weight&quot;: 3}\n",
       "            ).addTo(map_65086584e849e701b7a03696943cbf61);\n",
       "        \n",
       "    \n",
       "            var circle_marker_82b919e979b17459aacb4957624c8015 = L.circleMarker(\n",
       "                [-34.65117757, -58.46739825],\n",
       "                {&quot;bubblingMouseEvents&quot;: true, &quot;color&quot;: &quot;cornflowerblue&quot;, &quot;dashArray&quot;: null, &quot;dashOffset&quot;: null, &quot;fill&quot;: true, &quot;fillColor&quot;: &quot;cornflowerblue&quot;, &quot;fillOpacity&quot;: 0.6, &quot;fillRule&quot;: &quot;evenodd&quot;, &quot;lineCap&quot;: &quot;round&quot;, &quot;lineJoin&quot;: &quot;round&quot;, &quot;opacity&quot;: 1, &quot;radius&quot;: 7, &quot;stroke&quot;: false, &quot;weight&quot;: 3}\n",
       "            ).addTo(map_65086584e849e701b7a03696943cbf61);\n",
       "        \n",
       "    \n",
       "            var circle_marker_cd589bcb23b0c5ebbe0d2f58080b9fa4 = L.circleMarker(\n",
       "                [-34.6541774, -58.41125934],\n",
       "                {&quot;bubblingMouseEvents&quot;: true, &quot;color&quot;: &quot;cornflowerblue&quot;, &quot;dashArray&quot;: null, &quot;dashOffset&quot;: null, &quot;fill&quot;: true, &quot;fillColor&quot;: &quot;cornflowerblue&quot;, &quot;fillOpacity&quot;: 0.6, &quot;fillRule&quot;: &quot;evenodd&quot;, &quot;lineCap&quot;: &quot;round&quot;, &quot;lineJoin&quot;: &quot;round&quot;, &quot;opacity&quot;: 1, &quot;radius&quot;: 7, &quot;stroke&quot;: false, &quot;weight&quot;: 3}\n",
       "            ).addTo(map_65086584e849e701b7a03696943cbf61);\n",
       "        \n",
       "    \n",
       "            var circle_marker_267fcf014e928c0e94f35e1d958eb66a = L.circleMarker(\n",
       "                [-34.65429986, -58.37157668],\n",
       "                {&quot;bubblingMouseEvents&quot;: true, &quot;color&quot;: &quot;cornflowerblue&quot;, &quot;dashArray&quot;: null, &quot;dashOffset&quot;: null, &quot;fill&quot;: true, &quot;fillColor&quot;: &quot;cornflowerblue&quot;, &quot;fillOpacity&quot;: 0.6, &quot;fillRule&quot;: &quot;evenodd&quot;, &quot;lineCap&quot;: &quot;round&quot;, &quot;lineJoin&quot;: &quot;round&quot;, &quot;opacity&quot;: 1, &quot;radius&quot;: 7, &quot;stroke&quot;: false, &quot;weight&quot;: 3}\n",
       "            ).addTo(map_65086584e849e701b7a03696943cbf61);\n",
       "        \n",
       "    \n",
       "            var circle_marker_182030b2f81ef411f81ad23d89f36308 = L.circleMarker(\n",
       "                [-34.62907067, -58.37864583],\n",
       "                {&quot;bubblingMouseEvents&quot;: true, &quot;color&quot;: &quot;cornflowerblue&quot;, &quot;dashArray&quot;: null, &quot;dashOffset&quot;: null, &quot;fill&quot;: true, &quot;fillColor&quot;: &quot;cornflowerblue&quot;, &quot;fillOpacity&quot;: 0.6, &quot;fillRule&quot;: &quot;evenodd&quot;, &quot;lineCap&quot;: &quot;round&quot;, &quot;lineJoin&quot;: &quot;round&quot;, &quot;opacity&quot;: 1, &quot;radius&quot;: 7, &quot;stroke&quot;: false, &quot;weight&quot;: 3}\n",
       "            ).addTo(map_65086584e849e701b7a03696943cbf61);\n",
       "        \n",
       "    \n",
       "            var circle_marker_a3c6d0cca350b8d5c39f9b69fdcf5eae = L.circleMarker(\n",
       "                [-34.62743346, -58.41595919],\n",
       "                {&quot;bubblingMouseEvents&quot;: true, &quot;color&quot;: &quot;cornflowerblue&quot;, &quot;dashArray&quot;: null, &quot;dashOffset&quot;: null, &quot;fill&quot;: true, &quot;fillColor&quot;: &quot;cornflowerblue&quot;, &quot;fillOpacity&quot;: 0.6, &quot;fillRule&quot;: &quot;evenodd&quot;, &quot;lineCap&quot;: &quot;round&quot;, &quot;lineJoin&quot;: &quot;round&quot;, &quot;opacity&quot;: 1, &quot;radius&quot;: 7, &quot;stroke&quot;: false, &quot;weight&quot;: 3}\n",
       "            ).addTo(map_65086584e849e701b7a03696943cbf61);\n",
       "        \n",
       "    \n",
       "            var circle_marker_dd77366ccd345bba3b447c26ce5e2600 = L.circleMarker(\n",
       "                [-34.57866344, -58.42525456],\n",
       "                {&quot;bubblingMouseEvents&quot;: true, &quot;color&quot;: &quot;cornflowerblue&quot;, &quot;dashArray&quot;: null, &quot;dashOffset&quot;: null, &quot;fill&quot;: true, &quot;fillColor&quot;: &quot;cornflowerblue&quot;, &quot;fillOpacity&quot;: 0.6, &quot;fillRule&quot;: &quot;evenodd&quot;, &quot;lineCap&quot;: &quot;round&quot;, &quot;lineJoin&quot;: &quot;round&quot;, &quot;opacity&quot;: 1, &quot;radius&quot;: 7, &quot;stroke&quot;: false, &quot;weight&quot;: 3}\n",
       "            ).addTo(map_65086584e849e701b7a03696943cbf61);\n",
       "        \n",
       "    \n",
       "            var circle_marker_01f85b2cce0203d1e5466d8c0ceee154 = L.circleMarker(\n",
       "                [-34.61829385, -58.42855267],\n",
       "                {&quot;bubblingMouseEvents&quot;: true, &quot;color&quot;: &quot;cornflowerblue&quot;, &quot;dashArray&quot;: null, &quot;dashOffset&quot;: null, &quot;fill&quot;: true, &quot;fillColor&quot;: &quot;cornflowerblue&quot;, &quot;fillOpacity&quot;: 0.6, &quot;fillRule&quot;: &quot;evenodd&quot;, &quot;lineCap&quot;: &quot;round&quot;, &quot;lineJoin&quot;: &quot;round&quot;, &quot;opacity&quot;: 1, &quot;radius&quot;: 7, &quot;stroke&quot;: false, &quot;weight&quot;: 3}\n",
       "            ).addTo(map_65086584e849e701b7a03696943cbf61);\n",
       "        \n",
       "    \n",
       "            var circle_marker_d2a131c7a085d74deac1d16c36fd3d47 = L.circleMarker(\n",
       "                [-34.59871111, -58.39303911],\n",
       "                {&quot;bubblingMouseEvents&quot;: true, &quot;color&quot;: &quot;cornflowerblue&quot;, &quot;dashArray&quot;: null, &quot;dashOffset&quot;: null, &quot;fill&quot;: true, &quot;fillColor&quot;: &quot;cornflowerblue&quot;, &quot;fillOpacity&quot;: 0.6, &quot;fillRule&quot;: &quot;evenodd&quot;, &quot;lineCap&quot;: &quot;round&quot;, &quot;lineJoin&quot;: &quot;round&quot;, &quot;opacity&quot;: 1, &quot;radius&quot;: 7, &quot;stroke&quot;: false, &quot;weight&quot;: 3}\n",
       "            ).addTo(map_65086584e849e701b7a03696943cbf61);\n",
       "        \n",
       "    \n",
       "            var circle_marker_02976464be41bc4cf5493203613a06b9 = L.circleMarker(\n",
       "                [-34.60111373, -58.47220945],\n",
       "                {&quot;bubblingMouseEvents&quot;: true, &quot;color&quot;: &quot;cornflowerblue&quot;, &quot;dashArray&quot;: null, &quot;dashOffset&quot;: null, &quot;fill&quot;: true, &quot;fillColor&quot;: &quot;cornflowerblue&quot;, &quot;fillOpacity&quot;: 0.6, &quot;fillRule&quot;: &quot;evenodd&quot;, &quot;lineCap&quot;: &quot;round&quot;, &quot;lineJoin&quot;: &quot;round&quot;, &quot;opacity&quot;: 1, &quot;radius&quot;: 7, &quot;stroke&quot;: false, &quot;weight&quot;: 3}\n",
       "            ).addTo(map_65086584e849e701b7a03696943cbf61);\n",
       "        \n",
       "    \n",
       "            var circle_marker_17a778d48f0a0ae5e524748b45ad123c = L.circleMarker(\n",
       "                [-34.60189492, -58.370488],\n",
       "                {&quot;bubblingMouseEvents&quot;: true, &quot;color&quot;: &quot;cornflowerblue&quot;, &quot;dashArray&quot;: null, &quot;dashOffset&quot;: null, &quot;fill&quot;: true, &quot;fillColor&quot;: &quot;cornflowerblue&quot;, &quot;fillOpacity&quot;: 0.6, &quot;fillRule&quot;: &quot;evenodd&quot;, &quot;lineCap&quot;: &quot;round&quot;, &quot;lineJoin&quot;: &quot;round&quot;, &quot;opacity&quot;: 1, &quot;radius&quot;: 7, &quot;stroke&quot;: false, &quot;weight&quot;: 3}\n",
       "            ).addTo(map_65086584e849e701b7a03696943cbf61);\n",
       "        \n",
       "    \n",
       "            var circle_marker_ea07730bc8ff9aa04a2497308add7554 = L.circleMarker(\n",
       "                [-34.60885045, -58.38872177],\n",
       "                {&quot;bubblingMouseEvents&quot;: true, &quot;color&quot;: &quot;cornflowerblue&quot;, &quot;dashArray&quot;: null, &quot;dashOffset&quot;: null, &quot;fill&quot;: true, &quot;fillColor&quot;: &quot;cornflowerblue&quot;, &quot;fillOpacity&quot;: 0.6, &quot;fillRule&quot;: &quot;evenodd&quot;, &quot;lineCap&quot;: &quot;round&quot;, &quot;lineJoin&quot;: &quot;round&quot;, &quot;opacity&quot;: 1, &quot;radius&quot;: 7, &quot;stroke&quot;: false, &quot;weight&quot;: 3}\n",
       "            ).addTo(map_65086584e849e701b7a03696943cbf61);\n",
       "        \n",
       "    \n",
       "            var circle_marker_1a2e2a7e32bc1992e504be18a925415a = L.circleMarker(\n",
       "                [-34.61011987, -58.4059686],\n",
       "                {&quot;bubblingMouseEvents&quot;: true, &quot;color&quot;: &quot;cornflowerblue&quot;, &quot;dashArray&quot;: null, &quot;dashOffset&quot;: null, &quot;fill&quot;: true, &quot;fillColor&quot;: &quot;cornflowerblue&quot;, &quot;fillOpacity&quot;: 0.6, &quot;fillRule&quot;: &quot;evenodd&quot;, &quot;lineCap&quot;: &quot;round&quot;, &quot;lineJoin&quot;: &quot;round&quot;, &quot;opacity&quot;: 1, &quot;radius&quot;: 7, &quot;stroke&quot;: false, &quot;weight&quot;: 3}\n",
       "            ).addTo(map_65086584e849e701b7a03696943cbf61);\n",
       "        \n",
       "    \n",
       "            var circle_marker_6405751834549227fa7d16c54e97d513 = L.circleMarker(\n",
       "                [-34.61047001, -58.52783814],\n",
       "                {&quot;bubblingMouseEvents&quot;: true, &quot;color&quot;: &quot;cornflowerblue&quot;, &quot;dashArray&quot;: null, &quot;dashOffset&quot;: null, &quot;fill&quot;: true, &quot;fillColor&quot;: &quot;cornflowerblue&quot;, &quot;fillOpacity&quot;: 0.6, &quot;fillRule&quot;: &quot;evenodd&quot;, &quot;lineCap&quot;: &quot;round&quot;, &quot;lineJoin&quot;: &quot;round&quot;, &quot;opacity&quot;: 1, &quot;radius&quot;: 7, &quot;stroke&quot;: false, &quot;weight&quot;: 3}\n",
       "            ).addTo(map_65086584e849e701b7a03696943cbf61);\n",
       "        \n",
       "    \n",
       "            var circle_marker_b6e3600748c8021344369d44513d9a96 = L.circleMarker(\n",
       "                [-34.6111224, -58.41971993],\n",
       "                {&quot;bubblingMouseEvents&quot;: true, &quot;color&quot;: &quot;cornflowerblue&quot;, &quot;dashArray&quot;: null, &quot;dashOffset&quot;: null, &quot;fill&quot;: true, &quot;fillColor&quot;: &quot;cornflowerblue&quot;, &quot;fillOpacity&quot;: 0.6, &quot;fillRule&quot;: &quot;evenodd&quot;, &quot;lineCap&quot;: &quot;round&quot;, &quot;lineJoin&quot;: &quot;round&quot;, &quot;opacity&quot;: 1, &quot;radius&quot;: 7, &quot;stroke&quot;: false, &quot;weight&quot;: 3}\n",
       "            ).addTo(map_65086584e849e701b7a03696943cbf61);\n",
       "        \n",
       "    \n",
       "            var circle_marker_4ca4c24a58d4d716d817ee8331d8e7fe = L.circleMarker(\n",
       "                [-34.5917024, -58.44759966],\n",
       "                {&quot;bubblingMouseEvents&quot;: true, &quot;color&quot;: &quot;cornflowerblue&quot;, &quot;dashArray&quot;: null, &quot;dashOffset&quot;: null, &quot;fill&quot;: true, &quot;fillColor&quot;: &quot;cornflowerblue&quot;, &quot;fillOpacity&quot;: 0.6, &quot;fillRule&quot;: &quot;evenodd&quot;, &quot;lineCap&quot;: &quot;round&quot;, &quot;lineJoin&quot;: &quot;round&quot;, &quot;opacity&quot;: 1, &quot;radius&quot;: 7, &quot;stroke&quot;: false, &quot;weight&quot;: 3}\n",
       "            ).addTo(map_65086584e849e701b7a03696943cbf61);\n",
       "        \n",
       "    \n",
       "            var circle_marker_95d6d03f3cae483327db29d2ee5d1e8e = L.circleMarker(\n",
       "                [-34.58345898, -58.40617526],\n",
       "                {&quot;bubblingMouseEvents&quot;: true, &quot;color&quot;: &quot;cornflowerblue&quot;, &quot;dashArray&quot;: null, &quot;dashOffset&quot;: null, &quot;fill&quot;: true, &quot;fillColor&quot;: &quot;cornflowerblue&quot;, &quot;fillOpacity&quot;: 0.6, &quot;fillRule&quot;: &quot;evenodd&quot;, &quot;lineCap&quot;: &quot;round&quot;, &quot;lineJoin&quot;: &quot;round&quot;, &quot;opacity&quot;: 1, &quot;radius&quot;: 7, &quot;stroke&quot;: false, &quot;weight&quot;: 3}\n",
       "            ).addTo(map_65086584e849e701b7a03696943cbf61);\n",
       "        \n",
       "    \n",
       "            var circle_marker_b621e083d13a28e7359a52c3f4dd479e = L.circleMarker(\n",
       "                [-34.62082399, -58.44110156],\n",
       "                {&quot;bubblingMouseEvents&quot;: true, &quot;color&quot;: &quot;cornflowerblue&quot;, &quot;dashArray&quot;: null, &quot;dashOffset&quot;: null, &quot;fill&quot;: true, &quot;fillColor&quot;: &quot;cornflowerblue&quot;, &quot;fillOpacity&quot;: 0.6, &quot;fillRule&quot;: &quot;evenodd&quot;, &quot;lineCap&quot;: &quot;round&quot;, &quot;lineJoin&quot;: &quot;round&quot;, &quot;opacity&quot;: 1, &quot;radius&quot;: 7, &quot;stroke&quot;: false, &quot;weight&quot;: 3}\n",
       "            ).addTo(map_65086584e849e701b7a03696943cbf61);\n",
       "        \n",
       "    \n",
       "            var circle_marker_021bf399130878b7857327c286c4da0d = L.circleMarker(\n",
       "                [-34.62519403, -58.36797542],\n",
       "                {&quot;bubblingMouseEvents&quot;: true, &quot;color&quot;: &quot;cornflowerblue&quot;, &quot;dashArray&quot;: null, &quot;dashOffset&quot;: null, &quot;fill&quot;: true, &quot;fillColor&quot;: &quot;cornflowerblue&quot;, &quot;fillOpacity&quot;: 0.6, &quot;fillRule&quot;: &quot;evenodd&quot;, &quot;lineCap&quot;: &quot;round&quot;, &quot;lineJoin&quot;: &quot;round&quot;, &quot;opacity&quot;: 1, &quot;radius&quot;: 7, &quot;stroke&quot;: false, &quot;weight&quot;: 3}\n",
       "            ).addTo(map_65086584e849e701b7a03696943cbf61);\n",
       "        \n",
       "    \n",
       "            var circle_marker_6532cc41eafe6bffbf8a527e070fd708 = L.circleMarker(\n",
       "                [-34.62125906, -58.52572109],\n",
       "                {&quot;bubblingMouseEvents&quot;: true, &quot;color&quot;: &quot;cornflowerblue&quot;, &quot;dashArray&quot;: null, &quot;dashOffset&quot;: null, &quot;fill&quot;: true, &quot;fillColor&quot;: &quot;cornflowerblue&quot;, &quot;fillOpacity&quot;: 0.6, &quot;fillRule&quot;: &quot;evenodd&quot;, &quot;lineCap&quot;: &quot;round&quot;, &quot;lineJoin&quot;: &quot;round&quot;, &quot;opacity&quot;: 1, &quot;radius&quot;: 7, &quot;stroke&quot;: false, &quot;weight&quot;: 3}\n",
       "            ).addTo(map_65086584e849e701b7a03696943cbf61);\n",
       "        \n",
       "    \n",
       "            var circle_marker_1ee2b941dd1fbd5a89931c04cf5e75ce = L.circleMarker(\n",
       "                [-34.65554754, -58.43850413],\n",
       "                {&quot;bubblingMouseEvents&quot;: true, &quot;color&quot;: &quot;cornflowerblue&quot;, &quot;dashArray&quot;: null, &quot;dashOffset&quot;: null, &quot;fill&quot;: true, &quot;fillColor&quot;: &quot;cornflowerblue&quot;, &quot;fillOpacity&quot;: 0.6, &quot;fillRule&quot;: &quot;evenodd&quot;, &quot;lineCap&quot;: &quot;round&quot;, &quot;lineJoin&quot;: &quot;round&quot;, &quot;opacity&quot;: 1, &quot;radius&quot;: 7, &quot;stroke&quot;: false, &quot;weight&quot;: 3}\n",
       "            ).addTo(map_65086584e849e701b7a03696943cbf61);\n",
       "        \n",
       "    \n",
       "            var circle_marker_5941dcded6b1504954dcf8c1b879fce0 = L.circleMarker(\n",
       "                [-34.62150748, -58.36607137],\n",
       "                {&quot;bubblingMouseEvents&quot;: true, &quot;color&quot;: &quot;cornflowerblue&quot;, &quot;dashArray&quot;: null, &quot;dashOffset&quot;: null, &quot;fill&quot;: true, &quot;fillColor&quot;: &quot;cornflowerblue&quot;, &quot;fillOpacity&quot;: 0.6, &quot;fillRule&quot;: &quot;evenodd&quot;, &quot;lineCap&quot;: &quot;round&quot;, &quot;lineJoin&quot;: &quot;round&quot;, &quot;opacity&quot;: 1, &quot;radius&quot;: 7, &quot;stroke&quot;: false, &quot;weight&quot;: 3}\n",
       "            ).addTo(map_65086584e849e701b7a03696943cbf61);\n",
       "        \n",
       "    \n",
       "            var circle_marker_8b08f3789fab91d8d17fc2c2e31f32d8 = L.circleMarker(\n",
       "                [-34.62207347, -58.42779702],\n",
       "                {&quot;bubblingMouseEvents&quot;: true, &quot;color&quot;: &quot;cornflowerblue&quot;, &quot;dashArray&quot;: null, &quot;dashOffset&quot;: null, &quot;fill&quot;: true, &quot;fillColor&quot;: &quot;cornflowerblue&quot;, &quot;fillOpacity&quot;: 0.6, &quot;fillRule&quot;: &quot;evenodd&quot;, &quot;lineCap&quot;: &quot;round&quot;, &quot;lineJoin&quot;: &quot;round&quot;, &quot;opacity&quot;: 1, &quot;radius&quot;: 7, &quot;stroke&quot;: false, &quot;weight&quot;: 3}\n",
       "            ).addTo(map_65086584e849e701b7a03696943cbf61);\n",
       "        \n",
       "    \n",
       "            var circle_marker_afe92abf70be15596cc4d35d16a823ba = L.circleMarker(\n",
       "                [-34.54836855, -58.49332664],\n",
       "                {&quot;bubblingMouseEvents&quot;: true, &quot;color&quot;: &quot;cornflowerblue&quot;, &quot;dashArray&quot;: null, &quot;dashOffset&quot;: null, &quot;fill&quot;: true, &quot;fillColor&quot;: &quot;cornflowerblue&quot;, &quot;fillOpacity&quot;: 0.6, &quot;fillRule&quot;: &quot;evenodd&quot;, &quot;lineCap&quot;: &quot;round&quot;, &quot;lineJoin&quot;: &quot;round&quot;, &quot;opacity&quot;: 1, &quot;radius&quot;: 7, &quot;stroke&quot;: false, &quot;weight&quot;: 3}\n",
       "            ).addTo(map_65086584e849e701b7a03696943cbf61);\n",
       "        \n",
       "    \n",
       "            var circle_marker_c4a6167fbc1cde36e19433ddfe5f2e0e = L.circleMarker(\n",
       "                [-34.6224514, -58.4596221],\n",
       "                {&quot;bubblingMouseEvents&quot;: true, &quot;color&quot;: &quot;cornflowerblue&quot;, &quot;dashArray&quot;: null, &quot;dashOffset&quot;: null, &quot;fill&quot;: true, &quot;fillColor&quot;: &quot;cornflowerblue&quot;, &quot;fillOpacity&quot;: 0.6, &quot;fillRule&quot;: &quot;evenodd&quot;, &quot;lineCap&quot;: &quot;round&quot;, &quot;lineJoin&quot;: &quot;round&quot;, &quot;opacity&quot;: 1, &quot;radius&quot;: 7, &quot;stroke&quot;: false, &quot;weight&quot;: 3}\n",
       "            ).addTo(map_65086584e849e701b7a03696943cbf61);\n",
       "        \n",
       "    \n",
       "            var circle_marker_863370f8e1229988f58a47491db57209 = L.circleMarker(\n",
       "                [-34.62282019, -58.38268809],\n",
       "                {&quot;bubblingMouseEvents&quot;: true, &quot;color&quot;: &quot;cornflowerblue&quot;, &quot;dashArray&quot;: null, &quot;dashOffset&quot;: null, &quot;fill&quot;: true, &quot;fillColor&quot;: &quot;cornflowerblue&quot;, &quot;fillOpacity&quot;: 0.6, &quot;fillRule&quot;: &quot;evenodd&quot;, &quot;lineCap&quot;: &quot;round&quot;, &quot;lineJoin&quot;: &quot;round&quot;, &quot;opacity&quot;: 1, &quot;radius&quot;: 7, &quot;stroke&quot;: false, &quot;weight&quot;: 3}\n",
       "            ).addTo(map_65086584e849e701b7a03696943cbf61);\n",
       "        \n",
       "    \n",
       "            var circle_marker_1f2a614aa6974b079f7aabfa440ae66b = L.circleMarker(\n",
       "                [-34.58159762, -58.51452347],\n",
       "                {&quot;bubblingMouseEvents&quot;: true, &quot;color&quot;: &quot;cornflowerblue&quot;, &quot;dashArray&quot;: null, &quot;dashOffset&quot;: null, &quot;fill&quot;: true, &quot;fillColor&quot;: &quot;cornflowerblue&quot;, &quot;fillOpacity&quot;: 0.6, &quot;fillRule&quot;: &quot;evenodd&quot;, &quot;lineCap&quot;: &quot;round&quot;, &quot;lineJoin&quot;: &quot;round&quot;, &quot;opacity&quot;: 1, &quot;radius&quot;: 7, &quot;stroke&quot;: false, &quot;weight&quot;: 3}\n",
       "            ).addTo(map_65086584e849e701b7a03696943cbf61);\n",
       "        \n",
       "    \n",
       "            var circle_marker_1e21db5061bf0728c20805dc4944c031 = L.circleMarker(\n",
       "                [-34.62477021, -58.41036975],\n",
       "                {&quot;bubblingMouseEvents&quot;: true, &quot;color&quot;: &quot;cornflowerblue&quot;, &quot;dashArray&quot;: null, &quot;dashOffset&quot;: null, &quot;fill&quot;: true, &quot;fillColor&quot;: &quot;cornflowerblue&quot;, &quot;fillOpacity&quot;: 0.6, &quot;fillRule&quot;: &quot;evenodd&quot;, &quot;lineCap&quot;: &quot;round&quot;, &quot;lineJoin&quot;: &quot;round&quot;, &quot;opacity&quot;: 1, &quot;radius&quot;: 7, &quot;stroke&quot;: false, &quot;weight&quot;: 3}\n",
       "            ).addTo(map_65086584e849e701b7a03696943cbf61);\n",
       "        \n",
       "    \n",
       "            var circle_marker_af663a6549b07fdb9dc66d9785c2f429 = L.circleMarker(\n",
       "                [-34.62126274, -58.40917826],\n",
       "                {&quot;bubblingMouseEvents&quot;: true, &quot;color&quot;: &quot;cornflowerblue&quot;, &quot;dashArray&quot;: null, &quot;dashOffset&quot;: null, &quot;fill&quot;: true, &quot;fillColor&quot;: &quot;cornflowerblue&quot;, &quot;fillOpacity&quot;: 0.6, &quot;fillRule&quot;: &quot;evenodd&quot;, &quot;lineCap&quot;: &quot;round&quot;, &quot;lineJoin&quot;: &quot;round&quot;, &quot;opacity&quot;: 1, &quot;radius&quot;: 7, &quot;stroke&quot;: false, &quot;weight&quot;: 3}\n",
       "            ).addTo(map_65086584e849e701b7a03696943cbf61);\n",
       "        \n",
       "    \n",
       "            var circle_marker_165c73eb8914152734ae250fc6129429 = L.circleMarker(\n",
       "                [-34.70524971, -58.46244952],\n",
       "                {&quot;bubblingMouseEvents&quot;: true, &quot;color&quot;: &quot;cornflowerblue&quot;, &quot;dashArray&quot;: null, &quot;dashOffset&quot;: null, &quot;fill&quot;: true, &quot;fillColor&quot;: &quot;cornflowerblue&quot;, &quot;fillOpacity&quot;: 0.6, &quot;fillRule&quot;: &quot;evenodd&quot;, &quot;lineCap&quot;: &quot;round&quot;, &quot;lineJoin&quot;: &quot;round&quot;, &quot;opacity&quot;: 1, &quot;radius&quot;: 7, &quot;stroke&quot;: false, &quot;weight&quot;: 3}\n",
       "            ).addTo(map_65086584e849e701b7a03696943cbf61);\n",
       "        \n",
       "    \n",
       "            var circle_marker_a31b46f24c218088cb23d2d4155d584c = L.circleMarker(\n",
       "                [-34.68454456, -58.48267426],\n",
       "                {&quot;bubblingMouseEvents&quot;: true, &quot;color&quot;: &quot;cornflowerblue&quot;, &quot;dashArray&quot;: null, &quot;dashOffset&quot;: null, &quot;fill&quot;: true, &quot;fillColor&quot;: &quot;cornflowerblue&quot;, &quot;fillOpacity&quot;: 0.6, &quot;fillRule&quot;: &quot;evenodd&quot;, &quot;lineCap&quot;: &quot;round&quot;, &quot;lineJoin&quot;: &quot;round&quot;, &quot;opacity&quot;: 1, &quot;radius&quot;: 7, &quot;stroke&quot;: false, &quot;weight&quot;: 3}\n",
       "            ).addTo(map_65086584e849e701b7a03696943cbf61);\n",
       "        \n",
       "    \n",
       "            var circle_marker_3481238611bb8052f90636758ca9253d = L.circleMarker(\n",
       "                [-34.67450313, -58.5025179],\n",
       "                {&quot;bubblingMouseEvents&quot;: true, &quot;color&quot;: &quot;cornflowerblue&quot;, &quot;dashArray&quot;: null, &quot;dashOffset&quot;: null, &quot;fill&quot;: true, &quot;fillColor&quot;: &quot;cornflowerblue&quot;, &quot;fillOpacity&quot;: 0.6, &quot;fillRule&quot;: &quot;evenodd&quot;, &quot;lineCap&quot;: &quot;round&quot;, &quot;lineJoin&quot;: &quot;round&quot;, &quot;opacity&quot;: 1, &quot;radius&quot;: 7, &quot;stroke&quot;: false, &quot;weight&quot;: 3}\n",
       "            ).addTo(map_65086584e849e701b7a03696943cbf61);\n",
       "        \n",
       "    \n",
       "            var circle_marker_0843a92ad2886601a6b77f0a9f46de5b = L.circleMarker(\n",
       "                [-34.66245085, -58.47297505],\n",
       "                {&quot;bubblingMouseEvents&quot;: true, &quot;color&quot;: &quot;cornflowerblue&quot;, &quot;dashArray&quot;: null, &quot;dashOffset&quot;: null, &quot;fill&quot;: true, &quot;fillColor&quot;: &quot;cornflowerblue&quot;, &quot;fillOpacity&quot;: 0.6, &quot;fillRule&quot;: &quot;evenodd&quot;, &quot;lineCap&quot;: &quot;round&quot;, &quot;lineJoin&quot;: &quot;round&quot;, &quot;opacity&quot;: 1, &quot;radius&quot;: 7, &quot;stroke&quot;: false, &quot;weight&quot;: 3}\n",
       "            ).addTo(map_65086584e849e701b7a03696943cbf61);\n",
       "        \n",
       "    \n",
       "            var circle_marker_e1e1e2ec5a62191fe8e8de57ef5b9ec4 = L.circleMarker(\n",
       "                [-34.68795245, -58.48695354],\n",
       "                {&quot;bubblingMouseEvents&quot;: true, &quot;color&quot;: &quot;cornflowerblue&quot;, &quot;dashArray&quot;: null, &quot;dashOffset&quot;: null, &quot;fill&quot;: true, &quot;fillColor&quot;: &quot;cornflowerblue&quot;, &quot;fillOpacity&quot;: 0.6, &quot;fillRule&quot;: &quot;evenodd&quot;, &quot;lineCap&quot;: &quot;round&quot;, &quot;lineJoin&quot;: &quot;round&quot;, &quot;opacity&quot;: 1, &quot;radius&quot;: 7, &quot;stroke&quot;: false, &quot;weight&quot;: 3}\n",
       "            ).addTo(map_65086584e849e701b7a03696943cbf61);\n",
       "        \n",
       "    \n",
       "            var circle_marker_2f33ca50acbdd7d5e0ce2908e1c1ee25 = L.circleMarker(\n",
       "                [-34.68148508, -58.48003734],\n",
       "                {&quot;bubblingMouseEvents&quot;: true, &quot;color&quot;: &quot;cornflowerblue&quot;, &quot;dashArray&quot;: null, &quot;dashOffset&quot;: null, &quot;fill&quot;: true, &quot;fillColor&quot;: &quot;cornflowerblue&quot;, &quot;fillOpacity&quot;: 0.6, &quot;fillRule&quot;: &quot;evenodd&quot;, &quot;lineCap&quot;: &quot;round&quot;, &quot;lineJoin&quot;: &quot;round&quot;, &quot;opacity&quot;: 1, &quot;radius&quot;: 7, &quot;stroke&quot;: false, &quot;weight&quot;: 3}\n",
       "            ).addTo(map_65086584e849e701b7a03696943cbf61);\n",
       "        \n",
       "    \n",
       "            var circle_marker_cdfe378e3f09b03cdad4a216ddb2c765 = L.circleMarker(\n",
       "                [-34.6590353, -58.51232237],\n",
       "                {&quot;bubblingMouseEvents&quot;: true, &quot;color&quot;: &quot;cornflowerblue&quot;, &quot;dashArray&quot;: null, &quot;dashOffset&quot;: null, &quot;fill&quot;: true, &quot;fillColor&quot;: &quot;cornflowerblue&quot;, &quot;fillOpacity&quot;: 0.6, &quot;fillRule&quot;: &quot;evenodd&quot;, &quot;lineCap&quot;: &quot;round&quot;, &quot;lineJoin&quot;: &quot;round&quot;, &quot;opacity&quot;: 1, &quot;radius&quot;: 7, &quot;stroke&quot;: false, &quot;weight&quot;: 3}\n",
       "            ).addTo(map_65086584e849e701b7a03696943cbf61);\n",
       "        \n",
       "    \n",
       "            var circle_marker_dfcbd70bff4a9f54baaab3c848848356 = L.circleMarker(\n",
       "                [-34.69640164, -58.47199387],\n",
       "                {&quot;bubblingMouseEvents&quot;: true, &quot;color&quot;: &quot;cornflowerblue&quot;, &quot;dashArray&quot;: null, &quot;dashOffset&quot;: null, &quot;fill&quot;: true, &quot;fillColor&quot;: &quot;cornflowerblue&quot;, &quot;fillOpacity&quot;: 0.6, &quot;fillRule&quot;: &quot;evenodd&quot;, &quot;lineCap&quot;: &quot;round&quot;, &quot;lineJoin&quot;: &quot;round&quot;, &quot;opacity&quot;: 1, &quot;radius&quot;: 7, &quot;stroke&quot;: false, &quot;weight&quot;: 3}\n",
       "            ).addTo(map_65086584e849e701b7a03696943cbf61);\n",
       "        \n",
       "    \n",
       "            var circle_marker_974e9247be07283e066aa84c81e060ab = L.circleMarker(\n",
       "                [-34.60053054, -58.37942637],\n",
       "                {&quot;bubblingMouseEvents&quot;: true, &quot;color&quot;: &quot;cornflowerblue&quot;, &quot;dashArray&quot;: null, &quot;dashOffset&quot;: null, &quot;fill&quot;: true, &quot;fillColor&quot;: &quot;cornflowerblue&quot;, &quot;fillOpacity&quot;: 0.6, &quot;fillRule&quot;: &quot;evenodd&quot;, &quot;lineCap&quot;: &quot;round&quot;, &quot;lineJoin&quot;: &quot;round&quot;, &quot;opacity&quot;: 1, &quot;radius&quot;: 6, &quot;stroke&quot;: false, &quot;weight&quot;: 3}\n",
       "            ).addTo(map_65086584e849e701b7a03696943cbf61);\n",
       "        \n",
       "    \n",
       "            var circle_marker_918755c9e29ba9b18145eda88c59e5b8 = L.circleMarker(\n",
       "                [-34.5993918, -58.4105928],\n",
       "                {&quot;bubblingMouseEvents&quot;: true, &quot;color&quot;: &quot;cornflowerblue&quot;, &quot;dashArray&quot;: null, &quot;dashOffset&quot;: null, &quot;fill&quot;: true, &quot;fillColor&quot;: &quot;cornflowerblue&quot;, &quot;fillOpacity&quot;: 0.6, &quot;fillRule&quot;: &quot;evenodd&quot;, &quot;lineCap&quot;: &quot;round&quot;, &quot;lineJoin&quot;: &quot;round&quot;, &quot;opacity&quot;: 1, &quot;radius&quot;: 6, &quot;stroke&quot;: false, &quot;weight&quot;: 3}\n",
       "            ).addTo(map_65086584e849e701b7a03696943cbf61);\n",
       "        \n",
       "    \n",
       "            var circle_marker_b7ff75a567d217eedf19a89c125555da = L.circleMarker(\n",
       "                [-34.67981324, -58.49371157],\n",
       "                {&quot;bubblingMouseEvents&quot;: true, &quot;color&quot;: &quot;cornflowerblue&quot;, &quot;dashArray&quot;: null, &quot;dashOffset&quot;: null, &quot;fill&quot;: true, &quot;fillColor&quot;: &quot;cornflowerblue&quot;, &quot;fillOpacity&quot;: 0.6, &quot;fillRule&quot;: &quot;evenodd&quot;, &quot;lineCap&quot;: &quot;round&quot;, &quot;lineJoin&quot;: &quot;round&quot;, &quot;opacity&quot;: 1, &quot;radius&quot;: 6, &quot;stroke&quot;: false, &quot;weight&quot;: 3}\n",
       "            ).addTo(map_65086584e849e701b7a03696943cbf61);\n",
       "        \n",
       "    \n",
       "            var circle_marker_d7e6f319b6db534ee744906caed22c0c = L.circleMarker(\n",
       "                [-34.60106568, -58.36860866],\n",
       "                {&quot;bubblingMouseEvents&quot;: true, &quot;color&quot;: &quot;cornflowerblue&quot;, &quot;dashArray&quot;: null, &quot;dashOffset&quot;: null, &quot;fill&quot;: true, &quot;fillColor&quot;: &quot;cornflowerblue&quot;, &quot;fillOpacity&quot;: 0.6, &quot;fillRule&quot;: &quot;evenodd&quot;, &quot;lineCap&quot;: &quot;round&quot;, &quot;lineJoin&quot;: &quot;round&quot;, &quot;opacity&quot;: 1, &quot;radius&quot;: 6, &quot;stroke&quot;: false, &quot;weight&quot;: 3}\n",
       "            ).addTo(map_65086584e849e701b7a03696943cbf61);\n",
       "        \n",
       "    \n",
       "            var circle_marker_9c4fd0a3ef0830f390847dda6171bb9e = L.circleMarker(\n",
       "                [-34.60097942, -58.40944147],\n",
       "                {&quot;bubblingMouseEvents&quot;: true, &quot;color&quot;: &quot;cornflowerblue&quot;, &quot;dashArray&quot;: null, &quot;dashOffset&quot;: null, &quot;fill&quot;: true, &quot;fillColor&quot;: &quot;cornflowerblue&quot;, &quot;fillOpacity&quot;: 0.6, &quot;fillRule&quot;: &quot;evenodd&quot;, &quot;lineCap&quot;: &quot;round&quot;, &quot;lineJoin&quot;: &quot;round&quot;, &quot;opacity&quot;: 1, &quot;radius&quot;: 6, &quot;stroke&quot;: false, &quot;weight&quot;: 3}\n",
       "            ).addTo(map_65086584e849e701b7a03696943cbf61);\n",
       "        \n",
       "    \n",
       "            var circle_marker_3651bc09d6622c43e08bf422db4ed8c3 = L.circleMarker(\n",
       "                [-34.60066507, -58.37062179],\n",
       "                {&quot;bubblingMouseEvents&quot;: true, &quot;color&quot;: &quot;cornflowerblue&quot;, &quot;dashArray&quot;: null, &quot;dashOffset&quot;: null, &quot;fill&quot;: true, &quot;fillColor&quot;: &quot;cornflowerblue&quot;, &quot;fillOpacity&quot;: 0.6, &quot;fillRule&quot;: &quot;evenodd&quot;, &quot;lineCap&quot;: &quot;round&quot;, &quot;lineJoin&quot;: &quot;round&quot;, &quot;opacity&quot;: 1, &quot;radius&quot;: 6, &quot;stroke&quot;: false, &quot;weight&quot;: 3}\n",
       "            ).addTo(map_65086584e849e701b7a03696943cbf61);\n",
       "        \n",
       "    \n",
       "            var circle_marker_cc5266b43cdfd6199a7b71b30f671311 = L.circleMarker(\n",
       "                [-34.59954925, -58.39897064],\n",
       "                {&quot;bubblingMouseEvents&quot;: true, &quot;color&quot;: &quot;cornflowerblue&quot;, &quot;dashArray&quot;: null, &quot;dashOffset&quot;: null, &quot;fill&quot;: true, &quot;fillColor&quot;: &quot;cornflowerblue&quot;, &quot;fillOpacity&quot;: 0.6, &quot;fillRule&quot;: &quot;evenodd&quot;, &quot;lineCap&quot;: &quot;round&quot;, &quot;lineJoin&quot;: &quot;round&quot;, &quot;opacity&quot;: 1, &quot;radius&quot;: 6, &quot;stroke&quot;: false, &quot;weight&quot;: 3}\n",
       "            ).addTo(map_65086584e849e701b7a03696943cbf61);\n",
       "        \n",
       "    \n",
       "            var circle_marker_8e0135fab65cec1e95a4d3a19387ffe0 = L.circleMarker(\n",
       "                [-34.59963642, -58.39293417],\n",
       "                {&quot;bubblingMouseEvents&quot;: true, &quot;color&quot;: &quot;cornflowerblue&quot;, &quot;dashArray&quot;: null, &quot;dashOffset&quot;: null, &quot;fill&quot;: true, &quot;fillColor&quot;: &quot;cornflowerblue&quot;, &quot;fillOpacity&quot;: 0.6, &quot;fillRule&quot;: &quot;evenodd&quot;, &quot;lineCap&quot;: &quot;round&quot;, &quot;lineJoin&quot;: &quot;round&quot;, &quot;opacity&quot;: 1, &quot;radius&quot;: 6, &quot;stroke&quot;: false, &quot;weight&quot;: 3}\n",
       "            ).addTo(map_65086584e849e701b7a03696943cbf61);\n",
       "        \n",
       "    \n",
       "            var circle_marker_b7888910d0e7b60ffabee0b5738a7037 = L.circleMarker(\n",
       "                [-34.60003693, -58.4045461],\n",
       "                {&quot;bubblingMouseEvents&quot;: true, &quot;color&quot;: &quot;cornflowerblue&quot;, &quot;dashArray&quot;: null, &quot;dashOffset&quot;: null, &quot;fill&quot;: true, &quot;fillColor&quot;: &quot;cornflowerblue&quot;, &quot;fillOpacity&quot;: 0.6, &quot;fillRule&quot;: &quot;evenodd&quot;, &quot;lineCap&quot;: &quot;round&quot;, &quot;lineJoin&quot;: &quot;round&quot;, &quot;opacity&quot;: 1, &quot;radius&quot;: 6, &quot;stroke&quot;: false, &quot;weight&quot;: 3}\n",
       "            ).addTo(map_65086584e849e701b7a03696943cbf61);\n",
       "        \n",
       "    \n",
       "            var circle_marker_bbee28347a702fbfd47eb1a390f97322 = L.circleMarker(\n",
       "                [-34.60135531, -58.38110563],\n",
       "                {&quot;bubblingMouseEvents&quot;: true, &quot;color&quot;: &quot;cornflowerblue&quot;, &quot;dashArray&quot;: null, &quot;dashOffset&quot;: null, &quot;fill&quot;: true, &quot;fillColor&quot;: &quot;cornflowerblue&quot;, &quot;fillOpacity&quot;: 0.6, &quot;fillRule&quot;: &quot;evenodd&quot;, &quot;lineCap&quot;: &quot;round&quot;, &quot;lineJoin&quot;: &quot;round&quot;, &quot;opacity&quot;: 1, &quot;radius&quot;: 6, &quot;stroke&quot;: false, &quot;weight&quot;: 3}\n",
       "            ).addTo(map_65086584e849e701b7a03696943cbf61);\n",
       "        \n",
       "    \n",
       "            var circle_marker_fb38ad85b53fbd3123c0abaaa4aec68d = L.circleMarker(\n",
       "                [-34.59975962, -58.3987261],\n",
       "                {&quot;bubblingMouseEvents&quot;: true, &quot;color&quot;: &quot;cornflowerblue&quot;, &quot;dashArray&quot;: null, &quot;dashOffset&quot;: null, &quot;fill&quot;: true, &quot;fillColor&quot;: &quot;cornflowerblue&quot;, &quot;fillOpacity&quot;: 0.6, &quot;fillRule&quot;: &quot;evenodd&quot;, &quot;lineCap&quot;: &quot;round&quot;, &quot;lineJoin&quot;: &quot;round&quot;, &quot;opacity&quot;: 1, &quot;radius&quot;: 6, &quot;stroke&quot;: false, &quot;weight&quot;: 3}\n",
       "            ).addTo(map_65086584e849e701b7a03696943cbf61);\n",
       "        \n",
       "    \n",
       "            var circle_marker_f596bd96c5df326545bcba14597f194b = L.circleMarker(\n",
       "                [-34.59970903, -58.44671397],\n",
       "                {&quot;bubblingMouseEvents&quot;: true, &quot;color&quot;: &quot;cornflowerblue&quot;, &quot;dashArray&quot;: null, &quot;dashOffset&quot;: null, &quot;fill&quot;: true, &quot;fillColor&quot;: &quot;cornflowerblue&quot;, &quot;fillOpacity&quot;: 0.6, &quot;fillRule&quot;: &quot;evenodd&quot;, &quot;lineCap&quot;: &quot;round&quot;, &quot;lineJoin&quot;: &quot;round&quot;, &quot;opacity&quot;: 1, &quot;radius&quot;: 6, &quot;stroke&quot;: false, &quot;weight&quot;: 3}\n",
       "            ).addTo(map_65086584e849e701b7a03696943cbf61);\n",
       "        \n",
       "    \n",
       "            var circle_marker_44e7651feb345e43d0e487b045393cf9 = L.circleMarker(\n",
       "                [-34.59952725, -58.37093138],\n",
       "                {&quot;bubblingMouseEvents&quot;: true, &quot;color&quot;: &quot;cornflowerblue&quot;, &quot;dashArray&quot;: null, &quot;dashOffset&quot;: null, &quot;fill&quot;: true, &quot;fillColor&quot;: &quot;cornflowerblue&quot;, &quot;fillOpacity&quot;: 0.6, &quot;fillRule&quot;: &quot;evenodd&quot;, &quot;lineCap&quot;: &quot;round&quot;, &quot;lineJoin&quot;: &quot;round&quot;, &quot;opacity&quot;: 1, &quot;radius&quot;: 6, &quot;stroke&quot;: false, &quot;weight&quot;: 3}\n",
       "            ).addTo(map_65086584e849e701b7a03696943cbf61);\n",
       "        \n",
       "    \n",
       "            var circle_marker_b0fb6ef100446ad7e98a9f94310206fc = L.circleMarker(\n",
       "                [-34.59967065, -58.47883099],\n",
       "                {&quot;bubblingMouseEvents&quot;: true, &quot;color&quot;: &quot;cornflowerblue&quot;, &quot;dashArray&quot;: null, &quot;dashOffset&quot;: null, &quot;fill&quot;: true, &quot;fillColor&quot;: &quot;cornflowerblue&quot;, &quot;fillOpacity&quot;: 0.6, &quot;fillRule&quot;: &quot;evenodd&quot;, &quot;lineCap&quot;: &quot;round&quot;, &quot;lineJoin&quot;: &quot;round&quot;, &quot;opacity&quot;: 1, &quot;radius&quot;: 6, &quot;stroke&quot;: false, &quot;weight&quot;: 3}\n",
       "            ).addTo(map_65086584e849e701b7a03696943cbf61);\n",
       "        \n",
       "    \n",
       "            var circle_marker_35239e94461e947f8787f3562c089b18 = L.circleMarker(\n",
       "                [-34.60028648, -58.38199706],\n",
       "                {&quot;bubblingMouseEvents&quot;: true, &quot;color&quot;: &quot;cornflowerblue&quot;, &quot;dashArray&quot;: null, &quot;dashOffset&quot;: null, &quot;fill&quot;: true, &quot;fillColor&quot;: &quot;cornflowerblue&quot;, &quot;fillOpacity&quot;: 0.6, &quot;fillRule&quot;: &quot;evenodd&quot;, &quot;lineCap&quot;: &quot;round&quot;, &quot;lineJoin&quot;: &quot;round&quot;, &quot;opacity&quot;: 1, &quot;radius&quot;: 6, &quot;stroke&quot;: false, &quot;weight&quot;: 3}\n",
       "            ).addTo(map_65086584e849e701b7a03696943cbf61);\n",
       "        \n",
       "    \n",
       "            var circle_marker_df8f870a7343600773331ddd9b170d0a = L.circleMarker(\n",
       "                [-34.65633192, -58.42190745],\n",
       "                {&quot;bubblingMouseEvents&quot;: true, &quot;color&quot;: &quot;cornflowerblue&quot;, &quot;dashArray&quot;: null, &quot;dashOffset&quot;: null, &quot;fill&quot;: true, &quot;fillColor&quot;: &quot;cornflowerblue&quot;, &quot;fillOpacity&quot;: 0.6, &quot;fillRule&quot;: &quot;evenodd&quot;, &quot;lineCap&quot;: &quot;round&quot;, &quot;lineJoin&quot;: &quot;round&quot;, &quot;opacity&quot;: 1, &quot;radius&quot;: 6, &quot;stroke&quot;: false, &quot;weight&quot;: 3}\n",
       "            ).addTo(map_65086584e849e701b7a03696943cbf61);\n",
       "        \n",
       "    \n",
       "            var circle_marker_a56eb648680ec8535492e22bf2091d23 = L.circleMarker(\n",
       "                [-34.59912758, -58.4376002],\n",
       "                {&quot;bubblingMouseEvents&quot;: true, &quot;color&quot;: &quot;cornflowerblue&quot;, &quot;dashArray&quot;: null, &quot;dashOffset&quot;: null, &quot;fill&quot;: true, &quot;fillColor&quot;: &quot;cornflowerblue&quot;, &quot;fillOpacity&quot;: 0.6, &quot;fillRule&quot;: &quot;evenodd&quot;, &quot;lineCap&quot;: &quot;round&quot;, &quot;lineJoin&quot;: &quot;round&quot;, &quot;opacity&quot;: 1, &quot;radius&quot;: 6, &quot;stroke&quot;: false, &quot;weight&quot;: 3}\n",
       "            ).addTo(map_65086584e849e701b7a03696943cbf61);\n",
       "        \n",
       "    \n",
       "            var circle_marker_3897296b8ff62889833e6eeaea23939b = L.circleMarker(\n",
       "                [-34.60183884, -58.40480504],\n",
       "                {&quot;bubblingMouseEvents&quot;: true, &quot;color&quot;: &quot;cornflowerblue&quot;, &quot;dashArray&quot;: null, &quot;dashOffset&quot;: null, &quot;fill&quot;: true, &quot;fillColor&quot;: &quot;cornflowerblue&quot;, &quot;fillOpacity&quot;: 0.6, &quot;fillRule&quot;: &quot;evenodd&quot;, &quot;lineCap&quot;: &quot;round&quot;, &quot;lineJoin&quot;: &quot;round&quot;, &quot;opacity&quot;: 1, &quot;radius&quot;: 6, &quot;stroke&quot;: false, &quot;weight&quot;: 3}\n",
       "            ).addTo(map_65086584e849e701b7a03696943cbf61);\n",
       "        \n",
       "    \n",
       "            var circle_marker_38aa2affc6e8ff016087831ae60ee35f = L.circleMarker(\n",
       "                [-34.67926929, -58.46622247],\n",
       "                {&quot;bubblingMouseEvents&quot;: true, &quot;color&quot;: &quot;cornflowerblue&quot;, &quot;dashArray&quot;: null, &quot;dashOffset&quot;: null, &quot;fill&quot;: true, &quot;fillColor&quot;: &quot;cornflowerblue&quot;, &quot;fillOpacity&quot;: 0.6, &quot;fillRule&quot;: &quot;evenodd&quot;, &quot;lineCap&quot;: &quot;round&quot;, &quot;lineJoin&quot;: &quot;round&quot;, &quot;opacity&quot;: 1, &quot;radius&quot;: 6, &quot;stroke&quot;: false, &quot;weight&quot;: 3}\n",
       "            ).addTo(map_65086584e849e701b7a03696943cbf61);\n",
       "        \n",
       "    \n",
       "            var circle_marker_cacddb2619da130d8d3056347065168e = L.circleMarker(\n",
       "                [-34.60207186, -58.43220014],\n",
       "                {&quot;bubblingMouseEvents&quot;: true, &quot;color&quot;: &quot;cornflowerblue&quot;, &quot;dashArray&quot;: null, &quot;dashOffset&quot;: null, &quot;fill&quot;: true, &quot;fillColor&quot;: &quot;cornflowerblue&quot;, &quot;fillOpacity&quot;: 0.6, &quot;fillRule&quot;: &quot;evenodd&quot;, &quot;lineCap&quot;: &quot;round&quot;, &quot;lineJoin&quot;: &quot;round&quot;, &quot;opacity&quot;: 1, &quot;radius&quot;: 6, &quot;stroke&quot;: false, &quot;weight&quot;: 3}\n",
       "            ).addTo(map_65086584e849e701b7a03696943cbf61);\n",
       "        \n",
       "    \n",
       "            var circle_marker_d89bd2f754bb661ee89478db2d2ce7d5 = L.circleMarker(\n",
       "                [-34.60221948, -58.44248936],\n",
       "                {&quot;bubblingMouseEvents&quot;: true, &quot;color&quot;: &quot;cornflowerblue&quot;, &quot;dashArray&quot;: null, &quot;dashOffset&quot;: null, &quot;fill&quot;: true, &quot;fillColor&quot;: &quot;cornflowerblue&quot;, &quot;fillOpacity&quot;: 0.6, &quot;fillRule&quot;: &quot;evenodd&quot;, &quot;lineCap&quot;: &quot;round&quot;, &quot;lineJoin&quot;: &quot;round&quot;, &quot;opacity&quot;: 1, &quot;radius&quot;: 6, &quot;stroke&quot;: false, &quot;weight&quot;: 3}\n",
       "            ).addTo(map_65086584e849e701b7a03696943cbf61);\n",
       "        \n",
       "    \n",
       "            var circle_marker_5b62521a178064070ca7c5f74a5a3cfc = L.circleMarker(\n",
       "                [-34.60256036, -58.38188582],\n",
       "                {&quot;bubblingMouseEvents&quot;: true, &quot;color&quot;: &quot;cornflowerblue&quot;, &quot;dashArray&quot;: null, &quot;dashOffset&quot;: null, &quot;fill&quot;: true, &quot;fillColor&quot;: &quot;cornflowerblue&quot;, &quot;fillOpacity&quot;: 0.6, &quot;fillRule&quot;: &quot;evenodd&quot;, &quot;lineCap&quot;: &quot;round&quot;, &quot;lineJoin&quot;: &quot;round&quot;, &quot;opacity&quot;: 1, &quot;radius&quot;: 6, &quot;stroke&quot;: false, &quot;weight&quot;: 3}\n",
       "            ).addTo(map_65086584e849e701b7a03696943cbf61);\n",
       "        \n",
       "    \n",
       "            var circle_marker_25f5f689aa0939aa13af27359f55230c = L.circleMarker(\n",
       "                [-34.60283208, -58.36819005],\n",
       "                {&quot;bubblingMouseEvents&quot;: true, &quot;color&quot;: &quot;cornflowerblue&quot;, &quot;dashArray&quot;: null, &quot;dashOffset&quot;: null, &quot;fill&quot;: true, &quot;fillColor&quot;: &quot;cornflowerblue&quot;, &quot;fillOpacity&quot;: 0.6, &quot;fillRule&quot;: &quot;evenodd&quot;, &quot;lineCap&quot;: &quot;round&quot;, &quot;lineJoin&quot;: &quot;round&quot;, &quot;opacity&quot;: 1, &quot;radius&quot;: 6, &quot;stroke&quot;: false, &quot;weight&quot;: 3}\n",
       "            ).addTo(map_65086584e849e701b7a03696943cbf61);\n",
       "        \n",
       "    \n",
       "            var circle_marker_d91f06a51b23fe6bd06e2e32dc0d2faf = L.circleMarker(\n",
       "                [-34.60325478, -58.52466448],\n",
       "                {&quot;bubblingMouseEvents&quot;: true, &quot;color&quot;: &quot;cornflowerblue&quot;, &quot;dashArray&quot;: null, &quot;dashOffset&quot;: null, &quot;fill&quot;: true, &quot;fillColor&quot;: &quot;cornflowerblue&quot;, &quot;fillOpacity&quot;: 0.6, &quot;fillRule&quot;: &quot;evenodd&quot;, &quot;lineCap&quot;: &quot;round&quot;, &quot;lineJoin&quot;: &quot;round&quot;, &quot;opacity&quot;: 1, &quot;radius&quot;: 6, &quot;stroke&quot;: false, &quot;weight&quot;: 3}\n",
       "            ).addTo(map_65086584e849e701b7a03696943cbf61);\n",
       "        \n",
       "    \n",
       "            var circle_marker_071cc014a8c753f5764ab51534e8010f = L.circleMarker(\n",
       "                [-34.60356211, -58.46210891],\n",
       "                {&quot;bubblingMouseEvents&quot;: true, &quot;color&quot;: &quot;cornflowerblue&quot;, &quot;dashArray&quot;: null, &quot;dashOffset&quot;: null, &quot;fill&quot;: true, &quot;fillColor&quot;: &quot;cornflowerblue&quot;, &quot;fillOpacity&quot;: 0.6, &quot;fillRule&quot;: &quot;evenodd&quot;, &quot;lineCap&quot;: &quot;round&quot;, &quot;lineJoin&quot;: &quot;round&quot;, &quot;opacity&quot;: 1, &quot;radius&quot;: 6, &quot;stroke&quot;: false, &quot;weight&quot;: 3}\n",
       "            ).addTo(map_65086584e849e701b7a03696943cbf61);\n",
       "        \n",
       "    \n",
       "            var circle_marker_c06e84f0ce271b461c0d66071e45f10b = L.circleMarker(\n",
       "                [-34.60373898, -58.38220928],\n",
       "                {&quot;bubblingMouseEvents&quot;: true, &quot;color&quot;: &quot;cornflowerblue&quot;, &quot;dashArray&quot;: null, &quot;dashOffset&quot;: null, &quot;fill&quot;: true, &quot;fillColor&quot;: &quot;cornflowerblue&quot;, &quot;fillOpacity&quot;: 0.6, &quot;fillRule&quot;: &quot;evenodd&quot;, &quot;lineCap&quot;: &quot;round&quot;, &quot;lineJoin&quot;: &quot;round&quot;, &quot;opacity&quot;: 1, &quot;radius&quot;: 6, &quot;stroke&quot;: false, &quot;weight&quot;: 3}\n",
       "            ).addTo(map_65086584e849e701b7a03696943cbf61);\n",
       "        \n",
       "    \n",
       "            var circle_marker_d51eb1ac3c57cb6394a6ceda1133b3cb = L.circleMarker(\n",
       "                [-34.60395657, -58.44860217],\n",
       "                {&quot;bubblingMouseEvents&quot;: true, &quot;color&quot;: &quot;cornflowerblue&quot;, &quot;dashArray&quot;: null, &quot;dashOffset&quot;: null, &quot;fill&quot;: true, &quot;fillColor&quot;: &quot;cornflowerblue&quot;, &quot;fillOpacity&quot;: 0.6, &quot;fillRule&quot;: &quot;evenodd&quot;, &quot;lineCap&quot;: &quot;round&quot;, &quot;lineJoin&quot;: &quot;round&quot;, &quot;opacity&quot;: 1, &quot;radius&quot;: 6, &quot;stroke&quot;: false, &quot;weight&quot;: 3}\n",
       "            ).addTo(map_65086584e849e701b7a03696943cbf61);\n",
       "        \n",
       "    \n",
       "            var circle_marker_b19bb275ccac8e9410d7fa96aad4dbb8 = L.circleMarker(\n",
       "                [-34.60409469, -58.46002142],\n",
       "                {&quot;bubblingMouseEvents&quot;: true, &quot;color&quot;: &quot;cornflowerblue&quot;, &quot;dashArray&quot;: null, &quot;dashOffset&quot;: null, &quot;fill&quot;: true, &quot;fillColor&quot;: &quot;cornflowerblue&quot;, &quot;fillOpacity&quot;: 0.6, &quot;fillRule&quot;: &quot;evenodd&quot;, &quot;lineCap&quot;: &quot;round&quot;, &quot;lineJoin&quot;: &quot;round&quot;, &quot;opacity&quot;: 1, &quot;radius&quot;: 6, &quot;stroke&quot;: false, &quot;weight&quot;: 3}\n",
       "            ).addTo(map_65086584e849e701b7a03696943cbf61);\n",
       "        \n",
       "    \n",
       "            var circle_marker_693a791550ee3e4cb02d2e51d41f997c = L.circleMarker(\n",
       "                [-34.60425669, -58.40781467],\n",
       "                {&quot;bubblingMouseEvents&quot;: true, &quot;color&quot;: &quot;cornflowerblue&quot;, &quot;dashArray&quot;: null, &quot;dashOffset&quot;: null, &quot;fill&quot;: true, &quot;fillColor&quot;: &quot;cornflowerblue&quot;, &quot;fillOpacity&quot;: 0.6, &quot;fillRule&quot;: &quot;evenodd&quot;, &quot;lineCap&quot;: &quot;round&quot;, &quot;lineJoin&quot;: &quot;round&quot;, &quot;opacity&quot;: 1, &quot;radius&quot;: 6, &quot;stroke&quot;: false, &quot;weight&quot;: 3}\n",
       "            ).addTo(map_65086584e849e701b7a03696943cbf61);\n",
       "        \n",
       "    \n",
       "            var circle_marker_889b0ad87890638e307ef4568c8b9f39 = L.circleMarker(\n",
       "                [-34.60443527, -58.39228965],\n",
       "                {&quot;bubblingMouseEvents&quot;: true, &quot;color&quot;: &quot;cornflowerblue&quot;, &quot;dashArray&quot;: null, &quot;dashOffset&quot;: null, &quot;fill&quot;: true, &quot;fillColor&quot;: &quot;cornflowerblue&quot;, &quot;fillOpacity&quot;: 0.6, &quot;fillRule&quot;: &quot;evenodd&quot;, &quot;lineCap&quot;: &quot;round&quot;, &quot;lineJoin&quot;: &quot;round&quot;, &quot;opacity&quot;: 1, &quot;radius&quot;: 6, &quot;stroke&quot;: false, &quot;weight&quot;: 3}\n",
       "            ).addTo(map_65086584e849e701b7a03696943cbf61);\n",
       "        \n",
       "    \n",
       "            var circle_marker_a09dbe80b8735a7e5becaed9bb96d998 = L.circleMarker(\n",
       "                [-34.5991594, -58.38403232],\n",
       "                {&quot;bubblingMouseEvents&quot;: true, &quot;color&quot;: &quot;cornflowerblue&quot;, &quot;dashArray&quot;: null, &quot;dashOffset&quot;: null, &quot;fill&quot;: true, &quot;fillColor&quot;: &quot;cornflowerblue&quot;, &quot;fillOpacity&quot;: 0.6, &quot;fillRule&quot;: &quot;evenodd&quot;, &quot;lineCap&quot;: &quot;round&quot;, &quot;lineJoin&quot;: &quot;round&quot;, &quot;opacity&quot;: 1, &quot;radius&quot;: 6, &quot;stroke&quot;: false, &quot;weight&quot;: 3}\n",
       "            ).addTo(map_65086584e849e701b7a03696943cbf61);\n",
       "        \n",
       "    \n",
       "            var circle_marker_1b8b751c2d39e514aad8acfdfc691333 = L.circleMarker(\n",
       "                [-34.68010798, -58.49530249],\n",
       "                {&quot;bubblingMouseEvents&quot;: true, &quot;color&quot;: &quot;cornflowerblue&quot;, &quot;dashArray&quot;: null, &quot;dashOffset&quot;: null, &quot;fill&quot;: true, &quot;fillColor&quot;: &quot;cornflowerblue&quot;, &quot;fillOpacity&quot;: 0.6, &quot;fillRule&quot;: &quot;evenodd&quot;, &quot;lineCap&quot;: &quot;round&quot;, &quot;lineJoin&quot;: &quot;round&quot;, &quot;opacity&quot;: 1, &quot;radius&quot;: 6, &quot;stroke&quot;: false, &quot;weight&quot;: 3}\n",
       "            ).addTo(map_65086584e849e701b7a03696943cbf61);\n",
       "        \n",
       "    \n",
       "            var circle_marker_331a3e61b39888e797b1e2a69df0f1f2 = L.circleMarker(\n",
       "                [-34.59879316, -58.37133616],\n",
       "                {&quot;bubblingMouseEvents&quot;: true, &quot;color&quot;: &quot;cornflowerblue&quot;, &quot;dashArray&quot;: null, &quot;dashOffset&quot;: null, &quot;fill&quot;: true, &quot;fillColor&quot;: &quot;cornflowerblue&quot;, &quot;fillOpacity&quot;: 0.6, &quot;fillRule&quot;: &quot;evenodd&quot;, &quot;lineCap&quot;: &quot;round&quot;, &quot;lineJoin&quot;: &quot;round&quot;, &quot;opacity&quot;: 1, &quot;radius&quot;: 6, &quot;stroke&quot;: false, &quot;weight&quot;: 3}\n",
       "            ).addTo(map_65086584e849e701b7a03696943cbf61);\n",
       "        \n",
       "    \n",
       "            var circle_marker_77defe9bb122a8295c7d3741f943a7ef = L.circleMarker(\n",
       "                [-34.68003614, -58.45064148],\n",
       "                {&quot;bubblingMouseEvents&quot;: true, &quot;color&quot;: &quot;cornflowerblue&quot;, &quot;dashArray&quot;: null, &quot;dashOffset&quot;: null, &quot;fill&quot;: true, &quot;fillColor&quot;: &quot;cornflowerblue&quot;, &quot;fillOpacity&quot;: 0.6, &quot;fillRule&quot;: &quot;evenodd&quot;, &quot;lineCap&quot;: &quot;round&quot;, &quot;lineJoin&quot;: &quot;round&quot;, &quot;opacity&quot;: 1, &quot;radius&quot;: 6, &quot;stroke&quot;: false, &quot;weight&quot;: 3}\n",
       "            ).addTo(map_65086584e849e701b7a03696943cbf61);\n",
       "        \n",
       "    \n",
       "            var circle_marker_e6bdf7a1e3b9cacacef168784dcdfc04 = L.circleMarker(\n",
       "                [-34.59411677, -58.41829559],\n",
       "                {&quot;bubblingMouseEvents&quot;: true, &quot;color&quot;: &quot;cornflowerblue&quot;, &quot;dashArray&quot;: null, &quot;dashOffset&quot;: null, &quot;fill&quot;: true, &quot;fillColor&quot;: &quot;cornflowerblue&quot;, &quot;fillOpacity&quot;: 0.6, &quot;fillRule&quot;: &quot;evenodd&quot;, &quot;lineCap&quot;: &quot;round&quot;, &quot;lineJoin&quot;: &quot;round&quot;, &quot;opacity&quot;: 1, &quot;radius&quot;: 6, &quot;stroke&quot;: false, &quot;weight&quot;: 3}\n",
       "            ).addTo(map_65086584e849e701b7a03696943cbf61);\n",
       "        \n",
       "    \n",
       "            var circle_marker_cd0da95ea46784ef71ee74f69f219b43 = L.circleMarker(\n",
       "                [-34.5943016, -58.38277479],\n",
       "                {&quot;bubblingMouseEvents&quot;: true, &quot;color&quot;: &quot;cornflowerblue&quot;, &quot;dashArray&quot;: null, &quot;dashOffset&quot;: null, &quot;fill&quot;: true, &quot;fillColor&quot;: &quot;cornflowerblue&quot;, &quot;fillOpacity&quot;: 0.6, &quot;fillRule&quot;: &quot;evenodd&quot;, &quot;lineCap&quot;: &quot;round&quot;, &quot;lineJoin&quot;: &quot;round&quot;, &quot;opacity&quot;: 1, &quot;radius&quot;: 6, &quot;stroke&quot;: false, &quot;weight&quot;: 3}\n",
       "            ).addTo(map_65086584e849e701b7a03696943cbf61);\n",
       "        \n",
       "    \n",
       "            var circle_marker_0e4f79b4e50af1c9f3b8d2a322eb8fe0 = L.circleMarker(\n",
       "                [-34.59473294, -58.41264127],\n",
       "                {&quot;bubblingMouseEvents&quot;: true, &quot;color&quot;: &quot;cornflowerblue&quot;, &quot;dashArray&quot;: null, &quot;dashOffset&quot;: null, &quot;fill&quot;: true, &quot;fillColor&quot;: &quot;cornflowerblue&quot;, &quot;fillOpacity&quot;: 0.6, &quot;fillRule&quot;: &quot;evenodd&quot;, &quot;lineCap&quot;: &quot;round&quot;, &quot;lineJoin&quot;: &quot;round&quot;, &quot;opacity&quot;: 1, &quot;radius&quot;: 6, &quot;stroke&quot;: false, &quot;weight&quot;: 3}\n",
       "            ).addTo(map_65086584e849e701b7a03696943cbf61);\n",
       "        \n",
       "    \n",
       "            var circle_marker_3574b1c104366ec1c005427d9be9683f = L.circleMarker(\n",
       "                [-34.5947736, -58.44399875],\n",
       "                {&quot;bubblingMouseEvents&quot;: true, &quot;color&quot;: &quot;cornflowerblue&quot;, &quot;dashArray&quot;: null, &quot;dashOffset&quot;: null, &quot;fill&quot;: true, &quot;fillColor&quot;: &quot;cornflowerblue&quot;, &quot;fillOpacity&quot;: 0.6, &quot;fillRule&quot;: &quot;evenodd&quot;, &quot;lineCap&quot;: &quot;round&quot;, &quot;lineJoin&quot;: &quot;round&quot;, &quot;opacity&quot;: 1, &quot;radius&quot;: 6, &quot;stroke&quot;: false, &quot;weight&quot;: 3}\n",
       "            ).addTo(map_65086584e849e701b7a03696943cbf61);\n",
       "        \n",
       "    \n",
       "            var circle_marker_00e6029febe068a175dc3eb9e69dfa47 = L.circleMarker(\n",
       "                [-34.59484504, -58.46536113],\n",
       "                {&quot;bubblingMouseEvents&quot;: true, &quot;color&quot;: &quot;cornflowerblue&quot;, &quot;dashArray&quot;: null, &quot;dashOffset&quot;: null, &quot;fill&quot;: true, &quot;fillColor&quot;: &quot;cornflowerblue&quot;, &quot;fillOpacity&quot;: 0.6, &quot;fillRule&quot;: &quot;evenodd&quot;, &quot;lineCap&quot;: &quot;round&quot;, &quot;lineJoin&quot;: &quot;round&quot;, &quot;opacity&quot;: 1, &quot;radius&quot;: 6, &quot;stroke&quot;: false, &quot;weight&quot;: 3}\n",
       "            ).addTo(map_65086584e849e701b7a03696943cbf61);\n",
       "        \n",
       "    \n",
       "            var circle_marker_17ff23e57148aa1db4413ac8e2b07c21 = L.circleMarker(\n",
       "                [-34.59485488, -58.4291709],\n",
       "                {&quot;bubblingMouseEvents&quot;: true, &quot;color&quot;: &quot;cornflowerblue&quot;, &quot;dashArray&quot;: null, &quot;dashOffset&quot;: null, &quot;fill&quot;: true, &quot;fillColor&quot;: &quot;cornflowerblue&quot;, &quot;fillOpacity&quot;: 0.6, &quot;fillRule&quot;: &quot;evenodd&quot;, &quot;lineCap&quot;: &quot;round&quot;, &quot;lineJoin&quot;: &quot;round&quot;, &quot;opacity&quot;: 1, &quot;radius&quot;: 6, &quot;stroke&quot;: false, &quot;weight&quot;: 3}\n",
       "            ).addTo(map_65086584e849e701b7a03696943cbf61);\n",
       "        \n",
       "    \n",
       "            var circle_marker_66d67fc0f6e9a4e0b9167509c71f4591 = L.circleMarker(\n",
       "                [-34.59488319, -58.4145159],\n",
       "                {&quot;bubblingMouseEvents&quot;: true, &quot;color&quot;: &quot;cornflowerblue&quot;, &quot;dashArray&quot;: null, &quot;dashOffset&quot;: null, &quot;fill&quot;: true, &quot;fillColor&quot;: &quot;cornflowerblue&quot;, &quot;fillOpacity&quot;: 0.6, &quot;fillRule&quot;: &quot;evenodd&quot;, &quot;lineCap&quot;: &quot;round&quot;, &quot;lineJoin&quot;: &quot;round&quot;, &quot;opacity&quot;: 1, &quot;radius&quot;: 6, &quot;stroke&quot;: false, &quot;weight&quot;: 3}\n",
       "            ).addTo(map_65086584e849e701b7a03696943cbf61);\n",
       "        \n",
       "    \n",
       "            var circle_marker_7829ec83be3cddc2d06195117d6004a1 = L.circleMarker(\n",
       "                [-34.59511714, -58.39990285],\n",
       "                {&quot;bubblingMouseEvents&quot;: true, &quot;color&quot;: &quot;cornflowerblue&quot;, &quot;dashArray&quot;: null, &quot;dashOffset&quot;: null, &quot;fill&quot;: true, &quot;fillColor&quot;: &quot;cornflowerblue&quot;, &quot;fillOpacity&quot;: 0.6, &quot;fillRule&quot;: &quot;evenodd&quot;, &quot;lineCap&quot;: &quot;round&quot;, &quot;lineJoin&quot;: &quot;round&quot;, &quot;opacity&quot;: 1, &quot;radius&quot;: 6, &quot;stroke&quot;: false, &quot;weight&quot;: 3}\n",
       "            ).addTo(map_65086584e849e701b7a03696943cbf61);\n",
       "        \n",
       "    \n",
       "            var circle_marker_9d3f93566c54b7cce60fcb927882bdfc = L.circleMarker(\n",
       "                [-34.59522198, -58.40021675],\n",
       "                {&quot;bubblingMouseEvents&quot;: true, &quot;color&quot;: &quot;cornflowerblue&quot;, &quot;dashArray&quot;: null, &quot;dashOffset&quot;: null, &quot;fill&quot;: true, &quot;fillColor&quot;: &quot;cornflowerblue&quot;, &quot;fillOpacity&quot;: 0.6, &quot;fillRule&quot;: &quot;evenodd&quot;, &quot;lineCap&quot;: &quot;round&quot;, &quot;lineJoin&quot;: &quot;round&quot;, &quot;opacity&quot;: 1, &quot;radius&quot;: 6, &quot;stroke&quot;: false, &quot;weight&quot;: 3}\n",
       "            ).addTo(map_65086584e849e701b7a03696943cbf61);\n",
       "        \n",
       "    \n",
       "            var circle_marker_6165d1743a3640b8996ae9d543995fec = L.circleMarker(\n",
       "                [-34.59546519, -58.51713095],\n",
       "                {&quot;bubblingMouseEvents&quot;: true, &quot;color&quot;: &quot;cornflowerblue&quot;, &quot;dashArray&quot;: null, &quot;dashOffset&quot;: null, &quot;fill&quot;: true, &quot;fillColor&quot;: &quot;cornflowerblue&quot;, &quot;fillOpacity&quot;: 0.6, &quot;fillRule&quot;: &quot;evenodd&quot;, &quot;lineCap&quot;: &quot;round&quot;, &quot;lineJoin&quot;: &quot;round&quot;, &quot;opacity&quot;: 1, &quot;radius&quot;: 6, &quot;stroke&quot;: false, &quot;weight&quot;: 3}\n",
       "            ).addTo(map_65086584e849e701b7a03696943cbf61);\n",
       "        \n",
       "    \n",
       "            var circle_marker_bd888112ad36430fabfae585fdf96804 = L.circleMarker(\n",
       "                [-34.59559816, -58.44551437],\n",
       "                {&quot;bubblingMouseEvents&quot;: true, &quot;color&quot;: &quot;cornflowerblue&quot;, &quot;dashArray&quot;: null, &quot;dashOffset&quot;: null, &quot;fill&quot;: true, &quot;fillColor&quot;: &quot;cornflowerblue&quot;, &quot;fillOpacity&quot;: 0.6, &quot;fillRule&quot;: &quot;evenodd&quot;, &quot;lineCap&quot;: &quot;round&quot;, &quot;lineJoin&quot;: &quot;round&quot;, &quot;opacity&quot;: 1, &quot;radius&quot;: 6, &quot;stroke&quot;: false, &quot;weight&quot;: 3}\n",
       "            ).addTo(map_65086584e849e701b7a03696943cbf61);\n",
       "        \n",
       "    \n",
       "            var circle_marker_a18ad200e8463167c4755283d67126d2 = L.circleMarker(\n",
       "                [-34.59564871, -58.39144148],\n",
       "                {&quot;bubblingMouseEvents&quot;: true, &quot;color&quot;: &quot;cornflowerblue&quot;, &quot;dashArray&quot;: null, &quot;dashOffset&quot;: null, &quot;fill&quot;: true, &quot;fillColor&quot;: &quot;cornflowerblue&quot;, &quot;fillOpacity&quot;: 0.6, &quot;fillRule&quot;: &quot;evenodd&quot;, &quot;lineCap&quot;: &quot;round&quot;, &quot;lineJoin&quot;: &quot;round&quot;, &quot;opacity&quot;: 1, &quot;radius&quot;: 6, &quot;stroke&quot;: false, &quot;weight&quot;: 3}\n",
       "            ).addTo(map_65086584e849e701b7a03696943cbf61);\n",
       "        \n",
       "    \n",
       "            var circle_marker_e7260634cd742732d69e095e4d0d9288 = L.circleMarker(\n",
       "                [-34.59573848, -58.37697717],\n",
       "                {&quot;bubblingMouseEvents&quot;: true, &quot;color&quot;: &quot;cornflowerblue&quot;, &quot;dashArray&quot;: null, &quot;dashOffset&quot;: null, &quot;fill&quot;: true, &quot;fillColor&quot;: &quot;cornflowerblue&quot;, &quot;fillOpacity&quot;: 0.6, &quot;fillRule&quot;: &quot;evenodd&quot;, &quot;lineCap&quot;: &quot;round&quot;, &quot;lineJoin&quot;: &quot;round&quot;, &quot;opacity&quot;: 1, &quot;radius&quot;: 6, &quot;stroke&quot;: false, &quot;weight&quot;: 3}\n",
       "            ).addTo(map_65086584e849e701b7a03696943cbf61);\n",
       "        \n",
       "    \n",
       "            var circle_marker_bfde6236db54cb7e3c2fb8331ba26373 = L.circleMarker(\n",
       "                [-34.59626814, -58.47032551],\n",
       "                {&quot;bubblingMouseEvents&quot;: true, &quot;color&quot;: &quot;cornflowerblue&quot;, &quot;dashArray&quot;: null, &quot;dashOffset&quot;: null, &quot;fill&quot;: true, &quot;fillColor&quot;: &quot;cornflowerblue&quot;, &quot;fillOpacity&quot;: 0.6, &quot;fillRule&quot;: &quot;evenodd&quot;, &quot;lineCap&quot;: &quot;round&quot;, &quot;lineJoin&quot;: &quot;round&quot;, &quot;opacity&quot;: 1, &quot;radius&quot;: 6, &quot;stroke&quot;: false, &quot;weight&quot;: 3}\n",
       "            ).addTo(map_65086584e849e701b7a03696943cbf61);\n",
       "        \n",
       "    \n",
       "            var circle_marker_59438c6d67743bd62b6fd0ed8c60adb7 = L.circleMarker(\n",
       "                [-34.59635137, -58.44259166],\n",
       "                {&quot;bubblingMouseEvents&quot;: true, &quot;color&quot;: &quot;cornflowerblue&quot;, &quot;dashArray&quot;: null, &quot;dashOffset&quot;: null, &quot;fill&quot;: true, &quot;fillColor&quot;: &quot;cornflowerblue&quot;, &quot;fillOpacity&quot;: 0.6, &quot;fillRule&quot;: &quot;evenodd&quot;, &quot;lineCap&quot;: &quot;round&quot;, &quot;lineJoin&quot;: &quot;round&quot;, &quot;opacity&quot;: 1, &quot;radius&quot;: 6, &quot;stroke&quot;: false, &quot;weight&quot;: 3}\n",
       "            ).addTo(map_65086584e849e701b7a03696943cbf61);\n",
       "        \n",
       "    \n",
       "            var circle_marker_ab29b1b915f88acfcfa8b7da6e0bbe6b = L.circleMarker(\n",
       "                [-34.59694755, -58.49471482],\n",
       "                {&quot;bubblingMouseEvents&quot;: true, &quot;color&quot;: &quot;cornflowerblue&quot;, &quot;dashArray&quot;: null, &quot;dashOffset&quot;: null, &quot;fill&quot;: true, &quot;fillColor&quot;: &quot;cornflowerblue&quot;, &quot;fillOpacity&quot;: 0.6, &quot;fillRule&quot;: &quot;evenodd&quot;, &quot;lineCap&quot;: &quot;round&quot;, &quot;lineJoin&quot;: &quot;round&quot;, &quot;opacity&quot;: 1, &quot;radius&quot;: 6, &quot;stroke&quot;: false, &quot;weight&quot;: 3}\n",
       "            ).addTo(map_65086584e849e701b7a03696943cbf61);\n",
       "        \n",
       "    \n",
       "            var circle_marker_882623d7b47d20d2f14514466338dcb9 = L.circleMarker(\n",
       "                [-34.59703502, -58.49613012],\n",
       "                {&quot;bubblingMouseEvents&quot;: true, &quot;color&quot;: &quot;cornflowerblue&quot;, &quot;dashArray&quot;: null, &quot;dashOffset&quot;: null, &quot;fill&quot;: true, &quot;fillColor&quot;: &quot;cornflowerblue&quot;, &quot;fillOpacity&quot;: 0.6, &quot;fillRule&quot;: &quot;evenodd&quot;, &quot;lineCap&quot;: &quot;round&quot;, &quot;lineJoin&quot;: &quot;round&quot;, &quot;opacity&quot;: 1, &quot;radius&quot;: 6, &quot;stroke&quot;: false, &quot;weight&quot;: 3}\n",
       "            ).addTo(map_65086584e849e701b7a03696943cbf61);\n",
       "        \n",
       "    \n",
       "            var circle_marker_cf6a567e0033446a9a6bdf005abbcfbd = L.circleMarker(\n",
       "                [-34.59717942, -58.37202621],\n",
       "                {&quot;bubblingMouseEvents&quot;: true, &quot;color&quot;: &quot;cornflowerblue&quot;, &quot;dashArray&quot;: null, &quot;dashOffset&quot;: null, &quot;fill&quot;: true, &quot;fillColor&quot;: &quot;cornflowerblue&quot;, &quot;fillOpacity&quot;: 0.6, &quot;fillRule&quot;: &quot;evenodd&quot;, &quot;lineCap&quot;: &quot;round&quot;, &quot;lineJoin&quot;: &quot;round&quot;, &quot;opacity&quot;: 1, &quot;radius&quot;: 6, &quot;stroke&quot;: false, &quot;weight&quot;: 3}\n",
       "            ).addTo(map_65086584e849e701b7a03696943cbf61);\n",
       "        \n",
       "    \n",
       "            var circle_marker_8bf81844b20862a231da251b2bde3e91 = L.circleMarker(\n",
       "                [-34.59718073, -58.49121672],\n",
       "                {&quot;bubblingMouseEvents&quot;: true, &quot;color&quot;: &quot;cornflowerblue&quot;, &quot;dashArray&quot;: null, &quot;dashOffset&quot;: null, &quot;fill&quot;: true, &quot;fillColor&quot;: &quot;cornflowerblue&quot;, &quot;fillOpacity&quot;: 0.6, &quot;fillRule&quot;: &quot;evenodd&quot;, &quot;lineCap&quot;: &quot;round&quot;, &quot;lineJoin&quot;: &quot;round&quot;, &quot;opacity&quot;: 1, &quot;radius&quot;: 6, &quot;stroke&quot;: false, &quot;weight&quot;: 3}\n",
       "            ).addTo(map_65086584e849e701b7a03696943cbf61);\n",
       "        \n",
       "    \n",
       "            var circle_marker_cd338dfead73157f9e1333643b3bdbe2 = L.circleMarker(\n",
       "                [-34.59724326, -58.44368628],\n",
       "                {&quot;bubblingMouseEvents&quot;: true, &quot;color&quot;: &quot;cornflowerblue&quot;, &quot;dashArray&quot;: null, &quot;dashOffset&quot;: null, &quot;fill&quot;: true, &quot;fillColor&quot;: &quot;cornflowerblue&quot;, &quot;fillOpacity&quot;: 0.6, &quot;fillRule&quot;: &quot;evenodd&quot;, &quot;lineCap&quot;: &quot;round&quot;, &quot;lineJoin&quot;: &quot;round&quot;, &quot;opacity&quot;: 1, &quot;radius&quot;: 6, &quot;stroke&quot;: false, &quot;weight&quot;: 3}\n",
       "            ).addTo(map_65086584e849e701b7a03696943cbf61);\n",
       "        \n",
       "    \n",
       "            var circle_marker_1961071f3225e8882eea78b06402ffae = L.circleMarker(\n",
       "                [-34.5972499, -58.49018543],\n",
       "                {&quot;bubblingMouseEvents&quot;: true, &quot;color&quot;: &quot;cornflowerblue&quot;, &quot;dashArray&quot;: null, &quot;dashOffset&quot;: null, &quot;fill&quot;: true, &quot;fillColor&quot;: &quot;cornflowerblue&quot;, &quot;fillOpacity&quot;: 0.6, &quot;fillRule&quot;: &quot;evenodd&quot;, &quot;lineCap&quot;: &quot;round&quot;, &quot;lineJoin&quot;: &quot;round&quot;, &quot;opacity&quot;: 1, &quot;radius&quot;: 6, &quot;stroke&quot;: false, &quot;weight&quot;: 3}\n",
       "            ).addTo(map_65086584e849e701b7a03696943cbf61);\n",
       "        \n",
       "    \n",
       "            var circle_marker_89b9a46750ae02fb6599955c63d3c9a3 = L.circleMarker(\n",
       "                [-34.59774487, -58.4233693],\n",
       "                {&quot;bubblingMouseEvents&quot;: true, &quot;color&quot;: &quot;cornflowerblue&quot;, &quot;dashArray&quot;: null, &quot;dashOffset&quot;: null, &quot;fill&quot;: true, &quot;fillColor&quot;: &quot;cornflowerblue&quot;, &quot;fillOpacity&quot;: 0.6, &quot;fillRule&quot;: &quot;evenodd&quot;, &quot;lineCap&quot;: &quot;round&quot;, &quot;lineJoin&quot;: &quot;round&quot;, &quot;opacity&quot;: 1, &quot;radius&quot;: 6, &quot;stroke&quot;: false, &quot;weight&quot;: 3}\n",
       "            ).addTo(map_65086584e849e701b7a03696943cbf61);\n",
       "        \n",
       "    \n",
       "            var circle_marker_4102e3e12f33441c0662cd02f4d33ec8 = L.circleMarker(\n",
       "                [-34.59778875, -58.41894306],\n",
       "                {&quot;bubblingMouseEvents&quot;: true, &quot;color&quot;: &quot;cornflowerblue&quot;, &quot;dashArray&quot;: null, &quot;dashOffset&quot;: null, &quot;fill&quot;: true, &quot;fillColor&quot;: &quot;cornflowerblue&quot;, &quot;fillOpacity&quot;: 0.6, &quot;fillRule&quot;: &quot;evenodd&quot;, &quot;lineCap&quot;: &quot;round&quot;, &quot;lineJoin&quot;: &quot;round&quot;, &quot;opacity&quot;: 1, &quot;radius&quot;: 6, &quot;stroke&quot;: false, &quot;weight&quot;: 3}\n",
       "            ).addTo(map_65086584e849e701b7a03696943cbf61);\n",
       "        \n",
       "    \n",
       "            var circle_marker_1617ccffe0dbeba839b36658c0a10867 = L.circleMarker(\n",
       "                [-34.59779521, -58.48328708],\n",
       "                {&quot;bubblingMouseEvents&quot;: true, &quot;color&quot;: &quot;cornflowerblue&quot;, &quot;dashArray&quot;: null, &quot;dashOffset&quot;: null, &quot;fill&quot;: true, &quot;fillColor&quot;: &quot;cornflowerblue&quot;, &quot;fillOpacity&quot;: 0.6, &quot;fillRule&quot;: &quot;evenodd&quot;, &quot;lineCap&quot;: &quot;round&quot;, &quot;lineJoin&quot;: &quot;round&quot;, &quot;opacity&quot;: 1, &quot;radius&quot;: 6, &quot;stroke&quot;: false, &quot;weight&quot;: 3}\n",
       "            ).addTo(map_65086584e849e701b7a03696943cbf61);\n",
       "        \n",
       "    \n",
       "            var circle_marker_fd5855a05b88e55f3c6d9fd5cbaf9616 = L.circleMarker(\n",
       "                [-34.68049201, -58.46912006],\n",
       "                {&quot;bubblingMouseEvents&quot;: true, &quot;color&quot;: &quot;cornflowerblue&quot;, &quot;dashArray&quot;: null, &quot;dashOffset&quot;: null, &quot;fill&quot;: true, &quot;fillColor&quot;: &quot;cornflowerblue&quot;, &quot;fillOpacity&quot;: 0.6, &quot;fillRule&quot;: &quot;evenodd&quot;, &quot;lineCap&quot;: &quot;round&quot;, &quot;lineJoin&quot;: &quot;round&quot;, &quot;opacity&quot;: 1, &quot;radius&quot;: 6, &quot;stroke&quot;: false, &quot;weight&quot;: 3}\n",
       "            ).addTo(map_65086584e849e701b7a03696943cbf61);\n",
       "        \n",
       "    \n",
       "            var circle_marker_bdddaf1963538c7da463e23bfb7de5b4 = L.circleMarker(\n",
       "                [-34.59800248, -58.41192137],\n",
       "                {&quot;bubblingMouseEvents&quot;: true, &quot;color&quot;: &quot;cornflowerblue&quot;, &quot;dashArray&quot;: null, &quot;dashOffset&quot;: null, &quot;fill&quot;: true, &quot;fillColor&quot;: &quot;cornflowerblue&quot;, &quot;fillOpacity&quot;: 0.6, &quot;fillRule&quot;: &quot;evenodd&quot;, &quot;lineCap&quot;: &quot;round&quot;, &quot;lineJoin&quot;: &quot;round&quot;, &quot;opacity&quot;: 1, &quot;radius&quot;: 6, &quot;stroke&quot;: false, &quot;weight&quot;: 3}\n",
       "            ).addTo(map_65086584e849e701b7a03696943cbf61);\n",
       "        \n",
       "    \n",
       "            var circle_marker_019c67f4c98ad0e3bcb0541d3ef87efb = L.circleMarker(\n",
       "                [-34.59804273, -58.50791763],\n",
       "                {&quot;bubblingMouseEvents&quot;: true, &quot;color&quot;: &quot;cornflowerblue&quot;, &quot;dashArray&quot;: null, &quot;dashOffset&quot;: null, &quot;fill&quot;: true, &quot;fillColor&quot;: &quot;cornflowerblue&quot;, &quot;fillOpacity&quot;: 0.6, &quot;fillRule&quot;: &quot;evenodd&quot;, &quot;lineCap&quot;: &quot;round&quot;, &quot;lineJoin&quot;: &quot;round&quot;, &quot;opacity&quot;: 1, &quot;radius&quot;: 6, &quot;stroke&quot;: false, &quot;weight&quot;: 3}\n",
       "            ).addTo(map_65086584e849e701b7a03696943cbf61);\n",
       "        \n",
       "    \n",
       "            var circle_marker_e278561d2ea2a92f78706810c291dfa7 = L.circleMarker(\n",
       "                [-34.59804521, -58.40662899],\n",
       "                {&quot;bubblingMouseEvents&quot;: true, &quot;color&quot;: &quot;cornflowerblue&quot;, &quot;dashArray&quot;: null, &quot;dashOffset&quot;: null, &quot;fill&quot;: true, &quot;fillColor&quot;: &quot;cornflowerblue&quot;, &quot;fillOpacity&quot;: 0.6, &quot;fillRule&quot;: &quot;evenodd&quot;, &quot;lineCap&quot;: &quot;round&quot;, &quot;lineJoin&quot;: &quot;round&quot;, &quot;opacity&quot;: 1, &quot;radius&quot;: 6, &quot;stroke&quot;: false, &quot;weight&quot;: 3}\n",
       "            ).addTo(map_65086584e849e701b7a03696943cbf61);\n",
       "        \n",
       "    \n",
       "            var circle_marker_71beca9230b2a463ff65e79d795c0a4e = L.circleMarker(\n",
       "                [-34.60456293, -58.40547222],\n",
       "                {&quot;bubblingMouseEvents&quot;: true, &quot;color&quot;: &quot;cornflowerblue&quot;, &quot;dashArray&quot;: null, &quot;dashOffset&quot;: null, &quot;fill&quot;: true, &quot;fillColor&quot;: &quot;cornflowerblue&quot;, &quot;fillOpacity&quot;: 0.6, &quot;fillRule&quot;: &quot;evenodd&quot;, &quot;lineCap&quot;: &quot;round&quot;, &quot;lineJoin&quot;: &quot;round&quot;, &quot;opacity&quot;: 1, &quot;radius&quot;: 6, &quot;stroke&quot;: false, &quot;weight&quot;: 3}\n",
       "            ).addTo(map_65086584e849e701b7a03696943cbf61);\n",
       "        \n",
       "    \n",
       "            var circle_marker_48c37e018e1c7a26843f1de85ca3255a = L.circleMarker(\n",
       "                [-34.6044379, -58.46415322],\n",
       "                {&quot;bubblingMouseEvents&quot;: true, &quot;color&quot;: &quot;cornflowerblue&quot;, &quot;dashArray&quot;: null, &quot;dashOffset&quot;: null, &quot;fill&quot;: true, &quot;fillColor&quot;: &quot;cornflowerblue&quot;, &quot;fillOpacity&quot;: 0.6, &quot;fillRule&quot;: &quot;evenodd&quot;, &quot;lineCap&quot;: &quot;round&quot;, &quot;lineJoin&quot;: &quot;round&quot;, &quot;opacity&quot;: 1, &quot;radius&quot;: 6, &quot;stroke&quot;: false, &quot;weight&quot;: 3}\n",
       "            ).addTo(map_65086584e849e701b7a03696943cbf61);\n",
       "        \n",
       "    \n",
       "            var circle_marker_36d5adf272ba29beef50575f96861237 = L.circleMarker(\n",
       "                [-34.60536123, -58.3702777],\n",
       "                {&quot;bubblingMouseEvents&quot;: true, &quot;color&quot;: &quot;cornflowerblue&quot;, &quot;dashArray&quot;: null, &quot;dashOffset&quot;: null, &quot;fill&quot;: true, &quot;fillColor&quot;: &quot;cornflowerblue&quot;, &quot;fillOpacity&quot;: 0.6, &quot;fillRule&quot;: &quot;evenodd&quot;, &quot;lineCap&quot;: &quot;round&quot;, &quot;lineJoin&quot;: &quot;round&quot;, &quot;opacity&quot;: 1, &quot;radius&quot;: 6, &quot;stroke&quot;: false, &quot;weight&quot;: 3}\n",
       "            ).addTo(map_65086584e849e701b7a03696943cbf61);\n",
       "        \n",
       "    \n",
       "            var circle_marker_0a69f4d99384f9b22977c74a34a63fa2 = L.circleMarker(\n",
       "                [-34.60463618, -58.36154069],\n",
       "                {&quot;bubblingMouseEvents&quot;: true, &quot;color&quot;: &quot;cornflowerblue&quot;, &quot;dashArray&quot;: null, &quot;dashOffset&quot;: null, &quot;fill&quot;: true, &quot;fillColor&quot;: &quot;cornflowerblue&quot;, &quot;fillOpacity&quot;: 0.6, &quot;fillRule&quot;: &quot;evenodd&quot;, &quot;lineCap&quot;: &quot;round&quot;, &quot;lineJoin&quot;: &quot;round&quot;, &quot;opacity&quot;: 1, &quot;radius&quot;: 6, &quot;stroke&quot;: false, &quot;weight&quot;: 3}\n",
       "            ).addTo(map_65086584e849e701b7a03696943cbf61);\n",
       "        \n",
       "    \n",
       "            var circle_marker_d10d8259deb8f40c2ee8d0ce0b181693 = L.circleMarker(\n",
       "                [-34.67648597, -58.48935287],\n",
       "                {&quot;bubblingMouseEvents&quot;: true, &quot;color&quot;: &quot;cornflowerblue&quot;, &quot;dashArray&quot;: null, &quot;dashOffset&quot;: null, &quot;fill&quot;: true, &quot;fillColor&quot;: &quot;cornflowerblue&quot;, &quot;fillOpacity&quot;: 0.6, &quot;fillRule&quot;: &quot;evenodd&quot;, &quot;lineCap&quot;: &quot;round&quot;, &quot;lineJoin&quot;: &quot;round&quot;, &quot;opacity&quot;: 1, &quot;radius&quot;: 6, &quot;stroke&quot;: false, &quot;weight&quot;: 3}\n",
       "            ).addTo(map_65086584e849e701b7a03696943cbf61);\n",
       "        \n",
       "    \n",
       "            var circle_marker_991dbd9fb5cae7760e1955e45b00a388 = L.circleMarker(\n",
       "                [-34.61134937, -58.45351111],\n",
       "                {&quot;bubblingMouseEvents&quot;: true, &quot;color&quot;: &quot;cornflowerblue&quot;, &quot;dashArray&quot;: null, &quot;dashOffset&quot;: null, &quot;fill&quot;: true, &quot;fillColor&quot;: &quot;cornflowerblue&quot;, &quot;fillOpacity&quot;: 0.6, &quot;fillRule&quot;: &quot;evenodd&quot;, &quot;lineCap&quot;: &quot;round&quot;, &quot;lineJoin&quot;: &quot;round&quot;, &quot;opacity&quot;: 1, &quot;radius&quot;: 6, &quot;stroke&quot;: false, &quot;weight&quot;: 3}\n",
       "            ).addTo(map_65086584e849e701b7a03696943cbf61);\n",
       "        \n",
       "    \n",
       "            var circle_marker_73f2c0933978dca31dd7914934d0ecf0 = L.circleMarker(\n",
       "                [-34.61164474, -58.52161176],\n",
       "                {&quot;bubblingMouseEvents&quot;: true, &quot;color&quot;: &quot;cornflowerblue&quot;, &quot;dashArray&quot;: null, &quot;dashOffset&quot;: null, &quot;fill&quot;: true, &quot;fillColor&quot;: &quot;cornflowerblue&quot;, &quot;fillOpacity&quot;: 0.6, &quot;fillRule&quot;: &quot;evenodd&quot;, &quot;lineCap&quot;: &quot;round&quot;, &quot;lineJoin&quot;: &quot;round&quot;, &quot;opacity&quot;: 1, &quot;radius&quot;: 6, &quot;stroke&quot;: false, &quot;weight&quot;: 3}\n",
       "            ).addTo(map_65086584e849e701b7a03696943cbf61);\n",
       "        \n",
       "    \n",
       "            var circle_marker_ce9dc62b41a3c76c04e87f536c470333 = L.circleMarker(\n",
       "                [-34.61185625, -58.41168345],\n",
       "                {&quot;bubblingMouseEvents&quot;: true, &quot;color&quot;: &quot;cornflowerblue&quot;, &quot;dashArray&quot;: null, &quot;dashOffset&quot;: null, &quot;fill&quot;: true, &quot;fillColor&quot;: &quot;cornflowerblue&quot;, &quot;fillOpacity&quot;: 0.6, &quot;fillRule&quot;: &quot;evenodd&quot;, &quot;lineCap&quot;: &quot;round&quot;, &quot;lineJoin&quot;: &quot;round&quot;, &quot;opacity&quot;: 1, &quot;radius&quot;: 6, &quot;stroke&quot;: false, &quot;weight&quot;: 3}\n",
       "            ).addTo(map_65086584e849e701b7a03696943cbf61);\n",
       "        \n",
       "    \n",
       "            var circle_marker_288a5532796e4e2fa79068a59200329e = L.circleMarker(\n",
       "                [-34.61196327, -58.45475488],\n",
       "                {&quot;bubblingMouseEvents&quot;: true, &quot;color&quot;: &quot;cornflowerblue&quot;, &quot;dashArray&quot;: null, &quot;dashOffset&quot;: null, &quot;fill&quot;: true, &quot;fillColor&quot;: &quot;cornflowerblue&quot;, &quot;fillOpacity&quot;: 0.6, &quot;fillRule&quot;: &quot;evenodd&quot;, &quot;lineCap&quot;: &quot;round&quot;, &quot;lineJoin&quot;: &quot;round&quot;, &quot;opacity&quot;: 1, &quot;radius&quot;: 6, &quot;stroke&quot;: false, &quot;weight&quot;: 3}\n",
       "            ).addTo(map_65086584e849e701b7a03696943cbf61);\n",
       "        \n",
       "    \n",
       "            var circle_marker_139b4d062caf5242a27f943e1be2e6ae = L.circleMarker(\n",
       "                [-34.61207587, -58.49122843],\n",
       "                {&quot;bubblingMouseEvents&quot;: true, &quot;color&quot;: &quot;cornflowerblue&quot;, &quot;dashArray&quot;: null, &quot;dashOffset&quot;: null, &quot;fill&quot;: true, &quot;fillColor&quot;: &quot;cornflowerblue&quot;, &quot;fillOpacity&quot;: 0.6, &quot;fillRule&quot;: &quot;evenodd&quot;, &quot;lineCap&quot;: &quot;round&quot;, &quot;lineJoin&quot;: &quot;round&quot;, &quot;opacity&quot;: 1, &quot;radius&quot;: 6, &quot;stroke&quot;: false, &quot;weight&quot;: 3}\n",
       "            ).addTo(map_65086584e849e701b7a03696943cbf61);\n",
       "        \n",
       "    \n",
       "            var circle_marker_83f0e4820b7e396e44a809890cecdfbf = L.circleMarker(\n",
       "                [-34.61223119, -58.41677733],\n",
       "                {&quot;bubblingMouseEvents&quot;: true, &quot;color&quot;: &quot;cornflowerblue&quot;, &quot;dashArray&quot;: null, &quot;dashOffset&quot;: null, &quot;fill&quot;: true, &quot;fillColor&quot;: &quot;cornflowerblue&quot;, &quot;fillOpacity&quot;: 0.6, &quot;fillRule&quot;: &quot;evenodd&quot;, &quot;lineCap&quot;: &quot;round&quot;, &quot;lineJoin&quot;: &quot;round&quot;, &quot;opacity&quot;: 1, &quot;radius&quot;: 6, &quot;stroke&quot;: false, &quot;weight&quot;: 3}\n",
       "            ).addTo(map_65086584e849e701b7a03696943cbf61);\n",
       "        \n",
       "    \n",
       "            var circle_marker_f488070e79ad9d73a734bbb2da2722cd = L.circleMarker(\n",
       "                [-34.61232875, -58.36956186],\n",
       "                {&quot;bubblingMouseEvents&quot;: true, &quot;color&quot;: &quot;cornflowerblue&quot;, &quot;dashArray&quot;: null, &quot;dashOffset&quot;: null, &quot;fill&quot;: true, &quot;fillColor&quot;: &quot;cornflowerblue&quot;, &quot;fillOpacity&quot;: 0.6, &quot;fillRule&quot;: &quot;evenodd&quot;, &quot;lineCap&quot;: &quot;round&quot;, &quot;lineJoin&quot;: &quot;round&quot;, &quot;opacity&quot;: 1, &quot;radius&quot;: 6, &quot;stroke&quot;: false, &quot;weight&quot;: 3}\n",
       "            ).addTo(map_65086584e849e701b7a03696943cbf61);\n",
       "        \n",
       "    \n",
       "            var circle_marker_e8f81d37c10455cd9474bc844e988ec0 = L.circleMarker(\n",
       "                [-34.61253541, -58.39246272],\n",
       "                {&quot;bubblingMouseEvents&quot;: true, &quot;color&quot;: &quot;cornflowerblue&quot;, &quot;dashArray&quot;: null, &quot;dashOffset&quot;: null, &quot;fill&quot;: true, &quot;fillColor&quot;: &quot;cornflowerblue&quot;, &quot;fillOpacity&quot;: 0.6, &quot;fillRule&quot;: &quot;evenodd&quot;, &quot;lineCap&quot;: &quot;round&quot;, &quot;lineJoin&quot;: &quot;round&quot;, &quot;opacity&quot;: 1, &quot;radius&quot;: 6, &quot;stroke&quot;: false, &quot;weight&quot;: 3}\n",
       "            ).addTo(map_65086584e849e701b7a03696943cbf61);\n",
       "        \n",
       "    \n",
       "            var circle_marker_c3fe2200f0f9607fe0a9a45747594a90 = L.circleMarker(\n",
       "                [-34.61265002, -58.37471802],\n",
       "                {&quot;bubblingMouseEvents&quot;: true, &quot;color&quot;: &quot;cornflowerblue&quot;, &quot;dashArray&quot;: null, &quot;dashOffset&quot;: null, &quot;fill&quot;: true, &quot;fillColor&quot;: &quot;cornflowerblue&quot;, &quot;fillOpacity&quot;: 0.6, &quot;fillRule&quot;: &quot;evenodd&quot;, &quot;lineCap&quot;: &quot;round&quot;, &quot;lineJoin&quot;: &quot;round&quot;, &quot;opacity&quot;: 1, &quot;radius&quot;: 6, &quot;stroke&quot;: false, &quot;weight&quot;: 3}\n",
       "            ).addTo(map_65086584e849e701b7a03696943cbf61);\n",
       "        \n",
       "    \n",
       "            var circle_marker_75f4d4c51daf2b27a87b87c345b9389e = L.circleMarker(\n",
       "                [-34.61303893, -58.38048577],\n",
       "                {&quot;bubblingMouseEvents&quot;: true, &quot;color&quot;: &quot;cornflowerblue&quot;, &quot;dashArray&quot;: null, &quot;dashOffset&quot;: null, &quot;fill&quot;: true, &quot;fillColor&quot;: &quot;cornflowerblue&quot;, &quot;fillOpacity&quot;: 0.6, &quot;fillRule&quot;: &quot;evenodd&quot;, &quot;lineCap&quot;: &quot;round&quot;, &quot;lineJoin&quot;: &quot;round&quot;, &quot;opacity&quot;: 1, &quot;radius&quot;: 6, &quot;stroke&quot;: false, &quot;weight&quot;: 3}\n",
       "            ).addTo(map_65086584e849e701b7a03696943cbf61);\n",
       "        \n",
       "    \n",
       "            var circle_marker_d168d52e47bda678f2cd7320c98ddecb = L.circleMarker(\n",
       "                [-34.61349731, -58.44034689],\n",
       "                {&quot;bubblingMouseEvents&quot;: true, &quot;color&quot;: &quot;cornflowerblue&quot;, &quot;dashArray&quot;: null, &quot;dashOffset&quot;: null, &quot;fill&quot;: true, &quot;fillColor&quot;: &quot;cornflowerblue&quot;, &quot;fillOpacity&quot;: 0.6, &quot;fillRule&quot;: &quot;evenodd&quot;, &quot;lineCap&quot;: &quot;round&quot;, &quot;lineJoin&quot;: &quot;round&quot;, &quot;opacity&quot;: 1, &quot;radius&quot;: 6, &quot;stroke&quot;: false, &quot;weight&quot;: 3}\n",
       "            ).addTo(map_65086584e849e701b7a03696943cbf61);\n",
       "        \n",
       "    \n",
       "            var circle_marker_bd486bdeb95ac226ceb5572fdcf2a47a = L.circleMarker(\n",
       "                [-34.61381341, -58.3600465],\n",
       "                {&quot;bubblingMouseEvents&quot;: true, &quot;color&quot;: &quot;cornflowerblue&quot;, &quot;dashArray&quot;: null, &quot;dashOffset&quot;: null, &quot;fill&quot;: true, &quot;fillColor&quot;: &quot;cornflowerblue&quot;, &quot;fillOpacity&quot;: 0.6, &quot;fillRule&quot;: &quot;evenodd&quot;, &quot;lineCap&quot;: &quot;round&quot;, &quot;lineJoin&quot;: &quot;round&quot;, &quot;opacity&quot;: 1, &quot;radius&quot;: 6, &quot;stroke&quot;: false, &quot;weight&quot;: 3}\n",
       "            ).addTo(map_65086584e849e701b7a03696943cbf61);\n",
       "        \n",
       "    \n",
       "            var circle_marker_91e6fa25b57815dc49d6d2faa230fe5f = L.circleMarker(\n",
       "                [-34.61413568, -58.39613805],\n",
       "                {&quot;bubblingMouseEvents&quot;: true, &quot;color&quot;: &quot;cornflowerblue&quot;, &quot;dashArray&quot;: null, &quot;dashOffset&quot;: null, &quot;fill&quot;: true, &quot;fillColor&quot;: &quot;cornflowerblue&quot;, &quot;fillOpacity&quot;: 0.6, &quot;fillRule&quot;: &quot;evenodd&quot;, &quot;lineCap&quot;: &quot;round&quot;, &quot;lineJoin&quot;: &quot;round&quot;, &quot;opacity&quot;: 1, &quot;radius&quot;: 6, &quot;stroke&quot;: false, &quot;weight&quot;: 3}\n",
       "            ).addTo(map_65086584e849e701b7a03696943cbf61);\n",
       "        \n",
       "    \n",
       "            var circle_marker_09576de7ecd0d04b810c4f15b0070992 = L.circleMarker(\n",
       "                [-34.6146383, -58.40491455],\n",
       "                {&quot;bubblingMouseEvents&quot;: true, &quot;color&quot;: &quot;cornflowerblue&quot;, &quot;dashArray&quot;: null, &quot;dashOffset&quot;: null, &quot;fill&quot;: true, &quot;fillColor&quot;: &quot;cornflowerblue&quot;, &quot;fillOpacity&quot;: 0.6, &quot;fillRule&quot;: &quot;evenodd&quot;, &quot;lineCap&quot;: &quot;round&quot;, &quot;lineJoin&quot;: &quot;round&quot;, &quot;opacity&quot;: 1, &quot;radius&quot;: 6, &quot;stroke&quot;: false, &quot;weight&quot;: 3}\n",
       "            ).addTo(map_65086584e849e701b7a03696943cbf61);\n",
       "        \n",
       "    \n",
       "            var circle_marker_4646eba45059accacd46966ed7ec2a99 = L.circleMarker(\n",
       "                [-34.61474911, -58.47152163],\n",
       "                {&quot;bubblingMouseEvents&quot;: true, &quot;color&quot;: &quot;cornflowerblue&quot;, &quot;dashArray&quot;: null, &quot;dashOffset&quot;: null, &quot;fill&quot;: true, &quot;fillColor&quot;: &quot;cornflowerblue&quot;, &quot;fillOpacity&quot;: 0.6, &quot;fillRule&quot;: &quot;evenodd&quot;, &quot;lineCap&quot;: &quot;round&quot;, &quot;lineJoin&quot;: &quot;round&quot;, &quot;opacity&quot;: 1, &quot;radius&quot;: 6, &quot;stroke&quot;: false, &quot;weight&quot;: 3}\n",
       "            ).addTo(map_65086584e849e701b7a03696943cbf61);\n",
       "        \n",
       "    \n",
       "            var circle_marker_99d55c8709df8caa95b5dfb3db6066b3 = L.circleMarker(\n",
       "                [-34.61477051, -58.36947198],\n",
       "                {&quot;bubblingMouseEvents&quot;: true, &quot;color&quot;: &quot;cornflowerblue&quot;, &quot;dashArray&quot;: null, &quot;dashOffset&quot;: null, &quot;fill&quot;: true, &quot;fillColor&quot;: &quot;cornflowerblue&quot;, &quot;fillOpacity&quot;: 0.6, &quot;fillRule&quot;: &quot;evenodd&quot;, &quot;lineCap&quot;: &quot;round&quot;, &quot;lineJoin&quot;: &quot;round&quot;, &quot;opacity&quot;: 1, &quot;radius&quot;: 6, &quot;stroke&quot;: false, &quot;weight&quot;: 3}\n",
       "            ).addTo(map_65086584e849e701b7a03696943cbf61);\n",
       "        \n",
       "    \n",
       "            var circle_marker_47229d44c981840c0a0afc44a90810cc = L.circleMarker(\n",
       "                [-34.61512051, -58.3967447],\n",
       "                {&quot;bubblingMouseEvents&quot;: true, &quot;color&quot;: &quot;cornflowerblue&quot;, &quot;dashArray&quot;: null, &quot;dashOffset&quot;: null, &quot;fill&quot;: true, &quot;fillColor&quot;: &quot;cornflowerblue&quot;, &quot;fillOpacity&quot;: 0.6, &quot;fillRule&quot;: &quot;evenodd&quot;, &quot;lineCap&quot;: &quot;round&quot;, &quot;lineJoin&quot;: &quot;round&quot;, &quot;opacity&quot;: 1, &quot;radius&quot;: 6, &quot;stroke&quot;: false, &quot;weight&quot;: 3}\n",
       "            ).addTo(map_65086584e849e701b7a03696943cbf61);\n",
       "        \n",
       "    \n",
       "            var circle_marker_c2642c9cfd8fe25f926fdde8a2a973c6 = L.circleMarker(\n",
       "                [-34.61516101, -58.41095567],\n",
       "                {&quot;bubblingMouseEvents&quot;: true, &quot;color&quot;: &quot;cornflowerblue&quot;, &quot;dashArray&quot;: null, &quot;dashOffset&quot;: null, &quot;fill&quot;: true, &quot;fillColor&quot;: &quot;cornflowerblue&quot;, &quot;fillOpacity&quot;: 0.6, &quot;fillRule&quot;: &quot;evenodd&quot;, &quot;lineCap&quot;: &quot;round&quot;, &quot;lineJoin&quot;: &quot;round&quot;, &quot;opacity&quot;: 1, &quot;radius&quot;: 6, &quot;stroke&quot;: false, &quot;weight&quot;: 3}\n",
       "            ).addTo(map_65086584e849e701b7a03696943cbf61);\n",
       "        \n",
       "    \n",
       "            var circle_marker_38dbc6acf11c0f81126b85ce630d8512 = L.circleMarker(\n",
       "                [-34.61520391, -58.50512382],\n",
       "                {&quot;bubblingMouseEvents&quot;: true, &quot;color&quot;: &quot;cornflowerblue&quot;, &quot;dashArray&quot;: null, &quot;dashOffset&quot;: null, &quot;fill&quot;: true, &quot;fillColor&quot;: &quot;cornflowerblue&quot;, &quot;fillOpacity&quot;: 0.6, &quot;fillRule&quot;: &quot;evenodd&quot;, &quot;lineCap&quot;: &quot;round&quot;, &quot;lineJoin&quot;: &quot;round&quot;, &quot;opacity&quot;: 1, &quot;radius&quot;: 6, &quot;stroke&quot;: false, &quot;weight&quot;: 3}\n",
       "            ).addTo(map_65086584e849e701b7a03696943cbf61);\n",
       "        \n",
       "    \n",
       "            var circle_marker_bcfe934885c683b0b98dddb5572ba5ba = L.circleMarker(\n",
       "                [-34.61529543, -58.3816166],\n",
       "                {&quot;bubblingMouseEvents&quot;: true, &quot;color&quot;: &quot;cornflowerblue&quot;, &quot;dashArray&quot;: null, &quot;dashOffset&quot;: null, &quot;fill&quot;: true, &quot;fillColor&quot;: &quot;cornflowerblue&quot;, &quot;fillOpacity&quot;: 0.6, &quot;fillRule&quot;: &quot;evenodd&quot;, &quot;lineCap&quot;: &quot;round&quot;, &quot;lineJoin&quot;: &quot;round&quot;, &quot;opacity&quot;: 1, &quot;radius&quot;: 6, &quot;stroke&quot;: false, &quot;weight&quot;: 3}\n",
       "            ).addTo(map_65086584e849e701b7a03696943cbf61);\n",
       "        \n",
       "    \n",
       "            var circle_marker_4bff670e669e2b599d4a49e9a81c965d = L.circleMarker(\n",
       "                [-34.61544091, -58.40288226],\n",
       "                {&quot;bubblingMouseEvents&quot;: true, &quot;color&quot;: &quot;cornflowerblue&quot;, &quot;dashArray&quot;: null, &quot;dashOffset&quot;: null, &quot;fill&quot;: true, &quot;fillColor&quot;: &quot;cornflowerblue&quot;, &quot;fillOpacity&quot;: 0.6, &quot;fillRule&quot;: &quot;evenodd&quot;, &quot;lineCap&quot;: &quot;round&quot;, &quot;lineJoin&quot;: &quot;round&quot;, &quot;opacity&quot;: 1, &quot;radius&quot;: 6, &quot;stroke&quot;: false, &quot;weight&quot;: 3}\n",
       "            ).addTo(map_65086584e849e701b7a03696943cbf61);\n",
       "        \n",
       "    \n",
       "            var circle_marker_bf7381587105acd41c18587ecab1d6d7 = L.circleMarker(\n",
       "                [-34.6156281, -58.39038605],\n",
       "                {&quot;bubblingMouseEvents&quot;: true, &quot;color&quot;: &quot;cornflowerblue&quot;, &quot;dashArray&quot;: null, &quot;dashOffset&quot;: null, &quot;fill&quot;: true, &quot;fillColor&quot;: &quot;cornflowerblue&quot;, &quot;fillOpacity&quot;: 0.6, &quot;fillRule&quot;: &quot;evenodd&quot;, &quot;lineCap&quot;: &quot;round&quot;, &quot;lineJoin&quot;: &quot;round&quot;, &quot;opacity&quot;: 1, &quot;radius&quot;: 6, &quot;stroke&quot;: false, &quot;weight&quot;: 3}\n",
       "            ).addTo(map_65086584e849e701b7a03696943cbf61);\n",
       "        \n",
       "    \n",
       "            var circle_marker_ff2fd03abf12ce85425d5904bf548fcf = L.circleMarker(\n",
       "                [-34.61565025, -58.49794468],\n",
       "                {&quot;bubblingMouseEvents&quot;: true, &quot;color&quot;: &quot;cornflowerblue&quot;, &quot;dashArray&quot;: null, &quot;dashOffset&quot;: null, &quot;fill&quot;: true, &quot;fillColor&quot;: &quot;cornflowerblue&quot;, &quot;fillOpacity&quot;: 0.6, &quot;fillRule&quot;: &quot;evenodd&quot;, &quot;lineCap&quot;: &quot;round&quot;, &quot;lineJoin&quot;: &quot;round&quot;, &quot;opacity&quot;: 1, &quot;radius&quot;: 6, &quot;stroke&quot;: false, &quot;weight&quot;: 3}\n",
       "            ).addTo(map_65086584e849e701b7a03696943cbf61);\n",
       "        \n",
       "    \n",
       "            var circle_marker_d8ab44dde902240838021abff0e62960 = L.circleMarker(\n",
       "                [-34.61600366, -58.51398484],\n",
       "                {&quot;bubblingMouseEvents&quot;: true, &quot;color&quot;: &quot;cornflowerblue&quot;, &quot;dashArray&quot;: null, &quot;dashOffset&quot;: null, &quot;fill&quot;: true, &quot;fillColor&quot;: &quot;cornflowerblue&quot;, &quot;fillOpacity&quot;: 0.6, &quot;fillRule&quot;: &quot;evenodd&quot;, &quot;lineCap&quot;: &quot;round&quot;, &quot;lineJoin&quot;: &quot;round&quot;, &quot;opacity&quot;: 1, &quot;radius&quot;: 6, &quot;stroke&quot;: false, &quot;weight&quot;: 3}\n",
       "            ).addTo(map_65086584e849e701b7a03696943cbf61);\n",
       "        \n",
       "    \n",
       "            var circle_marker_c60a74dbfc53d1e877dbde8c9434d63d = L.circleMarker(\n",
       "                [-34.61632317, -58.39914719],\n",
       "                {&quot;bubblingMouseEvents&quot;: true, &quot;color&quot;: &quot;cornflowerblue&quot;, &quot;dashArray&quot;: null, &quot;dashOffset&quot;: null, &quot;fill&quot;: true, &quot;fillColor&quot;: &quot;cornflowerblue&quot;, &quot;fillOpacity&quot;: 0.6, &quot;fillRule&quot;: &quot;evenodd&quot;, &quot;lineCap&quot;: &quot;round&quot;, &quot;lineJoin&quot;: &quot;round&quot;, &quot;opacity&quot;: 1, &quot;radius&quot;: 6, &quot;stroke&quot;: false, &quot;weight&quot;: 3}\n",
       "            ).addTo(map_65086584e849e701b7a03696943cbf61);\n",
       "        \n",
       "    \n",
       "            var circle_marker_d306620e600e9a598320d454d10c4ab0 = L.circleMarker(\n",
       "                [-34.61646839, -58.38118367],\n",
       "                {&quot;bubblingMouseEvents&quot;: true, &quot;color&quot;: &quot;cornflowerblue&quot;, &quot;dashArray&quot;: null, &quot;dashOffset&quot;: null, &quot;fill&quot;: true, &quot;fillColor&quot;: &quot;cornflowerblue&quot;, &quot;fillOpacity&quot;: 0.6, &quot;fillRule&quot;: &quot;evenodd&quot;, &quot;lineCap&quot;: &quot;round&quot;, &quot;lineJoin&quot;: &quot;round&quot;, &quot;opacity&quot;: 1, &quot;radius&quot;: 6, &quot;stroke&quot;: false, &quot;weight&quot;: 3}\n",
       "            ).addTo(map_65086584e849e701b7a03696943cbf61);\n",
       "        \n",
       "    \n",
       "            var circle_marker_182c673bd8418b509433e85b3599ad48 = L.circleMarker(\n",
       "                [-34.61648696, -58.3815685],\n",
       "                {&quot;bubblingMouseEvents&quot;: true, &quot;color&quot;: &quot;cornflowerblue&quot;, &quot;dashArray&quot;: null, &quot;dashOffset&quot;: null, &quot;fill&quot;: true, &quot;fillColor&quot;: &quot;cornflowerblue&quot;, &quot;fillOpacity&quot;: 0.6, &quot;fillRule&quot;: &quot;evenodd&quot;, &quot;lineCap&quot;: &quot;round&quot;, &quot;lineJoin&quot;: &quot;round&quot;, &quot;opacity&quot;: 1, &quot;radius&quot;: 6, &quot;stroke&quot;: false, &quot;weight&quot;: 3}\n",
       "            ).addTo(map_65086584e849e701b7a03696943cbf61);\n",
       "        \n",
       "    \n",
       "            var circle_marker_9dbacf493796db0c01fc1e0bba175e6a = L.circleMarker(\n",
       "                [-34.61687778, -58.36659655],\n",
       "                {&quot;bubblingMouseEvents&quot;: true, &quot;color&quot;: &quot;cornflowerblue&quot;, &quot;dashArray&quot;: null, &quot;dashOffset&quot;: null, &quot;fill&quot;: true, &quot;fillColor&quot;: &quot;cornflowerblue&quot;, &quot;fillOpacity&quot;: 0.6, &quot;fillRule&quot;: &quot;evenodd&quot;, &quot;lineCap&quot;: &quot;round&quot;, &quot;lineJoin&quot;: &quot;round&quot;, &quot;opacity&quot;: 1, &quot;radius&quot;: 6, &quot;stroke&quot;: false, &quot;weight&quot;: 3}\n",
       "            ).addTo(map_65086584e849e701b7a03696943cbf61);\n",
       "        \n",
       "    \n",
       "            var circle_marker_4aa3a30ec9bac5827fd0686ddbb52234 = L.circleMarker(\n",
       "                [-34.61740997, -58.47576807],\n",
       "                {&quot;bubblingMouseEvents&quot;: true, &quot;color&quot;: &quot;cornflowerblue&quot;, &quot;dashArray&quot;: null, &quot;dashOffset&quot;: null, &quot;fill&quot;: true, &quot;fillColor&quot;: &quot;cornflowerblue&quot;, &quot;fillOpacity&quot;: 0.6, &quot;fillRule&quot;: &quot;evenodd&quot;, &quot;lineCap&quot;: &quot;round&quot;, &quot;lineJoin&quot;: &quot;round&quot;, &quot;opacity&quot;: 1, &quot;radius&quot;: 6, &quot;stroke&quot;: false, &quot;weight&quot;: 3}\n",
       "            ).addTo(map_65086584e849e701b7a03696943cbf61);\n",
       "        \n",
       "    \n",
       "            var circle_marker_9560bc0a435a23660db75bb9aaf6d469 = L.circleMarker(\n",
       "                [-34.6751276, -58.48455411],\n",
       "                {&quot;bubblingMouseEvents&quot;: true, &quot;color&quot;: &quot;cornflowerblue&quot;, &quot;dashArray&quot;: null, &quot;dashOffset&quot;: null, &quot;fill&quot;: true, &quot;fillColor&quot;: &quot;cornflowerblue&quot;, &quot;fillOpacity&quot;: 0.6, &quot;fillRule&quot;: &quot;evenodd&quot;, &quot;lineCap&quot;: &quot;round&quot;, &quot;lineJoin&quot;: &quot;round&quot;, &quot;opacity&quot;: 1, &quot;radius&quot;: 6, &quot;stroke&quot;: false, &quot;weight&quot;: 3}\n",
       "            ).addTo(map_65086584e849e701b7a03696943cbf61);\n",
       "        \n",
       "    \n",
       "            var circle_marker_8c11d979afcd0eab007e8e3989b5a552 = L.circleMarker(\n",
       "                [-34.61100424, -58.38481975],\n",
       "                {&quot;bubblingMouseEvents&quot;: true, &quot;color&quot;: &quot;cornflowerblue&quot;, &quot;dashArray&quot;: null, &quot;dashOffset&quot;: null, &quot;fill&quot;: true, &quot;fillColor&quot;: &quot;cornflowerblue&quot;, &quot;fillOpacity&quot;: 0.6, &quot;fillRule&quot;: &quot;evenodd&quot;, &quot;lineCap&quot;: &quot;round&quot;, &quot;lineJoin&quot;: &quot;round&quot;, &quot;opacity&quot;: 1, &quot;radius&quot;: 6, &quot;stroke&quot;: false, &quot;weight&quot;: 3}\n",
       "            ).addTo(map_65086584e849e701b7a03696943cbf61);\n",
       "        \n",
       "    \n",
       "            var circle_marker_573b99ba9a0fa4a295a5062f6b40edda = L.circleMarker(\n",
       "                [-34.60509972, -58.38362373],\n",
       "                {&quot;bubblingMouseEvents&quot;: true, &quot;color&quot;: &quot;cornflowerblue&quot;, &quot;dashArray&quot;: null, &quot;dashOffset&quot;: null, &quot;fill&quot;: true, &quot;fillColor&quot;: &quot;cornflowerblue&quot;, &quot;fillOpacity&quot;: 0.6, &quot;fillRule&quot;: &quot;evenodd&quot;, &quot;lineCap&quot;: &quot;round&quot;, &quot;lineJoin&quot;: &quot;round&quot;, &quot;opacity&quot;: 1, &quot;radius&quot;: 6, &quot;stroke&quot;: false, &quot;weight&quot;: 3}\n",
       "            ).addTo(map_65086584e849e701b7a03696943cbf61);\n",
       "        \n",
       "    \n",
       "            var circle_marker_e73a624443ae610368ae23ac94689e53 = L.circleMarker(\n",
       "                [-34.61099738, -58.36726348],\n",
       "                {&quot;bubblingMouseEvents&quot;: true, &quot;color&quot;: &quot;cornflowerblue&quot;, &quot;dashArray&quot;: null, &quot;dashOffset&quot;: null, &quot;fill&quot;: true, &quot;fillColor&quot;: &quot;cornflowerblue&quot;, &quot;fillOpacity&quot;: 0.6, &quot;fillRule&quot;: &quot;evenodd&quot;, &quot;lineCap&quot;: &quot;round&quot;, &quot;lineJoin&quot;: &quot;round&quot;, &quot;opacity&quot;: 1, &quot;radius&quot;: 6, &quot;stroke&quot;: false, &quot;weight&quot;: 3}\n",
       "            ).addTo(map_65086584e849e701b7a03696943cbf61);\n",
       "        \n",
       "    \n",
       "            var circle_marker_536805ff96b27de5c08bf9e73c1f09e2 = L.circleMarker(\n",
       "                [-34.59394733, -58.41848605],\n",
       "                {&quot;bubblingMouseEvents&quot;: true, &quot;color&quot;: &quot;cornflowerblue&quot;, &quot;dashArray&quot;: null, &quot;dashOffset&quot;: null, &quot;fill&quot;: true, &quot;fillColor&quot;: &quot;cornflowerblue&quot;, &quot;fillOpacity&quot;: 0.6, &quot;fillRule&quot;: &quot;evenodd&quot;, &quot;lineCap&quot;: &quot;round&quot;, &quot;lineJoin&quot;: &quot;round&quot;, &quot;opacity&quot;: 1, &quot;radius&quot;: 6, &quot;stroke&quot;: false, &quot;weight&quot;: 3}\n",
       "            ).addTo(map_65086584e849e701b7a03696943cbf61);\n",
       "        \n",
       "    \n",
       "            var circle_marker_17d8c6d2ab15d12bae1f8c78ac28ae89 = L.circleMarker(\n",
       "                [-34.60557123, -58.40571596],\n",
       "                {&quot;bubblingMouseEvents&quot;: true, &quot;color&quot;: &quot;cornflowerblue&quot;, &quot;dashArray&quot;: null, &quot;dashOffset&quot;: null, &quot;fill&quot;: true, &quot;fillColor&quot;: &quot;cornflowerblue&quot;, &quot;fillOpacity&quot;: 0.6, &quot;fillRule&quot;: &quot;evenodd&quot;, &quot;lineCap&quot;: &quot;round&quot;, &quot;lineJoin&quot;: &quot;round&quot;, &quot;opacity&quot;: 1, &quot;radius&quot;: 6, &quot;stroke&quot;: false, &quot;weight&quot;: 3}\n",
       "            ).addTo(map_65086584e849e701b7a03696943cbf61);\n",
       "        \n",
       "    \n",
       "            var circle_marker_bde7376c64cbdc04d7666c92a9961149 = L.circleMarker(\n",
       "                [-34.60582475, -58.37653284],\n",
       "                {&quot;bubblingMouseEvents&quot;: true, &quot;color&quot;: &quot;cornflowerblue&quot;, &quot;dashArray&quot;: null, &quot;dashOffset&quot;: null, &quot;fill&quot;: true, &quot;fillColor&quot;: &quot;cornflowerblue&quot;, &quot;fillOpacity&quot;: 0.6, &quot;fillRule&quot;: &quot;evenodd&quot;, &quot;lineCap&quot;: &quot;round&quot;, &quot;lineJoin&quot;: &quot;round&quot;, &quot;opacity&quot;: 1, &quot;radius&quot;: 6, &quot;stroke&quot;: false, &quot;weight&quot;: 3}\n",
       "            ).addTo(map_65086584e849e701b7a03696943cbf61);\n",
       "        \n",
       "    \n",
       "            var circle_marker_63b621485299a480ad250b2b9c03d3db = L.circleMarker(\n",
       "                [-34.60588536, -58.46051346],\n",
       "                {&quot;bubblingMouseEvents&quot;: true, &quot;color&quot;: &quot;cornflowerblue&quot;, &quot;dashArray&quot;: null, &quot;dashOffset&quot;: null, &quot;fill&quot;: true, &quot;fillColor&quot;: &quot;cornflowerblue&quot;, &quot;fillOpacity&quot;: 0.6, &quot;fillRule&quot;: &quot;evenodd&quot;, &quot;lineCap&quot;: &quot;round&quot;, &quot;lineJoin&quot;: &quot;round&quot;, &quot;opacity&quot;: 1, &quot;radius&quot;: 6, &quot;stroke&quot;: false, &quot;weight&quot;: 3}\n",
       "            ).addTo(map_65086584e849e701b7a03696943cbf61);\n",
       "        \n",
       "    \n",
       "            var circle_marker_a6f24a88bb5da2f321129d89209076ca = L.circleMarker(\n",
       "                [-34.6060085, -58.41985649],\n",
       "                {&quot;bubblingMouseEvents&quot;: true, &quot;color&quot;: &quot;cornflowerblue&quot;, &quot;dashArray&quot;: null, &quot;dashOffset&quot;: null, &quot;fill&quot;: true, &quot;fillColor&quot;: &quot;cornflowerblue&quot;, &quot;fillOpacity&quot;: 0.6, &quot;fillRule&quot;: &quot;evenodd&quot;, &quot;lineCap&quot;: &quot;round&quot;, &quot;lineJoin&quot;: &quot;round&quot;, &quot;opacity&quot;: 1, &quot;radius&quot;: 6, &quot;stroke&quot;: false, &quot;weight&quot;: 3}\n",
       "            ).addTo(map_65086584e849e701b7a03696943cbf61);\n",
       "        \n",
       "    \n",
       "            var circle_marker_ac7b1022f4444922a2eff5fa748901eb = L.circleMarker(\n",
       "                [-34.6064658, -58.45158942],\n",
       "                {&quot;bubblingMouseEvents&quot;: true, &quot;color&quot;: &quot;cornflowerblue&quot;, &quot;dashArray&quot;: null, &quot;dashOffset&quot;: null, &quot;fill&quot;: true, &quot;fillColor&quot;: &quot;cornflowerblue&quot;, &quot;fillOpacity&quot;: 0.6, &quot;fillRule&quot;: &quot;evenodd&quot;, &quot;lineCap&quot;: &quot;round&quot;, &quot;lineJoin&quot;: &quot;round&quot;, &quot;opacity&quot;: 1, &quot;radius&quot;: 6, &quot;stroke&quot;: false, &quot;weight&quot;: 3}\n",
       "            ).addTo(map_65086584e849e701b7a03696943cbf61);\n",
       "        \n",
       "    \n",
       "            var circle_marker_33f64a315d1a94538e5fc03650269615 = L.circleMarker(\n",
       "                [-34.60653282, -58.37952223],\n",
       "                {&quot;bubblingMouseEvents&quot;: true, &quot;color&quot;: &quot;cornflowerblue&quot;, &quot;dashArray&quot;: null, &quot;dashOffset&quot;: null, &quot;fill&quot;: true, &quot;fillColor&quot;: &quot;cornflowerblue&quot;, &quot;fillOpacity&quot;: 0.6, &quot;fillRule&quot;: &quot;evenodd&quot;, &quot;lineCap&quot;: &quot;round&quot;, &quot;lineJoin&quot;: &quot;round&quot;, &quot;opacity&quot;: 1, &quot;radius&quot;: 6, &quot;stroke&quot;: false, &quot;weight&quot;: 3}\n",
       "            ).addTo(map_65086584e849e701b7a03696943cbf61);\n",
       "        \n",
       "    \n",
       "            var circle_marker_0594fd2c1734dbceccd98f86bd178df1 = L.circleMarker(\n",
       "                [-34.60724519, -58.46442001],\n",
       "                {&quot;bubblingMouseEvents&quot;: true, &quot;color&quot;: &quot;cornflowerblue&quot;, &quot;dashArray&quot;: null, &quot;dashOffset&quot;: null, &quot;fill&quot;: true, &quot;fillColor&quot;: &quot;cornflowerblue&quot;, &quot;fillOpacity&quot;: 0.6, &quot;fillRule&quot;: &quot;evenodd&quot;, &quot;lineCap&quot;: &quot;round&quot;, &quot;lineJoin&quot;: &quot;round&quot;, &quot;opacity&quot;: 1, &quot;radius&quot;: 6, &quot;stroke&quot;: false, &quot;weight&quot;: 3}\n",
       "            ).addTo(map_65086584e849e701b7a03696943cbf61);\n",
       "        \n",
       "    \n",
       "            var circle_marker_c6028b5fd5c2086675bebe4462e2bc77 = L.circleMarker(\n",
       "                [-34.60727189, -58.42462955],\n",
       "                {&quot;bubblingMouseEvents&quot;: true, &quot;color&quot;: &quot;cornflowerblue&quot;, &quot;dashArray&quot;: null, &quot;dashOffset&quot;: null, &quot;fill&quot;: true, &quot;fillColor&quot;: &quot;cornflowerblue&quot;, &quot;fillOpacity&quot;: 0.6, &quot;fillRule&quot;: &quot;evenodd&quot;, &quot;lineCap&quot;: &quot;round&quot;, &quot;lineJoin&quot;: &quot;round&quot;, &quot;opacity&quot;: 1, &quot;radius&quot;: 6, &quot;stroke&quot;: false, &quot;weight&quot;: 3}\n",
       "            ).addTo(map_65086584e849e701b7a03696943cbf61);\n",
       "        \n",
       "    \n",
       "            var circle_marker_745805e973e0532b18b570163eaf7620 = L.circleMarker(\n",
       "                [-34.60774301, -58.40612253],\n",
       "                {&quot;bubblingMouseEvents&quot;: true, &quot;color&quot;: &quot;cornflowerblue&quot;, &quot;dashArray&quot;: null, &quot;dashOffset&quot;: null, &quot;fill&quot;: true, &quot;fillColor&quot;: &quot;cornflowerblue&quot;, &quot;fillOpacity&quot;: 0.6, &quot;fillRule&quot;: &quot;evenodd&quot;, &quot;lineCap&quot;: &quot;round&quot;, &quot;lineJoin&quot;: &quot;round&quot;, &quot;opacity&quot;: 1, &quot;radius&quot;: 6, &quot;stroke&quot;: false, &quot;weight&quot;: 3}\n",
       "            ).addTo(map_65086584e849e701b7a03696943cbf61);\n",
       "        \n",
       "    \n",
       "            var circle_marker_fb85de7896b0458ef9f6e7083ef8735f = L.circleMarker(\n",
       "                [-34.60776782, -58.4844016],\n",
       "                {&quot;bubblingMouseEvents&quot;: true, &quot;color&quot;: &quot;cornflowerblue&quot;, &quot;dashArray&quot;: null, &quot;dashOffset&quot;: null, &quot;fill&quot;: true, &quot;fillColor&quot;: &quot;cornflowerblue&quot;, &quot;fillOpacity&quot;: 0.6, &quot;fillRule&quot;: &quot;evenodd&quot;, &quot;lineCap&quot;: &quot;round&quot;, &quot;lineJoin&quot;: &quot;round&quot;, &quot;opacity&quot;: 1, &quot;radius&quot;: 6, &quot;stroke&quot;: false, &quot;weight&quot;: 3}\n",
       "            ).addTo(map_65086584e849e701b7a03696943cbf61);\n",
       "        \n",
       "    \n",
       "            var circle_marker_f063c9eea74dccca15646aff9c49aba6 = L.circleMarker(\n",
       "                [-34.60793518, -58.41047268],\n",
       "                {&quot;bubblingMouseEvents&quot;: true, &quot;color&quot;: &quot;cornflowerblue&quot;, &quot;dashArray&quot;: null, &quot;dashOffset&quot;: null, &quot;fill&quot;: true, &quot;fillColor&quot;: &quot;cornflowerblue&quot;, &quot;fillOpacity&quot;: 0.6, &quot;fillRule&quot;: &quot;evenodd&quot;, &quot;lineCap&quot;: &quot;round&quot;, &quot;lineJoin&quot;: &quot;round&quot;, &quot;opacity&quot;: 1, &quot;radius&quot;: 6, &quot;stroke&quot;: false, &quot;weight&quot;: 3}\n",
       "            ).addTo(map_65086584e849e701b7a03696943cbf61);\n",
       "        \n",
       "    \n",
       "            var circle_marker_a427da1669476d18f4801e55ae2dc7d8 = L.circleMarker(\n",
       "                [-34.6082544, -58.50095869],\n",
       "                {&quot;bubblingMouseEvents&quot;: true, &quot;color&quot;: &quot;cornflowerblue&quot;, &quot;dashArray&quot;: null, &quot;dashOffset&quot;: null, &quot;fill&quot;: true, &quot;fillColor&quot;: &quot;cornflowerblue&quot;, &quot;fillOpacity&quot;: 0.6, &quot;fillRule&quot;: &quot;evenodd&quot;, &quot;lineCap&quot;: &quot;round&quot;, &quot;lineJoin&quot;: &quot;round&quot;, &quot;opacity&quot;: 1, &quot;radius&quot;: 6, &quot;stroke&quot;: false, &quot;weight&quot;: 3}\n",
       "            ).addTo(map_65086584e849e701b7a03696943cbf61);\n",
       "        \n",
       "    \n",
       "            var circle_marker_7f4a087c55fa20c6927b9820fa7d9f2b = L.circleMarker(\n",
       "                [-34.6088396, -58.40603217],\n",
       "                {&quot;bubblingMouseEvents&quot;: true, &quot;color&quot;: &quot;cornflowerblue&quot;, &quot;dashArray&quot;: null, &quot;dashOffset&quot;: null, &quot;fill&quot;: true, &quot;fillColor&quot;: &quot;cornflowerblue&quot;, &quot;fillOpacity&quot;: 0.6, &quot;fillRule&quot;: &quot;evenodd&quot;, &quot;lineCap&quot;: &quot;round&quot;, &quot;lineJoin&quot;: &quot;round&quot;, &quot;opacity&quot;: 1, &quot;radius&quot;: 6, &quot;stroke&quot;: false, &quot;weight&quot;: 3}\n",
       "            ).addTo(map_65086584e849e701b7a03696943cbf61);\n",
       "        \n",
       "    \n",
       "            var circle_marker_48382c5f1aea9a013bc9cbb09fced047 = L.circleMarker(\n",
       "                [-34.67892743, -58.49683458],\n",
       "                {&quot;bubblingMouseEvents&quot;: true, &quot;color&quot;: &quot;cornflowerblue&quot;, &quot;dashArray&quot;: null, &quot;dashOffset&quot;: null, &quot;fill&quot;: true, &quot;fillColor&quot;: &quot;cornflowerblue&quot;, &quot;fillOpacity&quot;: 0.6, &quot;fillRule&quot;: &quot;evenodd&quot;, &quot;lineCap&quot;: &quot;round&quot;, &quot;lineJoin&quot;: &quot;round&quot;, &quot;opacity&quot;: 1, &quot;radius&quot;: 6, &quot;stroke&quot;: false, &quot;weight&quot;: 3}\n",
       "            ).addTo(map_65086584e849e701b7a03696943cbf61);\n",
       "        \n",
       "    \n",
       "            var circle_marker_0b4d25a899d9baeca883f3881b9f2023 = L.circleMarker(\n",
       "                [-34.60906385, -58.381542],\n",
       "                {&quot;bubblingMouseEvents&quot;: true, &quot;color&quot;: &quot;cornflowerblue&quot;, &quot;dashArray&quot;: null, &quot;dashOffset&quot;: null, &quot;fill&quot;: true, &quot;fillColor&quot;: &quot;cornflowerblue&quot;, &quot;fillOpacity&quot;: 0.6, &quot;fillRule&quot;: &quot;evenodd&quot;, &quot;lineCap&quot;: &quot;round&quot;, &quot;lineJoin&quot;: &quot;round&quot;, &quot;opacity&quot;: 1, &quot;radius&quot;: 6, &quot;stroke&quot;: false, &quot;weight&quot;: 3}\n",
       "            ).addTo(map_65086584e849e701b7a03696943cbf61);\n",
       "        \n",
       "    \n",
       "            var circle_marker_d0162e182cb2c25fc7552b59882c618d = L.circleMarker(\n",
       "                [-34.60907662, -58.46483679],\n",
       "                {&quot;bubblingMouseEvents&quot;: true, &quot;color&quot;: &quot;cornflowerblue&quot;, &quot;dashArray&quot;: null, &quot;dashOffset&quot;: null, &quot;fill&quot;: true, &quot;fillColor&quot;: &quot;cornflowerblue&quot;, &quot;fillOpacity&quot;: 0.6, &quot;fillRule&quot;: &quot;evenodd&quot;, &quot;lineCap&quot;: &quot;round&quot;, &quot;lineJoin&quot;: &quot;round&quot;, &quot;opacity&quot;: 1, &quot;radius&quot;: 6, &quot;stroke&quot;: false, &quot;weight&quot;: 3}\n",
       "            ).addTo(map_65086584e849e701b7a03696943cbf61);\n",
       "        \n",
       "    \n",
       "            var circle_marker_8d4ba07d0f7c786315b2447ddb26278d = L.circleMarker(\n",
       "                [-34.60919284, -58.39055614],\n",
       "                {&quot;bubblingMouseEvents&quot;: true, &quot;color&quot;: &quot;cornflowerblue&quot;, &quot;dashArray&quot;: null, &quot;dashOffset&quot;: null, &quot;fill&quot;: true, &quot;fillColor&quot;: &quot;cornflowerblue&quot;, &quot;fillOpacity&quot;: 0.6, &quot;fillRule&quot;: &quot;evenodd&quot;, &quot;lineCap&quot;: &quot;round&quot;, &quot;lineJoin&quot;: &quot;round&quot;, &quot;opacity&quot;: 1, &quot;radius&quot;: 6, &quot;stroke&quot;: false, &quot;weight&quot;: 3}\n",
       "            ).addTo(map_65086584e849e701b7a03696943cbf61);\n",
       "        \n",
       "    \n",
       "            var circle_marker_011b38784a6b0c6c294b186c35596823 = L.circleMarker(\n",
       "                [-34.60922259, -58.41178158],\n",
       "                {&quot;bubblingMouseEvents&quot;: true, &quot;color&quot;: &quot;cornflowerblue&quot;, &quot;dashArray&quot;: null, &quot;dashOffset&quot;: null, &quot;fill&quot;: true, &quot;fillColor&quot;: &quot;cornflowerblue&quot;, &quot;fillOpacity&quot;: 0.6, &quot;fillRule&quot;: &quot;evenodd&quot;, &quot;lineCap&quot;: &quot;round&quot;, &quot;lineJoin&quot;: &quot;round&quot;, &quot;opacity&quot;: 1, &quot;radius&quot;: 6, &quot;stroke&quot;: false, &quot;weight&quot;: 3}\n",
       "            ).addTo(map_65086584e849e701b7a03696943cbf61);\n",
       "        \n",
       "    \n",
       "            var circle_marker_50af5e2c754020858ef8913b4ea0026e = L.circleMarker(\n",
       "                [-34.60927582, -58.39337644],\n",
       "                {&quot;bubblingMouseEvents&quot;: true, &quot;color&quot;: &quot;cornflowerblue&quot;, &quot;dashArray&quot;: null, &quot;dashOffset&quot;: null, &quot;fill&quot;: true, &quot;fillColor&quot;: &quot;cornflowerblue&quot;, &quot;fillOpacity&quot;: 0.6, &quot;fillRule&quot;: &quot;evenodd&quot;, &quot;lineCap&quot;: &quot;round&quot;, &quot;lineJoin&quot;: &quot;round&quot;, &quot;opacity&quot;: 1, &quot;radius&quot;: 6, &quot;stroke&quot;: false, &quot;weight&quot;: 3}\n",
       "            ).addTo(map_65086584e849e701b7a03696943cbf61);\n",
       "        \n",
       "    \n",
       "            var circle_marker_afa2962b759b800b4c7f09206daf22ef = L.circleMarker(\n",
       "                [-34.60937557, -58.41458534],\n",
       "                {&quot;bubblingMouseEvents&quot;: true, &quot;color&quot;: &quot;cornflowerblue&quot;, &quot;dashArray&quot;: null, &quot;dashOffset&quot;: null, &quot;fill&quot;: true, &quot;fillColor&quot;: &quot;cornflowerblue&quot;, &quot;fillOpacity&quot;: 0.6, &quot;fillRule&quot;: &quot;evenodd&quot;, &quot;lineCap&quot;: &quot;round&quot;, &quot;lineJoin&quot;: &quot;round&quot;, &quot;opacity&quot;: 1, &quot;radius&quot;: 6, &quot;stroke&quot;: false, &quot;weight&quot;: 3}\n",
       "            ).addTo(map_65086584e849e701b7a03696943cbf61);\n",
       "        \n",
       "    \n",
       "            var circle_marker_79a261c02ad00297818d3ab1187f9ece = L.circleMarker(\n",
       "                [-34.60975108, -58.40258477],\n",
       "                {&quot;bubblingMouseEvents&quot;: true, &quot;color&quot;: &quot;cornflowerblue&quot;, &quot;dashArray&quot;: null, &quot;dashOffset&quot;: null, &quot;fill&quot;: true, &quot;fillColor&quot;: &quot;cornflowerblue&quot;, &quot;fillOpacity&quot;: 0.6, &quot;fillRule&quot;: &quot;evenodd&quot;, &quot;lineCap&quot;: &quot;round&quot;, &quot;lineJoin&quot;: &quot;round&quot;, &quot;opacity&quot;: 1, &quot;radius&quot;: 6, &quot;stroke&quot;: false, &quot;weight&quot;: 3}\n",
       "            ).addTo(map_65086584e849e701b7a03696943cbf61);\n",
       "        \n",
       "    \n",
       "            var circle_marker_02e6d1ac293812de4574b91072d4ab9b = L.circleMarker(\n",
       "                [-34.67732118, -58.49896559],\n",
       "                {&quot;bubblingMouseEvents&quot;: true, &quot;color&quot;: &quot;cornflowerblue&quot;, &quot;dashArray&quot;: null, &quot;dashOffset&quot;: null, &quot;fill&quot;: true, &quot;fillColor&quot;: &quot;cornflowerblue&quot;, &quot;fillOpacity&quot;: 0.6, &quot;fillRule&quot;: &quot;evenodd&quot;, &quot;lineCap&quot;: &quot;round&quot;, &quot;lineJoin&quot;: &quot;round&quot;, &quot;opacity&quot;: 1, &quot;radius&quot;: 6, &quot;stroke&quot;: false, &quot;weight&quot;: 3}\n",
       "            ).addTo(map_65086584e849e701b7a03696943cbf61);\n",
       "        \n",
       "    \n",
       "            var circle_marker_a371b9348380c7c49fcc1fc0f9dda369 = L.circleMarker(\n",
       "                [-34.61028571, -58.4659423],\n",
       "                {&quot;bubblingMouseEvents&quot;: true, &quot;color&quot;: &quot;cornflowerblue&quot;, &quot;dashArray&quot;: null, &quot;dashOffset&quot;: null, &quot;fill&quot;: true, &quot;fillColor&quot;: &quot;cornflowerblue&quot;, &quot;fillOpacity&quot;: 0.6, &quot;fillRule&quot;: &quot;evenodd&quot;, &quot;lineCap&quot;: &quot;round&quot;, &quot;lineJoin&quot;: &quot;round&quot;, &quot;opacity&quot;: 1, &quot;radius&quot;: 6, &quot;stroke&quot;: false, &quot;weight&quot;: 3}\n",
       "            ).addTo(map_65086584e849e701b7a03696943cbf61);\n",
       "        \n",
       "    \n",
       "            var circle_marker_fdfa5263de0bfb938934ff13b687bb07 = L.circleMarker(\n",
       "                [-34.67665828, -58.48432691],\n",
       "                {&quot;bubblingMouseEvents&quot;: true, &quot;color&quot;: &quot;cornflowerblue&quot;, &quot;dashArray&quot;: null, &quot;dashOffset&quot;: null, &quot;fill&quot;: true, &quot;fillColor&quot;: &quot;cornflowerblue&quot;, &quot;fillOpacity&quot;: 0.6, &quot;fillRule&quot;: &quot;evenodd&quot;, &quot;lineCap&quot;: &quot;round&quot;, &quot;lineJoin&quot;: &quot;round&quot;, &quot;opacity&quot;: 1, &quot;radius&quot;: 6, &quot;stroke&quot;: false, &quot;weight&quot;: 3}\n",
       "            ).addTo(map_65086584e849e701b7a03696943cbf61);\n",
       "        \n",
       "    \n",
       "            var circle_marker_9a1daff4829d6d857d82ebe0a623de85 = L.circleMarker(\n",
       "                [-34.61068024, -58.45227946],\n",
       "                {&quot;bubblingMouseEvents&quot;: true, &quot;color&quot;: &quot;cornflowerblue&quot;, &quot;dashArray&quot;: null, &quot;dashOffset&quot;: null, &quot;fill&quot;: true, &quot;fillColor&quot;: &quot;cornflowerblue&quot;, &quot;fillOpacity&quot;: 0.6, &quot;fillRule&quot;: &quot;evenodd&quot;, &quot;lineCap&quot;: &quot;round&quot;, &quot;lineJoin&quot;: &quot;round&quot;, &quot;opacity&quot;: 1, &quot;radius&quot;: 6, &quot;stroke&quot;: false, &quot;weight&quot;: 3}\n",
       "            ).addTo(map_65086584e849e701b7a03696943cbf61);\n",
       "        \n",
       "    \n",
       "            var circle_marker_bc393046be511b048cd493ad2813a940 = L.circleMarker(\n",
       "                [-34.6107166, -58.42891604],\n",
       "                {&quot;bubblingMouseEvents&quot;: true, &quot;color&quot;: &quot;cornflowerblue&quot;, &quot;dashArray&quot;: null, &quot;dashOffset&quot;: null, &quot;fill&quot;: true, &quot;fillColor&quot;: &quot;cornflowerblue&quot;, &quot;fillOpacity&quot;: 0.6, &quot;fillRule&quot;: &quot;evenodd&quot;, &quot;lineCap&quot;: &quot;round&quot;, &quot;lineJoin&quot;: &quot;round&quot;, &quot;opacity&quot;: 1, &quot;radius&quot;: 6, &quot;stroke&quot;: false, &quot;weight&quot;: 3}\n",
       "            ).addTo(map_65086584e849e701b7a03696943cbf61);\n",
       "        \n",
       "    \n",
       "            var circle_marker_0351c664fbb6404127538170b1468c22 = L.circleMarker(\n",
       "                [-34.61079875, -58.38144696],\n",
       "                {&quot;bubblingMouseEvents&quot;: true, &quot;color&quot;: &quot;cornflowerblue&quot;, &quot;dashArray&quot;: null, &quot;dashOffset&quot;: null, &quot;fill&quot;: true, &quot;fillColor&quot;: &quot;cornflowerblue&quot;, &quot;fillOpacity&quot;: 0.6, &quot;fillRule&quot;: &quot;evenodd&quot;, &quot;lineCap&quot;: &quot;round&quot;, &quot;lineJoin&quot;: &quot;round&quot;, &quot;opacity&quot;: 1, &quot;radius&quot;: 6, &quot;stroke&quot;: false, &quot;weight&quot;: 3}\n",
       "            ).addTo(map_65086584e849e701b7a03696943cbf61);\n",
       "        \n",
       "    \n",
       "            var circle_marker_15bd303021235f25baa2c0bef70e6a9d = L.circleMarker(\n",
       "                [-34.61098186, -58.52933723],\n",
       "                {&quot;bubblingMouseEvents&quot;: true, &quot;color&quot;: &quot;cornflowerblue&quot;, &quot;dashArray&quot;: null, &quot;dashOffset&quot;: null, &quot;fill&quot;: true, &quot;fillColor&quot;: &quot;cornflowerblue&quot;, &quot;fillOpacity&quot;: 0.6, &quot;fillRule&quot;: &quot;evenodd&quot;, &quot;lineCap&quot;: &quot;round&quot;, &quot;lineJoin&quot;: &quot;round&quot;, &quot;opacity&quot;: 1, &quot;radius&quot;: 6, &quot;stroke&quot;: false, &quot;weight&quot;: 3}\n",
       "            ).addTo(map_65086584e849e701b7a03696943cbf61);\n",
       "        \n",
       "    \n",
       "            var circle_marker_d8727e38a5697242dfb93db5296b50c1 = L.circleMarker(\n",
       "                [-34.59407024, -58.52037476],\n",
       "                {&quot;bubblingMouseEvents&quot;: true, &quot;color&quot;: &quot;cornflowerblue&quot;, &quot;dashArray&quot;: null, &quot;dashOffset&quot;: null, &quot;fill&quot;: true, &quot;fillColor&quot;: &quot;cornflowerblue&quot;, &quot;fillOpacity&quot;: 0.6, &quot;fillRule&quot;: &quot;evenodd&quot;, &quot;lineCap&quot;: &quot;round&quot;, &quot;lineJoin&quot;: &quot;round&quot;, &quot;opacity&quot;: 1, &quot;radius&quot;: 6, &quot;stroke&quot;: false, &quot;weight&quot;: 3}\n",
       "            ).addTo(map_65086584e849e701b7a03696943cbf61);\n",
       "        \n",
       "    \n",
       "            var circle_marker_a048ea05edd55f628bc364435b7db774 = L.circleMarker(\n",
       "                [-34.68092974, -58.46503904],\n",
       "                {&quot;bubblingMouseEvents&quot;: true, &quot;color&quot;: &quot;cornflowerblue&quot;, &quot;dashArray&quot;: null, &quot;dashOffset&quot;: null, &quot;fill&quot;: true, &quot;fillColor&quot;: &quot;cornflowerblue&quot;, &quot;fillOpacity&quot;: 0.6, &quot;fillRule&quot;: &quot;evenodd&quot;, &quot;lineCap&quot;: &quot;round&quot;, &quot;lineJoin&quot;: &quot;round&quot;, &quot;opacity&quot;: 1, &quot;radius&quot;: 6, &quot;stroke&quot;: false, &quot;weight&quot;: 3}\n",
       "            ).addTo(map_65086584e849e701b7a03696943cbf61);\n",
       "        \n",
       "    \n",
       "            var circle_marker_053144e55b1d6829d7f5e15b867bc42d = L.circleMarker(\n",
       "                [-34.59322448, -58.4495878],\n",
       "                {&quot;bubblingMouseEvents&quot;: true, &quot;color&quot;: &quot;cornflowerblue&quot;, &quot;dashArray&quot;: null, &quot;dashOffset&quot;: null, &quot;fill&quot;: true, &quot;fillColor&quot;: &quot;cornflowerblue&quot;, &quot;fillOpacity&quot;: 0.6, &quot;fillRule&quot;: &quot;evenodd&quot;, &quot;lineCap&quot;: &quot;round&quot;, &quot;lineJoin&quot;: &quot;round&quot;, &quot;opacity&quot;: 1, &quot;radius&quot;: 6, &quot;stroke&quot;: false, &quot;weight&quot;: 3}\n",
       "            ).addTo(map_65086584e849e701b7a03696943cbf61);\n",
       "        \n",
       "    \n",
       "            var circle_marker_3ae77c076ad0966c7c9645e797635ce5 = L.circleMarker(\n",
       "                [-34.5578132, -58.45200171],\n",
       "                {&quot;bubblingMouseEvents&quot;: true, &quot;color&quot;: &quot;cornflowerblue&quot;, &quot;dashArray&quot;: null, &quot;dashOffset&quot;: null, &quot;fill&quot;: true, &quot;fillColor&quot;: &quot;cornflowerblue&quot;, &quot;fillOpacity&quot;: 0.6, &quot;fillRule&quot;: &quot;evenodd&quot;, &quot;lineCap&quot;: &quot;round&quot;, &quot;lineJoin&quot;: &quot;round&quot;, &quot;opacity&quot;: 1, &quot;radius&quot;: 6, &quot;stroke&quot;: false, &quot;weight&quot;: 3}\n",
       "            ).addTo(map_65086584e849e701b7a03696943cbf61);\n",
       "        \n",
       "    \n",
       "            var circle_marker_e5315b70dba4d8454c2dd15de340941d = L.circleMarker(\n",
       "                [-34.55922742, -58.4590967],\n",
       "                {&quot;bubblingMouseEvents&quot;: true, &quot;color&quot;: &quot;cornflowerblue&quot;, &quot;dashArray&quot;: null, &quot;dashOffset&quot;: null, &quot;fill&quot;: true, &quot;fillColor&quot;: &quot;cornflowerblue&quot;, &quot;fillOpacity&quot;: 0.6, &quot;fillRule&quot;: &quot;evenodd&quot;, &quot;lineCap&quot;: &quot;round&quot;, &quot;lineJoin&quot;: &quot;round&quot;, &quot;opacity&quot;: 1, &quot;radius&quot;: 6, &quot;stroke&quot;: false, &quot;weight&quot;: 3}\n",
       "            ).addTo(map_65086584e849e701b7a03696943cbf61);\n",
       "        \n",
       "    \n",
       "            var circle_marker_9586564465394f42e679137a3d69883e = L.circleMarker(\n",
       "                [-34.55953855, -58.44523595],\n",
       "                {&quot;bubblingMouseEvents&quot;: true, &quot;color&quot;: &quot;cornflowerblue&quot;, &quot;dashArray&quot;: null, &quot;dashOffset&quot;: null, &quot;fill&quot;: true, &quot;fillColor&quot;: &quot;cornflowerblue&quot;, &quot;fillOpacity&quot;: 0.6, &quot;fillRule&quot;: &quot;evenodd&quot;, &quot;lineCap&quot;: &quot;round&quot;, &quot;lineJoin&quot;: &quot;round&quot;, &quot;opacity&quot;: 1, &quot;radius&quot;: 6, &quot;stroke&quot;: false, &quot;weight&quot;: 3}\n",
       "            ).addTo(map_65086584e849e701b7a03696943cbf61);\n",
       "        \n",
       "    \n",
       "            var circle_marker_c4d402dc9c8b73a72ef04a2173dd67b0 = L.circleMarker(\n",
       "                [-34.56015762, -58.45829717],\n",
       "                {&quot;bubblingMouseEvents&quot;: true, &quot;color&quot;: &quot;cornflowerblue&quot;, &quot;dashArray&quot;: null, &quot;dashOffset&quot;: null, &quot;fill&quot;: true, &quot;fillColor&quot;: &quot;cornflowerblue&quot;, &quot;fillOpacity&quot;: 0.6, &quot;fillRule&quot;: &quot;evenodd&quot;, &quot;lineCap&quot;: &quot;round&quot;, &quot;lineJoin&quot;: &quot;round&quot;, &quot;opacity&quot;: 1, &quot;radius&quot;: 6, &quot;stroke&quot;: false, &quot;weight&quot;: 3}\n",
       "            ).addTo(map_65086584e849e701b7a03696943cbf61);\n",
       "        \n",
       "    \n",
       "            var circle_marker_0e24e438c76d619d6c92c71918ac179d = L.circleMarker(\n",
       "                [-34.56147293, -58.45566399],\n",
       "                {&quot;bubblingMouseEvents&quot;: true, &quot;color&quot;: &quot;cornflowerblue&quot;, &quot;dashArray&quot;: null, &quot;dashOffset&quot;: null, &quot;fill&quot;: true, &quot;fillColor&quot;: &quot;cornflowerblue&quot;, &quot;fillOpacity&quot;: 0.6, &quot;fillRule&quot;: &quot;evenodd&quot;, &quot;lineCap&quot;: &quot;round&quot;, &quot;lineJoin&quot;: &quot;round&quot;, &quot;opacity&quot;: 1, &quot;radius&quot;: 6, &quot;stroke&quot;: false, &quot;weight&quot;: 3}\n",
       "            ).addTo(map_65086584e849e701b7a03696943cbf61);\n",
       "        \n",
       "    \n",
       "            var circle_marker_2f7bafe22e2c251b9368c018954bb933 = L.circleMarker(\n",
       "                [-34.56166498, -58.45849057],\n",
       "                {&quot;bubblingMouseEvents&quot;: true, &quot;color&quot;: &quot;cornflowerblue&quot;, &quot;dashArray&quot;: null, &quot;dashOffset&quot;: null, &quot;fill&quot;: true, &quot;fillColor&quot;: &quot;cornflowerblue&quot;, &quot;fillOpacity&quot;: 0.6, &quot;fillRule&quot;: &quot;evenodd&quot;, &quot;lineCap&quot;: &quot;round&quot;, &quot;lineJoin&quot;: &quot;round&quot;, &quot;opacity&quot;: 1, &quot;radius&quot;: 6, &quot;stroke&quot;: false, &quot;weight&quot;: 3}\n",
       "            ).addTo(map_65086584e849e701b7a03696943cbf61);\n",
       "        \n",
       "    \n",
       "            var circle_marker_0e93d867f1160e9c990f5f314140d548 = L.circleMarker(\n",
       "                [-34.56201105, -58.44462132],\n",
       "                {&quot;bubblingMouseEvents&quot;: true, &quot;color&quot;: &quot;cornflowerblue&quot;, &quot;dashArray&quot;: null, &quot;dashOffset&quot;: null, &quot;fill&quot;: true, &quot;fillColor&quot;: &quot;cornflowerblue&quot;, &quot;fillOpacity&quot;: 0.6, &quot;fillRule&quot;: &quot;evenodd&quot;, &quot;lineCap&quot;: &quot;round&quot;, &quot;lineJoin&quot;: &quot;round&quot;, &quot;opacity&quot;: 1, &quot;radius&quot;: 6, &quot;stroke&quot;: false, &quot;weight&quot;: 3}\n",
       "            ).addTo(map_65086584e849e701b7a03696943cbf61);\n",
       "        \n",
       "    \n",
       "            var circle_marker_eabafceca23d2da1adb5f0ce2bc9e8df = L.circleMarker(\n",
       "                [-34.5620361, -58.45669422],\n",
       "                {&quot;bubblingMouseEvents&quot;: true, &quot;color&quot;: &quot;cornflowerblue&quot;, &quot;dashArray&quot;: null, &quot;dashOffset&quot;: null, &quot;fill&quot;: true, &quot;fillColor&quot;: &quot;cornflowerblue&quot;, &quot;fillOpacity&quot;: 0.6, &quot;fillRule&quot;: &quot;evenodd&quot;, &quot;lineCap&quot;: &quot;round&quot;, &quot;lineJoin&quot;: &quot;round&quot;, &quot;opacity&quot;: 1, &quot;radius&quot;: 6, &quot;stroke&quot;: false, &quot;weight&quot;: 3}\n",
       "            ).addTo(map_65086584e849e701b7a03696943cbf61);\n",
       "        \n",
       "    \n",
       "            var circle_marker_c8870e6c4c50a81ef4386516d50cde99 = L.circleMarker(\n",
       "                [-34.56213916, -58.42406784],\n",
       "                {&quot;bubblingMouseEvents&quot;: true, &quot;color&quot;: &quot;cornflowerblue&quot;, &quot;dashArray&quot;: null, &quot;dashOffset&quot;: null, &quot;fill&quot;: true, &quot;fillColor&quot;: &quot;cornflowerblue&quot;, &quot;fillOpacity&quot;: 0.6, &quot;fillRule&quot;: &quot;evenodd&quot;, &quot;lineCap&quot;: &quot;round&quot;, &quot;lineJoin&quot;: &quot;round&quot;, &quot;opacity&quot;: 1, &quot;radius&quot;: 6, &quot;stroke&quot;: false, &quot;weight&quot;: 3}\n",
       "            ).addTo(map_65086584e849e701b7a03696943cbf61);\n",
       "        \n",
       "    \n",
       "            var circle_marker_26f7cbbfc707f47c18823ec1371ffbe8 = L.circleMarker(\n",
       "                [-34.56219075, -58.46649069],\n",
       "                {&quot;bubblingMouseEvents&quot;: true, &quot;color&quot;: &quot;cornflowerblue&quot;, &quot;dashArray&quot;: null, &quot;dashOffset&quot;: null, &quot;fill&quot;: true, &quot;fillColor&quot;: &quot;cornflowerblue&quot;, &quot;fillOpacity&quot;: 0.6, &quot;fillRule&quot;: &quot;evenodd&quot;, &quot;lineCap&quot;: &quot;round&quot;, &quot;lineJoin&quot;: &quot;round&quot;, &quot;opacity&quot;: 1, &quot;radius&quot;: 6, &quot;stroke&quot;: false, &quot;weight&quot;: 3}\n",
       "            ).addTo(map_65086584e849e701b7a03696943cbf61);\n",
       "        \n",
       "    \n",
       "            var circle_marker_6142039919bece67179e99d711a8d57c = L.circleMarker(\n",
       "                [-34.68482689, -58.47230127],\n",
       "                {&quot;bubblingMouseEvents&quot;: true, &quot;color&quot;: &quot;cornflowerblue&quot;, &quot;dashArray&quot;: null, &quot;dashOffset&quot;: null, &quot;fill&quot;: true, &quot;fillColor&quot;: &quot;cornflowerblue&quot;, &quot;fillOpacity&quot;: 0.6, &quot;fillRule&quot;: &quot;evenodd&quot;, &quot;lineCap&quot;: &quot;round&quot;, &quot;lineJoin&quot;: &quot;round&quot;, &quot;opacity&quot;: 1, &quot;radius&quot;: 6, &quot;stroke&quot;: false, &quot;weight&quot;: 3}\n",
       "            ).addTo(map_65086584e849e701b7a03696943cbf61);\n",
       "        \n",
       "    \n",
       "            var circle_marker_ea343f80b065788f85c747e13fc1fe7b = L.circleMarker(\n",
       "                [-34.5637998, -58.50598256],\n",
       "                {&quot;bubblingMouseEvents&quot;: true, &quot;color&quot;: &quot;cornflowerblue&quot;, &quot;dashArray&quot;: null, &quot;dashOffset&quot;: null, &quot;fill&quot;: true, &quot;fillColor&quot;: &quot;cornflowerblue&quot;, &quot;fillOpacity&quot;: 0.6, &quot;fillRule&quot;: &quot;evenodd&quot;, &quot;lineCap&quot;: &quot;round&quot;, &quot;lineJoin&quot;: &quot;round&quot;, &quot;opacity&quot;: 1, &quot;radius&quot;: 6, &quot;stroke&quot;: false, &quot;weight&quot;: 3}\n",
       "            ).addTo(map_65086584e849e701b7a03696943cbf61);\n",
       "        \n",
       "    \n",
       "            var circle_marker_4ff6c6fda3822a002a8898b28d8dde8e = L.circleMarker(\n",
       "                [-34.56403694, -58.42260225],\n",
       "                {&quot;bubblingMouseEvents&quot;: true, &quot;color&quot;: &quot;cornflowerblue&quot;, &quot;dashArray&quot;: null, &quot;dashOffset&quot;: null, &quot;fill&quot;: true, &quot;fillColor&quot;: &quot;cornflowerblue&quot;, &quot;fillOpacity&quot;: 0.6, &quot;fillRule&quot;: &quot;evenodd&quot;, &quot;lineCap&quot;: &quot;round&quot;, &quot;lineJoin&quot;: &quot;round&quot;, &quot;opacity&quot;: 1, &quot;radius&quot;: 6, &quot;stroke&quot;: false, &quot;weight&quot;: 3}\n",
       "            ).addTo(map_65086584e849e701b7a03696943cbf61);\n",
       "        \n",
       "    \n",
       "            var circle_marker_a7e8723bbf89521d284d972efb5ad358 = L.circleMarker(\n",
       "                [-34.56539579, -58.42008769],\n",
       "                {&quot;bubblingMouseEvents&quot;: true, &quot;color&quot;: &quot;cornflowerblue&quot;, &quot;dashArray&quot;: null, &quot;dashOffset&quot;: null, &quot;fill&quot;: true, &quot;fillColor&quot;: &quot;cornflowerblue&quot;, &quot;fillOpacity&quot;: 0.6, &quot;fillRule&quot;: &quot;evenodd&quot;, &quot;lineCap&quot;: &quot;round&quot;, &quot;lineJoin&quot;: &quot;round&quot;, &quot;opacity&quot;: 1, &quot;radius&quot;: 6, &quot;stroke&quot;: false, &quot;weight&quot;: 3}\n",
       "            ).addTo(map_65086584e849e701b7a03696943cbf61);\n",
       "        \n",
       "    \n",
       "            var circle_marker_5fb1200222407dedc319e30cd618d7d8 = L.circleMarker(\n",
       "                [-34.56726817, -58.40786274],\n",
       "                {&quot;bubblingMouseEvents&quot;: true, &quot;color&quot;: &quot;cornflowerblue&quot;, &quot;dashArray&quot;: null, &quot;dashOffset&quot;: null, &quot;fill&quot;: true, &quot;fillColor&quot;: &quot;cornflowerblue&quot;, &quot;fillOpacity&quot;: 0.6, &quot;fillRule&quot;: &quot;evenodd&quot;, &quot;lineCap&quot;: &quot;round&quot;, &quot;lineJoin&quot;: &quot;round&quot;, &quot;opacity&quot;: 1, &quot;radius&quot;: 6, &quot;stroke&quot;: false, &quot;weight&quot;: 3}\n",
       "            ).addTo(map_65086584e849e701b7a03696943cbf61);\n",
       "        \n",
       "    \n",
       "            var circle_marker_a876586e20025eaf11a60120b6688431 = L.circleMarker(\n",
       "                [-34.56767549, -58.5015175],\n",
       "                {&quot;bubblingMouseEvents&quot;: true, &quot;color&quot;: &quot;cornflowerblue&quot;, &quot;dashArray&quot;: null, &quot;dashOffset&quot;: null, &quot;fill&quot;: true, &quot;fillColor&quot;: &quot;cornflowerblue&quot;, &quot;fillOpacity&quot;: 0.6, &quot;fillRule&quot;: &quot;evenodd&quot;, &quot;lineCap&quot;: &quot;round&quot;, &quot;lineJoin&quot;: &quot;round&quot;, &quot;opacity&quot;: 1, &quot;radius&quot;: 6, &quot;stroke&quot;: false, &quot;weight&quot;: 3}\n",
       "            ).addTo(map_65086584e849e701b7a03696943cbf61);\n",
       "        \n",
       "    \n",
       "            var circle_marker_1eec5e4b07ccde6896eac008fc1a41c9 = L.circleMarker(\n",
       "                [-34.56786129, -58.48661286],\n",
       "                {&quot;bubblingMouseEvents&quot;: true, &quot;color&quot;: &quot;cornflowerblue&quot;, &quot;dashArray&quot;: null, &quot;dashOffset&quot;: null, &quot;fill&quot;: true, &quot;fillColor&quot;: &quot;cornflowerblue&quot;, &quot;fillOpacity&quot;: 0.6, &quot;fillRule&quot;: &quot;evenodd&quot;, &quot;lineCap&quot;: &quot;round&quot;, &quot;lineJoin&quot;: &quot;round&quot;, &quot;opacity&quot;: 1, &quot;radius&quot;: 6, &quot;stroke&quot;: false, &quot;weight&quot;: 3}\n",
       "            ).addTo(map_65086584e849e701b7a03696943cbf61);\n",
       "        \n",
       "    \n",
       "            var circle_marker_ad92a4e1aa6c8c2ed9b05bc2db5bdca2 = L.circleMarker(\n",
       "                [-34.5688864, -58.44704343],\n",
       "                {&quot;bubblingMouseEvents&quot;: true, &quot;color&quot;: &quot;cornflowerblue&quot;, &quot;dashArray&quot;: null, &quot;dashOffset&quot;: null, &quot;fill&quot;: true, &quot;fillColor&quot;: &quot;cornflowerblue&quot;, &quot;fillOpacity&quot;: 0.6, &quot;fillRule&quot;: &quot;evenodd&quot;, &quot;lineCap&quot;: &quot;round&quot;, &quot;lineJoin&quot;: &quot;round&quot;, &quot;opacity&quot;: 1, &quot;radius&quot;: 6, &quot;stroke&quot;: false, &quot;weight&quot;: 3}\n",
       "            ).addTo(map_65086584e849e701b7a03696943cbf61);\n",
       "        \n",
       "    \n",
       "            var circle_marker_3ebfdc668eb7d1fdff6eff9a96031096 = L.circleMarker(\n",
       "                [-34.56919739, -58.50993046],\n",
       "                {&quot;bubblingMouseEvents&quot;: true, &quot;color&quot;: &quot;cornflowerblue&quot;, &quot;dashArray&quot;: null, &quot;dashOffset&quot;: null, &quot;fill&quot;: true, &quot;fillColor&quot;: &quot;cornflowerblue&quot;, &quot;fillOpacity&quot;: 0.6, &quot;fillRule&quot;: &quot;evenodd&quot;, &quot;lineCap&quot;: &quot;round&quot;, &quot;lineJoin&quot;: &quot;round&quot;, &quot;opacity&quot;: 1, &quot;radius&quot;: 6, &quot;stroke&quot;: false, &quot;weight&quot;: 3}\n",
       "            ).addTo(map_65086584e849e701b7a03696943cbf61);\n",
       "        \n",
       "    \n",
       "            var circle_marker_d1ad00426575c8280ca81590540bea1c = L.circleMarker(\n",
       "                [-34.5698141, -58.49026573],\n",
       "                {&quot;bubblingMouseEvents&quot;: true, &quot;color&quot;: &quot;cornflowerblue&quot;, &quot;dashArray&quot;: null, &quot;dashOffset&quot;: null, &quot;fill&quot;: true, &quot;fillColor&quot;: &quot;cornflowerblue&quot;, &quot;fillOpacity&quot;: 0.6, &quot;fillRule&quot;: &quot;evenodd&quot;, &quot;lineCap&quot;: &quot;round&quot;, &quot;lineJoin&quot;: &quot;round&quot;, &quot;opacity&quot;: 1, &quot;radius&quot;: 6, &quot;stroke&quot;: false, &quot;weight&quot;: 3}\n",
       "            ).addTo(map_65086584e849e701b7a03696943cbf61);\n",
       "        \n",
       "    \n",
       "            var circle_marker_700c075be2a4cfc32ffb523e4bc46f45 = L.circleMarker(\n",
       "                [-34.57084818, -58.44537508],\n",
       "                {&quot;bubblingMouseEvents&quot;: true, &quot;color&quot;: &quot;cornflowerblue&quot;, &quot;dashArray&quot;: null, &quot;dashOffset&quot;: null, &quot;fill&quot;: true, &quot;fillColor&quot;: &quot;cornflowerblue&quot;, &quot;fillOpacity&quot;: 0.6, &quot;fillRule&quot;: &quot;evenodd&quot;, &quot;lineCap&quot;: &quot;round&quot;, &quot;lineJoin&quot;: &quot;round&quot;, &quot;opacity&quot;: 1, &quot;radius&quot;: 6, &quot;stroke&quot;: false, &quot;weight&quot;: 3}\n",
       "            ).addTo(map_65086584e849e701b7a03696943cbf61);\n",
       "        \n",
       "    \n",
       "            var circle_marker_a33e904ee6fd8022582bef22c81d9d48 = L.circleMarker(\n",
       "                [-34.57121563, -58.47969138],\n",
       "                {&quot;bubblingMouseEvents&quot;: true, &quot;color&quot;: &quot;cornflowerblue&quot;, &quot;dashArray&quot;: null, &quot;dashOffset&quot;: null, &quot;fill&quot;: true, &quot;fillColor&quot;: &quot;cornflowerblue&quot;, &quot;fillOpacity&quot;: 0.6, &quot;fillRule&quot;: &quot;evenodd&quot;, &quot;lineCap&quot;: &quot;round&quot;, &quot;lineJoin&quot;: &quot;round&quot;, &quot;opacity&quot;: 1, &quot;radius&quot;: 6, &quot;stroke&quot;: false, &quot;weight&quot;: 3}\n",
       "            ).addTo(map_65086584e849e701b7a03696943cbf61);\n",
       "        \n",
       "    \n",
       "            var circle_marker_608dd9cc59353b53ad51dfb917488424 = L.circleMarker(\n",
       "                [-34.57208238, -58.48250732],\n",
       "                {&quot;bubblingMouseEvents&quot;: true, &quot;color&quot;: &quot;cornflowerblue&quot;, &quot;dashArray&quot;: null, &quot;dashOffset&quot;: null, &quot;fill&quot;: true, &quot;fillColor&quot;: &quot;cornflowerblue&quot;, &quot;fillOpacity&quot;: 0.6, &quot;fillRule&quot;: &quot;evenodd&quot;, &quot;lineCap&quot;: &quot;round&quot;, &quot;lineJoin&quot;: &quot;round&quot;, &quot;opacity&quot;: 1, &quot;radius&quot;: 6, &quot;stroke&quot;: false, &quot;weight&quot;: 3}\n",
       "            ).addTo(map_65086584e849e701b7a03696943cbf61);\n",
       "        \n",
       "    \n",
       "            var circle_marker_b56fc137d91598f3e228bbed108e4a99 = L.circleMarker(\n",
       "                [-34.57241534, -58.39490504],\n",
       "                {&quot;bubblingMouseEvents&quot;: true, &quot;color&quot;: &quot;cornflowerblue&quot;, &quot;dashArray&quot;: null, &quot;dashOffset&quot;: null, &quot;fill&quot;: true, &quot;fillColor&quot;: &quot;cornflowerblue&quot;, &quot;fillOpacity&quot;: 0.6, &quot;fillRule&quot;: &quot;evenodd&quot;, &quot;lineCap&quot;: &quot;round&quot;, &quot;lineJoin&quot;: &quot;round&quot;, &quot;opacity&quot;: 1, &quot;radius&quot;: 6, &quot;stroke&quot;: false, &quot;weight&quot;: 3}\n",
       "            ).addTo(map_65086584e849e701b7a03696943cbf61);\n",
       "        \n",
       "    \n",
       "            var circle_marker_0b67be7479249ace6581d52036444b53 = L.circleMarker(\n",
       "                [-34.57251072, -58.50997604],\n",
       "                {&quot;bubblingMouseEvents&quot;: true, &quot;color&quot;: &quot;cornflowerblue&quot;, &quot;dashArray&quot;: null, &quot;dashOffset&quot;: null, &quot;fill&quot;: true, &quot;fillColor&quot;: &quot;cornflowerblue&quot;, &quot;fillOpacity&quot;: 0.6, &quot;fillRule&quot;: &quot;evenodd&quot;, &quot;lineCap&quot;: &quot;round&quot;, &quot;lineJoin&quot;: &quot;round&quot;, &quot;opacity&quot;: 1, &quot;radius&quot;: 6, &quot;stroke&quot;: false, &quot;weight&quot;: 3}\n",
       "            ).addTo(map_65086584e849e701b7a03696943cbf61);\n",
       "        \n",
       "    \n",
       "            var circle_marker_d80fd3c90fb621ff7a562b33fc52f33a = L.circleMarker(\n",
       "                [-34.57305993, -58.45686132],\n",
       "                {&quot;bubblingMouseEvents&quot;: true, &quot;color&quot;: &quot;cornflowerblue&quot;, &quot;dashArray&quot;: null, &quot;dashOffset&quot;: null, &quot;fill&quot;: true, &quot;fillColor&quot;: &quot;cornflowerblue&quot;, &quot;fillOpacity&quot;: 0.6, &quot;fillRule&quot;: &quot;evenodd&quot;, &quot;lineCap&quot;: &quot;round&quot;, &quot;lineJoin&quot;: &quot;round&quot;, &quot;opacity&quot;: 1, &quot;radius&quot;: 6, &quot;stroke&quot;: false, &quot;weight&quot;: 3}\n",
       "            ).addTo(map_65086584e849e701b7a03696943cbf61);\n",
       "        \n",
       "    \n",
       "            var circle_marker_1747159fb707531a923b22e7adcdfa07 = L.circleMarker(\n",
       "                [-34.57418656, -58.47973681],\n",
       "                {&quot;bubblingMouseEvents&quot;: true, &quot;color&quot;: &quot;cornflowerblue&quot;, &quot;dashArray&quot;: null, &quot;dashOffset&quot;: null, &quot;fill&quot;: true, &quot;fillColor&quot;: &quot;cornflowerblue&quot;, &quot;fillOpacity&quot;: 0.6, &quot;fillRule&quot;: &quot;evenodd&quot;, &quot;lineCap&quot;: &quot;round&quot;, &quot;lineJoin&quot;: &quot;round&quot;, &quot;opacity&quot;: 1, &quot;radius&quot;: 6, &quot;stroke&quot;: false, &quot;weight&quot;: 3}\n",
       "            ).addTo(map_65086584e849e701b7a03696943cbf61);\n",
       "        \n",
       "    \n",
       "            var circle_marker_85837570fe1ebed3b1af88893d3a03e9 = L.circleMarker(\n",
       "                [-34.57558053, -58.4842918],\n",
       "                {&quot;bubblingMouseEvents&quot;: true, &quot;color&quot;: &quot;cornflowerblue&quot;, &quot;dashArray&quot;: null, &quot;dashOffset&quot;: null, &quot;fill&quot;: true, &quot;fillColor&quot;: &quot;cornflowerblue&quot;, &quot;fillOpacity&quot;: 0.6, &quot;fillRule&quot;: &quot;evenodd&quot;, &quot;lineCap&quot;: &quot;round&quot;, &quot;lineJoin&quot;: &quot;round&quot;, &quot;opacity&quot;: 1, &quot;radius&quot;: 6, &quot;stroke&quot;: false, &quot;weight&quot;: 3}\n",
       "            ).addTo(map_65086584e849e701b7a03696943cbf61);\n",
       "        \n",
       "    \n",
       "            var circle_marker_51166ace76b50438f5a39e5b231569bf = L.circleMarker(\n",
       "                [-34.57563957, -58.39257023],\n",
       "                {&quot;bubblingMouseEvents&quot;: true, &quot;color&quot;: &quot;cornflowerblue&quot;, &quot;dashArray&quot;: null, &quot;dashOffset&quot;: null, &quot;fill&quot;: true, &quot;fillColor&quot;: &quot;cornflowerblue&quot;, &quot;fillOpacity&quot;: 0.6, &quot;fillRule&quot;: &quot;evenodd&quot;, &quot;lineCap&quot;: &quot;round&quot;, &quot;lineJoin&quot;: &quot;round&quot;, &quot;opacity&quot;: 1, &quot;radius&quot;: 6, &quot;stroke&quot;: false, &quot;weight&quot;: 3}\n",
       "            ).addTo(map_65086584e849e701b7a03696943cbf61);\n",
       "        \n",
       "    \n",
       "            var circle_marker_f9cb52511d50a44d6a933111b51cf6e0 = L.circleMarker(\n",
       "                [-34.57579669, -58.41316147],\n",
       "                {&quot;bubblingMouseEvents&quot;: true, &quot;color&quot;: &quot;cornflowerblue&quot;, &quot;dashArray&quot;: null, &quot;dashOffset&quot;: null, &quot;fill&quot;: true, &quot;fillColor&quot;: &quot;cornflowerblue&quot;, &quot;fillOpacity&quot;: 0.6, &quot;fillRule&quot;: &quot;evenodd&quot;, &quot;lineCap&quot;: &quot;round&quot;, &quot;lineJoin&quot;: &quot;round&quot;, &quot;opacity&quot;: 1, &quot;radius&quot;: 6, &quot;stroke&quot;: false, &quot;weight&quot;: 3}\n",
       "            ).addTo(map_65086584e849e701b7a03696943cbf61);\n",
       "        \n",
       "    \n",
       "            var circle_marker_ed1ea3a3228445de7ca441c75b00d8ae = L.circleMarker(\n",
       "                [-34.55904606, -58.4872106],\n",
       "                {&quot;bubblingMouseEvents&quot;: true, &quot;color&quot;: &quot;cornflowerblue&quot;, &quot;dashArray&quot;: null, &quot;dashOffset&quot;: null, &quot;fill&quot;: true, &quot;fillColor&quot;: &quot;cornflowerblue&quot;, &quot;fillOpacity&quot;: 0.6, &quot;fillRule&quot;: &quot;evenodd&quot;, &quot;lineCap&quot;: &quot;round&quot;, &quot;lineJoin&quot;: &quot;round&quot;, &quot;opacity&quot;: 1, &quot;radius&quot;: 6, &quot;stroke&quot;: false, &quot;weight&quot;: 3}\n",
       "            ).addTo(map_65086584e849e701b7a03696943cbf61);\n",
       "        \n",
       "    \n",
       "            var circle_marker_1a7a0274eb218fec4b4c61aecc79063e = L.circleMarker(\n",
       "                [-34.55760517, -58.44196498],\n",
       "                {&quot;bubblingMouseEvents&quot;: true, &quot;color&quot;: &quot;cornflowerblue&quot;, &quot;dashArray&quot;: null, &quot;dashOffset&quot;: null, &quot;fill&quot;: true, &quot;fillColor&quot;: &quot;cornflowerblue&quot;, &quot;fillOpacity&quot;: 0.6, &quot;fillRule&quot;: &quot;evenodd&quot;, &quot;lineCap&quot;: &quot;round&quot;, &quot;lineJoin&quot;: &quot;round&quot;, &quot;opacity&quot;: 1, &quot;radius&quot;: 6, &quot;stroke&quot;: false, &quot;weight&quot;: 3}\n",
       "            ).addTo(map_65086584e849e701b7a03696943cbf61);\n",
       "        \n",
       "    \n",
       "            var circle_marker_926b9831f17a1f19af3203a31db4b4d0 = L.circleMarker(\n",
       "                [-34.57663634, -58.47461905],\n",
       "                {&quot;bubblingMouseEvents&quot;: true, &quot;color&quot;: &quot;cornflowerblue&quot;, &quot;dashArray&quot;: null, &quot;dashOffset&quot;: null, &quot;fill&quot;: true, &quot;fillColor&quot;: &quot;cornflowerblue&quot;, &quot;fillOpacity&quot;: 0.6, &quot;fillRule&quot;: &quot;evenodd&quot;, &quot;lineCap&quot;: &quot;round&quot;, &quot;lineJoin&quot;: &quot;round&quot;, &quot;opacity&quot;: 1, &quot;radius&quot;: 6, &quot;stroke&quot;: false, &quot;weight&quot;: 3}\n",
       "            ).addTo(map_65086584e849e701b7a03696943cbf61);\n",
       "        \n",
       "    \n",
       "            var circle_marker_74b10c765e570bde6e854a7e6a1304ac = L.circleMarker(\n",
       "                [-34.55719892, -58.44751621],\n",
       "                {&quot;bubblingMouseEvents&quot;: true, &quot;color&quot;: &quot;cornflowerblue&quot;, &quot;dashArray&quot;: null, &quot;dashOffset&quot;: null, &quot;fill&quot;: true, &quot;fillColor&quot;: &quot;cornflowerblue&quot;, &quot;fillOpacity&quot;: 0.6, &quot;fillRule&quot;: &quot;evenodd&quot;, &quot;lineCap&quot;: &quot;round&quot;, &quot;lineJoin&quot;: &quot;round&quot;, &quot;opacity&quot;: 1, &quot;radius&quot;: 6, &quot;stroke&quot;: false, &quot;weight&quot;: 3}\n",
       "            ).addTo(map_65086584e849e701b7a03696943cbf61);\n",
       "        \n",
       "    \n",
       "            var circle_marker_5bd9c3f54ff9c61c18bd6621ea168788 = L.circleMarker(\n",
       "                [-34.53465378, -58.46514781],\n",
       "                {&quot;bubblingMouseEvents&quot;: true, &quot;color&quot;: &quot;cornflowerblue&quot;, &quot;dashArray&quot;: null, &quot;dashOffset&quot;: null, &quot;fill&quot;: true, &quot;fillColor&quot;: &quot;cornflowerblue&quot;, &quot;fillOpacity&quot;: 0.6, &quot;fillRule&quot;: &quot;evenodd&quot;, &quot;lineCap&quot;: &quot;round&quot;, &quot;lineJoin&quot;: &quot;round&quot;, &quot;opacity&quot;: 1, &quot;radius&quot;: 6, &quot;stroke&quot;: false, &quot;weight&quot;: 3}\n",
       "            ).addTo(map_65086584e849e701b7a03696943cbf61);\n",
       "        \n",
       "    \n",
       "            var circle_marker_100494ea7fbbb1b1701df13f0e529175 = L.circleMarker(\n",
       "                [-34.6937413, -58.46552171],\n",
       "                {&quot;bubblingMouseEvents&quot;: true, &quot;color&quot;: &quot;cornflowerblue&quot;, &quot;dashArray&quot;: null, &quot;dashOffset&quot;: null, &quot;fill&quot;: true, &quot;fillColor&quot;: &quot;cornflowerblue&quot;, &quot;fillOpacity&quot;: 0.6, &quot;fillRule&quot;: &quot;evenodd&quot;, &quot;lineCap&quot;: &quot;round&quot;, &quot;lineJoin&quot;: &quot;round&quot;, &quot;opacity&quot;: 1, &quot;radius&quot;: 6, &quot;stroke&quot;: false, &quot;weight&quot;: 3}\n",
       "            ).addTo(map_65086584e849e701b7a03696943cbf61);\n",
       "        \n",
       "    \n",
       "            var circle_marker_6309add92603b99c6471fc5b738d9c5b = L.circleMarker(\n",
       "                [-34.69156793, -58.47802293],\n",
       "                {&quot;bubblingMouseEvents&quot;: true, &quot;color&quot;: &quot;cornflowerblue&quot;, &quot;dashArray&quot;: null, &quot;dashOffset&quot;: null, &quot;fill&quot;: true, &quot;fillColor&quot;: &quot;cornflowerblue&quot;, &quot;fillOpacity&quot;: 0.6, &quot;fillRule&quot;: &quot;evenodd&quot;, &quot;lineCap&quot;: &quot;round&quot;, &quot;lineJoin&quot;: &quot;round&quot;, &quot;opacity&quot;: 1, &quot;radius&quot;: 6, &quot;stroke&quot;: false, &quot;weight&quot;: 3}\n",
       "            ).addTo(map_65086584e849e701b7a03696943cbf61);\n",
       "        \n",
       "    \n",
       "            var circle_marker_81fc636b60a34d88b66535d298d064ac = L.circleMarker(\n",
       "                [-34.5407313, -58.48098594],\n",
       "                {&quot;bubblingMouseEvents&quot;: true, &quot;color&quot;: &quot;cornflowerblue&quot;, &quot;dashArray&quot;: null, &quot;dashOffset&quot;: null, &quot;fill&quot;: true, &quot;fillColor&quot;: &quot;cornflowerblue&quot;, &quot;fillOpacity&quot;: 0.6, &quot;fillRule&quot;: &quot;evenodd&quot;, &quot;lineCap&quot;: &quot;round&quot;, &quot;lineJoin&quot;: &quot;round&quot;, &quot;opacity&quot;: 1, &quot;radius&quot;: 6, &quot;stroke&quot;: false, &quot;weight&quot;: 3}\n",
       "            ).addTo(map_65086584e849e701b7a03696943cbf61);\n",
       "        \n",
       "    \n",
       "            var circle_marker_eec9ffa4ecc89deb379689925b4420f1 = L.circleMarker(\n",
       "                [-34.54153077, -58.47378664],\n",
       "                {&quot;bubblingMouseEvents&quot;: true, &quot;color&quot;: &quot;cornflowerblue&quot;, &quot;dashArray&quot;: null, &quot;dashOffset&quot;: null, &quot;fill&quot;: true, &quot;fillColor&quot;: &quot;cornflowerblue&quot;, &quot;fillOpacity&quot;: 0.6, &quot;fillRule&quot;: &quot;evenodd&quot;, &quot;lineCap&quot;: &quot;round&quot;, &quot;lineJoin&quot;: &quot;round&quot;, &quot;opacity&quot;: 1, &quot;radius&quot;: 6, &quot;stroke&quot;: false, &quot;weight&quot;: 3}\n",
       "            ).addTo(map_65086584e849e701b7a03696943cbf61);\n",
       "        \n",
       "    \n",
       "            var circle_marker_5cb3c6505e816d478d3e242d2053a804 = L.circleMarker(\n",
       "                [-34.54200276, -58.44903073],\n",
       "                {&quot;bubblingMouseEvents&quot;: true, &quot;color&quot;: &quot;cornflowerblue&quot;, &quot;dashArray&quot;: null, &quot;dashOffset&quot;: null, &quot;fill&quot;: true, &quot;fillColor&quot;: &quot;cornflowerblue&quot;, &quot;fillOpacity&quot;: 0.6, &quot;fillRule&quot;: &quot;evenodd&quot;, &quot;lineCap&quot;: &quot;round&quot;, &quot;lineJoin&quot;: &quot;round&quot;, &quot;opacity&quot;: 1, &quot;radius&quot;: 6, &quot;stroke&quot;: false, &quot;weight&quot;: 3}\n",
       "            ).addTo(map_65086584e849e701b7a03696943cbf61);\n",
       "        \n",
       "    \n",
       "            var circle_marker_7db3d0bb0fa6d75b8d4bb6a34fd369a0 = L.circleMarker(\n",
       "                [-34.54321216, -58.48671535],\n",
       "                {&quot;bubblingMouseEvents&quot;: true, &quot;color&quot;: &quot;cornflowerblue&quot;, &quot;dashArray&quot;: null, &quot;dashOffset&quot;: null, &quot;fill&quot;: true, &quot;fillColor&quot;: &quot;cornflowerblue&quot;, &quot;fillOpacity&quot;: 0.6, &quot;fillRule&quot;: &quot;evenodd&quot;, &quot;lineCap&quot;: &quot;round&quot;, &quot;lineJoin&quot;: &quot;round&quot;, &quot;opacity&quot;: 1, &quot;radius&quot;: 6, &quot;stroke&quot;: false, &quot;weight&quot;: 3}\n",
       "            ).addTo(map_65086584e849e701b7a03696943cbf61);\n",
       "        \n",
       "    \n",
       "            var circle_marker_a441b3d38fc4f4b5d3a7f8e19073780f = L.circleMarker(\n",
       "                [-34.54332766, -58.46129513],\n",
       "                {&quot;bubblingMouseEvents&quot;: true, &quot;color&quot;: &quot;cornflowerblue&quot;, &quot;dashArray&quot;: null, &quot;dashOffset&quot;: null, &quot;fill&quot;: true, &quot;fillColor&quot;: &quot;cornflowerblue&quot;, &quot;fillOpacity&quot;: 0.6, &quot;fillRule&quot;: &quot;evenodd&quot;, &quot;lineCap&quot;: &quot;round&quot;, &quot;lineJoin&quot;: &quot;round&quot;, &quot;opacity&quot;: 1, &quot;radius&quot;: 6, &quot;stroke&quot;: false, &quot;weight&quot;: 3}\n",
       "            ).addTo(map_65086584e849e701b7a03696943cbf61);\n",
       "        \n",
       "    \n",
       "            var circle_marker_ee07781c45bf80cf1b4e2f506139d0cc = L.circleMarker(\n",
       "                [-34.54395182, -58.46062311],\n",
       "                {&quot;bubblingMouseEvents&quot;: true, &quot;color&quot;: &quot;cornflowerblue&quot;, &quot;dashArray&quot;: null, &quot;dashOffset&quot;: null, &quot;fill&quot;: true, &quot;fillColor&quot;: &quot;cornflowerblue&quot;, &quot;fillOpacity&quot;: 0.6, &quot;fillRule&quot;: &quot;evenodd&quot;, &quot;lineCap&quot;: &quot;round&quot;, &quot;lineJoin&quot;: &quot;round&quot;, &quot;opacity&quot;: 1, &quot;radius&quot;: 6, &quot;stroke&quot;: false, &quot;weight&quot;: 3}\n",
       "            ).addTo(map_65086584e849e701b7a03696943cbf61);\n",
       "        \n",
       "    \n",
       "            var circle_marker_f39fa0eb8e8c014ff3f32e164e29b8d3 = L.circleMarker(\n",
       "                [-34.54538956, -58.44112678],\n",
       "                {&quot;bubblingMouseEvents&quot;: true, &quot;color&quot;: &quot;cornflowerblue&quot;, &quot;dashArray&quot;: null, &quot;dashOffset&quot;: null, &quot;fill&quot;: true, &quot;fillColor&quot;: &quot;cornflowerblue&quot;, &quot;fillOpacity&quot;: 0.6, &quot;fillRule&quot;: &quot;evenodd&quot;, &quot;lineCap&quot;: &quot;round&quot;, &quot;lineJoin&quot;: &quot;round&quot;, &quot;opacity&quot;: 1, &quot;radius&quot;: 6, &quot;stroke&quot;: false, &quot;weight&quot;: 3}\n",
       "            ).addTo(map_65086584e849e701b7a03696943cbf61);\n",
       "        \n",
       "    \n",
       "            var circle_marker_43fa6595320e844abd150b9beb85393e = L.circleMarker(\n",
       "                [-34.54560369, -58.43834197],\n",
       "                {&quot;bubblingMouseEvents&quot;: true, &quot;color&quot;: &quot;cornflowerblue&quot;, &quot;dashArray&quot;: null, &quot;dashOffset&quot;: null, &quot;fill&quot;: true, &quot;fillColor&quot;: &quot;cornflowerblue&quot;, &quot;fillOpacity&quot;: 0.6, &quot;fillRule&quot;: &quot;evenodd&quot;, &quot;lineCap&quot;: &quot;round&quot;, &quot;lineJoin&quot;: &quot;round&quot;, &quot;opacity&quot;: 1, &quot;radius&quot;: 6, &quot;stroke&quot;: false, &quot;weight&quot;: 3}\n",
       "            ).addTo(map_65086584e849e701b7a03696943cbf61);\n",
       "        \n",
       "    \n",
       "            var circle_marker_bcf48ad945ffe1a0957413c3a95fe8dc = L.circleMarker(\n",
       "                [-34.54596153, -58.48941042],\n",
       "                {&quot;bubblingMouseEvents&quot;: true, &quot;color&quot;: &quot;cornflowerblue&quot;, &quot;dashArray&quot;: null, &quot;dashOffset&quot;: null, &quot;fill&quot;: true, &quot;fillColor&quot;: &quot;cornflowerblue&quot;, &quot;fillOpacity&quot;: 0.6, &quot;fillRule&quot;: &quot;evenodd&quot;, &quot;lineCap&quot;: &quot;round&quot;, &quot;lineJoin&quot;: &quot;round&quot;, &quot;opacity&quot;: 1, &quot;radius&quot;: 6, &quot;stroke&quot;: false, &quot;weight&quot;: 3}\n",
       "            ).addTo(map_65086584e849e701b7a03696943cbf61);\n",
       "        \n",
       "    \n",
       "            var circle_marker_380c67d6bc6f9ba23156c91257c4239d = L.circleMarker(\n",
       "                [-34.54628513, -58.45212523],\n",
       "                {&quot;bubblingMouseEvents&quot;: true, &quot;color&quot;: &quot;cornflowerblue&quot;, &quot;dashArray&quot;: null, &quot;dashOffset&quot;: null, &quot;fill&quot;: true, &quot;fillColor&quot;: &quot;cornflowerblue&quot;, &quot;fillOpacity&quot;: 0.6, &quot;fillRule&quot;: &quot;evenodd&quot;, &quot;lineCap&quot;: &quot;round&quot;, &quot;lineJoin&quot;: &quot;round&quot;, &quot;opacity&quot;: 1, &quot;radius&quot;: 6, &quot;stroke&quot;: false, &quot;weight&quot;: 3}\n",
       "            ).addTo(map_65086584e849e701b7a03696943cbf61);\n",
       "        \n",
       "    \n",
       "            var circle_marker_332f45ede7f456177d0e71f82595a97b = L.circleMarker(\n",
       "                [-34.54738649, -58.49216191],\n",
       "                {&quot;bubblingMouseEvents&quot;: true, &quot;color&quot;: &quot;cornflowerblue&quot;, &quot;dashArray&quot;: null, &quot;dashOffset&quot;: null, &quot;fill&quot;: true, &quot;fillColor&quot;: &quot;cornflowerblue&quot;, &quot;fillOpacity&quot;: 0.6, &quot;fillRule&quot;: &quot;evenodd&quot;, &quot;lineCap&quot;: &quot;round&quot;, &quot;lineJoin&quot;: &quot;round&quot;, &quot;opacity&quot;: 1, &quot;radius&quot;: 6, &quot;stroke&quot;: false, &quot;weight&quot;: 3}\n",
       "            ).addTo(map_65086584e849e701b7a03696943cbf61);\n",
       "        \n",
       "    \n",
       "            var circle_marker_4afaee0f4ce7566a3ec277b5cf9b86a8 = L.circleMarker(\n",
       "                [-34.68757022, -58.47533969],\n",
       "                {&quot;bubblingMouseEvents&quot;: true, &quot;color&quot;: &quot;cornflowerblue&quot;, &quot;dashArray&quot;: null, &quot;dashOffset&quot;: null, &quot;fill&quot;: true, &quot;fillColor&quot;: &quot;cornflowerblue&quot;, &quot;fillOpacity&quot;: 0.6, &quot;fillRule&quot;: &quot;evenodd&quot;, &quot;lineCap&quot;: &quot;round&quot;, &quot;lineJoin&quot;: &quot;round&quot;, &quot;opacity&quot;: 1, &quot;radius&quot;: 6, &quot;stroke&quot;: false, &quot;weight&quot;: 3}\n",
       "            ).addTo(map_65086584e849e701b7a03696943cbf61);\n",
       "        \n",
       "    \n",
       "            var circle_marker_1f760c2691c8d5488deb8a0f7cd9f413 = L.circleMarker(\n",
       "                [-34.54864492, -58.45504154],\n",
       "                {&quot;bubblingMouseEvents&quot;: true, &quot;color&quot;: &quot;cornflowerblue&quot;, &quot;dashArray&quot;: null, &quot;dashOffset&quot;: null, &quot;fill&quot;: true, &quot;fillColor&quot;: &quot;cornflowerblue&quot;, &quot;fillOpacity&quot;: 0.6, &quot;fillRule&quot;: &quot;evenodd&quot;, &quot;lineCap&quot;: &quot;round&quot;, &quot;lineJoin&quot;: &quot;round&quot;, &quot;opacity&quot;: 1, &quot;radius&quot;: 6, &quot;stroke&quot;: false, &quot;weight&quot;: 3}\n",
       "            ).addTo(map_65086584e849e701b7a03696943cbf61);\n",
       "        \n",
       "    \n",
       "            var circle_marker_cdb9654d49da0fdbf11425d64e01a8ea = L.circleMarker(\n",
       "                [-34.54917673, -58.48935041],\n",
       "                {&quot;bubblingMouseEvents&quot;: true, &quot;color&quot;: &quot;cornflowerblue&quot;, &quot;dashArray&quot;: null, &quot;dashOffset&quot;: null, &quot;fill&quot;: true, &quot;fillColor&quot;: &quot;cornflowerblue&quot;, &quot;fillOpacity&quot;: 0.6, &quot;fillRule&quot;: &quot;evenodd&quot;, &quot;lineCap&quot;: &quot;round&quot;, &quot;lineJoin&quot;: &quot;round&quot;, &quot;opacity&quot;: 1, &quot;radius&quot;: 6, &quot;stroke&quot;: false, &quot;weight&quot;: 3}\n",
       "            ).addTo(map_65086584e849e701b7a03696943cbf61);\n",
       "        \n",
       "    \n",
       "            var circle_marker_f9118a0543bd85bdefec183ebb381526 = L.circleMarker(\n",
       "                [-34.54966288, -58.43633522],\n",
       "                {&quot;bubblingMouseEvents&quot;: true, &quot;color&quot;: &quot;cornflowerblue&quot;, &quot;dashArray&quot;: null, &quot;dashOffset&quot;: null, &quot;fill&quot;: true, &quot;fillColor&quot;: &quot;cornflowerblue&quot;, &quot;fillOpacity&quot;: 0.6, &quot;fillRule&quot;: &quot;evenodd&quot;, &quot;lineCap&quot;: &quot;round&quot;, &quot;lineJoin&quot;: &quot;round&quot;, &quot;opacity&quot;: 1, &quot;radius&quot;: 6, &quot;stroke&quot;: false, &quot;weight&quot;: 3}\n",
       "            ).addTo(map_65086584e849e701b7a03696943cbf61);\n",
       "        \n",
       "    \n",
       "            var circle_marker_130b7415d33a4883a2ff3bbfdc2a498b = L.circleMarker(\n",
       "                [-34.54972741, -58.46756026],\n",
       "                {&quot;bubblingMouseEvents&quot;: true, &quot;color&quot;: &quot;cornflowerblue&quot;, &quot;dashArray&quot;: null, &quot;dashOffset&quot;: null, &quot;fill&quot;: true, &quot;fillColor&quot;: &quot;cornflowerblue&quot;, &quot;fillOpacity&quot;: 0.6, &quot;fillRule&quot;: &quot;evenodd&quot;, &quot;lineCap&quot;: &quot;round&quot;, &quot;lineJoin&quot;: &quot;round&quot;, &quot;opacity&quot;: 1, &quot;radius&quot;: 6, &quot;stroke&quot;: false, &quot;weight&quot;: 3}\n",
       "            ).addTo(map_65086584e849e701b7a03696943cbf61);\n",
       "        \n",
       "    \n",
       "            var circle_marker_bc6af91a609ba7405ac4008585a70a9e = L.circleMarker(\n",
       "                [-34.68550712, -58.47305463],\n",
       "                {&quot;bubblingMouseEvents&quot;: true, &quot;color&quot;: &quot;cornflowerblue&quot;, &quot;dashArray&quot;: null, &quot;dashOffset&quot;: null, &quot;fill&quot;: true, &quot;fillColor&quot;: &quot;cornflowerblue&quot;, &quot;fillOpacity&quot;: 0.6, &quot;fillRule&quot;: &quot;evenodd&quot;, &quot;lineCap&quot;: &quot;round&quot;, &quot;lineJoin&quot;: &quot;round&quot;, &quot;opacity&quot;: 1, &quot;radius&quot;: 6, &quot;stroke&quot;: false, &quot;weight&quot;: 3}\n",
       "            ).addTo(map_65086584e849e701b7a03696943cbf61);\n",
       "        \n",
       "    \n",
       "            var circle_marker_e1a2c3f533ab2ab01ed4113c7a983605 = L.circleMarker(\n",
       "                [-34.55046754, -58.49185972],\n",
       "                {&quot;bubblingMouseEvents&quot;: true, &quot;color&quot;: &quot;cornflowerblue&quot;, &quot;dashArray&quot;: null, &quot;dashOffset&quot;: null, &quot;fill&quot;: true, &quot;fillColor&quot;: &quot;cornflowerblue&quot;, &quot;fillOpacity&quot;: 0.6, &quot;fillRule&quot;: &quot;evenodd&quot;, &quot;lineCap&quot;: &quot;round&quot;, &quot;lineJoin&quot;: &quot;round&quot;, &quot;opacity&quot;: 1, &quot;radius&quot;: 6, &quot;stroke&quot;: false, &quot;weight&quot;: 3}\n",
       "            ).addTo(map_65086584e849e701b7a03696943cbf61);\n",
       "        \n",
       "    \n",
       "            var circle_marker_ad4273b493b8917e6ab0f860f7173f65 = L.circleMarker(\n",
       "                [-34.55161027, -58.43674281],\n",
       "                {&quot;bubblingMouseEvents&quot;: true, &quot;color&quot;: &quot;cornflowerblue&quot;, &quot;dashArray&quot;: null, &quot;dashOffset&quot;: null, &quot;fill&quot;: true, &quot;fillColor&quot;: &quot;cornflowerblue&quot;, &quot;fillOpacity&quot;: 0.6, &quot;fillRule&quot;: &quot;evenodd&quot;, &quot;lineCap&quot;: &quot;round&quot;, &quot;lineJoin&quot;: &quot;round&quot;, &quot;opacity&quot;: 1, &quot;radius&quot;: 6, &quot;stroke&quot;: false, &quot;weight&quot;: 3}\n",
       "            ).addTo(map_65086584e849e701b7a03696943cbf61);\n",
       "        \n",
       "    \n",
       "            var circle_marker_7a14d622be492c1fc845c72b5ea58493 = L.circleMarker(\n",
       "                [-34.55185825, -58.43233425],\n",
       "                {&quot;bubblingMouseEvents&quot;: true, &quot;color&quot;: &quot;cornflowerblue&quot;, &quot;dashArray&quot;: null, &quot;dashOffset&quot;: null, &quot;fill&quot;: true, &quot;fillColor&quot;: &quot;cornflowerblue&quot;, &quot;fillOpacity&quot;: 0.6, &quot;fillRule&quot;: &quot;evenodd&quot;, &quot;lineCap&quot;: &quot;round&quot;, &quot;lineJoin&quot;: &quot;round&quot;, &quot;opacity&quot;: 1, &quot;radius&quot;: 6, &quot;stroke&quot;: false, &quot;weight&quot;: 3}\n",
       "            ).addTo(map_65086584e849e701b7a03696943cbf61);\n",
       "        \n",
       "    \n",
       "            var circle_marker_a577c928e24094c13cfe1a779ed82733 = L.circleMarker(\n",
       "                [-34.55217303, -58.45157681],\n",
       "                {&quot;bubblingMouseEvents&quot;: true, &quot;color&quot;: &quot;cornflowerblue&quot;, &quot;dashArray&quot;: null, &quot;dashOffset&quot;: null, &quot;fill&quot;: true, &quot;fillColor&quot;: &quot;cornflowerblue&quot;, &quot;fillOpacity&quot;: 0.6, &quot;fillRule&quot;: &quot;evenodd&quot;, &quot;lineCap&quot;: &quot;round&quot;, &quot;lineJoin&quot;: &quot;round&quot;, &quot;opacity&quot;: 1, &quot;radius&quot;: 6, &quot;stroke&quot;: false, &quot;weight&quot;: 3}\n",
       "            ).addTo(map_65086584e849e701b7a03696943cbf61);\n",
       "        \n",
       "    \n",
       "            var circle_marker_0ba2cb166f0571a8817189b95c641172 = L.circleMarker(\n",
       "                [-34.55374003, -58.45049163],\n",
       "                {&quot;bubblingMouseEvents&quot;: true, &quot;color&quot;: &quot;cornflowerblue&quot;, &quot;dashArray&quot;: null, &quot;dashOffset&quot;: null, &quot;fill&quot;: true, &quot;fillColor&quot;: &quot;cornflowerblue&quot;, &quot;fillOpacity&quot;: 0.6, &quot;fillRule&quot;: &quot;evenodd&quot;, &quot;lineCap&quot;: &quot;round&quot;, &quot;lineJoin&quot;: &quot;round&quot;, &quot;opacity&quot;: 1, &quot;radius&quot;: 6, &quot;stroke&quot;: false, &quot;weight&quot;: 3}\n",
       "            ).addTo(map_65086584e849e701b7a03696943cbf61);\n",
       "        \n",
       "    \n",
       "            var circle_marker_45b8e7c079430bef36ab5c631b4bd370 = L.circleMarker(\n",
       "                [-34.55395823, -58.4621322],\n",
       "                {&quot;bubblingMouseEvents&quot;: true, &quot;color&quot;: &quot;cornflowerblue&quot;, &quot;dashArray&quot;: null, &quot;dashOffset&quot;: null, &quot;fill&quot;: true, &quot;fillColor&quot;: &quot;cornflowerblue&quot;, &quot;fillOpacity&quot;: 0.6, &quot;fillRule&quot;: &quot;evenodd&quot;, &quot;lineCap&quot;: &quot;round&quot;, &quot;lineJoin&quot;: &quot;round&quot;, &quot;opacity&quot;: 1, &quot;radius&quot;: 6, &quot;stroke&quot;: false, &quot;weight&quot;: 3}\n",
       "            ).addTo(map_65086584e849e701b7a03696943cbf61);\n",
       "        \n",
       "    \n",
       "            var circle_marker_df6baa17e7a2e13721c415d0a7873ce6 = L.circleMarker(\n",
       "                [-34.55509606, -58.41652702],\n",
       "                {&quot;bubblingMouseEvents&quot;: true, &quot;color&quot;: &quot;cornflowerblue&quot;, &quot;dashArray&quot;: null, &quot;dashOffset&quot;: null, &quot;fill&quot;: true, &quot;fillColor&quot;: &quot;cornflowerblue&quot;, &quot;fillOpacity&quot;: 0.6, &quot;fillRule&quot;: &quot;evenodd&quot;, &quot;lineCap&quot;: &quot;round&quot;, &quot;lineJoin&quot;: &quot;round&quot;, &quot;opacity&quot;: 1, &quot;radius&quot;: 6, &quot;stroke&quot;: false, &quot;weight&quot;: 3}\n",
       "            ).addTo(map_65086584e849e701b7a03696943cbf61);\n",
       "        \n",
       "    \n",
       "            var circle_marker_592fd75b08639dd6598fd3396eb58e8a = L.circleMarker(\n",
       "                [-34.55555257, -58.45531707],\n",
       "                {&quot;bubblingMouseEvents&quot;: true, &quot;color&quot;: &quot;cornflowerblue&quot;, &quot;dashArray&quot;: null, &quot;dashOffset&quot;: null, &quot;fill&quot;: true, &quot;fillColor&quot;: &quot;cornflowerblue&quot;, &quot;fillOpacity&quot;: 0.6, &quot;fillRule&quot;: &quot;evenodd&quot;, &quot;lineCap&quot;: &quot;round&quot;, &quot;lineJoin&quot;: &quot;round&quot;, &quot;opacity&quot;: 1, &quot;radius&quot;: 6, &quot;stroke&quot;: false, &quot;weight&quot;: 3}\n",
       "            ).addTo(map_65086584e849e701b7a03696943cbf61);\n",
       "        \n",
       "    \n",
       "            var circle_marker_d0639f33d00a916b26ce47e8cd40c0d0 = L.circleMarker(\n",
       "                [-34.55676497, -58.47935434],\n",
       "                {&quot;bubblingMouseEvents&quot;: true, &quot;color&quot;: &quot;cornflowerblue&quot;, &quot;dashArray&quot;: null, &quot;dashOffset&quot;: null, &quot;fill&quot;: true, &quot;fillColor&quot;: &quot;cornflowerblue&quot;, &quot;fillOpacity&quot;: 0.6, &quot;fillRule&quot;: &quot;evenodd&quot;, &quot;lineCap&quot;: &quot;round&quot;, &quot;lineJoin&quot;: &quot;round&quot;, &quot;opacity&quot;: 1, &quot;radius&quot;: 6, &quot;stroke&quot;: false, &quot;weight&quot;: 3}\n",
       "            ).addTo(map_65086584e849e701b7a03696943cbf61);\n",
       "        \n",
       "    \n",
       "            var circle_marker_a256830af9b3ac6d17873d545ccf1075 = L.circleMarker(\n",
       "                [-34.57660058, -58.42957885],\n",
       "                {&quot;bubblingMouseEvents&quot;: true, &quot;color&quot;: &quot;cornflowerblue&quot;, &quot;dashArray&quot;: null, &quot;dashOffset&quot;: null, &quot;fill&quot;: true, &quot;fillColor&quot;: &quot;cornflowerblue&quot;, &quot;fillOpacity&quot;: 0.6, &quot;fillRule&quot;: &quot;evenodd&quot;, &quot;lineCap&quot;: &quot;round&quot;, &quot;lineJoin&quot;: &quot;round&quot;, &quot;opacity&quot;: 1, &quot;radius&quot;: 6, &quot;stroke&quot;: false, &quot;weight&quot;: 3}\n",
       "            ).addTo(map_65086584e849e701b7a03696943cbf61);\n",
       "        \n",
       "    \n",
       "            var circle_marker_a75e72c3c1a3439fc41ffde84cbefd08 = L.circleMarker(\n",
       "                [-34.5772806, -58.40986646],\n",
       "                {&quot;bubblingMouseEvents&quot;: true, &quot;color&quot;: &quot;cornflowerblue&quot;, &quot;dashArray&quot;: null, &quot;dashOffset&quot;: null, &quot;fill&quot;: true, &quot;fillColor&quot;: &quot;cornflowerblue&quot;, &quot;fillOpacity&quot;: 0.6, &quot;fillRule&quot;: &quot;evenodd&quot;, &quot;lineCap&quot;: &quot;round&quot;, &quot;lineJoin&quot;: &quot;round&quot;, &quot;opacity&quot;: 1, &quot;radius&quot;: 6, &quot;stroke&quot;: false, &quot;weight&quot;: 3}\n",
       "            ).addTo(map_65086584e849e701b7a03696943cbf61);\n",
       "        \n",
       "    \n",
       "            var circle_marker_7bb47ccc98ff4b582ae063ff57c0c99d = L.circleMarker(\n",
       "                [-34.59283447, -58.38161909],\n",
       "                {&quot;bubblingMouseEvents&quot;: true, &quot;color&quot;: &quot;cornflowerblue&quot;, &quot;dashArray&quot;: null, &quot;dashOffset&quot;: null, &quot;fill&quot;: true, &quot;fillColor&quot;: &quot;cornflowerblue&quot;, &quot;fillOpacity&quot;: 0.6, &quot;fillRule&quot;: &quot;evenodd&quot;, &quot;lineCap&quot;: &quot;round&quot;, &quot;lineJoin&quot;: &quot;round&quot;, &quot;opacity&quot;: 1, &quot;radius&quot;: 6, &quot;stroke&quot;: false, &quot;weight&quot;: 3}\n",
       "            ).addTo(map_65086584e849e701b7a03696943cbf61);\n",
       "        \n",
       "    \n",
       "            var circle_marker_1069e85535fcea935685d6d8465c9233 = L.circleMarker(\n",
       "                [-34.58518167, -58.45396573],\n",
       "                {&quot;bubblingMouseEvents&quot;: true, &quot;color&quot;: &quot;cornflowerblue&quot;, &quot;dashArray&quot;: null, &quot;dashOffset&quot;: null, &quot;fill&quot;: true, &quot;fillColor&quot;: &quot;cornflowerblue&quot;, &quot;fillOpacity&quot;: 0.6, &quot;fillRule&quot;: &quot;evenodd&quot;, &quot;lineCap&quot;: &quot;round&quot;, &quot;lineJoin&quot;: &quot;round&quot;, &quot;opacity&quot;: 1, &quot;radius&quot;: 6, &quot;stroke&quot;: false, &quot;weight&quot;: 3}\n",
       "            ).addTo(map_65086584e849e701b7a03696943cbf61);\n",
       "        \n",
       "    \n",
       "            var circle_marker_9c198332d3e4707e889085dcf6b4819c = L.circleMarker(\n",
       "                [-34.58569883, -58.46033141],\n",
       "                {&quot;bubblingMouseEvents&quot;: true, &quot;color&quot;: &quot;cornflowerblue&quot;, &quot;dashArray&quot;: null, &quot;dashOffset&quot;: null, &quot;fill&quot;: true, &quot;fillColor&quot;: &quot;cornflowerblue&quot;, &quot;fillOpacity&quot;: 0.6, &quot;fillRule&quot;: &quot;evenodd&quot;, &quot;lineCap&quot;: &quot;round&quot;, &quot;lineJoin&quot;: &quot;round&quot;, &quot;opacity&quot;: 1, &quot;radius&quot;: 6, &quot;stroke&quot;: false, &quot;weight&quot;: 3}\n",
       "            ).addTo(map_65086584e849e701b7a03696943cbf61);\n",
       "        \n",
       "    \n",
       "            var circle_marker_8cbfc8119423185b4b70b6bd93e7fec7 = L.circleMarker(\n",
       "                [-34.5857988, -58.4116902],\n",
       "                {&quot;bubblingMouseEvents&quot;: true, &quot;color&quot;: &quot;cornflowerblue&quot;, &quot;dashArray&quot;: null, &quot;dashOffset&quot;: null, &quot;fill&quot;: true, &quot;fillColor&quot;: &quot;cornflowerblue&quot;, &quot;fillOpacity&quot;: 0.6, &quot;fillRule&quot;: &quot;evenodd&quot;, &quot;lineCap&quot;: &quot;round&quot;, &quot;lineJoin&quot;: &quot;round&quot;, &quot;opacity&quot;: 1, &quot;radius&quot;: 6, &quot;stroke&quot;: false, &quot;weight&quot;: 3}\n",
       "            ).addTo(map_65086584e849e701b7a03696943cbf61);\n",
       "        \n",
       "    \n",
       "            var circle_marker_33c0f56b4659796f009d15a30af1ff40 = L.circleMarker(\n",
       "                [-34.58622275, -58.48744301],\n",
       "                {&quot;bubblingMouseEvents&quot;: true, &quot;color&quot;: &quot;cornflowerblue&quot;, &quot;dashArray&quot;: null, &quot;dashOffset&quot;: null, &quot;fill&quot;: true, &quot;fillColor&quot;: &quot;cornflowerblue&quot;, &quot;fillOpacity&quot;: 0.6, &quot;fillRule&quot;: &quot;evenodd&quot;, &quot;lineCap&quot;: &quot;round&quot;, &quot;lineJoin&quot;: &quot;round&quot;, &quot;opacity&quot;: 1, &quot;radius&quot;: 6, &quot;stroke&quot;: false, &quot;weight&quot;: 3}\n",
       "            ).addTo(map_65086584e849e701b7a03696943cbf61);\n",
       "        \n",
       "    \n",
       "            var circle_marker_72a7416fd2f2d16e446ea2c81f2f36ec = L.circleMarker(\n",
       "                [-34.58623761, -58.46141281],\n",
       "                {&quot;bubblingMouseEvents&quot;: true, &quot;color&quot;: &quot;cornflowerblue&quot;, &quot;dashArray&quot;: null, &quot;dashOffset&quot;: null, &quot;fill&quot;: true, &quot;fillColor&quot;: &quot;cornflowerblue&quot;, &quot;fillOpacity&quot;: 0.6, &quot;fillRule&quot;: &quot;evenodd&quot;, &quot;lineCap&quot;: &quot;round&quot;, &quot;lineJoin&quot;: &quot;round&quot;, &quot;opacity&quot;: 1, &quot;radius&quot;: 6, &quot;stroke&quot;: false, &quot;weight&quot;: 3}\n",
       "            ).addTo(map_65086584e849e701b7a03696943cbf61);\n",
       "        \n",
       "    \n",
       "            var circle_marker_674c874a049cb770d17ec95fb6a62edc = L.circleMarker(\n",
       "                [-34.58657938, -58.51664939],\n",
       "                {&quot;bubblingMouseEvents&quot;: true, &quot;color&quot;: &quot;cornflowerblue&quot;, &quot;dashArray&quot;: null, &quot;dashOffset&quot;: null, &quot;fill&quot;: true, &quot;fillColor&quot;: &quot;cornflowerblue&quot;, &quot;fillOpacity&quot;: 0.6, &quot;fillRule&quot;: &quot;evenodd&quot;, &quot;lineCap&quot;: &quot;round&quot;, &quot;lineJoin&quot;: &quot;round&quot;, &quot;opacity&quot;: 1, &quot;radius&quot;: 6, &quot;stroke&quot;: false, &quot;weight&quot;: 3}\n",
       "            ).addTo(map_65086584e849e701b7a03696943cbf61);\n",
       "        \n",
       "    \n",
       "            var circle_marker_96793957b18ea86ff873c4a668bcdbd0 = L.circleMarker(\n",
       "                [-34.58679619, -58.37976155],\n",
       "                {&quot;bubblingMouseEvents&quot;: true, &quot;color&quot;: &quot;cornflowerblue&quot;, &quot;dashArray&quot;: null, &quot;dashOffset&quot;: null, &quot;fill&quot;: true, &quot;fillColor&quot;: &quot;cornflowerblue&quot;, &quot;fillOpacity&quot;: 0.6, &quot;fillRule&quot;: &quot;evenodd&quot;, &quot;lineCap&quot;: &quot;round&quot;, &quot;lineJoin&quot;: &quot;round&quot;, &quot;opacity&quot;: 1, &quot;radius&quot;: 6, &quot;stroke&quot;: false, &quot;weight&quot;: 3}\n",
       "            ).addTo(map_65086584e849e701b7a03696943cbf61);\n",
       "        \n",
       "    \n",
       "            var circle_marker_ba1ad5d1052a76f8a873116b9091a206 = L.circleMarker(\n",
       "                [-34.58689719, -58.48680218],\n",
       "                {&quot;bubblingMouseEvents&quot;: true, &quot;color&quot;: &quot;cornflowerblue&quot;, &quot;dashArray&quot;: null, &quot;dashOffset&quot;: null, &quot;fill&quot;: true, &quot;fillColor&quot;: &quot;cornflowerblue&quot;, &quot;fillOpacity&quot;: 0.6, &quot;fillRule&quot;: &quot;evenodd&quot;, &quot;lineCap&quot;: &quot;round&quot;, &quot;lineJoin&quot;: &quot;round&quot;, &quot;opacity&quot;: 1, &quot;radius&quot;: 6, &quot;stroke&quot;: false, &quot;weight&quot;: 3}\n",
       "            ).addTo(map_65086584e849e701b7a03696943cbf61);\n",
       "        \n",
       "    \n",
       "            var circle_marker_761de93306d37ed64991f379bc03f5b8 = L.circleMarker(\n",
       "                [-34.58695347, -58.45021367],\n",
       "                {&quot;bubblingMouseEvents&quot;: true, &quot;color&quot;: &quot;cornflowerblue&quot;, &quot;dashArray&quot;: null, &quot;dashOffset&quot;: null, &quot;fill&quot;: true, &quot;fillColor&quot;: &quot;cornflowerblue&quot;, &quot;fillOpacity&quot;: 0.6, &quot;fillRule&quot;: &quot;evenodd&quot;, &quot;lineCap&quot;: &quot;round&quot;, &quot;lineJoin&quot;: &quot;round&quot;, &quot;opacity&quot;: 1, &quot;radius&quot;: 6, &quot;stroke&quot;: false, &quot;weight&quot;: 3}\n",
       "            ).addTo(map_65086584e849e701b7a03696943cbf61);\n",
       "        \n",
       "    \n",
       "            var circle_marker_4a4a20b392dec4c0ad6b6dae30b1cb42 = L.circleMarker(\n",
       "                [-34.5869768, -58.41354692],\n",
       "                {&quot;bubblingMouseEvents&quot;: true, &quot;color&quot;: &quot;cornflowerblue&quot;, &quot;dashArray&quot;: null, &quot;dashOffset&quot;: null, &quot;fill&quot;: true, &quot;fillColor&quot;: &quot;cornflowerblue&quot;, &quot;fillOpacity&quot;: 0.6, &quot;fillRule&quot;: &quot;evenodd&quot;, &quot;lineCap&quot;: &quot;round&quot;, &quot;lineJoin&quot;: &quot;round&quot;, &quot;opacity&quot;: 1, &quot;radius&quot;: 6, &quot;stroke&quot;: false, &quot;weight&quot;: 3}\n",
       "            ).addTo(map_65086584e849e701b7a03696943cbf61);\n",
       "        \n",
       "    \n",
       "            var circle_marker_a65db7dc4d0d3b7874470603888377ae = L.circleMarker(\n",
       "                [-34.58698157, -58.45511899],\n",
       "                {&quot;bubblingMouseEvents&quot;: true, &quot;color&quot;: &quot;cornflowerblue&quot;, &quot;dashArray&quot;: null, &quot;dashOffset&quot;: null, &quot;fill&quot;: true, &quot;fillColor&quot;: &quot;cornflowerblue&quot;, &quot;fillOpacity&quot;: 0.6, &quot;fillRule&quot;: &quot;evenodd&quot;, &quot;lineCap&quot;: &quot;round&quot;, &quot;lineJoin&quot;: &quot;round&quot;, &quot;opacity&quot;: 1, &quot;radius&quot;: 6, &quot;stroke&quot;: false, &quot;weight&quot;: 3}\n",
       "            ).addTo(map_65086584e849e701b7a03696943cbf61);\n",
       "        \n",
       "    \n",
       "            var circle_marker_6e5364cdca8d2d90d916c7f422116e9a = L.circleMarker(\n",
       "                [-34.58703485, -58.38502878],\n",
       "                {&quot;bubblingMouseEvents&quot;: true, &quot;color&quot;: &quot;cornflowerblue&quot;, &quot;dashArray&quot;: null, &quot;dashOffset&quot;: null, &quot;fill&quot;: true, &quot;fillColor&quot;: &quot;cornflowerblue&quot;, &quot;fillOpacity&quot;: 0.6, &quot;fillRule&quot;: &quot;evenodd&quot;, &quot;lineCap&quot;: &quot;round&quot;, &quot;lineJoin&quot;: &quot;round&quot;, &quot;opacity&quot;: 1, &quot;radius&quot;: 6, &quot;stroke&quot;: false, &quot;weight&quot;: 3}\n",
       "            ).addTo(map_65086584e849e701b7a03696943cbf61);\n",
       "        \n",
       "    \n",
       "            var circle_marker_f6bf77db581493389a593d1026acb38c = L.circleMarker(\n",
       "                [-34.58711712, -58.45220688],\n",
       "                {&quot;bubblingMouseEvents&quot;: true, &quot;color&quot;: &quot;cornflowerblue&quot;, &quot;dashArray&quot;: null, &quot;dashOffset&quot;: null, &quot;fill&quot;: true, &quot;fillColor&quot;: &quot;cornflowerblue&quot;, &quot;fillOpacity&quot;: 0.6, &quot;fillRule&quot;: &quot;evenodd&quot;, &quot;lineCap&quot;: &quot;round&quot;, &quot;lineJoin&quot;: &quot;round&quot;, &quot;opacity&quot;: 1, &quot;radius&quot;: 6, &quot;stroke&quot;: false, &quot;weight&quot;: 3}\n",
       "            ).addTo(map_65086584e849e701b7a03696943cbf61);\n",
       "        \n",
       "    \n",
       "            var circle_marker_29552de331e3dc874e4ed2b9bbc35a30 = L.circleMarker(\n",
       "                [-34.5877879, -58.42016954],\n",
       "                {&quot;bubblingMouseEvents&quot;: true, &quot;color&quot;: &quot;cornflowerblue&quot;, &quot;dashArray&quot;: null, &quot;dashOffset&quot;: null, &quot;fill&quot;: true, &quot;fillColor&quot;: &quot;cornflowerblue&quot;, &quot;fillOpacity&quot;: 0.6, &quot;fillRule&quot;: &quot;evenodd&quot;, &quot;lineCap&quot;: &quot;round&quot;, &quot;lineJoin&quot;: &quot;round&quot;, &quot;opacity&quot;: 1, &quot;radius&quot;: 6, &quot;stroke&quot;: false, &quot;weight&quot;: 3}\n",
       "            ).addTo(map_65086584e849e701b7a03696943cbf61);\n",
       "        \n",
       "    \n",
       "            var circle_marker_b1af068cd78f81882156991b10958457 = L.circleMarker(\n",
       "                [-34.58788235, -58.40966671],\n",
       "                {&quot;bubblingMouseEvents&quot;: true, &quot;color&quot;: &quot;cornflowerblue&quot;, &quot;dashArray&quot;: null, &quot;dashOffset&quot;: null, &quot;fill&quot;: true, &quot;fillColor&quot;: &quot;cornflowerblue&quot;, &quot;fillOpacity&quot;: 0.6, &quot;fillRule&quot;: &quot;evenodd&quot;, &quot;lineCap&quot;: &quot;round&quot;, &quot;lineJoin&quot;: &quot;round&quot;, &quot;opacity&quot;: 1, &quot;radius&quot;: 6, &quot;stroke&quot;: false, &quot;weight&quot;: 3}\n",
       "            ).addTo(map_65086584e849e701b7a03696943cbf61);\n",
       "        \n",
       "    \n",
       "            var circle_marker_431acb0de2b37d60144727db44cdd391 = L.circleMarker(\n",
       "                [-34.5884156, -58.45283186],\n",
       "                {&quot;bubblingMouseEvents&quot;: true, &quot;color&quot;: &quot;cornflowerblue&quot;, &quot;dashArray&quot;: null, &quot;dashOffset&quot;: null, &quot;fill&quot;: true, &quot;fillColor&quot;: &quot;cornflowerblue&quot;, &quot;fillOpacity&quot;: 0.6, &quot;fillRule&quot;: &quot;evenodd&quot;, &quot;lineCap&quot;: &quot;round&quot;, &quot;lineJoin&quot;: &quot;round&quot;, &quot;opacity&quot;: 1, &quot;radius&quot;: 6, &quot;stroke&quot;: false, &quot;weight&quot;: 3}\n",
       "            ).addTo(map_65086584e849e701b7a03696943cbf61);\n",
       "        \n",
       "    \n",
       "            var circle_marker_8cc19e8b0de72db3e7343dc78bd4d276 = L.circleMarker(\n",
       "                [-34.58927731, -58.38090932],\n",
       "                {&quot;bubblingMouseEvents&quot;: true, &quot;color&quot;: &quot;cornflowerblue&quot;, &quot;dashArray&quot;: null, &quot;dashOffset&quot;: null, &quot;fill&quot;: true, &quot;fillColor&quot;: &quot;cornflowerblue&quot;, &quot;fillOpacity&quot;: 0.6, &quot;fillRule&quot;: &quot;evenodd&quot;, &quot;lineCap&quot;: &quot;round&quot;, &quot;lineJoin&quot;: &quot;round&quot;, &quot;opacity&quot;: 1, &quot;radius&quot;: 6, &quot;stroke&quot;: false, &quot;weight&quot;: 3}\n",
       "            ).addTo(map_65086584e849e701b7a03696943cbf61);\n",
       "        \n",
       "    \n",
       "            var circle_marker_c4af55597d5371f7b111d6cdc5f26167 = L.circleMarker(\n",
       "                [-34.58984288, -58.45134029],\n",
       "                {&quot;bubblingMouseEvents&quot;: true, &quot;color&quot;: &quot;cornflowerblue&quot;, &quot;dashArray&quot;: null, &quot;dashOffset&quot;: null, &quot;fill&quot;: true, &quot;fillColor&quot;: &quot;cornflowerblue&quot;, &quot;fillOpacity&quot;: 0.6, &quot;fillRule&quot;: &quot;evenodd&quot;, &quot;lineCap&quot;: &quot;round&quot;, &quot;lineJoin&quot;: &quot;round&quot;, &quot;opacity&quot;: 1, &quot;radius&quot;: 6, &quot;stroke&quot;: false, &quot;weight&quot;: 3}\n",
       "            ).addTo(map_65086584e849e701b7a03696943cbf61);\n",
       "        \n",
       "    \n",
       "            var circle_marker_50d9bf5a32d9738abb712b87a15c799b = L.circleMarker(\n",
       "                [-34.59035925, -58.51537091],\n",
       "                {&quot;bubblingMouseEvents&quot;: true, &quot;color&quot;: &quot;cornflowerblue&quot;, &quot;dashArray&quot;: null, &quot;dashOffset&quot;: null, &quot;fill&quot;: true, &quot;fillColor&quot;: &quot;cornflowerblue&quot;, &quot;fillOpacity&quot;: 0.6, &quot;fillRule&quot;: &quot;evenodd&quot;, &quot;lineCap&quot;: &quot;round&quot;, &quot;lineJoin&quot;: &quot;round&quot;, &quot;opacity&quot;: 1, &quot;radius&quot;: 6, &quot;stroke&quot;: false, &quot;weight&quot;: 3}\n",
       "            ).addTo(map_65086584e849e701b7a03696943cbf61);\n",
       "        \n",
       "    \n",
       "            var circle_marker_e0c04bc58e6134f0c874954098f93954 = L.circleMarker(\n",
       "                [-34.59070093, -58.49820145],\n",
       "                {&quot;bubblingMouseEvents&quot;: true, &quot;color&quot;: &quot;cornflowerblue&quot;, &quot;dashArray&quot;: null, &quot;dashOffset&quot;: null, &quot;fill&quot;: true, &quot;fillColor&quot;: &quot;cornflowerblue&quot;, &quot;fillOpacity&quot;: 0.6, &quot;fillRule&quot;: &quot;evenodd&quot;, &quot;lineCap&quot;: &quot;round&quot;, &quot;lineJoin&quot;: &quot;round&quot;, &quot;opacity&quot;: 1, &quot;radius&quot;: 6, &quot;stroke&quot;: false, &quot;weight&quot;: 3}\n",
       "            ).addTo(map_65086584e849e701b7a03696943cbf61);\n",
       "        \n",
       "    \n",
       "            var circle_marker_e66e2362f1fe44ffd8900c1e268e0a46 = L.circleMarker(\n",
       "                [-34.59082159, -58.43531242],\n",
       "                {&quot;bubblingMouseEvents&quot;: true, &quot;color&quot;: &quot;cornflowerblue&quot;, &quot;dashArray&quot;: null, &quot;dashOffset&quot;: null, &quot;fill&quot;: true, &quot;fillColor&quot;: &quot;cornflowerblue&quot;, &quot;fillOpacity&quot;: 0.6, &quot;fillRule&quot;: &quot;evenodd&quot;, &quot;lineCap&quot;: &quot;round&quot;, &quot;lineJoin&quot;: &quot;round&quot;, &quot;opacity&quot;: 1, &quot;radius&quot;: 6, &quot;stroke&quot;: false, &quot;weight&quot;: 3}\n",
       "            ).addTo(map_65086584e849e701b7a03696943cbf61);\n",
       "        \n",
       "    \n",
       "            var circle_marker_c758bd2359c6f6d9fc7dcf33925b82dd = L.circleMarker(\n",
       "                [-34.59088447, -58.39092703],\n",
       "                {&quot;bubblingMouseEvents&quot;: true, &quot;color&quot;: &quot;cornflowerblue&quot;, &quot;dashArray&quot;: null, &quot;dashOffset&quot;: null, &quot;fill&quot;: true, &quot;fillColor&quot;: &quot;cornflowerblue&quot;, &quot;fillOpacity&quot;: 0.6, &quot;fillRule&quot;: &quot;evenodd&quot;, &quot;lineCap&quot;: &quot;round&quot;, &quot;lineJoin&quot;: &quot;round&quot;, &quot;opacity&quot;: 1, &quot;radius&quot;: 6, &quot;stroke&quot;: false, &quot;weight&quot;: 3}\n",
       "            ).addTo(map_65086584e849e701b7a03696943cbf61);\n",
       "        \n",
       "    \n",
       "            var circle_marker_51513648aacd9e4cf022f299706d1419 = L.circleMarker(\n",
       "                [-34.59167894, -58.37795815],\n",
       "                {&quot;bubblingMouseEvents&quot;: true, &quot;color&quot;: &quot;cornflowerblue&quot;, &quot;dashArray&quot;: null, &quot;dashOffset&quot;: null, &quot;fill&quot;: true, &quot;fillColor&quot;: &quot;cornflowerblue&quot;, &quot;fillOpacity&quot;: 0.6, &quot;fillRule&quot;: &quot;evenodd&quot;, &quot;lineCap&quot;: &quot;round&quot;, &quot;lineJoin&quot;: &quot;round&quot;, &quot;opacity&quot;: 1, &quot;radius&quot;: 6, &quot;stroke&quot;: false, &quot;weight&quot;: 3}\n",
       "            ).addTo(map_65086584e849e701b7a03696943cbf61);\n",
       "        \n",
       "    \n",
       "            var circle_marker_227db46f5d703d0a8bd0a1bb216e1b35 = L.circleMarker(\n",
       "                [-34.59171721, -58.51925642],\n",
       "                {&quot;bubblingMouseEvents&quot;: true, &quot;color&quot;: &quot;cornflowerblue&quot;, &quot;dashArray&quot;: null, &quot;dashOffset&quot;: null, &quot;fill&quot;: true, &quot;fillColor&quot;: &quot;cornflowerblue&quot;, &quot;fillOpacity&quot;: 0.6, &quot;fillRule&quot;: &quot;evenodd&quot;, &quot;lineCap&quot;: &quot;round&quot;, &quot;lineJoin&quot;: &quot;round&quot;, &quot;opacity&quot;: 1, &quot;radius&quot;: 6, &quot;stroke&quot;: false, &quot;weight&quot;: 3}\n",
       "            ).addTo(map_65086584e849e701b7a03696943cbf61);\n",
       "        \n",
       "    \n",
       "            var circle_marker_0c27b82c493deb9031d7cea5d5c98125 = L.circleMarker(\n",
       "                [-34.68095739, -58.49413799],\n",
       "                {&quot;bubblingMouseEvents&quot;: true, &quot;color&quot;: &quot;cornflowerblue&quot;, &quot;dashArray&quot;: null, &quot;dashOffset&quot;: null, &quot;fill&quot;: true, &quot;fillColor&quot;: &quot;cornflowerblue&quot;, &quot;fillOpacity&quot;: 0.6, &quot;fillRule&quot;: &quot;evenodd&quot;, &quot;lineCap&quot;: &quot;round&quot;, &quot;lineJoin&quot;: &quot;round&quot;, &quot;opacity&quot;: 1, &quot;radius&quot;: 6, &quot;stroke&quot;: false, &quot;weight&quot;: 3}\n",
       "            ).addTo(map_65086584e849e701b7a03696943cbf61);\n",
       "        \n",
       "    \n",
       "            var circle_marker_d58b0c2dc0e7c2d944bce9de49fb68d5 = L.circleMarker(\n",
       "                [-34.59185043, -58.44254033],\n",
       "                {&quot;bubblingMouseEvents&quot;: true, &quot;color&quot;: &quot;cornflowerblue&quot;, &quot;dashArray&quot;: null, &quot;dashOffset&quot;: null, &quot;fill&quot;: true, &quot;fillColor&quot;: &quot;cornflowerblue&quot;, &quot;fillOpacity&quot;: 0.6, &quot;fillRule&quot;: &quot;evenodd&quot;, &quot;lineCap&quot;: &quot;round&quot;, &quot;lineJoin&quot;: &quot;round&quot;, &quot;opacity&quot;: 1, &quot;radius&quot;: 6, &quot;stroke&quot;: false, &quot;weight&quot;: 3}\n",
       "            ).addTo(map_65086584e849e701b7a03696943cbf61);\n",
       "        \n",
       "    \n",
       "            var circle_marker_7233fd5b69e73a2bf0bfe595747495ab = L.circleMarker(\n",
       "                [-34.59213355, -58.43910409],\n",
       "                {&quot;bubblingMouseEvents&quot;: true, &quot;color&quot;: &quot;cornflowerblue&quot;, &quot;dashArray&quot;: null, &quot;dashOffset&quot;: null, &quot;fill&quot;: true, &quot;fillColor&quot;: &quot;cornflowerblue&quot;, &quot;fillOpacity&quot;: 0.6, &quot;fillRule&quot;: &quot;evenodd&quot;, &quot;lineCap&quot;: &quot;round&quot;, &quot;lineJoin&quot;: &quot;round&quot;, &quot;opacity&quot;: 1, &quot;radius&quot;: 6, &quot;stroke&quot;: false, &quot;weight&quot;: 3}\n",
       "            ).addTo(map_65086584e849e701b7a03696943cbf61);\n",
       "        \n",
       "    \n",
       "            var circle_marker_ecd017c7e64a8a35edb5cf25af892fbf = L.circleMarker(\n",
       "                [-34.59217875, -58.4268668],\n",
       "                {&quot;bubblingMouseEvents&quot;: true, &quot;color&quot;: &quot;cornflowerblue&quot;, &quot;dashArray&quot;: null, &quot;dashOffset&quot;: null, &quot;fill&quot;: true, &quot;fillColor&quot;: &quot;cornflowerblue&quot;, &quot;fillOpacity&quot;: 0.6, &quot;fillRule&quot;: &quot;evenodd&quot;, &quot;lineCap&quot;: &quot;round&quot;, &quot;lineJoin&quot;: &quot;round&quot;, &quot;opacity&quot;: 1, &quot;radius&quot;: 6, &quot;stroke&quot;: false, &quot;weight&quot;: 3}\n",
       "            ).addTo(map_65086584e849e701b7a03696943cbf61);\n",
       "        \n",
       "    \n",
       "            var circle_marker_76c998ef58229af4a4a9218c28c57b2f = L.circleMarker(\n",
       "                [-34.61765855, -58.52640838],\n",
       "                {&quot;bubblingMouseEvents&quot;: true, &quot;color&quot;: &quot;cornflowerblue&quot;, &quot;dashArray&quot;: null, &quot;dashOffset&quot;: null, &quot;fill&quot;: true, &quot;fillColor&quot;: &quot;cornflowerblue&quot;, &quot;fillOpacity&quot;: 0.6, &quot;fillRule&quot;: &quot;evenodd&quot;, &quot;lineCap&quot;: &quot;round&quot;, &quot;lineJoin&quot;: &quot;round&quot;, &quot;opacity&quot;: 1, &quot;radius&quot;: 6, &quot;stroke&quot;: false, &quot;weight&quot;: 3}\n",
       "            ).addTo(map_65086584e849e701b7a03696943cbf61);\n",
       "        \n",
       "    \n",
       "            var circle_marker_1048efa2e5a10d876706004f31f03b7f = L.circleMarker(\n",
       "                [-34.59279388, -58.51280715],\n",
       "                {&quot;bubblingMouseEvents&quot;: true, &quot;color&quot;: &quot;cornflowerblue&quot;, &quot;dashArray&quot;: null, &quot;dashOffset&quot;: null, &quot;fill&quot;: true, &quot;fillColor&quot;: &quot;cornflowerblue&quot;, &quot;fillOpacity&quot;: 0.6, &quot;fillRule&quot;: &quot;evenodd&quot;, &quot;lineCap&quot;: &quot;round&quot;, &quot;lineJoin&quot;: &quot;round&quot;, &quot;opacity&quot;: 1, &quot;radius&quot;: 6, &quot;stroke&quot;: false, &quot;weight&quot;: 3}\n",
       "            ).addTo(map_65086584e849e701b7a03696943cbf61);\n",
       "        \n",
       "    \n",
       "            var circle_marker_26d1960f0e636d34aff9ed3cd89e2a41 = L.circleMarker(\n",
       "                [-34.58541957, -58.37208118],\n",
       "                {&quot;bubblingMouseEvents&quot;: true, &quot;color&quot;: &quot;cornflowerblue&quot;, &quot;dashArray&quot;: null, &quot;dashOffset&quot;: null, &quot;fill&quot;: true, &quot;fillColor&quot;: &quot;cornflowerblue&quot;, &quot;fillOpacity&quot;: 0.6, &quot;fillRule&quot;: &quot;evenodd&quot;, &quot;lineCap&quot;: &quot;round&quot;, &quot;lineJoin&quot;: &quot;round&quot;, &quot;opacity&quot;: 1, &quot;radius&quot;: 6, &quot;stroke&quot;: false, &quot;weight&quot;: 3}\n",
       "            ).addTo(map_65086584e849e701b7a03696943cbf61);\n",
       "        \n",
       "    \n",
       "            var circle_marker_8bda50c5c34761144f0e2ab515fc90fc = L.circleMarker(\n",
       "                [-34.5849866, -58.3910058],\n",
       "                {&quot;bubblingMouseEvents&quot;: true, &quot;color&quot;: &quot;cornflowerblue&quot;, &quot;dashArray&quot;: null, &quot;dashOffset&quot;: null, &quot;fill&quot;: true, &quot;fillColor&quot;: &quot;cornflowerblue&quot;, &quot;fillOpacity&quot;: 0.6, &quot;fillRule&quot;: &quot;evenodd&quot;, &quot;lineCap&quot;: &quot;round&quot;, &quot;lineJoin&quot;: &quot;round&quot;, &quot;opacity&quot;: 1, &quot;radius&quot;: 6, &quot;stroke&quot;: false, &quot;weight&quot;: 3}\n",
       "            ).addTo(map_65086584e849e701b7a03696943cbf61);\n",
       "        \n",
       "    \n",
       "            var circle_marker_723ba2239e1e32c522977c86218c97dd = L.circleMarker(\n",
       "                [-34.57786555, -58.51271409],\n",
       "                {&quot;bubblingMouseEvents&quot;: true, &quot;color&quot;: &quot;cornflowerblue&quot;, &quot;dashArray&quot;: null, &quot;dashOffset&quot;: null, &quot;fill&quot;: true, &quot;fillColor&quot;: &quot;cornflowerblue&quot;, &quot;fillOpacity&quot;: 0.6, &quot;fillRule&quot;: &quot;evenodd&quot;, &quot;lineCap&quot;: &quot;round&quot;, &quot;lineJoin&quot;: &quot;round&quot;, &quot;opacity&quot;: 1, &quot;radius&quot;: 6, &quot;stroke&quot;: false, &quot;weight&quot;: 3}\n",
       "            ).addTo(map_65086584e849e701b7a03696943cbf61);\n",
       "        \n",
       "    \n",
       "            var circle_marker_50a2b4511d192c804d32fc0d6f17bbd9 = L.circleMarker(\n",
       "                [-34.58494351, -58.43917004],\n",
       "                {&quot;bubblingMouseEvents&quot;: true, &quot;color&quot;: &quot;cornflowerblue&quot;, &quot;dashArray&quot;: null, &quot;dashOffset&quot;: null, &quot;fill&quot;: true, &quot;fillColor&quot;: &quot;cornflowerblue&quot;, &quot;fillOpacity&quot;: 0.6, &quot;fillRule&quot;: &quot;evenodd&quot;, &quot;lineCap&quot;: &quot;round&quot;, &quot;lineJoin&quot;: &quot;round&quot;, &quot;opacity&quot;: 1, &quot;radius&quot;: 6, &quot;stroke&quot;: false, &quot;weight&quot;: 3}\n",
       "            ).addTo(map_65086584e849e701b7a03696943cbf61);\n",
       "        \n",
       "    \n",
       "            var circle_marker_a0034e885491c6fca4283b267d15a1d1 = L.circleMarker(\n",
       "                [-34.68385968, -58.48191128],\n",
       "                {&quot;bubblingMouseEvents&quot;: true, &quot;color&quot;: &quot;cornflowerblue&quot;, &quot;dashArray&quot;: null, &quot;dashOffset&quot;: null, &quot;fill&quot;: true, &quot;fillColor&quot;: &quot;cornflowerblue&quot;, &quot;fillOpacity&quot;: 0.6, &quot;fillRule&quot;: &quot;evenodd&quot;, &quot;lineCap&quot;: &quot;round&quot;, &quot;lineJoin&quot;: &quot;round&quot;, &quot;opacity&quot;: 1, &quot;radius&quot;: 6, &quot;stroke&quot;: false, &quot;weight&quot;: 3}\n",
       "            ).addTo(map_65086584e849e701b7a03696943cbf61);\n",
       "        \n",
       "    \n",
       "            var circle_marker_a4e35ed22bb55725c4ee0f5ee3d74c04 = L.circleMarker(\n",
       "                [-34.57816791, -58.42653328],\n",
       "                {&quot;bubblingMouseEvents&quot;: true, &quot;color&quot;: &quot;cornflowerblue&quot;, &quot;dashArray&quot;: null, &quot;dashOffset&quot;: null, &quot;fill&quot;: true, &quot;fillColor&quot;: &quot;cornflowerblue&quot;, &quot;fillOpacity&quot;: 0.6, &quot;fillRule&quot;: &quot;evenodd&quot;, &quot;lineCap&quot;: &quot;round&quot;, &quot;lineJoin&quot;: &quot;round&quot;, &quot;opacity&quot;: 1, &quot;radius&quot;: 6, &quot;stroke&quot;: false, &quot;weight&quot;: 3}\n",
       "            ).addTo(map_65086584e849e701b7a03696943cbf61);\n",
       "        \n",
       "    \n",
       "            var circle_marker_f902f14b6d6ec097c83031ae560c8bb1 = L.circleMarker(\n",
       "                [-34.57827342, -58.47087351],\n",
       "                {&quot;bubblingMouseEvents&quot;: true, &quot;color&quot;: &quot;cornflowerblue&quot;, &quot;dashArray&quot;: null, &quot;dashOffset&quot;: null, &quot;fill&quot;: true, &quot;fillColor&quot;: &quot;cornflowerblue&quot;, &quot;fillOpacity&quot;: 0.6, &quot;fillRule&quot;: &quot;evenodd&quot;, &quot;lineCap&quot;: &quot;round&quot;, &quot;lineJoin&quot;: &quot;round&quot;, &quot;opacity&quot;: 1, &quot;radius&quot;: 6, &quot;stroke&quot;: false, &quot;weight&quot;: 3}\n",
       "            ).addTo(map_65086584e849e701b7a03696943cbf61);\n",
       "        \n",
       "    \n",
       "            var circle_marker_4be81b0f7af9df251a41e7713166f424 = L.circleMarker(\n",
       "                [-34.68359163, -58.48892175],\n",
       "                {&quot;bubblingMouseEvents&quot;: true, &quot;color&quot;: &quot;cornflowerblue&quot;, &quot;dashArray&quot;: null, &quot;dashOffset&quot;: null, &quot;fill&quot;: true, &quot;fillColor&quot;: &quot;cornflowerblue&quot;, &quot;fillOpacity&quot;: 0.6, &quot;fillRule&quot;: &quot;evenodd&quot;, &quot;lineCap&quot;: &quot;round&quot;, &quot;lineJoin&quot;: &quot;round&quot;, &quot;opacity&quot;: 1, &quot;radius&quot;: 6, &quot;stroke&quot;: false, &quot;weight&quot;: 3}\n",
       "            ).addTo(map_65086584e849e701b7a03696943cbf61);\n",
       "        \n",
       "    \n",
       "            var circle_marker_a7031d41be00f4fbd542e040fc5ae53a = L.circleMarker(\n",
       "                [-34.5786897, -58.49005682],\n",
       "                {&quot;bubblingMouseEvents&quot;: true, &quot;color&quot;: &quot;cornflowerblue&quot;, &quot;dashArray&quot;: null, &quot;dashOffset&quot;: null, &quot;fill&quot;: true, &quot;fillColor&quot;: &quot;cornflowerblue&quot;, &quot;fillOpacity&quot;: 0.6, &quot;fillRule&quot;: &quot;evenodd&quot;, &quot;lineCap&quot;: &quot;round&quot;, &quot;lineJoin&quot;: &quot;round&quot;, &quot;opacity&quot;: 1, &quot;radius&quot;: 6, &quot;stroke&quot;: false, &quot;weight&quot;: 3}\n",
       "            ).addTo(map_65086584e849e701b7a03696943cbf61);\n",
       "        \n",
       "    \n",
       "            var circle_marker_96db3b6d6b3974756997dc14bbbed679 = L.circleMarker(\n",
       "                [-34.57905579, -58.46720441],\n",
       "                {&quot;bubblingMouseEvents&quot;: true, &quot;color&quot;: &quot;cornflowerblue&quot;, &quot;dashArray&quot;: null, &quot;dashOffset&quot;: null, &quot;fill&quot;: true, &quot;fillColor&quot;: &quot;cornflowerblue&quot;, &quot;fillOpacity&quot;: 0.6, &quot;fillRule&quot;: &quot;evenodd&quot;, &quot;lineCap&quot;: &quot;round&quot;, &quot;lineJoin&quot;: &quot;round&quot;, &quot;opacity&quot;: 1, &quot;radius&quot;: 6, &quot;stroke&quot;: false, &quot;weight&quot;: 3}\n",
       "            ).addTo(map_65086584e849e701b7a03696943cbf61);\n",
       "        \n",
       "    \n",
       "            var circle_marker_d4ae060ac5df1cb073b343bdc4b457b3 = L.circleMarker(\n",
       "                [-34.5791692, -58.45448963],\n",
       "                {&quot;bubblingMouseEvents&quot;: true, &quot;color&quot;: &quot;cornflowerblue&quot;, &quot;dashArray&quot;: null, &quot;dashOffset&quot;: null, &quot;fill&quot;: true, &quot;fillColor&quot;: &quot;cornflowerblue&quot;, &quot;fillOpacity&quot;: 0.6, &quot;fillRule&quot;: &quot;evenodd&quot;, &quot;lineCap&quot;: &quot;round&quot;, &quot;lineJoin&quot;: &quot;round&quot;, &quot;opacity&quot;: 1, &quot;radius&quot;: 6, &quot;stroke&quot;: false, &quot;weight&quot;: 3}\n",
       "            ).addTo(map_65086584e849e701b7a03696943cbf61);\n",
       "        \n",
       "    \n",
       "            var circle_marker_c728af9a182ab646c6e3c75650bfa493 = L.circleMarker(\n",
       "                [-34.57926018, -58.46711912],\n",
       "                {&quot;bubblingMouseEvents&quot;: true, &quot;color&quot;: &quot;cornflowerblue&quot;, &quot;dashArray&quot;: null, &quot;dashOffset&quot;: null, &quot;fill&quot;: true, &quot;fillColor&quot;: &quot;cornflowerblue&quot;, &quot;fillOpacity&quot;: 0.6, &quot;fillRule&quot;: &quot;evenodd&quot;, &quot;lineCap&quot;: &quot;round&quot;, &quot;lineJoin&quot;: &quot;round&quot;, &quot;opacity&quot;: 1, &quot;radius&quot;: 6, &quot;stroke&quot;: false, &quot;weight&quot;: 3}\n",
       "            ).addTo(map_65086584e849e701b7a03696943cbf61);\n",
       "        \n",
       "    \n",
       "            var circle_marker_8188464d7466d1eff9a5aaf272c19f4e = L.circleMarker(\n",
       "                [-34.57929036, -58.42554218],\n",
       "                {&quot;bubblingMouseEvents&quot;: true, &quot;color&quot;: &quot;cornflowerblue&quot;, &quot;dashArray&quot;: null, &quot;dashOffset&quot;: null, &quot;fill&quot;: true, &quot;fillColor&quot;: &quot;cornflowerblue&quot;, &quot;fillOpacity&quot;: 0.6, &quot;fillRule&quot;: &quot;evenodd&quot;, &quot;lineCap&quot;: &quot;round&quot;, &quot;lineJoin&quot;: &quot;round&quot;, &quot;opacity&quot;: 1, &quot;radius&quot;: 6, &quot;stroke&quot;: false, &quot;weight&quot;: 3}\n",
       "            ).addTo(map_65086584e849e701b7a03696943cbf61);\n",
       "        \n",
       "    \n",
       "            var circle_marker_7f66cb15b968f6b07530161fc76ab8cf = L.circleMarker(\n",
       "                [-34.57962262, -58.49563989],\n",
       "                {&quot;bubblingMouseEvents&quot;: true, &quot;color&quot;: &quot;cornflowerblue&quot;, &quot;dashArray&quot;: null, &quot;dashOffset&quot;: null, &quot;fill&quot;: true, &quot;fillColor&quot;: &quot;cornflowerblue&quot;, &quot;fillOpacity&quot;: 0.6, &quot;fillRule&quot;: &quot;evenodd&quot;, &quot;lineCap&quot;: &quot;round&quot;, &quot;lineJoin&quot;: &quot;round&quot;, &quot;opacity&quot;: 1, &quot;radius&quot;: 6, &quot;stroke&quot;: false, &quot;weight&quot;: 3}\n",
       "            ).addTo(map_65086584e849e701b7a03696943cbf61);\n",
       "        \n",
       "    \n",
       "            var circle_marker_09cf181995159df999bddef81574c408 = L.circleMarker(\n",
       "                [-34.57964781, -58.40021959],\n",
       "                {&quot;bubblingMouseEvents&quot;: true, &quot;color&quot;: &quot;cornflowerblue&quot;, &quot;dashArray&quot;: null, &quot;dashOffset&quot;: null, &quot;fill&quot;: true, &quot;fillColor&quot;: &quot;cornflowerblue&quot;, &quot;fillOpacity&quot;: 0.6, &quot;fillRule&quot;: &quot;evenodd&quot;, &quot;lineCap&quot;: &quot;round&quot;, &quot;lineJoin&quot;: &quot;round&quot;, &quot;opacity&quot;: 1, &quot;radius&quot;: 6, &quot;stroke&quot;: false, &quot;weight&quot;: 3}\n",
       "            ).addTo(map_65086584e849e701b7a03696943cbf61);\n",
       "        \n",
       "    \n",
       "            var circle_marker_063f1447d83821ba6d791e9bacfcfe94 = L.circleMarker(\n",
       "                [-34.57994061, -58.47549929],\n",
       "                {&quot;bubblingMouseEvents&quot;: true, &quot;color&quot;: &quot;cornflowerblue&quot;, &quot;dashArray&quot;: null, &quot;dashOffset&quot;: null, &quot;fill&quot;: true, &quot;fillColor&quot;: &quot;cornflowerblue&quot;, &quot;fillOpacity&quot;: 0.6, &quot;fillRule&quot;: &quot;evenodd&quot;, &quot;lineCap&quot;: &quot;round&quot;, &quot;lineJoin&quot;: &quot;round&quot;, &quot;opacity&quot;: 1, &quot;radius&quot;: 6, &quot;stroke&quot;: false, &quot;weight&quot;: 3}\n",
       "            ).addTo(map_65086584e849e701b7a03696943cbf61);\n",
       "        \n",
       "    \n",
       "            var circle_marker_1caa68bd912d15c173205064d94547a0 = L.circleMarker(\n",
       "                [-34.58035258, -58.42533612],\n",
       "                {&quot;bubblingMouseEvents&quot;: true, &quot;color&quot;: &quot;cornflowerblue&quot;, &quot;dashArray&quot;: null, &quot;dashOffset&quot;: null, &quot;fill&quot;: true, &quot;fillColor&quot;: &quot;cornflowerblue&quot;, &quot;fillOpacity&quot;: 0.6, &quot;fillRule&quot;: &quot;evenodd&quot;, &quot;lineCap&quot;: &quot;round&quot;, &quot;lineJoin&quot;: &quot;round&quot;, &quot;opacity&quot;: 1, &quot;radius&quot;: 6, &quot;stroke&quot;: false, &quot;weight&quot;: 3}\n",
       "            ).addTo(map_65086584e849e701b7a03696943cbf61);\n",
       "        \n",
       "    \n",
       "            var circle_marker_ecc6be676aca0fb669091c4e8ef101f2 = L.circleMarker(\n",
       "                [-34.58070186, -58.39811256],\n",
       "                {&quot;bubblingMouseEvents&quot;: true, &quot;color&quot;: &quot;cornflowerblue&quot;, &quot;dashArray&quot;: null, &quot;dashOffset&quot;: null, &quot;fill&quot;: true, &quot;fillColor&quot;: &quot;cornflowerblue&quot;, &quot;fillOpacity&quot;: 0.6, &quot;fillRule&quot;: &quot;evenodd&quot;, &quot;lineCap&quot;: &quot;round&quot;, &quot;lineJoin&quot;: &quot;round&quot;, &quot;opacity&quot;: 1, &quot;radius&quot;: 6, &quot;stroke&quot;: false, &quot;weight&quot;: 3}\n",
       "            ).addTo(map_65086584e849e701b7a03696943cbf61);\n",
       "        \n",
       "    \n",
       "            var circle_marker_5604b3b61fc99ff6d00547a9dfff07f4 = L.circleMarker(\n",
       "                [-34.58075791, -58.51389422],\n",
       "                {&quot;bubblingMouseEvents&quot;: true, &quot;color&quot;: &quot;cornflowerblue&quot;, &quot;dashArray&quot;: null, &quot;dashOffset&quot;: null, &quot;fill&quot;: true, &quot;fillColor&quot;: &quot;cornflowerblue&quot;, &quot;fillOpacity&quot;: 0.6, &quot;fillRule&quot;: &quot;evenodd&quot;, &quot;lineCap&quot;: &quot;round&quot;, &quot;lineJoin&quot;: &quot;round&quot;, &quot;opacity&quot;: 1, &quot;radius&quot;: 6, &quot;stroke&quot;: false, &quot;weight&quot;: 3}\n",
       "            ).addTo(map_65086584e849e701b7a03696943cbf61);\n",
       "        \n",
       "    \n",
       "            var circle_marker_d1b88a2779ba9004e31c3081c80d8dbf = L.circleMarker(\n",
       "                [-34.58095431, -58.429012],\n",
       "                {&quot;bubblingMouseEvents&quot;: true, &quot;color&quot;: &quot;cornflowerblue&quot;, &quot;dashArray&quot;: null, &quot;dashOffset&quot;: null, &quot;fill&quot;: true, &quot;fillColor&quot;: &quot;cornflowerblue&quot;, &quot;fillOpacity&quot;: 0.6, &quot;fillRule&quot;: &quot;evenodd&quot;, &quot;lineCap&quot;: &quot;round&quot;, &quot;lineJoin&quot;: &quot;round&quot;, &quot;opacity&quot;: 1, &quot;radius&quot;: 6, &quot;stroke&quot;: false, &quot;weight&quot;: 3}\n",
       "            ).addTo(map_65086584e849e701b7a03696943cbf61);\n",
       "        \n",
       "    \n",
       "            var circle_marker_c2e9e8ee9c7e491d80f3a6f4184001e3 = L.circleMarker(\n",
       "                [-34.58129246, -58.40367321],\n",
       "                {&quot;bubblingMouseEvents&quot;: true, &quot;color&quot;: &quot;cornflowerblue&quot;, &quot;dashArray&quot;: null, &quot;dashOffset&quot;: null, &quot;fill&quot;: true, &quot;fillColor&quot;: &quot;cornflowerblue&quot;, &quot;fillOpacity&quot;: 0.6, &quot;fillRule&quot;: &quot;evenodd&quot;, &quot;lineCap&quot;: &quot;round&quot;, &quot;lineJoin&quot;: &quot;round&quot;, &quot;opacity&quot;: 1, &quot;radius&quot;: 6, &quot;stroke&quot;: false, &quot;weight&quot;: 3}\n",
       "            ).addTo(map_65086584e849e701b7a03696943cbf61);\n",
       "        \n",
       "    \n",
       "            var circle_marker_527e5a58b5dd35b3aafe6ef5aa330756 = L.circleMarker(\n",
       "                [-34.68251141, -58.49007772],\n",
       "                {&quot;bubblingMouseEvents&quot;: true, &quot;color&quot;: &quot;cornflowerblue&quot;, &quot;dashArray&quot;: null, &quot;dashOffset&quot;: null, &quot;fill&quot;: true, &quot;fillColor&quot;: &quot;cornflowerblue&quot;, &quot;fillOpacity&quot;: 0.6, &quot;fillRule&quot;: &quot;evenodd&quot;, &quot;lineCap&quot;: &quot;round&quot;, &quot;lineJoin&quot;: &quot;round&quot;, &quot;opacity&quot;: 1, &quot;radius&quot;: 6, &quot;stroke&quot;: false, &quot;weight&quot;: 3}\n",
       "            ).addTo(map_65086584e849e701b7a03696943cbf61);\n",
       "        \n",
       "    \n",
       "            var circle_marker_54ecc1954cc1b84e6d46972023dd5d89 = L.circleMarker(\n",
       "                [-34.58226957, -58.49175088],\n",
       "                {&quot;bubblingMouseEvents&quot;: true, &quot;color&quot;: &quot;cornflowerblue&quot;, &quot;dashArray&quot;: null, &quot;dashOffset&quot;: null, &quot;fill&quot;: true, &quot;fillColor&quot;: &quot;cornflowerblue&quot;, &quot;fillOpacity&quot;: 0.6, &quot;fillRule&quot;: &quot;evenodd&quot;, &quot;lineCap&quot;: &quot;round&quot;, &quot;lineJoin&quot;: &quot;round&quot;, &quot;opacity&quot;: 1, &quot;radius&quot;: 6, &quot;stroke&quot;: false, &quot;weight&quot;: 3}\n",
       "            ).addTo(map_65086584e849e701b7a03696943cbf61);\n",
       "        \n",
       "    \n",
       "            var circle_marker_df97e84f779640db49674c63b5b1e6ee = L.circleMarker(\n",
       "                [-34.58271474, -58.39936478],\n",
       "                {&quot;bubblingMouseEvents&quot;: true, &quot;color&quot;: &quot;cornflowerblue&quot;, &quot;dashArray&quot;: null, &quot;dashOffset&quot;: null, &quot;fill&quot;: true, &quot;fillColor&quot;: &quot;cornflowerblue&quot;, &quot;fillOpacity&quot;: 0.6, &quot;fillRule&quot;: &quot;evenodd&quot;, &quot;lineCap&quot;: &quot;round&quot;, &quot;lineJoin&quot;: &quot;round&quot;, &quot;opacity&quot;: 1, &quot;radius&quot;: 6, &quot;stroke&quot;: false, &quot;weight&quot;: 3}\n",
       "            ).addTo(map_65086584e849e701b7a03696943cbf61);\n",
       "        \n",
       "    \n",
       "            var circle_marker_e4ef23a788f7474f0dff786dcd7bb04e = L.circleMarker(\n",
       "                [-34.58307887, -58.39731474],\n",
       "                {&quot;bubblingMouseEvents&quot;: true, &quot;color&quot;: &quot;cornflowerblue&quot;, &quot;dashArray&quot;: null, &quot;dashOffset&quot;: null, &quot;fill&quot;: true, &quot;fillColor&quot;: &quot;cornflowerblue&quot;, &quot;fillOpacity&quot;: 0.6, &quot;fillRule&quot;: &quot;evenodd&quot;, &quot;lineCap&quot;: &quot;round&quot;, &quot;lineJoin&quot;: &quot;round&quot;, &quot;opacity&quot;: 1, &quot;radius&quot;: 6, &quot;stroke&quot;: false, &quot;weight&quot;: 3}\n",
       "            ).addTo(map_65086584e849e701b7a03696943cbf61);\n",
       "        \n",
       "    \n",
       "            var circle_marker_d31885fc489b09dd9fcf9260ff8a50ab = L.circleMarker(\n",
       "                [-34.5834269, -58.40204698],\n",
       "                {&quot;bubblingMouseEvents&quot;: true, &quot;color&quot;: &quot;cornflowerblue&quot;, &quot;dashArray&quot;: null, &quot;dashOffset&quot;: null, &quot;fill&quot;: true, &quot;fillColor&quot;: &quot;cornflowerblue&quot;, &quot;fillOpacity&quot;: 0.6, &quot;fillRule&quot;: &quot;evenodd&quot;, &quot;lineCap&quot;: &quot;round&quot;, &quot;lineJoin&quot;: &quot;round&quot;, &quot;opacity&quot;: 1, &quot;radius&quot;: 6, &quot;stroke&quot;: false, &quot;weight&quot;: 3}\n",
       "            ).addTo(map_65086584e849e701b7a03696943cbf61);\n",
       "        \n",
       "    \n",
       "            var circle_marker_db0bc57818a6d80fbde2c9afbca174d3 = L.circleMarker(\n",
       "                [-34.68192648, -58.46745752],\n",
       "                {&quot;bubblingMouseEvents&quot;: true, &quot;color&quot;: &quot;cornflowerblue&quot;, &quot;dashArray&quot;: null, &quot;dashOffset&quot;: null, &quot;fill&quot;: true, &quot;fillColor&quot;: &quot;cornflowerblue&quot;, &quot;fillOpacity&quot;: 0.6, &quot;fillRule&quot;: &quot;evenodd&quot;, &quot;lineCap&quot;: &quot;round&quot;, &quot;lineJoin&quot;: &quot;round&quot;, &quot;opacity&quot;: 1, &quot;radius&quot;: 6, &quot;stroke&quot;: false, &quot;weight&quot;: 3}\n",
       "            ).addTo(map_65086584e849e701b7a03696943cbf61);\n",
       "        \n",
       "    \n",
       "            var circle_marker_d45325fbf55c6c81711bf33ff28636b2 = L.circleMarker(\n",
       "                [-34.58368803, -58.49040794],\n",
       "                {&quot;bubblingMouseEvents&quot;: true, &quot;color&quot;: &quot;cornflowerblue&quot;, &quot;dashArray&quot;: null, &quot;dashOffset&quot;: null, &quot;fill&quot;: true, &quot;fillColor&quot;: &quot;cornflowerblue&quot;, &quot;fillOpacity&quot;: 0.6, &quot;fillRule&quot;: &quot;evenodd&quot;, &quot;lineCap&quot;: &quot;round&quot;, &quot;lineJoin&quot;: &quot;round&quot;, &quot;opacity&quot;: 1, &quot;radius&quot;: 6, &quot;stroke&quot;: false, &quot;weight&quot;: 3}\n",
       "            ).addTo(map_65086584e849e701b7a03696943cbf61);\n",
       "        \n",
       "    \n",
       "            var circle_marker_d1e37e7fd9668503a5d567088a2a4702 = L.circleMarker(\n",
       "                [-34.58405348, -58.39391034],\n",
       "                {&quot;bubblingMouseEvents&quot;: true, &quot;color&quot;: &quot;cornflowerblue&quot;, &quot;dashArray&quot;: null, &quot;dashOffset&quot;: null, &quot;fill&quot;: true, &quot;fillColor&quot;: &quot;cornflowerblue&quot;, &quot;fillOpacity&quot;: 0.6, &quot;fillRule&quot;: &quot;evenodd&quot;, &quot;lineCap&quot;: &quot;round&quot;, &quot;lineJoin&quot;: &quot;round&quot;, &quot;opacity&quot;: 1, &quot;radius&quot;: 6, &quot;stroke&quot;: false, &quot;weight&quot;: 3}\n",
       "            ).addTo(map_65086584e849e701b7a03696943cbf61);\n",
       "        \n",
       "    \n",
       "            var circle_marker_419682a093f56100ba7b82ec625b74ad = L.circleMarker(\n",
       "                [-34.58418569, -58.39056593],\n",
       "                {&quot;bubblingMouseEvents&quot;: true, &quot;color&quot;: &quot;cornflowerblue&quot;, &quot;dashArray&quot;: null, &quot;dashOffset&quot;: null, &quot;fill&quot;: true, &quot;fillColor&quot;: &quot;cornflowerblue&quot;, &quot;fillOpacity&quot;: 0.6, &quot;fillRule&quot;: &quot;evenodd&quot;, &quot;lineCap&quot;: &quot;round&quot;, &quot;lineJoin&quot;: &quot;round&quot;, &quot;opacity&quot;: 1, &quot;radius&quot;: 6, &quot;stroke&quot;: false, &quot;weight&quot;: 3}\n",
       "            ).addTo(map_65086584e849e701b7a03696943cbf61);\n",
       "        \n",
       "    \n",
       "            var circle_marker_0eaa75d4bc3eefb2784cef3009f2f25c = L.circleMarker(\n",
       "                [-34.58428769, -58.48222035],\n",
       "                {&quot;bubblingMouseEvents&quot;: true, &quot;color&quot;: &quot;cornflowerblue&quot;, &quot;dashArray&quot;: null, &quot;dashOffset&quot;: null, &quot;fill&quot;: true, &quot;fillColor&quot;: &quot;cornflowerblue&quot;, &quot;fillOpacity&quot;: 0.6, &quot;fillRule&quot;: &quot;evenodd&quot;, &quot;lineCap&quot;: &quot;round&quot;, &quot;lineJoin&quot;: &quot;round&quot;, &quot;opacity&quot;: 1, &quot;radius&quot;: 6, &quot;stroke&quot;: false, &quot;weight&quot;: 3}\n",
       "            ).addTo(map_65086584e849e701b7a03696943cbf61);\n",
       "        \n",
       "    \n",
       "            var circle_marker_f178764142b4d2eab11a25dd0d7b93c9 = L.circleMarker(\n",
       "                [-34.58435809, -58.45343236],\n",
       "                {&quot;bubblingMouseEvents&quot;: true, &quot;color&quot;: &quot;cornflowerblue&quot;, &quot;dashArray&quot;: null, &quot;dashOffset&quot;: null, &quot;fill&quot;: true, &quot;fillColor&quot;: &quot;cornflowerblue&quot;, &quot;fillOpacity&quot;: 0.6, &quot;fillRule&quot;: &quot;evenodd&quot;, &quot;lineCap&quot;: &quot;round&quot;, &quot;lineJoin&quot;: &quot;round&quot;, &quot;opacity&quot;: 1, &quot;radius&quot;: 6, &quot;stroke&quot;: false, &quot;weight&quot;: 3}\n",
       "            ).addTo(map_65086584e849e701b7a03696943cbf61);\n",
       "        \n",
       "    \n",
       "            var circle_marker_9133a673be11f23cdd442d83e762fdef = L.circleMarker(\n",
       "                [-34.58451712, -58.42934104],\n",
       "                {&quot;bubblingMouseEvents&quot;: true, &quot;color&quot;: &quot;cornflowerblue&quot;, &quot;dashArray&quot;: null, &quot;dashOffset&quot;: null, &quot;fill&quot;: true, &quot;fillColor&quot;: &quot;cornflowerblue&quot;, &quot;fillOpacity&quot;: 0.6, &quot;fillRule&quot;: &quot;evenodd&quot;, &quot;lineCap&quot;: &quot;round&quot;, &quot;lineJoin&quot;: &quot;round&quot;, &quot;opacity&quot;: 1, &quot;radius&quot;: 6, &quot;stroke&quot;: false, &quot;weight&quot;: 3}\n",
       "            ).addTo(map_65086584e849e701b7a03696943cbf61);\n",
       "        \n",
       "    \n",
       "            var circle_marker_9639138ea68df44df46f108e50776645 = L.circleMarker(\n",
       "                [-34.61765323, -58.38113667],\n",
       "                {&quot;bubblingMouseEvents&quot;: true, &quot;color&quot;: &quot;cornflowerblue&quot;, &quot;dashArray&quot;: null, &quot;dashOffset&quot;: null, &quot;fill&quot;: true, &quot;fillColor&quot;: &quot;cornflowerblue&quot;, &quot;fillOpacity&quot;: 0.6, &quot;fillRule&quot;: &quot;evenodd&quot;, &quot;lineCap&quot;: &quot;round&quot;, &quot;lineJoin&quot;: &quot;round&quot;, &quot;opacity&quot;: 1, &quot;radius&quot;: 6, &quot;stroke&quot;: false, &quot;weight&quot;: 3}\n",
       "            ).addTo(map_65086584e849e701b7a03696943cbf61);\n",
       "        \n",
       "    \n",
       "            var circle_marker_e629e069b30c6e6560c4158428c46eb8 = L.circleMarker(\n",
       "                [-34.61781124, -58.40657493],\n",
       "                {&quot;bubblingMouseEvents&quot;: true, &quot;color&quot;: &quot;cornflowerblue&quot;, &quot;dashArray&quot;: null, &quot;dashOffset&quot;: null, &quot;fill&quot;: true, &quot;fillColor&quot;: &quot;cornflowerblue&quot;, &quot;fillOpacity&quot;: 0.6, &quot;fillRule&quot;: &quot;evenodd&quot;, &quot;lineCap&quot;: &quot;round&quot;, &quot;lineJoin&quot;: &quot;round&quot;, &quot;opacity&quot;: 1, &quot;radius&quot;: 6, &quot;stroke&quot;: false, &quot;weight&quot;: 3}\n",
       "            ).addTo(map_65086584e849e701b7a03696943cbf61);\n",
       "        \n",
       "    \n",
       "            var circle_marker_8f067ee1603e3466caa00cadfbb43b52 = L.circleMarker(\n",
       "                [-34.6177971, -58.46909362],\n",
       "                {&quot;bubblingMouseEvents&quot;: true, &quot;color&quot;: &quot;cornflowerblue&quot;, &quot;dashArray&quot;: null, &quot;dashOffset&quot;: null, &quot;fill&quot;: true, &quot;fillColor&quot;: &quot;cornflowerblue&quot;, &quot;fillOpacity&quot;: 0.6, &quot;fillRule&quot;: &quot;evenodd&quot;, &quot;lineCap&quot;: &quot;round&quot;, &quot;lineJoin&quot;: &quot;round&quot;, &quot;opacity&quot;: 1, &quot;radius&quot;: 6, &quot;stroke&quot;: false, &quot;weight&quot;: 3}\n",
       "            ).addTo(map_65086584e849e701b7a03696943cbf61);\n",
       "        \n",
       "    \n",
       "            var circle_marker_d6224034055f92a61b7e706058379358 = L.circleMarker(\n",
       "                [-34.6423411, -58.42023854],\n",
       "                {&quot;bubblingMouseEvents&quot;: true, &quot;color&quot;: &quot;cornflowerblue&quot;, &quot;dashArray&quot;: null, &quot;dashOffset&quot;: null, &quot;fill&quot;: true, &quot;fillColor&quot;: &quot;cornflowerblue&quot;, &quot;fillOpacity&quot;: 0.6, &quot;fillRule&quot;: &quot;evenodd&quot;, &quot;lineCap&quot;: &quot;round&quot;, &quot;lineJoin&quot;: &quot;round&quot;, &quot;opacity&quot;: 1, &quot;radius&quot;: 6, &quot;stroke&quot;: false, &quot;weight&quot;: 3}\n",
       "            ).addTo(map_65086584e849e701b7a03696943cbf61);\n",
       "        \n",
       "    \n",
       "            var circle_marker_db84fd92c42978dd51eba9509db4c06f = L.circleMarker(\n",
       "                [-34.63931792, -58.51739138],\n",
       "                {&quot;bubblingMouseEvents&quot;: true, &quot;color&quot;: &quot;cornflowerblue&quot;, &quot;dashArray&quot;: null, &quot;dashOffset&quot;: null, &quot;fill&quot;: true, &quot;fillColor&quot;: &quot;cornflowerblue&quot;, &quot;fillOpacity&quot;: 0.6, &quot;fillRule&quot;: &quot;evenodd&quot;, &quot;lineCap&quot;: &quot;round&quot;, &quot;lineJoin&quot;: &quot;round&quot;, &quot;opacity&quot;: 1, &quot;radius&quot;: 6, &quot;stroke&quot;: false, &quot;weight&quot;: 3}\n",
       "            ).addTo(map_65086584e849e701b7a03696943cbf61);\n",
       "        \n",
       "    \n",
       "            var circle_marker_46f3756348aa147855c4142dccf9150b = L.circleMarker(\n",
       "                [-34.63934531, -58.51140889],\n",
       "                {&quot;bubblingMouseEvents&quot;: true, &quot;color&quot;: &quot;cornflowerblue&quot;, &quot;dashArray&quot;: null, &quot;dashOffset&quot;: null, &quot;fill&quot;: true, &quot;fillColor&quot;: &quot;cornflowerblue&quot;, &quot;fillOpacity&quot;: 0.6, &quot;fillRule&quot;: &quot;evenodd&quot;, &quot;lineCap&quot;: &quot;round&quot;, &quot;lineJoin&quot;: &quot;round&quot;, &quot;opacity&quot;: 1, &quot;radius&quot;: 6, &quot;stroke&quot;: false, &quot;weight&quot;: 3}\n",
       "            ).addTo(map_65086584e849e701b7a03696943cbf61);\n",
       "        \n",
       "    \n",
       "            var circle_marker_6117ef6730f4390752ff5c883bb1fc83 = L.circleMarker(\n",
       "                [-34.63953253, -58.45855262],\n",
       "                {&quot;bubblingMouseEvents&quot;: true, &quot;color&quot;: &quot;cornflowerblue&quot;, &quot;dashArray&quot;: null, &quot;dashOffset&quot;: null, &quot;fill&quot;: true, &quot;fillColor&quot;: &quot;cornflowerblue&quot;, &quot;fillOpacity&quot;: 0.6, &quot;fillRule&quot;: &quot;evenodd&quot;, &quot;lineCap&quot;: &quot;round&quot;, &quot;lineJoin&quot;: &quot;round&quot;, &quot;opacity&quot;: 1, &quot;radius&quot;: 6, &quot;stroke&quot;: false, &quot;weight&quot;: 3}\n",
       "            ).addTo(map_65086584e849e701b7a03696943cbf61);\n",
       "        \n",
       "    \n",
       "            var circle_marker_9e0de8768e6278c9d62065520fa2d8dd = L.circleMarker(\n",
       "                [-34.63953396, -58.38666024],\n",
       "                {&quot;bubblingMouseEvents&quot;: true, &quot;color&quot;: &quot;cornflowerblue&quot;, &quot;dashArray&quot;: null, &quot;dashOffset&quot;: null, &quot;fill&quot;: true, &quot;fillColor&quot;: &quot;cornflowerblue&quot;, &quot;fillOpacity&quot;: 0.6, &quot;fillRule&quot;: &quot;evenodd&quot;, &quot;lineCap&quot;: &quot;round&quot;, &quot;lineJoin&quot;: &quot;round&quot;, &quot;opacity&quot;: 1, &quot;radius&quot;: 6, &quot;stroke&quot;: false, &quot;weight&quot;: 3}\n",
       "            ).addTo(map_65086584e849e701b7a03696943cbf61);\n",
       "        \n",
       "    \n",
       "            var circle_marker_02ae11c559553def742695fe89d4821a = L.circleMarker(\n",
       "                [-34.63966783, -58.37441153],\n",
       "                {&quot;bubblingMouseEvents&quot;: true, &quot;color&quot;: &quot;cornflowerblue&quot;, &quot;dashArray&quot;: null, &quot;dashOffset&quot;: null, &quot;fill&quot;: true, &quot;fillColor&quot;: &quot;cornflowerblue&quot;, &quot;fillOpacity&quot;: 0.6, &quot;fillRule&quot;: &quot;evenodd&quot;, &quot;lineCap&quot;: &quot;round&quot;, &quot;lineJoin&quot;: &quot;round&quot;, &quot;opacity&quot;: 1, &quot;radius&quot;: 6, &quot;stroke&quot;: false, &quot;weight&quot;: 3}\n",
       "            ).addTo(map_65086584e849e701b7a03696943cbf61);\n",
       "        \n",
       "    \n",
       "            var circle_marker_812e45a05a13c9149d6048292f942933 = L.circleMarker(\n",
       "                [-34.66012327, -58.48266599],\n",
       "                {&quot;bubblingMouseEvents&quot;: true, &quot;color&quot;: &quot;cornflowerblue&quot;, &quot;dashArray&quot;: null, &quot;dashOffset&quot;: null, &quot;fill&quot;: true, &quot;fillColor&quot;: &quot;cornflowerblue&quot;, &quot;fillOpacity&quot;: 0.6, &quot;fillRule&quot;: &quot;evenodd&quot;, &quot;lineCap&quot;: &quot;round&quot;, &quot;lineJoin&quot;: &quot;round&quot;, &quot;opacity&quot;: 1, &quot;radius&quot;: 6, &quot;stroke&quot;: false, &quot;weight&quot;: 3}\n",
       "            ).addTo(map_65086584e849e701b7a03696943cbf61);\n",
       "        \n",
       "    \n",
       "            var circle_marker_1cca3221c345eb418290454afa36628a = L.circleMarker(\n",
       "                [-34.64019887, -58.42349365],\n",
       "                {&quot;bubblingMouseEvents&quot;: true, &quot;color&quot;: &quot;cornflowerblue&quot;, &quot;dashArray&quot;: null, &quot;dashOffset&quot;: null, &quot;fill&quot;: true, &quot;fillColor&quot;: &quot;cornflowerblue&quot;, &quot;fillOpacity&quot;: 0.6, &quot;fillRule&quot;: &quot;evenodd&quot;, &quot;lineCap&quot;: &quot;round&quot;, &quot;lineJoin&quot;: &quot;round&quot;, &quot;opacity&quot;: 1, &quot;radius&quot;: 6, &quot;stroke&quot;: false, &quot;weight&quot;: 3}\n",
       "            ).addTo(map_65086584e849e701b7a03696943cbf61);\n",
       "        \n",
       "    \n",
       "            var circle_marker_b05930335234bcd354f137024dc561ce = L.circleMarker(\n",
       "                [-34.66005171, -58.42040352],\n",
       "                {&quot;bubblingMouseEvents&quot;: true, &quot;color&quot;: &quot;cornflowerblue&quot;, &quot;dashArray&quot;: null, &quot;dashOffset&quot;: null, &quot;fill&quot;: true, &quot;fillColor&quot;: &quot;cornflowerblue&quot;, &quot;fillOpacity&quot;: 0.6, &quot;fillRule&quot;: &quot;evenodd&quot;, &quot;lineCap&quot;: &quot;round&quot;, &quot;lineJoin&quot;: &quot;round&quot;, &quot;opacity&quot;: 1, &quot;radius&quot;: 6, &quot;stroke&quot;: false, &quot;weight&quot;: 3}\n",
       "            ).addTo(map_65086584e849e701b7a03696943cbf61);\n",
       "        \n",
       "    \n",
       "            var circle_marker_82ff3f891b5e4b66367da4d133937e44 = L.circleMarker(\n",
       "                [-34.64047818, -58.48606475],\n",
       "                {&quot;bubblingMouseEvents&quot;: true, &quot;color&quot;: &quot;cornflowerblue&quot;, &quot;dashArray&quot;: null, &quot;dashOffset&quot;: null, &quot;fill&quot;: true, &quot;fillColor&quot;: &quot;cornflowerblue&quot;, &quot;fillOpacity&quot;: 0.6, &quot;fillRule&quot;: &quot;evenodd&quot;, &quot;lineCap&quot;: &quot;round&quot;, &quot;lineJoin&quot;: &quot;round&quot;, &quot;opacity&quot;: 1, &quot;radius&quot;: 6, &quot;stroke&quot;: false, &quot;weight&quot;: 3}\n",
       "            ).addTo(map_65086584e849e701b7a03696943cbf61);\n",
       "        \n",
       "    \n",
       "            var circle_marker_55eea3faa56a4ad46e4d742c9780d590 = L.circleMarker(\n",
       "                [-34.64053676, -58.45130953],\n",
       "                {&quot;bubblingMouseEvents&quot;: true, &quot;color&quot;: &quot;cornflowerblue&quot;, &quot;dashArray&quot;: null, &quot;dashOffset&quot;: null, &quot;fill&quot;: true, &quot;fillColor&quot;: &quot;cornflowerblue&quot;, &quot;fillOpacity&quot;: 0.6, &quot;fillRule&quot;: &quot;evenodd&quot;, &quot;lineCap&quot;: &quot;round&quot;, &quot;lineJoin&quot;: &quot;round&quot;, &quot;opacity&quot;: 1, &quot;radius&quot;: 6, &quot;stroke&quot;: false, &quot;weight&quot;: 3}\n",
       "            ).addTo(map_65086584e849e701b7a03696943cbf61);\n",
       "        \n",
       "    \n",
       "            var circle_marker_06ab57a7a83deb5d84e38f86d0f42687 = L.circleMarker(\n",
       "                [-34.64055918, -58.52994219],\n",
       "                {&quot;bubblingMouseEvents&quot;: true, &quot;color&quot;: &quot;cornflowerblue&quot;, &quot;dashArray&quot;: null, &quot;dashOffset&quot;: null, &quot;fill&quot;: true, &quot;fillColor&quot;: &quot;cornflowerblue&quot;, &quot;fillOpacity&quot;: 0.6, &quot;fillRule&quot;: &quot;evenodd&quot;, &quot;lineCap&quot;: &quot;round&quot;, &quot;lineJoin&quot;: &quot;round&quot;, &quot;opacity&quot;: 1, &quot;radius&quot;: 6, &quot;stroke&quot;: false, &quot;weight&quot;: 3}\n",
       "            ).addTo(map_65086584e849e701b7a03696943cbf61);\n",
       "        \n",
       "    \n",
       "            var circle_marker_212cc8b97b9c3101448e2fafce90fa4f = L.circleMarker(\n",
       "                [-34.66004784, -58.46442668],\n",
       "                {&quot;bubblingMouseEvents&quot;: true, &quot;color&quot;: &quot;cornflowerblue&quot;, &quot;dashArray&quot;: null, &quot;dashOffset&quot;: null, &quot;fill&quot;: true, &quot;fillColor&quot;: &quot;cornflowerblue&quot;, &quot;fillOpacity&quot;: 0.6, &quot;fillRule&quot;: &quot;evenodd&quot;, &quot;lineCap&quot;: &quot;round&quot;, &quot;lineJoin&quot;: &quot;round&quot;, &quot;opacity&quot;: 1, &quot;radius&quot;: 6, &quot;stroke&quot;: false, &quot;weight&quot;: 3}\n",
       "            ).addTo(map_65086584e849e701b7a03696943cbf61);\n",
       "        \n",
       "    \n",
       "            var circle_marker_785da46938859d422db0de3cd4459534 = L.circleMarker(\n",
       "                [-34.64143926, -58.52219407],\n",
       "                {&quot;bubblingMouseEvents&quot;: true, &quot;color&quot;: &quot;cornflowerblue&quot;, &quot;dashArray&quot;: null, &quot;dashOffset&quot;: null, &quot;fill&quot;: true, &quot;fillColor&quot;: &quot;cornflowerblue&quot;, &quot;fillOpacity&quot;: 0.6, &quot;fillRule&quot;: &quot;evenodd&quot;, &quot;lineCap&quot;: &quot;round&quot;, &quot;lineJoin&quot;: &quot;round&quot;, &quot;opacity&quot;: 1, &quot;radius&quot;: 6, &quot;stroke&quot;: false, &quot;weight&quot;: 3}\n",
       "            ).addTo(map_65086584e849e701b7a03696943cbf61);\n",
       "        \n",
       "    \n",
       "            var circle_marker_37bacdc541883c37ae848900a121da24 = L.circleMarker(\n",
       "                [-34.64228803, -58.42273092],\n",
       "                {&quot;bubblingMouseEvents&quot;: true, &quot;color&quot;: &quot;cornflowerblue&quot;, &quot;dashArray&quot;: null, &quot;dashOffset&quot;: null, &quot;fill&quot;: true, &quot;fillColor&quot;: &quot;cornflowerblue&quot;, &quot;fillOpacity&quot;: 0.6, &quot;fillRule&quot;: &quot;evenodd&quot;, &quot;lineCap&quot;: &quot;round&quot;, &quot;lineJoin&quot;: &quot;round&quot;, &quot;opacity&quot;: 1, &quot;radius&quot;: 6, &quot;stroke&quot;: false, &quot;weight&quot;: 3}\n",
       "            ).addTo(map_65086584e849e701b7a03696943cbf61);\n",
       "        \n",
       "    \n",
       "            var circle_marker_36d59b8362f24bd471cbdaaa99e8ef29 = L.circleMarker(\n",
       "                [-34.64243791, -58.49020869],\n",
       "                {&quot;bubblingMouseEvents&quot;: true, &quot;color&quot;: &quot;cornflowerblue&quot;, &quot;dashArray&quot;: null, &quot;dashOffset&quot;: null, &quot;fill&quot;: true, &quot;fillColor&quot;: &quot;cornflowerblue&quot;, &quot;fillOpacity&quot;: 0.6, &quot;fillRule&quot;: &quot;evenodd&quot;, &quot;lineCap&quot;: &quot;round&quot;, &quot;lineJoin&quot;: &quot;round&quot;, &quot;opacity&quot;: 1, &quot;radius&quot;: 6, &quot;stroke&quot;: false, &quot;weight&quot;: 3}\n",
       "            ).addTo(map_65086584e849e701b7a03696943cbf61);\n",
       "        \n",
       "    \n",
       "            var circle_marker_36a3eba204cb887ebaedb1af8a420efa = L.circleMarker(\n",
       "                [-34.64539318, -58.39871183],\n",
       "                {&quot;bubblingMouseEvents&quot;: true, &quot;color&quot;: &quot;cornflowerblue&quot;, &quot;dashArray&quot;: null, &quot;dashOffset&quot;: null, &quot;fill&quot;: true, &quot;fillColor&quot;: &quot;cornflowerblue&quot;, &quot;fillOpacity&quot;: 0.6, &quot;fillRule&quot;: &quot;evenodd&quot;, &quot;lineCap&quot;: &quot;round&quot;, &quot;lineJoin&quot;: &quot;round&quot;, &quot;opacity&quot;: 1, &quot;radius&quot;: 6, &quot;stroke&quot;: false, &quot;weight&quot;: 3}\n",
       "            ).addTo(map_65086584e849e701b7a03696943cbf61);\n",
       "        \n",
       "    \n",
       "            var circle_marker_95e6912e727e0d14002147e04025534b = L.circleMarker(\n",
       "                [-34.64251042, -58.47120586],\n",
       "                {&quot;bubblingMouseEvents&quot;: true, &quot;color&quot;: &quot;cornflowerblue&quot;, &quot;dashArray&quot;: null, &quot;dashOffset&quot;: null, &quot;fill&quot;: true, &quot;fillColor&quot;: &quot;cornflowerblue&quot;, &quot;fillOpacity&quot;: 0.6, &quot;fillRule&quot;: &quot;evenodd&quot;, &quot;lineCap&quot;: &quot;round&quot;, &quot;lineJoin&quot;: &quot;round&quot;, &quot;opacity&quot;: 1, &quot;radius&quot;: 6, &quot;stroke&quot;: false, &quot;weight&quot;: 3}\n",
       "            ).addTo(map_65086584e849e701b7a03696943cbf61);\n",
       "        \n",
       "    \n",
       "            var circle_marker_fb6dca18b785ad1ca183da6d6ab9d100 = L.circleMarker(\n",
       "                [-34.64276621, -58.49101637],\n",
       "                {&quot;bubblingMouseEvents&quot;: true, &quot;color&quot;: &quot;cornflowerblue&quot;, &quot;dashArray&quot;: null, &quot;dashOffset&quot;: null, &quot;fill&quot;: true, &quot;fillColor&quot;: &quot;cornflowerblue&quot;, &quot;fillOpacity&quot;: 0.6, &quot;fillRule&quot;: &quot;evenodd&quot;, &quot;lineCap&quot;: &quot;round&quot;, &quot;lineJoin&quot;: &quot;round&quot;, &quot;opacity&quot;: 1, &quot;radius&quot;: 6, &quot;stroke&quot;: false, &quot;weight&quot;: 3}\n",
       "            ).addTo(map_65086584e849e701b7a03696943cbf61);\n",
       "        \n",
       "    \n",
       "            var circle_marker_b11d7d7f1464d621d9a10b83f9c236f0 = L.circleMarker(\n",
       "                [-34.64282424, -58.42281627],\n",
       "                {&quot;bubblingMouseEvents&quot;: true, &quot;color&quot;: &quot;cornflowerblue&quot;, &quot;dashArray&quot;: null, &quot;dashOffset&quot;: null, &quot;fill&quot;: true, &quot;fillColor&quot;: &quot;cornflowerblue&quot;, &quot;fillOpacity&quot;: 0.6, &quot;fillRule&quot;: &quot;evenodd&quot;, &quot;lineCap&quot;: &quot;round&quot;, &quot;lineJoin&quot;: &quot;round&quot;, &quot;opacity&quot;: 1, &quot;radius&quot;: 6, &quot;stroke&quot;: false, &quot;weight&quot;: 3}\n",
       "            ).addTo(map_65086584e849e701b7a03696943cbf61);\n",
       "        \n",
       "    \n",
       "            var circle_marker_701b13f566bbbebd0a5c45156f3ab360 = L.circleMarker(\n",
       "                [-34.64291993, -58.36882665],\n",
       "                {&quot;bubblingMouseEvents&quot;: true, &quot;color&quot;: &quot;cornflowerblue&quot;, &quot;dashArray&quot;: null, &quot;dashOffset&quot;: null, &quot;fill&quot;: true, &quot;fillColor&quot;: &quot;cornflowerblue&quot;, &quot;fillOpacity&quot;: 0.6, &quot;fillRule&quot;: &quot;evenodd&quot;, &quot;lineCap&quot;: &quot;round&quot;, &quot;lineJoin&quot;: &quot;round&quot;, &quot;opacity&quot;: 1, &quot;radius&quot;: 6, &quot;stroke&quot;: false, &quot;weight&quot;: 3}\n",
       "            ).addTo(map_65086584e849e701b7a03696943cbf61);\n",
       "        \n",
       "    \n",
       "            var circle_marker_9d80cdf83ce614eb03e27c2b88a37aba = L.circleMarker(\n",
       "                [-34.64297861, -58.52887773],\n",
       "                {&quot;bubblingMouseEvents&quot;: true, &quot;color&quot;: &quot;cornflowerblue&quot;, &quot;dashArray&quot;: null, &quot;dashOffset&quot;: null, &quot;fill&quot;: true, &quot;fillColor&quot;: &quot;cornflowerblue&quot;, &quot;fillOpacity&quot;: 0.6, &quot;fillRule&quot;: &quot;evenodd&quot;, &quot;lineCap&quot;: &quot;round&quot;, &quot;lineJoin&quot;: &quot;round&quot;, &quot;opacity&quot;: 1, &quot;radius&quot;: 6, &quot;stroke&quot;: false, &quot;weight&quot;: 3}\n",
       "            ).addTo(map_65086584e849e701b7a03696943cbf61);\n",
       "        \n",
       "    \n",
       "            var circle_marker_91db80eac433edbee06a288fe1872bd1 = L.circleMarker(\n",
       "                [-34.64341878, -58.3597716],\n",
       "                {&quot;bubblingMouseEvents&quot;: true, &quot;color&quot;: &quot;cornflowerblue&quot;, &quot;dashArray&quot;: null, &quot;dashOffset&quot;: null, &quot;fill&quot;: true, &quot;fillColor&quot;: &quot;cornflowerblue&quot;, &quot;fillOpacity&quot;: 0.6, &quot;fillRule&quot;: &quot;evenodd&quot;, &quot;lineCap&quot;: &quot;round&quot;, &quot;lineJoin&quot;: &quot;round&quot;, &quot;opacity&quot;: 1, &quot;radius&quot;: 6, &quot;stroke&quot;: false, &quot;weight&quot;: 3}\n",
       "            ).addTo(map_65086584e849e701b7a03696943cbf61);\n",
       "        \n",
       "    \n",
       "            var circle_marker_2d1ba09bbe3d83a59b77711adc674bb6 = L.circleMarker(\n",
       "                [-34.64357704, -58.44147621],\n",
       "                {&quot;bubblingMouseEvents&quot;: true, &quot;color&quot;: &quot;cornflowerblue&quot;, &quot;dashArray&quot;: null, &quot;dashOffset&quot;: null, &quot;fill&quot;: true, &quot;fillColor&quot;: &quot;cornflowerblue&quot;, &quot;fillOpacity&quot;: 0.6, &quot;fillRule&quot;: &quot;evenodd&quot;, &quot;lineCap&quot;: &quot;round&quot;, &quot;lineJoin&quot;: &quot;round&quot;, &quot;opacity&quot;: 1, &quot;radius&quot;: 6, &quot;stroke&quot;: false, &quot;weight&quot;: 3}\n",
       "            ).addTo(map_65086584e849e701b7a03696943cbf61);\n",
       "        \n",
       "    \n",
       "            var circle_marker_4ef17e10ed8ebc02504e17ee49ecc64f = L.circleMarker(\n",
       "                [-34.64358293, -58.46275892],\n",
       "                {&quot;bubblingMouseEvents&quot;: true, &quot;color&quot;: &quot;cornflowerblue&quot;, &quot;dashArray&quot;: null, &quot;dashOffset&quot;: null, &quot;fill&quot;: true, &quot;fillColor&quot;: &quot;cornflowerblue&quot;, &quot;fillOpacity&quot;: 0.6, &quot;fillRule&quot;: &quot;evenodd&quot;, &quot;lineCap&quot;: &quot;round&quot;, &quot;lineJoin&quot;: &quot;round&quot;, &quot;opacity&quot;: 1, &quot;radius&quot;: 6, &quot;stroke&quot;: false, &quot;weight&quot;: 3}\n",
       "            ).addTo(map_65086584e849e701b7a03696943cbf61);\n",
       "        \n",
       "    \n",
       "            var circle_marker_57b3184b231d691ae36bf2908154fe4e = L.circleMarker(\n",
       "                [-34.64363363, -58.44516857],\n",
       "                {&quot;bubblingMouseEvents&quot;: true, &quot;color&quot;: &quot;cornflowerblue&quot;, &quot;dashArray&quot;: null, &quot;dashOffset&quot;: null, &quot;fill&quot;: true, &quot;fillColor&quot;: &quot;cornflowerblue&quot;, &quot;fillOpacity&quot;: 0.6, &quot;fillRule&quot;: &quot;evenodd&quot;, &quot;lineCap&quot;: &quot;round&quot;, &quot;lineJoin&quot;: &quot;round&quot;, &quot;opacity&quot;: 1, &quot;radius&quot;: 6, &quot;stroke&quot;: false, &quot;weight&quot;: 3}\n",
       "            ).addTo(map_65086584e849e701b7a03696943cbf61);\n",
       "        \n",
       "    \n",
       "            var circle_marker_3044d776fcdbdea7759da7a967108895 = L.circleMarker(\n",
       "                [-34.64385704, -58.46258582],\n",
       "                {&quot;bubblingMouseEvents&quot;: true, &quot;color&quot;: &quot;cornflowerblue&quot;, &quot;dashArray&quot;: null, &quot;dashOffset&quot;: null, &quot;fill&quot;: true, &quot;fillColor&quot;: &quot;cornflowerblue&quot;, &quot;fillOpacity&quot;: 0.6, &quot;fillRule&quot;: &quot;evenodd&quot;, &quot;lineCap&quot;: &quot;round&quot;, &quot;lineJoin&quot;: &quot;round&quot;, &quot;opacity&quot;: 1, &quot;radius&quot;: 6, &quot;stroke&quot;: false, &quot;weight&quot;: 3}\n",
       "            ).addTo(map_65086584e849e701b7a03696943cbf61);\n",
       "        \n",
       "    \n",
       "            var circle_marker_d4883cc185c0fa54b58b53c0267ab44d = L.circleMarker(\n",
       "                [-34.64410277, -58.38957669],\n",
       "                {&quot;bubblingMouseEvents&quot;: true, &quot;color&quot;: &quot;cornflowerblue&quot;, &quot;dashArray&quot;: null, &quot;dashOffset&quot;: null, &quot;fill&quot;: true, &quot;fillColor&quot;: &quot;cornflowerblue&quot;, &quot;fillOpacity&quot;: 0.6, &quot;fillRule&quot;: &quot;evenodd&quot;, &quot;lineCap&quot;: &quot;round&quot;, &quot;lineJoin&quot;: &quot;round&quot;, &quot;opacity&quot;: 1, &quot;radius&quot;: 6, &quot;stroke&quot;: false, &quot;weight&quot;: 3}\n",
       "            ).addTo(map_65086584e849e701b7a03696943cbf61);\n",
       "        \n",
       "    \n",
       "            var circle_marker_4ef38cd4b5715a75c09d86bc670b6dc0 = L.circleMarker(\n",
       "                [-34.64446729, -58.44609828],\n",
       "                {&quot;bubblingMouseEvents&quot;: true, &quot;color&quot;: &quot;cornflowerblue&quot;, &quot;dashArray&quot;: null, &quot;dashOffset&quot;: null, &quot;fill&quot;: true, &quot;fillColor&quot;: &quot;cornflowerblue&quot;, &quot;fillOpacity&quot;: 0.6, &quot;fillRule&quot;: &quot;evenodd&quot;, &quot;lineCap&quot;: &quot;round&quot;, &quot;lineJoin&quot;: &quot;round&quot;, &quot;opacity&quot;: 1, &quot;radius&quot;: 6, &quot;stroke&quot;: false, &quot;weight&quot;: 3}\n",
       "            ).addTo(map_65086584e849e701b7a03696943cbf61);\n",
       "        \n",
       "    \n",
       "            var circle_marker_56bd036b69013ab2ee0e49e58913670b = L.circleMarker(\n",
       "                [-34.64449357, -58.37562539],\n",
       "                {&quot;bubblingMouseEvents&quot;: true, &quot;color&quot;: &quot;cornflowerblue&quot;, &quot;dashArray&quot;: null, &quot;dashOffset&quot;: null, &quot;fill&quot;: true, &quot;fillColor&quot;: &quot;cornflowerblue&quot;, &quot;fillOpacity&quot;: 0.6, &quot;fillRule&quot;: &quot;evenodd&quot;, &quot;lineCap&quot;: &quot;round&quot;, &quot;lineJoin&quot;: &quot;round&quot;, &quot;opacity&quot;: 1, &quot;radius&quot;: 6, &quot;stroke&quot;: false, &quot;weight&quot;: 3}\n",
       "            ).addTo(map_65086584e849e701b7a03696943cbf61);\n",
       "        \n",
       "    \n",
       "            var circle_marker_0adc189afffc50c3663e91b2145567a2 = L.circleMarker(\n",
       "                [-34.64457699, -58.4338383],\n",
       "                {&quot;bubblingMouseEvents&quot;: true, &quot;color&quot;: &quot;cornflowerblue&quot;, &quot;dashArray&quot;: null, &quot;dashOffset&quot;: null, &quot;fill&quot;: true, &quot;fillColor&quot;: &quot;cornflowerblue&quot;, &quot;fillOpacity&quot;: 0.6, &quot;fillRule&quot;: &quot;evenodd&quot;, &quot;lineCap&quot;: &quot;round&quot;, &quot;lineJoin&quot;: &quot;round&quot;, &quot;opacity&quot;: 1, &quot;radius&quot;: 6, &quot;stroke&quot;: false, &quot;weight&quot;: 3}\n",
       "            ).addTo(map_65086584e849e701b7a03696943cbf61);\n",
       "        \n",
       "    \n",
       "            var circle_marker_da90552070f4baeb1416f17bc47bbff8 = L.circleMarker(\n",
       "                [-34.6611974, -58.42985146],\n",
       "                {&quot;bubblingMouseEvents&quot;: true, &quot;color&quot;: &quot;cornflowerblue&quot;, &quot;dashArray&quot;: null, &quot;dashOffset&quot;: null, &quot;fill&quot;: true, &quot;fillColor&quot;: &quot;cornflowerblue&quot;, &quot;fillOpacity&quot;: 0.6, &quot;fillRule&quot;: &quot;evenodd&quot;, &quot;lineCap&quot;: &quot;round&quot;, &quot;lineJoin&quot;: &quot;round&quot;, &quot;opacity&quot;: 1, &quot;radius&quot;: 6, &quot;stroke&quot;: false, &quot;weight&quot;: 3}\n",
       "            ).addTo(map_65086584e849e701b7a03696943cbf61);\n",
       "        \n",
       "    \n",
       "            var circle_marker_29007b1f711f42cc4f04c8a514ec4fbb = L.circleMarker(\n",
       "                [-34.63918987, -58.51973844],\n",
       "                {&quot;bubblingMouseEvents&quot;: true, &quot;color&quot;: &quot;cornflowerblue&quot;, &quot;dashArray&quot;: null, &quot;dashOffset&quot;: null, &quot;fill&quot;: true, &quot;fillColor&quot;: &quot;cornflowerblue&quot;, &quot;fillOpacity&quot;: 0.6, &quot;fillRule&quot;: &quot;evenodd&quot;, &quot;lineCap&quot;: &quot;round&quot;, &quot;lineJoin&quot;: &quot;round&quot;, &quot;opacity&quot;: 1, &quot;radius&quot;: 6, &quot;stroke&quot;: false, &quot;weight&quot;: 3}\n",
       "            ).addTo(map_65086584e849e701b7a03696943cbf61);\n",
       "        \n",
       "    \n",
       "            var circle_marker_8d1512661444df4962dd1a477d84bde1 = L.circleMarker(\n",
       "                [-34.63905965, -58.51876802],\n",
       "                {&quot;bubblingMouseEvents&quot;: true, &quot;color&quot;: &quot;cornflowerblue&quot;, &quot;dashArray&quot;: null, &quot;dashOffset&quot;: null, &quot;fill&quot;: true, &quot;fillColor&quot;: &quot;cornflowerblue&quot;, &quot;fillOpacity&quot;: 0.6, &quot;fillRule&quot;: &quot;evenodd&quot;, &quot;lineCap&quot;: &quot;round&quot;, &quot;lineJoin&quot;: &quot;round&quot;, &quot;opacity&quot;: 1, &quot;radius&quot;: 6, &quot;stroke&quot;: false, &quot;weight&quot;: 3}\n",
       "            ).addTo(map_65086584e849e701b7a03696943cbf61);\n",
       "        \n",
       "    \n",
       "            var circle_marker_86b9052ba0c17b5fdf4e8ba6f43eb9ba = L.circleMarker(\n",
       "                [-34.63888084, -58.44682986],\n",
       "                {&quot;bubblingMouseEvents&quot;: true, &quot;color&quot;: &quot;cornflowerblue&quot;, &quot;dashArray&quot;: null, &quot;dashOffset&quot;: null, &quot;fill&quot;: true, &quot;fillColor&quot;: &quot;cornflowerblue&quot;, &quot;fillOpacity&quot;: 0.6, &quot;fillRule&quot;: &quot;evenodd&quot;, &quot;lineCap&quot;: &quot;round&quot;, &quot;lineJoin&quot;: &quot;round&quot;, &quot;opacity&quot;: 1, &quot;radius&quot;: 6, &quot;stroke&quot;: false, &quot;weight&quot;: 3}\n",
       "            ).addTo(map_65086584e849e701b7a03696943cbf61);\n",
       "        \n",
       "    \n",
       "            var circle_marker_a59f2c6cbf66f3228d3b4e066f608ea2 = L.circleMarker(\n",
       "                [-34.63491705, -58.4475047],\n",
       "                {&quot;bubblingMouseEvents&quot;: true, &quot;color&quot;: &quot;cornflowerblue&quot;, &quot;dashArray&quot;: null, &quot;dashOffset&quot;: null, &quot;fill&quot;: true, &quot;fillColor&quot;: &quot;cornflowerblue&quot;, &quot;fillOpacity&quot;: 0.6, &quot;fillRule&quot;: &quot;evenodd&quot;, &quot;lineCap&quot;: &quot;round&quot;, &quot;lineJoin&quot;: &quot;round&quot;, &quot;opacity&quot;: 1, &quot;radius&quot;: 6, &quot;stroke&quot;: false, &quot;weight&quot;: 3}\n",
       "            ).addTo(map_65086584e849e701b7a03696943cbf61);\n",
       "        \n",
       "    \n",
       "            var circle_marker_5a1e10920803bb8c6df0d75ec48be09b = L.circleMarker(\n",
       "                [-34.63504312, -58.48100602],\n",
       "                {&quot;bubblingMouseEvents&quot;: true, &quot;color&quot;: &quot;cornflowerblue&quot;, &quot;dashArray&quot;: null, &quot;dashOffset&quot;: null, &quot;fill&quot;: true, &quot;fillColor&quot;: &quot;cornflowerblue&quot;, &quot;fillOpacity&quot;: 0.6, &quot;fillRule&quot;: &quot;evenodd&quot;, &quot;lineCap&quot;: &quot;round&quot;, &quot;lineJoin&quot;: &quot;round&quot;, &quot;opacity&quot;: 1, &quot;radius&quot;: 6, &quot;stroke&quot;: false, &quot;weight&quot;: 3}\n",
       "            ).addTo(map_65086584e849e701b7a03696943cbf61);\n",
       "        \n",
       "    \n",
       "            var circle_marker_ee04e1be75ea9a82079535069483c55c = L.circleMarker(\n",
       "                [-34.63524207, -58.47439934],\n",
       "                {&quot;bubblingMouseEvents&quot;: true, &quot;color&quot;: &quot;cornflowerblue&quot;, &quot;dashArray&quot;: null, &quot;dashOffset&quot;: null, &quot;fill&quot;: true, &quot;fillColor&quot;: &quot;cornflowerblue&quot;, &quot;fillOpacity&quot;: 0.6, &quot;fillRule&quot;: &quot;evenodd&quot;, &quot;lineCap&quot;: &quot;round&quot;, &quot;lineJoin&quot;: &quot;round&quot;, &quot;opacity&quot;: 1, &quot;radius&quot;: 6, &quot;stroke&quot;: false, &quot;weight&quot;: 3}\n",
       "            ).addTo(map_65086584e849e701b7a03696943cbf61);\n",
       "        \n",
       "    \n",
       "            var circle_marker_99a34d9a5154c5baa81fc0813eb9549c = L.circleMarker(\n",
       "                [-34.63531854, -58.45485084],\n",
       "                {&quot;bubblingMouseEvents&quot;: true, &quot;color&quot;: &quot;cornflowerblue&quot;, &quot;dashArray&quot;: null, &quot;dashOffset&quot;: null, &quot;fill&quot;: true, &quot;fillColor&quot;: &quot;cornflowerblue&quot;, &quot;fillOpacity&quot;: 0.6, &quot;fillRule&quot;: &quot;evenodd&quot;, &quot;lineCap&quot;: &quot;round&quot;, &quot;lineJoin&quot;: &quot;round&quot;, &quot;opacity&quot;: 1, &quot;radius&quot;: 6, &quot;stroke&quot;: false, &quot;weight&quot;: 3}\n",
       "            ).addTo(map_65086584e849e701b7a03696943cbf61);\n",
       "        \n",
       "    \n",
       "            var circle_marker_c32633c7d35d7ef6a49dbce59acbc1ec = L.circleMarker(\n",
       "                [-34.66252488, -58.5183993],\n",
       "                {&quot;bubblingMouseEvents&quot;: true, &quot;color&quot;: &quot;cornflowerblue&quot;, &quot;dashArray&quot;: null, &quot;dashOffset&quot;: null, &quot;fill&quot;: true, &quot;fillColor&quot;: &quot;cornflowerblue&quot;, &quot;fillOpacity&quot;: 0.6, &quot;fillRule&quot;: &quot;evenodd&quot;, &quot;lineCap&quot;: &quot;round&quot;, &quot;lineJoin&quot;: &quot;round&quot;, &quot;opacity&quot;: 1, &quot;radius&quot;: 6, &quot;stroke&quot;: false, &quot;weight&quot;: 3}\n",
       "            ).addTo(map_65086584e849e701b7a03696943cbf61);\n",
       "        \n",
       "    \n",
       "            var circle_marker_8018186b67e7a3da157ee92269f52bb1 = L.circleMarker(\n",
       "                [-34.63572989, -58.41288952],\n",
       "                {&quot;bubblingMouseEvents&quot;: true, &quot;color&quot;: &quot;cornflowerblue&quot;, &quot;dashArray&quot;: null, &quot;dashOffset&quot;: null, &quot;fill&quot;: true, &quot;fillColor&quot;: &quot;cornflowerblue&quot;, &quot;fillOpacity&quot;: 0.6, &quot;fillRule&quot;: &quot;evenodd&quot;, &quot;lineCap&quot;: &quot;round&quot;, &quot;lineJoin&quot;: &quot;round&quot;, &quot;opacity&quot;: 1, &quot;radius&quot;: 6, &quot;stroke&quot;: false, &quot;weight&quot;: 3}\n",
       "            ).addTo(map_65086584e849e701b7a03696943cbf61);\n",
       "        \n",
       "    \n",
       "            var circle_marker_66d1f43cd82241b02076d555aedf3deb = L.circleMarker(\n",
       "                [-34.63593897, -58.50178784],\n",
       "                {&quot;bubblingMouseEvents&quot;: true, &quot;color&quot;: &quot;cornflowerblue&quot;, &quot;dashArray&quot;: null, &quot;dashOffset&quot;: null, &quot;fill&quot;: true, &quot;fillColor&quot;: &quot;cornflowerblue&quot;, &quot;fillOpacity&quot;: 0.6, &quot;fillRule&quot;: &quot;evenodd&quot;, &quot;lineCap&quot;: &quot;round&quot;, &quot;lineJoin&quot;: &quot;round&quot;, &quot;opacity&quot;: 1, &quot;radius&quot;: 6, &quot;stroke&quot;: false, &quot;weight&quot;: 3}\n",
       "            ).addTo(map_65086584e849e701b7a03696943cbf61);\n",
       "        \n",
       "    \n",
       "            var circle_marker_636d5a64fb2eb0c6c350b1d96318ee87 = L.circleMarker(\n",
       "                [-34.63601265, -58.52502765],\n",
       "                {&quot;bubblingMouseEvents&quot;: true, &quot;color&quot;: &quot;cornflowerblue&quot;, &quot;dashArray&quot;: null, &quot;dashOffset&quot;: null, &quot;fill&quot;: true, &quot;fillColor&quot;: &quot;cornflowerblue&quot;, &quot;fillOpacity&quot;: 0.6, &quot;fillRule&quot;: &quot;evenodd&quot;, &quot;lineCap&quot;: &quot;round&quot;, &quot;lineJoin&quot;: &quot;round&quot;, &quot;opacity&quot;: 1, &quot;radius&quot;: 6, &quot;stroke&quot;: false, &quot;weight&quot;: 3}\n",
       "            ).addTo(map_65086584e849e701b7a03696943cbf61);\n",
       "        \n",
       "    \n",
       "            var circle_marker_51b81d8d276ba8802ee198f6087b0b25 = L.circleMarker(\n",
       "                [-34.63627822, -58.50622631],\n",
       "                {&quot;bubblingMouseEvents&quot;: true, &quot;color&quot;: &quot;cornflowerblue&quot;, &quot;dashArray&quot;: null, &quot;dashOffset&quot;: null, &quot;fill&quot;: true, &quot;fillColor&quot;: &quot;cornflowerblue&quot;, &quot;fillOpacity&quot;: 0.6, &quot;fillRule&quot;: &quot;evenodd&quot;, &quot;lineCap&quot;: &quot;round&quot;, &quot;lineJoin&quot;: &quot;round&quot;, &quot;opacity&quot;: 1, &quot;radius&quot;: 6, &quot;stroke&quot;: false, &quot;weight&quot;: 3}\n",
       "            ).addTo(map_65086584e849e701b7a03696943cbf61);\n",
       "        \n",
       "    \n",
       "            var circle_marker_b4c3e99549f8a306de3bae4f7c75e5de = L.circleMarker(\n",
       "                [-34.63628186, -58.46572884],\n",
       "                {&quot;bubblingMouseEvents&quot;: true, &quot;color&quot;: &quot;cornflowerblue&quot;, &quot;dashArray&quot;: null, &quot;dashOffset&quot;: null, &quot;fill&quot;: true, &quot;fillColor&quot;: &quot;cornflowerblue&quot;, &quot;fillOpacity&quot;: 0.6, &quot;fillRule&quot;: &quot;evenodd&quot;, &quot;lineCap&quot;: &quot;round&quot;, &quot;lineJoin&quot;: &quot;round&quot;, &quot;opacity&quot;: 1, &quot;radius&quot;: 6, &quot;stroke&quot;: false, &quot;weight&quot;: 3}\n",
       "            ).addTo(map_65086584e849e701b7a03696943cbf61);\n",
       "        \n",
       "    \n",
       "            var circle_marker_c149dc25fa739bda811af05a70134eef = L.circleMarker(\n",
       "                [-34.63635787, -58.51927194],\n",
       "                {&quot;bubblingMouseEvents&quot;: true, &quot;color&quot;: &quot;cornflowerblue&quot;, &quot;dashArray&quot;: null, &quot;dashOffset&quot;: null, &quot;fill&quot;: true, &quot;fillColor&quot;: &quot;cornflowerblue&quot;, &quot;fillOpacity&quot;: 0.6, &quot;fillRule&quot;: &quot;evenodd&quot;, &quot;lineCap&quot;: &quot;round&quot;, &quot;lineJoin&quot;: &quot;round&quot;, &quot;opacity&quot;: 1, &quot;radius&quot;: 6, &quot;stroke&quot;: false, &quot;weight&quot;: 3}\n",
       "            ).addTo(map_65086584e849e701b7a03696943cbf61);\n",
       "        \n",
       "    \n",
       "            var circle_marker_edac931f3bc3d7143fcf4d962a2f1c75 = L.circleMarker(\n",
       "                [-34.63637963, -58.52922765],\n",
       "                {&quot;bubblingMouseEvents&quot;: true, &quot;color&quot;: &quot;cornflowerblue&quot;, &quot;dashArray&quot;: null, &quot;dashOffset&quot;: null, &quot;fill&quot;: true, &quot;fillColor&quot;: &quot;cornflowerblue&quot;, &quot;fillOpacity&quot;: 0.6, &quot;fillRule&quot;: &quot;evenodd&quot;, &quot;lineCap&quot;: &quot;round&quot;, &quot;lineJoin&quot;: &quot;round&quot;, &quot;opacity&quot;: 1, &quot;radius&quot;: 6, &quot;stroke&quot;: false, &quot;weight&quot;: 3}\n",
       "            ).addTo(map_65086584e849e701b7a03696943cbf61);\n",
       "        \n",
       "    \n",
       "            var circle_marker_e0933a2c1e3306318497accc373695d5 = L.circleMarker(\n",
       "                [-34.63638927, -58.45068621],\n",
       "                {&quot;bubblingMouseEvents&quot;: true, &quot;color&quot;: &quot;cornflowerblue&quot;, &quot;dashArray&quot;: null, &quot;dashOffset&quot;: null, &quot;fill&quot;: true, &quot;fillColor&quot;: &quot;cornflowerblue&quot;, &quot;fillOpacity&quot;: 0.6, &quot;fillRule&quot;: &quot;evenodd&quot;, &quot;lineCap&quot;: &quot;round&quot;, &quot;lineJoin&quot;: &quot;round&quot;, &quot;opacity&quot;: 1, &quot;radius&quot;: 6, &quot;stroke&quot;: false, &quot;weight&quot;: 3}\n",
       "            ).addTo(map_65086584e849e701b7a03696943cbf61);\n",
       "        \n",
       "    \n",
       "            var circle_marker_9d88fc1a44b70b9c1d529ce37383f1fb = L.circleMarker(\n",
       "                [-34.63657525428238, -58.37714647568196],\n",
       "                {&quot;bubblingMouseEvents&quot;: true, &quot;color&quot;: &quot;cornflowerblue&quot;, &quot;dashArray&quot;: null, &quot;dashOffset&quot;: null, &quot;fill&quot;: true, &quot;fillColor&quot;: &quot;cornflowerblue&quot;, &quot;fillOpacity&quot;: 0.6, &quot;fillRule&quot;: &quot;evenodd&quot;, &quot;lineCap&quot;: &quot;round&quot;, &quot;lineJoin&quot;: &quot;round&quot;, &quot;opacity&quot;: 1, &quot;radius&quot;: 6, &quot;stroke&quot;: false, &quot;weight&quot;: 3}\n",
       "            ).addTo(map_65086584e849e701b7a03696943cbf61);\n",
       "        \n",
       "    \n",
       "            var circle_marker_cb11c53c7e73e6db04e22e291c563f8b = L.circleMarker(\n",
       "                [-34.66128115, -58.43254025],\n",
       "                {&quot;bubblingMouseEvents&quot;: true, &quot;color&quot;: &quot;cornflowerblue&quot;, &quot;dashArray&quot;: null, &quot;dashOffset&quot;: null, &quot;fill&quot;: true, &quot;fillColor&quot;: &quot;cornflowerblue&quot;, &quot;fillOpacity&quot;: 0.6, &quot;fillRule&quot;: &quot;evenodd&quot;, &quot;lineCap&quot;: &quot;round&quot;, &quot;lineJoin&quot;: &quot;round&quot;, &quot;opacity&quot;: 1, &quot;radius&quot;: 6, &quot;stroke&quot;: false, &quot;weight&quot;: 3}\n",
       "            ).addTo(map_65086584e849e701b7a03696943cbf61);\n",
       "        \n",
       "    \n",
       "            var circle_marker_0d47b25b77d3ccc1505be6b94b1a7c6b = L.circleMarker(\n",
       "                [-34.63665402, -58.47130269],\n",
       "                {&quot;bubblingMouseEvents&quot;: true, &quot;color&quot;: &quot;cornflowerblue&quot;, &quot;dashArray&quot;: null, &quot;dashOffset&quot;: null, &quot;fill&quot;: true, &quot;fillColor&quot;: &quot;cornflowerblue&quot;, &quot;fillOpacity&quot;: 0.6, &quot;fillRule&quot;: &quot;evenodd&quot;, &quot;lineCap&quot;: &quot;round&quot;, &quot;lineJoin&quot;: &quot;round&quot;, &quot;opacity&quot;: 1, &quot;radius&quot;: 6, &quot;stroke&quot;: false, &quot;weight&quot;: 3}\n",
       "            ).addTo(map_65086584e849e701b7a03696943cbf61);\n",
       "        \n",
       "    \n",
       "            var circle_marker_b2160751cb3e97c80b9ec4d0c3393dc8 = L.circleMarker(\n",
       "                [-34.63668504, -58.37813396],\n",
       "                {&quot;bubblingMouseEvents&quot;: true, &quot;color&quot;: &quot;cornflowerblue&quot;, &quot;dashArray&quot;: null, &quot;dashOffset&quot;: null, &quot;fill&quot;: true, &quot;fillColor&quot;: &quot;cornflowerblue&quot;, &quot;fillOpacity&quot;: 0.6, &quot;fillRule&quot;: &quot;evenodd&quot;, &quot;lineCap&quot;: &quot;round&quot;, &quot;lineJoin&quot;: &quot;round&quot;, &quot;opacity&quot;: 1, &quot;radius&quot;: 6, &quot;stroke&quot;: false, &quot;weight&quot;: 3}\n",
       "            ).addTo(map_65086584e849e701b7a03696943cbf61);\n",
       "        \n",
       "    \n",
       "            var circle_marker_597f4a9e16f193342c319e3997fcc58e = L.circleMarker(\n",
       "                [-34.63679732, -58.4426358],\n",
       "                {&quot;bubblingMouseEvents&quot;: true, &quot;color&quot;: &quot;cornflowerblue&quot;, &quot;dashArray&quot;: null, &quot;dashOffset&quot;: null, &quot;fill&quot;: true, &quot;fillColor&quot;: &quot;cornflowerblue&quot;, &quot;fillOpacity&quot;: 0.6, &quot;fillRule&quot;: &quot;evenodd&quot;, &quot;lineCap&quot;: &quot;round&quot;, &quot;lineJoin&quot;: &quot;round&quot;, &quot;opacity&quot;: 1, &quot;radius&quot;: 6, &quot;stroke&quot;: false, &quot;weight&quot;: 3}\n",
       "            ).addTo(map_65086584e849e701b7a03696943cbf61);\n",
       "        \n",
       "    \n",
       "            var circle_marker_a95774e64a7647f1330a0ed4b1087634 = L.circleMarker(\n",
       "                [-34.63682499, -58.52144411],\n",
       "                {&quot;bubblingMouseEvents&quot;: true, &quot;color&quot;: &quot;cornflowerblue&quot;, &quot;dashArray&quot;: null, &quot;dashOffset&quot;: null, &quot;fill&quot;: true, &quot;fillColor&quot;: &quot;cornflowerblue&quot;, &quot;fillOpacity&quot;: 0.6, &quot;fillRule&quot;: &quot;evenodd&quot;, &quot;lineCap&quot;: &quot;round&quot;, &quot;lineJoin&quot;: &quot;round&quot;, &quot;opacity&quot;: 1, &quot;radius&quot;: 6, &quot;stroke&quot;: false, &quot;weight&quot;: 3}\n",
       "            ).addTo(map_65086584e849e701b7a03696943cbf61);\n",
       "        \n",
       "    \n",
       "            var circle_marker_6d76cfe446c053af2613834ff8d03fa1 = L.circleMarker(\n",
       "                [-34.63693953, -58.43213235],\n",
       "                {&quot;bubblingMouseEvents&quot;: true, &quot;color&quot;: &quot;cornflowerblue&quot;, &quot;dashArray&quot;: null, &quot;dashOffset&quot;: null, &quot;fill&quot;: true, &quot;fillColor&quot;: &quot;cornflowerblue&quot;, &quot;fillOpacity&quot;: 0.6, &quot;fillRule&quot;: &quot;evenodd&quot;, &quot;lineCap&quot;: &quot;round&quot;, &quot;lineJoin&quot;: &quot;round&quot;, &quot;opacity&quot;: 1, &quot;radius&quot;: 6, &quot;stroke&quot;: false, &quot;weight&quot;: 3}\n",
       "            ).addTo(map_65086584e849e701b7a03696943cbf61);\n",
       "        \n",
       "    \n",
       "            var circle_marker_89146b9e72c422164df72ce5429fa9f4 = L.circleMarker(\n",
       "                [-34.63695178, -58.35791192],\n",
       "                {&quot;bubblingMouseEvents&quot;: true, &quot;color&quot;: &quot;cornflowerblue&quot;, &quot;dashArray&quot;: null, &quot;dashOffset&quot;: null, &quot;fill&quot;: true, &quot;fillColor&quot;: &quot;cornflowerblue&quot;, &quot;fillOpacity&quot;: 0.6, &quot;fillRule&quot;: &quot;evenodd&quot;, &quot;lineCap&quot;: &quot;round&quot;, &quot;lineJoin&quot;: &quot;round&quot;, &quot;opacity&quot;: 1, &quot;radius&quot;: 6, &quot;stroke&quot;: false, &quot;weight&quot;: 3}\n",
       "            ).addTo(map_65086584e849e701b7a03696943cbf61);\n",
       "        \n",
       "    \n",
       "            var circle_marker_90db9d17d39463e22434f00a19371963 = L.circleMarker(\n",
       "                [-34.63722107, -58.41911301],\n",
       "                {&quot;bubblingMouseEvents&quot;: true, &quot;color&quot;: &quot;cornflowerblue&quot;, &quot;dashArray&quot;: null, &quot;dashOffset&quot;: null, &quot;fill&quot;: true, &quot;fillColor&quot;: &quot;cornflowerblue&quot;, &quot;fillOpacity&quot;: 0.6, &quot;fillRule&quot;: &quot;evenodd&quot;, &quot;lineCap&quot;: &quot;round&quot;, &quot;lineJoin&quot;: &quot;round&quot;, &quot;opacity&quot;: 1, &quot;radius&quot;: 6, &quot;stroke&quot;: false, &quot;weight&quot;: 3}\n",
       "            ).addTo(map_65086584e849e701b7a03696943cbf61);\n",
       "        \n",
       "    \n",
       "            var circle_marker_677fb4bef9ab60bc977dca58e379970e = L.circleMarker(\n",
       "                [-34.6374328, -58.49945705],\n",
       "                {&quot;bubblingMouseEvents&quot;: true, &quot;color&quot;: &quot;cornflowerblue&quot;, &quot;dashArray&quot;: null, &quot;dashOffset&quot;: null, &quot;fill&quot;: true, &quot;fillColor&quot;: &quot;cornflowerblue&quot;, &quot;fillOpacity&quot;: 0.6, &quot;fillRule&quot;: &quot;evenodd&quot;, &quot;lineCap&quot;: &quot;round&quot;, &quot;lineJoin&quot;: &quot;round&quot;, &quot;opacity&quot;: 1, &quot;radius&quot;: 6, &quot;stroke&quot;: false, &quot;weight&quot;: 3}\n",
       "            ).addTo(map_65086584e849e701b7a03696943cbf61);\n",
       "        \n",
       "    \n",
       "            var circle_marker_3e8177a46e5c97abc2dafd9155bd3110 = L.circleMarker(\n",
       "                [-34.63787791, -58.52567073],\n",
       "                {&quot;bubblingMouseEvents&quot;: true, &quot;color&quot;: &quot;cornflowerblue&quot;, &quot;dashArray&quot;: null, &quot;dashOffset&quot;: null, &quot;fill&quot;: true, &quot;fillColor&quot;: &quot;cornflowerblue&quot;, &quot;fillOpacity&quot;: 0.6, &quot;fillRule&quot;: &quot;evenodd&quot;, &quot;lineCap&quot;: &quot;round&quot;, &quot;lineJoin&quot;: &quot;round&quot;, &quot;opacity&quot;: 1, &quot;radius&quot;: 6, &quot;stroke&quot;: false, &quot;weight&quot;: 3}\n",
       "            ).addTo(map_65086584e849e701b7a03696943cbf61);\n",
       "        \n",
       "    \n",
       "            var circle_marker_52e32970c2911938ffe4e930d05dabd1 = L.circleMarker(\n",
       "                [-34.63800916, -58.37627355],\n",
       "                {&quot;bubblingMouseEvents&quot;: true, &quot;color&quot;: &quot;cornflowerblue&quot;, &quot;dashArray&quot;: null, &quot;dashOffset&quot;: null, &quot;fill&quot;: true, &quot;fillColor&quot;: &quot;cornflowerblue&quot;, &quot;fillOpacity&quot;: 0.6, &quot;fillRule&quot;: &quot;evenodd&quot;, &quot;lineCap&quot;: &quot;round&quot;, &quot;lineJoin&quot;: &quot;round&quot;, &quot;opacity&quot;: 1, &quot;radius&quot;: 6, &quot;stroke&quot;: false, &quot;weight&quot;: 3}\n",
       "            ).addTo(map_65086584e849e701b7a03696943cbf61);\n",
       "        \n",
       "    \n",
       "            var circle_marker_b53623282c876e1e339dba3b5e6ed476 = L.circleMarker(\n",
       "                [-34.63832093, -58.36376488],\n",
       "                {&quot;bubblingMouseEvents&quot;: true, &quot;color&quot;: &quot;cornflowerblue&quot;, &quot;dashArray&quot;: null, &quot;dashOffset&quot;: null, &quot;fill&quot;: true, &quot;fillColor&quot;: &quot;cornflowerblue&quot;, &quot;fillOpacity&quot;: 0.6, &quot;fillRule&quot;: &quot;evenodd&quot;, &quot;lineCap&quot;: &quot;round&quot;, &quot;lineJoin&quot;: &quot;round&quot;, &quot;opacity&quot;: 1, &quot;radius&quot;: 6, &quot;stroke&quot;: false, &quot;weight&quot;: 3}\n",
       "            ).addTo(map_65086584e849e701b7a03696943cbf61);\n",
       "        \n",
       "    \n",
       "            var circle_marker_1dceefdba13d40fbef72209702dd8def = L.circleMarker(\n",
       "                [-34.63852623, -58.44497874],\n",
       "                {&quot;bubblingMouseEvents&quot;: true, &quot;color&quot;: &quot;cornflowerblue&quot;, &quot;dashArray&quot;: null, &quot;dashOffset&quot;: null, &quot;fill&quot;: true, &quot;fillColor&quot;: &quot;cornflowerblue&quot;, &quot;fillOpacity&quot;: 0.6, &quot;fillRule&quot;: &quot;evenodd&quot;, &quot;lineCap&quot;: &quot;round&quot;, &quot;lineJoin&quot;: &quot;round&quot;, &quot;opacity&quot;: 1, &quot;radius&quot;: 6, &quot;stroke&quot;: false, &quot;weight&quot;: 3}\n",
       "            ).addTo(map_65086584e849e701b7a03696943cbf61);\n",
       "        \n",
       "    \n",
       "            var circle_marker_d85bd5ef8efa686384ee9f6f557b9943 = L.circleMarker(\n",
       "                [-34.63866836, -58.41455544],\n",
       "                {&quot;bubblingMouseEvents&quot;: true, &quot;color&quot;: &quot;cornflowerblue&quot;, &quot;dashArray&quot;: null, &quot;dashOffset&quot;: null, &quot;fill&quot;: true, &quot;fillColor&quot;: &quot;cornflowerblue&quot;, &quot;fillOpacity&quot;: 0.6, &quot;fillRule&quot;: &quot;evenodd&quot;, &quot;lineCap&quot;: &quot;round&quot;, &quot;lineJoin&quot;: &quot;round&quot;, &quot;opacity&quot;: 1, &quot;radius&quot;: 6, &quot;stroke&quot;: false, &quot;weight&quot;: 3}\n",
       "            ).addTo(map_65086584e849e701b7a03696943cbf61);\n",
       "        \n",
       "    \n",
       "            var circle_marker_895d60878ff3500352d2abc60e1fe940 = L.circleMarker(\n",
       "                [-34.63886726, -58.52909134],\n",
       "                {&quot;bubblingMouseEvents&quot;: true, &quot;color&quot;: &quot;cornflowerblue&quot;, &quot;dashArray&quot;: null, &quot;dashOffset&quot;: null, &quot;fill&quot;: true, &quot;fillColor&quot;: &quot;cornflowerblue&quot;, &quot;fillOpacity&quot;: 0.6, &quot;fillRule&quot;: &quot;evenodd&quot;, &quot;lineCap&quot;: &quot;round&quot;, &quot;lineJoin&quot;: &quot;round&quot;, &quot;opacity&quot;: 1, &quot;radius&quot;: 6, &quot;stroke&quot;: false, &quot;weight&quot;: 3}\n",
       "            ).addTo(map_65086584e849e701b7a03696943cbf61);\n",
       "        \n",
       "    \n",
       "            var circle_marker_5beb57133aef26760759b56cb628540d = L.circleMarker(\n",
       "                [-34.64487785, -58.49525314],\n",
       "                {&quot;bubblingMouseEvents&quot;: true, &quot;color&quot;: &quot;cornflowerblue&quot;, &quot;dashArray&quot;: null, &quot;dashOffset&quot;: null, &quot;fill&quot;: true, &quot;fillColor&quot;: &quot;cornflowerblue&quot;, &quot;fillOpacity&quot;: 0.6, &quot;fillRule&quot;: &quot;evenodd&quot;, &quot;lineCap&quot;: &quot;round&quot;, &quot;lineJoin&quot;: &quot;round&quot;, &quot;opacity&quot;: 1, &quot;radius&quot;: 6, &quot;stroke&quot;: false, &quot;weight&quot;: 3}\n",
       "            ).addTo(map_65086584e849e701b7a03696943cbf61);\n",
       "        \n",
       "    \n",
       "            var circle_marker_8e264bb8e8d748ceb0c6f1969c509e1e = L.circleMarker(\n",
       "                [-34.64543658, -58.37207554],\n",
       "                {&quot;bubblingMouseEvents&quot;: true, &quot;color&quot;: &quot;cornflowerblue&quot;, &quot;dashArray&quot;: null, &quot;dashOffset&quot;: null, &quot;fill&quot;: true, &quot;fillColor&quot;: &quot;cornflowerblue&quot;, &quot;fillOpacity&quot;: 0.6, &quot;fillRule&quot;: &quot;evenodd&quot;, &quot;lineCap&quot;: &quot;round&quot;, &quot;lineJoin&quot;: &quot;round&quot;, &quot;opacity&quot;: 1, &quot;radius&quot;: 6, &quot;stroke&quot;: false, &quot;weight&quot;: 3}\n",
       "            ).addTo(map_65086584e849e701b7a03696943cbf61);\n",
       "        \n",
       "    \n",
       "            var circle_marker_3782c2c703cc55cf28312840b3bc76cf = L.circleMarker(\n",
       "                [-34.65624369, -58.46635001],\n",
       "                {&quot;bubblingMouseEvents&quot;: true, &quot;color&quot;: &quot;cornflowerblue&quot;, &quot;dashArray&quot;: null, &quot;dashOffset&quot;: null, &quot;fill&quot;: true, &quot;fillColor&quot;: &quot;cornflowerblue&quot;, &quot;fillOpacity&quot;: 0.6, &quot;fillRule&quot;: &quot;evenodd&quot;, &quot;lineCap&quot;: &quot;round&quot;, &quot;lineJoin&quot;: &quot;round&quot;, &quot;opacity&quot;: 1, &quot;radius&quot;: 6, &quot;stroke&quot;: false, &quot;weight&quot;: 3}\n",
       "            ).addTo(map_65086584e849e701b7a03696943cbf61);\n",
       "        \n",
       "    \n",
       "            var circle_marker_44da41fa85a9ab71f28a9c9bbc472b58 = L.circleMarker(\n",
       "                [-34.65412546, -58.44925765],\n",
       "                {&quot;bubblingMouseEvents&quot;: true, &quot;color&quot;: &quot;cornflowerblue&quot;, &quot;dashArray&quot;: null, &quot;dashOffset&quot;: null, &quot;fill&quot;: true, &quot;fillColor&quot;: &quot;cornflowerblue&quot;, &quot;fillOpacity&quot;: 0.6, &quot;fillRule&quot;: &quot;evenodd&quot;, &quot;lineCap&quot;: &quot;round&quot;, &quot;lineJoin&quot;: &quot;round&quot;, &quot;opacity&quot;: 1, &quot;radius&quot;: 6, &quot;stroke&quot;: false, &quot;weight&quot;: 3}\n",
       "            ).addTo(map_65086584e849e701b7a03696943cbf61);\n",
       "        \n",
       "    \n",
       "            var circle_marker_0f657bba0dbfa8628840926d4a4374b2 = L.circleMarker(\n",
       "                [-34.65093074, -58.45537373],\n",
       "                {&quot;bubblingMouseEvents&quot;: true, &quot;color&quot;: &quot;cornflowerblue&quot;, &quot;dashArray&quot;: null, &quot;dashOffset&quot;: null, &quot;fill&quot;: true, &quot;fillColor&quot;: &quot;cornflowerblue&quot;, &quot;fillOpacity&quot;: 0.6, &quot;fillRule&quot;: &quot;evenodd&quot;, &quot;lineCap&quot;: &quot;round&quot;, &quot;lineJoin&quot;: &quot;round&quot;, &quot;opacity&quot;: 1, &quot;radius&quot;: 6, &quot;stroke&quot;: false, &quot;weight&quot;: 3}\n",
       "            ).addTo(map_65086584e849e701b7a03696943cbf61);\n",
       "        \n",
       "    \n",
       "            var circle_marker_b35960a768d76a278f1b64db88dce954 = L.circleMarker(\n",
       "                [-34.65094083, -58.43980799],\n",
       "                {&quot;bubblingMouseEvents&quot;: true, &quot;color&quot;: &quot;cornflowerblue&quot;, &quot;dashArray&quot;: null, &quot;dashOffset&quot;: null, &quot;fill&quot;: true, &quot;fillColor&quot;: &quot;cornflowerblue&quot;, &quot;fillOpacity&quot;: 0.6, &quot;fillRule&quot;: &quot;evenodd&quot;, &quot;lineCap&quot;: &quot;round&quot;, &quot;lineJoin&quot;: &quot;round&quot;, &quot;opacity&quot;: 1, &quot;radius&quot;: 6, &quot;stroke&quot;: false, &quot;weight&quot;: 3}\n",
       "            ).addTo(map_65086584e849e701b7a03696943cbf61);\n",
       "        \n",
       "    \n",
       "            var circle_marker_7e18c2ee6c41b6b4d43346162f80b14f = L.circleMarker(\n",
       "                [-34.65098981, -58.38972622],\n",
       "                {&quot;bubblingMouseEvents&quot;: true, &quot;color&quot;: &quot;cornflowerblue&quot;, &quot;dashArray&quot;: null, &quot;dashOffset&quot;: null, &quot;fill&quot;: true, &quot;fillColor&quot;: &quot;cornflowerblue&quot;, &quot;fillOpacity&quot;: 0.6, &quot;fillRule&quot;: &quot;evenodd&quot;, &quot;lineCap&quot;: &quot;round&quot;, &quot;lineJoin&quot;: &quot;round&quot;, &quot;opacity&quot;: 1, &quot;radius&quot;: 6, &quot;stroke&quot;: false, &quot;weight&quot;: 3}\n",
       "            ).addTo(map_65086584e849e701b7a03696943cbf61);\n",
       "        \n",
       "    \n",
       "            var circle_marker_e57fb78a4630a6f504ddc6b78121ada5 = L.circleMarker(\n",
       "                [-34.6510708, -58.40056767],\n",
       "                {&quot;bubblingMouseEvents&quot;: true, &quot;color&quot;: &quot;cornflowerblue&quot;, &quot;dashArray&quot;: null, &quot;dashOffset&quot;: null, &quot;fill&quot;: true, &quot;fillColor&quot;: &quot;cornflowerblue&quot;, &quot;fillOpacity&quot;: 0.6, &quot;fillRule&quot;: &quot;evenodd&quot;, &quot;lineCap&quot;: &quot;round&quot;, &quot;lineJoin&quot;: &quot;round&quot;, &quot;opacity&quot;: 1, &quot;radius&quot;: 6, &quot;stroke&quot;: false, &quot;weight&quot;: 3}\n",
       "            ).addTo(map_65086584e849e701b7a03696943cbf61);\n",
       "        \n",
       "    \n",
       "            var circle_marker_ec29f09aff7411c0d9550ba77a876c2b = L.circleMarker(\n",
       "                [-34.6583909, -58.48457413],\n",
       "                {&quot;bubblingMouseEvents&quot;: true, &quot;color&quot;: &quot;cornflowerblue&quot;, &quot;dashArray&quot;: null, &quot;dashOffset&quot;: null, &quot;fill&quot;: true, &quot;fillColor&quot;: &quot;cornflowerblue&quot;, &quot;fillOpacity&quot;: 0.6, &quot;fillRule&quot;: &quot;evenodd&quot;, &quot;lineCap&quot;: &quot;round&quot;, &quot;lineJoin&quot;: &quot;round&quot;, &quot;opacity&quot;: 1, &quot;radius&quot;: 6, &quot;stroke&quot;: false, &quot;weight&quot;: 3}\n",
       "            ).addTo(map_65086584e849e701b7a03696943cbf61);\n",
       "        \n",
       "    \n",
       "            var circle_marker_bef7c426fe72a812cfec2fd1593b9259 = L.circleMarker(\n",
       "                [-34.65168841, -58.39546165],\n",
       "                {&quot;bubblingMouseEvents&quot;: true, &quot;color&quot;: &quot;cornflowerblue&quot;, &quot;dashArray&quot;: null, &quot;dashOffset&quot;: null, &quot;fill&quot;: true, &quot;fillColor&quot;: &quot;cornflowerblue&quot;, &quot;fillOpacity&quot;: 0.6, &quot;fillRule&quot;: &quot;evenodd&quot;, &quot;lineCap&quot;: &quot;round&quot;, &quot;lineJoin&quot;: &quot;round&quot;, &quot;opacity&quot;: 1, &quot;radius&quot;: 6, &quot;stroke&quot;: false, &quot;weight&quot;: 3}\n",
       "            ).addTo(map_65086584e849e701b7a03696943cbf61);\n",
       "        \n",
       "    \n",
       "            var circle_marker_67a0164fe2b9a1afd936ddbae78f36b4 = L.circleMarker(\n",
       "                [-34.65174801, -58.46668375],\n",
       "                {&quot;bubblingMouseEvents&quot;: true, &quot;color&quot;: &quot;cornflowerblue&quot;, &quot;dashArray&quot;: null, &quot;dashOffset&quot;: null, &quot;fill&quot;: true, &quot;fillColor&quot;: &quot;cornflowerblue&quot;, &quot;fillOpacity&quot;: 0.6, &quot;fillRule&quot;: &quot;evenodd&quot;, &quot;lineCap&quot;: &quot;round&quot;, &quot;lineJoin&quot;: &quot;round&quot;, &quot;opacity&quot;: 1, &quot;radius&quot;: 6, &quot;stroke&quot;: false, &quot;weight&quot;: 3}\n",
       "            ).addTo(map_65086584e849e701b7a03696943cbf61);\n",
       "        \n",
       "    \n",
       "            var circle_marker_a9d3530571ea3ec9a4eb6065815472fd = L.circleMarker(\n",
       "                [-34.65177305, -58.50801713],\n",
       "                {&quot;bubblingMouseEvents&quot;: true, &quot;color&quot;: &quot;cornflowerblue&quot;, &quot;dashArray&quot;: null, &quot;dashOffset&quot;: null, &quot;fill&quot;: true, &quot;fillColor&quot;: &quot;cornflowerblue&quot;, &quot;fillOpacity&quot;: 0.6, &quot;fillRule&quot;: &quot;evenodd&quot;, &quot;lineCap&quot;: &quot;round&quot;, &quot;lineJoin&quot;: &quot;round&quot;, &quot;opacity&quot;: 1, &quot;radius&quot;: 6, &quot;stroke&quot;: false, &quot;weight&quot;: 3}\n",
       "            ).addTo(map_65086584e849e701b7a03696943cbf61);\n",
       "        \n",
       "    \n",
       "            var circle_marker_eab54ac22fb0fcadfe45e674818f8717 = L.circleMarker(\n",
       "                [-34.65194557, -58.47256391],\n",
       "                {&quot;bubblingMouseEvents&quot;: true, &quot;color&quot;: &quot;cornflowerblue&quot;, &quot;dashArray&quot;: null, &quot;dashOffset&quot;: null, &quot;fill&quot;: true, &quot;fillColor&quot;: &quot;cornflowerblue&quot;, &quot;fillOpacity&quot;: 0.6, &quot;fillRule&quot;: &quot;evenodd&quot;, &quot;lineCap&quot;: &quot;round&quot;, &quot;lineJoin&quot;: &quot;round&quot;, &quot;opacity&quot;: 1, &quot;radius&quot;: 6, &quot;stroke&quot;: false, &quot;weight&quot;: 3}\n",
       "            ).addTo(map_65086584e849e701b7a03696943cbf61);\n",
       "        \n",
       "    \n",
       "            var circle_marker_d2e2602df60c5f541b297389cbc0d745 = L.circleMarker(\n",
       "                [-34.65232158, -58.37585415],\n",
       "                {&quot;bubblingMouseEvents&quot;: true, &quot;color&quot;: &quot;cornflowerblue&quot;, &quot;dashArray&quot;: null, &quot;dashOffset&quot;: null, &quot;fill&quot;: true, &quot;fillColor&quot;: &quot;cornflowerblue&quot;, &quot;fillOpacity&quot;: 0.6, &quot;fillRule&quot;: &quot;evenodd&quot;, &quot;lineCap&quot;: &quot;round&quot;, &quot;lineJoin&quot;: &quot;round&quot;, &quot;opacity&quot;: 1, &quot;radius&quot;: 6, &quot;stroke&quot;: false, &quot;weight&quot;: 3}\n",
       "            ).addTo(map_65086584e849e701b7a03696943cbf61);\n",
       "        \n",
       "    \n",
       "            var circle_marker_028f2572df298159139c042ad00b894e = L.circleMarker(\n",
       "                [-34.65273216, -58.40879146],\n",
       "                {&quot;bubblingMouseEvents&quot;: true, &quot;color&quot;: &quot;cornflowerblue&quot;, &quot;dashArray&quot;: null, &quot;dashOffset&quot;: null, &quot;fill&quot;: true, &quot;fillColor&quot;: &quot;cornflowerblue&quot;, &quot;fillOpacity&quot;: 0.6, &quot;fillRule&quot;: &quot;evenodd&quot;, &quot;lineCap&quot;: &quot;round&quot;, &quot;lineJoin&quot;: &quot;round&quot;, &quot;opacity&quot;: 1, &quot;radius&quot;: 6, &quot;stroke&quot;: false, &quot;weight&quot;: 3}\n",
       "            ).addTo(map_65086584e849e701b7a03696943cbf61);\n",
       "        \n",
       "    \n",
       "            var circle_marker_0230ee9850140a50ffd6a981c8ba1806 = L.circleMarker(\n",
       "                [-34.65284605, -58.47325712],\n",
       "                {&quot;bubblingMouseEvents&quot;: true, &quot;color&quot;: &quot;cornflowerblue&quot;, &quot;dashArray&quot;: null, &quot;dashOffset&quot;: null, &quot;fill&quot;: true, &quot;fillColor&quot;: &quot;cornflowerblue&quot;, &quot;fillOpacity&quot;: 0.6, &quot;fillRule&quot;: &quot;evenodd&quot;, &quot;lineCap&quot;: &quot;round&quot;, &quot;lineJoin&quot;: &quot;round&quot;, &quot;opacity&quot;: 1, &quot;radius&quot;: 6, &quot;stroke&quot;: false, &quot;weight&quot;: 3}\n",
       "            ).addTo(map_65086584e849e701b7a03696943cbf61);\n",
       "        \n",
       "    \n",
       "            var circle_marker_a9df439153eedbb3a5443a901c1aff4b = L.circleMarker(\n",
       "                [-34.65303372, -58.50407099],\n",
       "                {&quot;bubblingMouseEvents&quot;: true, &quot;color&quot;: &quot;cornflowerblue&quot;, &quot;dashArray&quot;: null, &quot;dashOffset&quot;: null, &quot;fill&quot;: true, &quot;fillColor&quot;: &quot;cornflowerblue&quot;, &quot;fillOpacity&quot;: 0.6, &quot;fillRule&quot;: &quot;evenodd&quot;, &quot;lineCap&quot;: &quot;round&quot;, &quot;lineJoin&quot;: &quot;round&quot;, &quot;opacity&quot;: 1, &quot;radius&quot;: 6, &quot;stroke&quot;: false, &quot;weight&quot;: 3}\n",
       "            ).addTo(map_65086584e849e701b7a03696943cbf61);\n",
       "        \n",
       "    \n",
       "            var circle_marker_5e5f7c02b59a32986bbc03a269c97040 = L.circleMarker(\n",
       "                [-34.65326075, -58.37547846],\n",
       "                {&quot;bubblingMouseEvents&quot;: true, &quot;color&quot;: &quot;cornflowerblue&quot;, &quot;dashArray&quot;: null, &quot;dashOffset&quot;: null, &quot;fill&quot;: true, &quot;fillColor&quot;: &quot;cornflowerblue&quot;, &quot;fillOpacity&quot;: 0.6, &quot;fillRule&quot;: &quot;evenodd&quot;, &quot;lineCap&quot;: &quot;round&quot;, &quot;lineJoin&quot;: &quot;round&quot;, &quot;opacity&quot;: 1, &quot;radius&quot;: 6, &quot;stroke&quot;: false, &quot;weight&quot;: 3}\n",
       "            ).addTo(map_65086584e849e701b7a03696943cbf61);\n",
       "        \n",
       "    \n",
       "            var circle_marker_f7ba8de11b4972e8e718a750a2c433c4 = L.circleMarker(\n",
       "                [-34.65414867, -58.4197085],\n",
       "                {&quot;bubblingMouseEvents&quot;: true, &quot;color&quot;: &quot;cornflowerblue&quot;, &quot;dashArray&quot;: null, &quot;dashOffset&quot;: null, &quot;fill&quot;: true, &quot;fillColor&quot;: &quot;cornflowerblue&quot;, &quot;fillOpacity&quot;: 0.6, &quot;fillRule&quot;: &quot;evenodd&quot;, &quot;lineCap&quot;: &quot;round&quot;, &quot;lineJoin&quot;: &quot;round&quot;, &quot;opacity&quot;: 1, &quot;radius&quot;: 6, &quot;stroke&quot;: false, &quot;weight&quot;: 3}\n",
       "            ).addTo(map_65086584e849e701b7a03696943cbf61);\n",
       "        \n",
       "    \n",
       "            var circle_marker_df3cce15e8240d7ef43d1b2a5e3c0673 = L.circleMarker(\n",
       "                [-34.65997463, -58.52173071],\n",
       "                {&quot;bubblingMouseEvents&quot;: true, &quot;color&quot;: &quot;cornflowerblue&quot;, &quot;dashArray&quot;: null, &quot;dashOffset&quot;: null, &quot;fill&quot;: true, &quot;fillColor&quot;: &quot;cornflowerblue&quot;, &quot;fillOpacity&quot;: 0.6, &quot;fillRule&quot;: &quot;evenodd&quot;, &quot;lineCap&quot;: &quot;round&quot;, &quot;lineJoin&quot;: &quot;round&quot;, &quot;opacity&quot;: 1, &quot;radius&quot;: 6, &quot;stroke&quot;: false, &quot;weight&quot;: 3}\n",
       "            ).addTo(map_65086584e849e701b7a03696943cbf61);\n",
       "        \n",
       "    \n",
       "            var circle_marker_daa6eed4b23e40788e6a9d430b6ebbe0 = L.circleMarker(\n",
       "                [-34.65788529, -58.49344309],\n",
       "                {&quot;bubblingMouseEvents&quot;: true, &quot;color&quot;: &quot;cornflowerblue&quot;, &quot;dashArray&quot;: null, &quot;dashOffset&quot;: null, &quot;fill&quot;: true, &quot;fillColor&quot;: &quot;cornflowerblue&quot;, &quot;fillOpacity&quot;: 0.6, &quot;fillRule&quot;: &quot;evenodd&quot;, &quot;lineCap&quot;: &quot;round&quot;, &quot;lineJoin&quot;: &quot;round&quot;, &quot;opacity&quot;: 1, &quot;radius&quot;: 6, &quot;stroke&quot;: false, &quot;weight&quot;: 3}\n",
       "            ).addTo(map_65086584e849e701b7a03696943cbf61);\n",
       "        \n",
       "    \n",
       "            var circle_marker_59cbed019321edeb2fbfcd62e034ef4e = L.circleMarker(\n",
       "                [-34.65422917, -58.52931141],\n",
       "                {&quot;bubblingMouseEvents&quot;: true, &quot;color&quot;: &quot;cornflowerblue&quot;, &quot;dashArray&quot;: null, &quot;dashOffset&quot;: null, &quot;fill&quot;: true, &quot;fillColor&quot;: &quot;cornflowerblue&quot;, &quot;fillOpacity&quot;: 0.6, &quot;fillRule&quot;: &quot;evenodd&quot;, &quot;lineCap&quot;: &quot;round&quot;, &quot;lineJoin&quot;: &quot;round&quot;, &quot;opacity&quot;: 1, &quot;radius&quot;: 6, &quot;stroke&quot;: false, &quot;weight&quot;: 3}\n",
       "            ).addTo(map_65086584e849e701b7a03696943cbf61);\n",
       "        \n",
       "    \n",
       "            var circle_marker_2141221ec12160a63c1de287768c2213 = L.circleMarker(\n",
       "                [-34.6542464, -58.43614426],\n",
       "                {&quot;bubblingMouseEvents&quot;: true, &quot;color&quot;: &quot;cornflowerblue&quot;, &quot;dashArray&quot;: null, &quot;dashOffset&quot;: null, &quot;fill&quot;: true, &quot;fillColor&quot;: &quot;cornflowerblue&quot;, &quot;fillOpacity&quot;: 0.6, &quot;fillRule&quot;: &quot;evenodd&quot;, &quot;lineCap&quot;: &quot;round&quot;, &quot;lineJoin&quot;: &quot;round&quot;, &quot;opacity&quot;: 1, &quot;radius&quot;: 6, &quot;stroke&quot;: false, &quot;weight&quot;: 3}\n",
       "            ).addTo(map_65086584e849e701b7a03696943cbf61);\n",
       "        \n",
       "    \n",
       "            var circle_marker_10f8506049a424ef673e94aa9ee42e6f = L.circleMarker(\n",
       "                [-34.657341, -58.42378834],\n",
       "                {&quot;bubblingMouseEvents&quot;: true, &quot;color&quot;: &quot;cornflowerblue&quot;, &quot;dashArray&quot;: null, &quot;dashOffset&quot;: null, &quot;fill&quot;: true, &quot;fillColor&quot;: &quot;cornflowerblue&quot;, &quot;fillOpacity&quot;: 0.6, &quot;fillRule&quot;: &quot;evenodd&quot;, &quot;lineCap&quot;: &quot;round&quot;, &quot;lineJoin&quot;: &quot;round&quot;, &quot;opacity&quot;: 1, &quot;radius&quot;: 6, &quot;stroke&quot;: false, &quot;weight&quot;: 3}\n",
       "            ).addTo(map_65086584e849e701b7a03696943cbf61);\n",
       "        \n",
       "    \n",
       "            var circle_marker_81c7643cf5ffdb2a592763bcc5aeef52 = L.circleMarker(\n",
       "                [-34.65463857, -58.42759813],\n",
       "                {&quot;bubblingMouseEvents&quot;: true, &quot;color&quot;: &quot;cornflowerblue&quot;, &quot;dashArray&quot;: null, &quot;dashOffset&quot;: null, &quot;fill&quot;: true, &quot;fillColor&quot;: &quot;cornflowerblue&quot;, &quot;fillOpacity&quot;: 0.6, &quot;fillRule&quot;: &quot;evenodd&quot;, &quot;lineCap&quot;: &quot;round&quot;, &quot;lineJoin&quot;: &quot;round&quot;, &quot;opacity&quot;: 1, &quot;radius&quot;: 6, &quot;stroke&quot;: false, &quot;weight&quot;: 3}\n",
       "            ).addTo(map_65086584e849e701b7a03696943cbf61);\n",
       "        \n",
       "    \n",
       "            var circle_marker_98444928db3bf1213f39820a8a3e251e = L.circleMarker(\n",
       "                [-34.65468721, -58.50990884],\n",
       "                {&quot;bubblingMouseEvents&quot;: true, &quot;color&quot;: &quot;cornflowerblue&quot;, &quot;dashArray&quot;: null, &quot;dashOffset&quot;: null, &quot;fill&quot;: true, &quot;fillColor&quot;: &quot;cornflowerblue&quot;, &quot;fillOpacity&quot;: 0.6, &quot;fillRule&quot;: &quot;evenodd&quot;, &quot;lineCap&quot;: &quot;round&quot;, &quot;lineJoin&quot;: &quot;round&quot;, &quot;opacity&quot;: 1, &quot;radius&quot;: 6, &quot;stroke&quot;: false, &quot;weight&quot;: 3}\n",
       "            ).addTo(map_65086584e849e701b7a03696943cbf61);\n",
       "        \n",
       "    \n",
       "            var circle_marker_26f539f785dce3394f13a31d5622c9b5 = L.circleMarker(\n",
       "                [-34.65470804, -58.43960781],\n",
       "                {&quot;bubblingMouseEvents&quot;: true, &quot;color&quot;: &quot;cornflowerblue&quot;, &quot;dashArray&quot;: null, &quot;dashOffset&quot;: null, &quot;fill&quot;: true, &quot;fillColor&quot;: &quot;cornflowerblue&quot;, &quot;fillOpacity&quot;: 0.6, &quot;fillRule&quot;: &quot;evenodd&quot;, &quot;lineCap&quot;: &quot;round&quot;, &quot;lineJoin&quot;: &quot;round&quot;, &quot;opacity&quot;: 1, &quot;radius&quot;: 6, &quot;stroke&quot;: false, &quot;weight&quot;: 3}\n",
       "            ).addTo(map_65086584e849e701b7a03696943cbf61);\n",
       "        \n",
       "    \n",
       "            var circle_marker_b5c89418d9bbe32db08daadc9df24d47 = L.circleMarker(\n",
       "                [-34.65679806, -58.44642231],\n",
       "                {&quot;bubblingMouseEvents&quot;: true, &quot;color&quot;: &quot;cornflowerblue&quot;, &quot;dashArray&quot;: null, &quot;dashOffset&quot;: null, &quot;fill&quot;: true, &quot;fillColor&quot;: &quot;cornflowerblue&quot;, &quot;fillOpacity&quot;: 0.6, &quot;fillRule&quot;: &quot;evenodd&quot;, &quot;lineCap&quot;: &quot;round&quot;, &quot;lineJoin&quot;: &quot;round&quot;, &quot;opacity&quot;: 1, &quot;radius&quot;: 6, &quot;stroke&quot;: false, &quot;weight&quot;: 3}\n",
       "            ).addTo(map_65086584e849e701b7a03696943cbf61);\n",
       "        \n",
       "    \n",
       "            var circle_marker_36154139c8f15258e5250167dd4bb1f9 = L.circleMarker(\n",
       "                [-34.65522746, -58.41827843],\n",
       "                {&quot;bubblingMouseEvents&quot;: true, &quot;color&quot;: &quot;cornflowerblue&quot;, &quot;dashArray&quot;: null, &quot;dashOffset&quot;: null, &quot;fill&quot;: true, &quot;fillColor&quot;: &quot;cornflowerblue&quot;, &quot;fillOpacity&quot;: 0.6, &quot;fillRule&quot;: &quot;evenodd&quot;, &quot;lineCap&quot;: &quot;round&quot;, &quot;lineJoin&quot;: &quot;round&quot;, &quot;opacity&quot;: 1, &quot;radius&quot;: 6, &quot;stroke&quot;: false, &quot;weight&quot;: 3}\n",
       "            ).addTo(map_65086584e849e701b7a03696943cbf61);\n",
       "        \n",
       "    \n",
       "            var circle_marker_358075d8d299c6626686208447fd706d = L.circleMarker(\n",
       "                [-34.65672199, -58.47750832],\n",
       "                {&quot;bubblingMouseEvents&quot;: true, &quot;color&quot;: &quot;cornflowerblue&quot;, &quot;dashArray&quot;: null, &quot;dashOffset&quot;: null, &quot;fill&quot;: true, &quot;fillColor&quot;: &quot;cornflowerblue&quot;, &quot;fillOpacity&quot;: 0.6, &quot;fillRule&quot;: &quot;evenodd&quot;, &quot;lineCap&quot;: &quot;round&quot;, &quot;lineJoin&quot;: &quot;round&quot;, &quot;opacity&quot;: 1, &quot;radius&quot;: 6, &quot;stroke&quot;: false, &quot;weight&quot;: 3}\n",
       "            ).addTo(map_65086584e849e701b7a03696943cbf61);\n",
       "        \n",
       "    \n",
       "            var circle_marker_04f5270ced7765364d0c1574feda5a16 = L.circleMarker(\n",
       "                [-34.65556223, -58.50719962],\n",
       "                {&quot;bubblingMouseEvents&quot;: true, &quot;color&quot;: &quot;cornflowerblue&quot;, &quot;dashArray&quot;: null, &quot;dashOffset&quot;: null, &quot;fill&quot;: true, &quot;fillColor&quot;: &quot;cornflowerblue&quot;, &quot;fillOpacity&quot;: 0.6, &quot;fillRule&quot;: &quot;evenodd&quot;, &quot;lineCap&quot;: &quot;round&quot;, &quot;lineJoin&quot;: &quot;round&quot;, &quot;opacity&quot;: 1, &quot;radius&quot;: 6, &quot;stroke&quot;: false, &quot;weight&quot;: 3}\n",
       "            ).addTo(map_65086584e849e701b7a03696943cbf61);\n",
       "        \n",
       "    \n",
       "            var circle_marker_fe57843a875811634c5d6f299e635369 = L.circleMarker(\n",
       "                [-34.65559133, -58.37460912],\n",
       "                {&quot;bubblingMouseEvents&quot;: true, &quot;color&quot;: &quot;cornflowerblue&quot;, &quot;dashArray&quot;: null, &quot;dashOffset&quot;: null, &quot;fill&quot;: true, &quot;fillColor&quot;: &quot;cornflowerblue&quot;, &quot;fillOpacity&quot;: 0.6, &quot;fillRule&quot;: &quot;evenodd&quot;, &quot;lineCap&quot;: &quot;round&quot;, &quot;lineJoin&quot;: &quot;round&quot;, &quot;opacity&quot;: 1, &quot;radius&quot;: 6, &quot;stroke&quot;: false, &quot;weight&quot;: 3}\n",
       "            ).addTo(map_65086584e849e701b7a03696943cbf61);\n",
       "        \n",
       "    \n",
       "            var circle_marker_1ae785841503937388c5275e7b27b4ff = L.circleMarker(\n",
       "                [-34.65584079, -58.37571078],\n",
       "                {&quot;bubblingMouseEvents&quot;: true, &quot;color&quot;: &quot;cornflowerblue&quot;, &quot;dashArray&quot;: null, &quot;dashOffset&quot;: null, &quot;fill&quot;: true, &quot;fillColor&quot;: &quot;cornflowerblue&quot;, &quot;fillOpacity&quot;: 0.6, &quot;fillRule&quot;: &quot;evenodd&quot;, &quot;lineCap&quot;: &quot;round&quot;, &quot;lineJoin&quot;: &quot;round&quot;, &quot;opacity&quot;: 1, &quot;radius&quot;: 6, &quot;stroke&quot;: false, &quot;weight&quot;: 3}\n",
       "            ).addTo(map_65086584e849e701b7a03696943cbf61);\n",
       "        \n",
       "    \n",
       "            var circle_marker_cdafe614dcb8a705c091b96a5e6353ac = L.circleMarker(\n",
       "                [-34.65620398, -58.479611],\n",
       "                {&quot;bubblingMouseEvents&quot;: true, &quot;color&quot;: &quot;cornflowerblue&quot;, &quot;dashArray&quot;: null, &quot;dashOffset&quot;: null, &quot;fill&quot;: true, &quot;fillColor&quot;: &quot;cornflowerblue&quot;, &quot;fillOpacity&quot;: 0.6, &quot;fillRule&quot;: &quot;evenodd&quot;, &quot;lineCap&quot;: &quot;round&quot;, &quot;lineJoin&quot;: &quot;round&quot;, &quot;opacity&quot;: 1, &quot;radius&quot;: 6, &quot;stroke&quot;: false, &quot;weight&quot;: 3}\n",
       "            ).addTo(map_65086584e849e701b7a03696943cbf61);\n",
       "        \n",
       "    \n",
       "            var circle_marker_acc00e19e7a65509ae2d2914b51dc746 = L.circleMarker(\n",
       "                [-34.65084045, -58.41650465],\n",
       "                {&quot;bubblingMouseEvents&quot;: true, &quot;color&quot;: &quot;cornflowerblue&quot;, &quot;dashArray&quot;: null, &quot;dashOffset&quot;: null, &quot;fill&quot;: true, &quot;fillColor&quot;: &quot;cornflowerblue&quot;, &quot;fillOpacity&quot;: 0.6, &quot;fillRule&quot;: &quot;evenodd&quot;, &quot;lineCap&quot;: &quot;round&quot;, &quot;lineJoin&quot;: &quot;round&quot;, &quot;opacity&quot;: 1, &quot;radius&quot;: 6, &quot;stroke&quot;: false, &quot;weight&quot;: 3}\n",
       "            ).addTo(map_65086584e849e701b7a03696943cbf61);\n",
       "        \n",
       "    \n",
       "            var circle_marker_31bdc5841a313cb73fbd7c2f837917bf = L.circleMarker(\n",
       "                [-34.65082149, -58.45463662],\n",
       "                {&quot;bubblingMouseEvents&quot;: true, &quot;color&quot;: &quot;cornflowerblue&quot;, &quot;dashArray&quot;: null, &quot;dashOffset&quot;: null, &quot;fill&quot;: true, &quot;fillColor&quot;: &quot;cornflowerblue&quot;, &quot;fillOpacity&quot;: 0.6, &quot;fillRule&quot;: &quot;evenodd&quot;, &quot;lineCap&quot;: &quot;round&quot;, &quot;lineJoin&quot;: &quot;round&quot;, &quot;opacity&quot;: 1, &quot;radius&quot;: 6, &quot;stroke&quot;: false, &quot;weight&quot;: 3}\n",
       "            ).addTo(map_65086584e849e701b7a03696943cbf61);\n",
       "        \n",
       "    \n",
       "            var circle_marker_50bc49bace4e9322af647b9d987708cc = L.circleMarker(\n",
       "                [-34.65080597, -58.44074927],\n",
       "                {&quot;bubblingMouseEvents&quot;: true, &quot;color&quot;: &quot;cornflowerblue&quot;, &quot;dashArray&quot;: null, &quot;dashOffset&quot;: null, &quot;fill&quot;: true, &quot;fillColor&quot;: &quot;cornflowerblue&quot;, &quot;fillOpacity&quot;: 0.6, &quot;fillRule&quot;: &quot;evenodd&quot;, &quot;lineCap&quot;: &quot;round&quot;, &quot;lineJoin&quot;: &quot;round&quot;, &quot;opacity&quot;: 1, &quot;radius&quot;: 6, &quot;stroke&quot;: false, &quot;weight&quot;: 3}\n",
       "            ).addTo(map_65086584e849e701b7a03696943cbf61);\n",
       "        \n",
       "    \n",
       "            var circle_marker_742bf757e109a43f7acfd9230e1828b0 = L.circleMarker(\n",
       "                [-34.65846419, -58.51140289],\n",
       "                {&quot;bubblingMouseEvents&quot;: true, &quot;color&quot;: &quot;cornflowerblue&quot;, &quot;dashArray&quot;: null, &quot;dashOffset&quot;: null, &quot;fill&quot;: true, &quot;fillColor&quot;: &quot;cornflowerblue&quot;, &quot;fillOpacity&quot;: 0.6, &quot;fillRule&quot;: &quot;evenodd&quot;, &quot;lineCap&quot;: &quot;round&quot;, &quot;lineJoin&quot;: &quot;round&quot;, &quot;opacity&quot;: 1, &quot;radius&quot;: 6, &quot;stroke&quot;: false, &quot;weight&quot;: 3}\n",
       "            ).addTo(map_65086584e849e701b7a03696943cbf61);\n",
       "        \n",
       "    \n",
       "            var circle_marker_e2dea93189ccccb065c18d359fffff2d = L.circleMarker(\n",
       "                [-34.64561636, -58.43353773],\n",
       "                {&quot;bubblingMouseEvents&quot;: true, &quot;color&quot;: &quot;cornflowerblue&quot;, &quot;dashArray&quot;: null, &quot;dashOffset&quot;: null, &quot;fill&quot;: true, &quot;fillColor&quot;: &quot;cornflowerblue&quot;, &quot;fillOpacity&quot;: 0.6, &quot;fillRule&quot;: &quot;evenodd&quot;, &quot;lineCap&quot;: &quot;round&quot;, &quot;lineJoin&quot;: &quot;round&quot;, &quot;opacity&quot;: 1, &quot;radius&quot;: 6, &quot;stroke&quot;: false, &quot;weight&quot;: 3}\n",
       "            ).addTo(map_65086584e849e701b7a03696943cbf61);\n",
       "        \n",
       "    \n",
       "            var circle_marker_bc30d2b2892fdff279ee24634f0e4954 = L.circleMarker(\n",
       "                [-34.65970435, -58.44989671],\n",
       "                {&quot;bubblingMouseEvents&quot;: true, &quot;color&quot;: &quot;cornflowerblue&quot;, &quot;dashArray&quot;: null, &quot;dashOffset&quot;: null, &quot;fill&quot;: true, &quot;fillColor&quot;: &quot;cornflowerblue&quot;, &quot;fillOpacity&quot;: 0.6, &quot;fillRule&quot;: &quot;evenodd&quot;, &quot;lineCap&quot;: &quot;round&quot;, &quot;lineJoin&quot;: &quot;round&quot;, &quot;opacity&quot;: 1, &quot;radius&quot;: 6, &quot;stroke&quot;: false, &quot;weight&quot;: 3}\n",
       "            ).addTo(map_65086584e849e701b7a03696943cbf61);\n",
       "        \n",
       "    \n",
       "            var circle_marker_34e94283b3eb0dc4fbb77dc81c224f32 = L.circleMarker(\n",
       "                [-34.64567171, -58.44744156],\n",
       "                {&quot;bubblingMouseEvents&quot;: true, &quot;color&quot;: &quot;cornflowerblue&quot;, &quot;dashArray&quot;: null, &quot;dashOffset&quot;: null, &quot;fill&quot;: true, &quot;fillColor&quot;: &quot;cornflowerblue&quot;, &quot;fillOpacity&quot;: 0.6, &quot;fillRule&quot;: &quot;evenodd&quot;, &quot;lineCap&quot;: &quot;round&quot;, &quot;lineJoin&quot;: &quot;round&quot;, &quot;opacity&quot;: 1, &quot;radius&quot;: 6, &quot;stroke&quot;: false, &quot;weight&quot;: 3}\n",
       "            ).addTo(map_65086584e849e701b7a03696943cbf61);\n",
       "        \n",
       "    \n",
       "            var circle_marker_e806791e47cd9a05c6672eeff619be9b = L.circleMarker(\n",
       "                [-34.64584795, -58.49142611],\n",
       "                {&quot;bubblingMouseEvents&quot;: true, &quot;color&quot;: &quot;cornflowerblue&quot;, &quot;dashArray&quot;: null, &quot;dashOffset&quot;: null, &quot;fill&quot;: true, &quot;fillColor&quot;: &quot;cornflowerblue&quot;, &quot;fillOpacity&quot;: 0.6, &quot;fillRule&quot;: &quot;evenodd&quot;, &quot;lineCap&quot;: &quot;round&quot;, &quot;lineJoin&quot;: &quot;round&quot;, &quot;opacity&quot;: 1, &quot;radius&quot;: 6, &quot;stroke&quot;: false, &quot;weight&quot;: 3}\n",
       "            ).addTo(map_65086584e849e701b7a03696943cbf61);\n",
       "        \n",
       "    \n",
       "            var circle_marker_dbc917b97cf0f79e8cbacd5867b8708a = L.circleMarker(\n",
       "                [-34.65969965, -58.48200819],\n",
       "                {&quot;bubblingMouseEvents&quot;: true, &quot;color&quot;: &quot;cornflowerblue&quot;, &quot;dashArray&quot;: null, &quot;dashOffset&quot;: null, &quot;fill&quot;: true, &quot;fillColor&quot;: &quot;cornflowerblue&quot;, &quot;fillOpacity&quot;: 0.6, &quot;fillRule&quot;: &quot;evenodd&quot;, &quot;lineCap&quot;: &quot;round&quot;, &quot;lineJoin&quot;: &quot;round&quot;, &quot;opacity&quot;: 1, &quot;radius&quot;: 6, &quot;stroke&quot;: false, &quot;weight&quot;: 3}\n",
       "            ).addTo(map_65086584e849e701b7a03696943cbf61);\n",
       "        \n",
       "    \n",
       "            var circle_marker_ffb825f1606b9f4ced10107da40b05fd = L.circleMarker(\n",
       "                [-34.64597065, -58.52866211],\n",
       "                {&quot;bubblingMouseEvents&quot;: true, &quot;color&quot;: &quot;cornflowerblue&quot;, &quot;dashArray&quot;: null, &quot;dashOffset&quot;: null, &quot;fill&quot;: true, &quot;fillColor&quot;: &quot;cornflowerblue&quot;, &quot;fillOpacity&quot;: 0.6, &quot;fillRule&quot;: &quot;evenodd&quot;, &quot;lineCap&quot;: &quot;round&quot;, &quot;lineJoin&quot;: &quot;round&quot;, &quot;opacity&quot;: 1, &quot;radius&quot;: 6, &quot;stroke&quot;: false, &quot;weight&quot;: 3}\n",
       "            ).addTo(map_65086584e849e701b7a03696943cbf61);\n",
       "        \n",
       "    \n",
       "            var circle_marker_62a5d08742b88dd0aacfeecca74436ec = L.circleMarker(\n",
       "                [-34.64600222, -58.46712311],\n",
       "                {&quot;bubblingMouseEvents&quot;: true, &quot;color&quot;: &quot;cornflowerblue&quot;, &quot;dashArray&quot;: null, &quot;dashOffset&quot;: null, &quot;fill&quot;: true, &quot;fillColor&quot;: &quot;cornflowerblue&quot;, &quot;fillOpacity&quot;: 0.6, &quot;fillRule&quot;: &quot;evenodd&quot;, &quot;lineCap&quot;: &quot;round&quot;, &quot;lineJoin&quot;: &quot;round&quot;, &quot;opacity&quot;: 1, &quot;radius&quot;: 6, &quot;stroke&quot;: false, &quot;weight&quot;: 3}\n",
       "            ).addTo(map_65086584e849e701b7a03696943cbf61);\n",
       "        \n",
       "    \n",
       "            var circle_marker_b39b5fdb230754bfc786ad8e13dcd9fc = L.circleMarker(\n",
       "                [-34.64640709, -58.41083404],\n",
       "                {&quot;bubblingMouseEvents&quot;: true, &quot;color&quot;: &quot;cornflowerblue&quot;, &quot;dashArray&quot;: null, &quot;dashOffset&quot;: null, &quot;fill&quot;: true, &quot;fillColor&quot;: &quot;cornflowerblue&quot;, &quot;fillOpacity&quot;: 0.6, &quot;fillRule&quot;: &quot;evenodd&quot;, &quot;lineCap&quot;: &quot;round&quot;, &quot;lineJoin&quot;: &quot;round&quot;, &quot;opacity&quot;: 1, &quot;radius&quot;: 6, &quot;stroke&quot;: false, &quot;weight&quot;: 3}\n",
       "            ).addTo(map_65086584e849e701b7a03696943cbf61);\n",
       "        \n",
       "    \n",
       "            var circle_marker_18fa2fb7021115a7159c9adc8fe94776 = L.circleMarker(\n",
       "                [-34.64645957, -58.42003882],\n",
       "                {&quot;bubblingMouseEvents&quot;: true, &quot;color&quot;: &quot;cornflowerblue&quot;, &quot;dashArray&quot;: null, &quot;dashOffset&quot;: null, &quot;fill&quot;: true, &quot;fillColor&quot;: &quot;cornflowerblue&quot;, &quot;fillOpacity&quot;: 0.6, &quot;fillRule&quot;: &quot;evenodd&quot;, &quot;lineCap&quot;: &quot;round&quot;, &quot;lineJoin&quot;: &quot;round&quot;, &quot;opacity&quot;: 1, &quot;radius&quot;: 6, &quot;stroke&quot;: false, &quot;weight&quot;: 3}\n",
       "            ).addTo(map_65086584e849e701b7a03696943cbf61);\n",
       "        \n",
       "    \n",
       "            var circle_marker_fd6cddb71e87eb052242fcf97b9fa05c = L.circleMarker(\n",
       "                [-34.64646409, -58.45019436],\n",
       "                {&quot;bubblingMouseEvents&quot;: true, &quot;color&quot;: &quot;cornflowerblue&quot;, &quot;dashArray&quot;: null, &quot;dashOffset&quot;: null, &quot;fill&quot;: true, &quot;fillColor&quot;: &quot;cornflowerblue&quot;, &quot;fillOpacity&quot;: 0.6, &quot;fillRule&quot;: &quot;evenodd&quot;, &quot;lineCap&quot;: &quot;round&quot;, &quot;lineJoin&quot;: &quot;round&quot;, &quot;opacity&quot;: 1, &quot;radius&quot;: 6, &quot;stroke&quot;: false, &quot;weight&quot;: 3}\n",
       "            ).addTo(map_65086584e849e701b7a03696943cbf61);\n",
       "        \n",
       "    \n",
       "            var circle_marker_9b115fa80d415412ec94ff3d460a32fb = L.circleMarker(\n",
       "                [-34.64730145, -58.46774439],\n",
       "                {&quot;bubblingMouseEvents&quot;: true, &quot;color&quot;: &quot;cornflowerblue&quot;, &quot;dashArray&quot;: null, &quot;dashOffset&quot;: null, &quot;fill&quot;: true, &quot;fillColor&quot;: &quot;cornflowerblue&quot;, &quot;fillOpacity&quot;: 0.6, &quot;fillRule&quot;: &quot;evenodd&quot;, &quot;lineCap&quot;: &quot;round&quot;, &quot;lineJoin&quot;: &quot;round&quot;, &quot;opacity&quot;: 1, &quot;radius&quot;: 6, &quot;stroke&quot;: false, &quot;weight&quot;: 3}\n",
       "            ).addTo(map_65086584e849e701b7a03696943cbf61);\n",
       "        \n",
       "    \n",
       "            var circle_marker_7be683d927da8c478df303d935d28863 = L.circleMarker(\n",
       "                [-34.64742455, -58.48501341],\n",
       "                {&quot;bubblingMouseEvents&quot;: true, &quot;color&quot;: &quot;cornflowerblue&quot;, &quot;dashArray&quot;: null, &quot;dashOffset&quot;: null, &quot;fill&quot;: true, &quot;fillColor&quot;: &quot;cornflowerblue&quot;, &quot;fillOpacity&quot;: 0.6, &quot;fillRule&quot;: &quot;evenodd&quot;, &quot;lineCap&quot;: &quot;round&quot;, &quot;lineJoin&quot;: &quot;round&quot;, &quot;opacity&quot;: 1, &quot;radius&quot;: 6, &quot;stroke&quot;: false, &quot;weight&quot;: 3}\n",
       "            ).addTo(map_65086584e849e701b7a03696943cbf61);\n",
       "        \n",
       "    \n",
       "            var circle_marker_377bdbca8c312e50f9d82c566e5b80c1 = L.circleMarker(\n",
       "                [-34.64787051, -58.51514709],\n",
       "                {&quot;bubblingMouseEvents&quot;: true, &quot;color&quot;: &quot;cornflowerblue&quot;, &quot;dashArray&quot;: null, &quot;dashOffset&quot;: null, &quot;fill&quot;: true, &quot;fillColor&quot;: &quot;cornflowerblue&quot;, &quot;fillOpacity&quot;: 0.6, &quot;fillRule&quot;: &quot;evenodd&quot;, &quot;lineCap&quot;: &quot;round&quot;, &quot;lineJoin&quot;: &quot;round&quot;, &quot;opacity&quot;: 1, &quot;radius&quot;: 6, &quot;stroke&quot;: false, &quot;weight&quot;: 3}\n",
       "            ).addTo(map_65086584e849e701b7a03696943cbf61);\n",
       "        \n",
       "    \n",
       "            var circle_marker_de104bf0e77d0f1e21642f777271f069 = L.circleMarker(\n",
       "                [-34.64815069, -58.47721439],\n",
       "                {&quot;bubblingMouseEvents&quot;: true, &quot;color&quot;: &quot;cornflowerblue&quot;, &quot;dashArray&quot;: null, &quot;dashOffset&quot;: null, &quot;fill&quot;: true, &quot;fillColor&quot;: &quot;cornflowerblue&quot;, &quot;fillOpacity&quot;: 0.6, &quot;fillRule&quot;: &quot;evenodd&quot;, &quot;lineCap&quot;: &quot;round&quot;, &quot;lineJoin&quot;: &quot;round&quot;, &quot;opacity&quot;: 1, &quot;radius&quot;: 6, &quot;stroke&quot;: false, &quot;weight&quot;: 3}\n",
       "            ).addTo(map_65086584e849e701b7a03696943cbf61);\n",
       "        \n",
       "    \n",
       "            var circle_marker_e700624460a406c1c2ba4cf628fdb41e = L.circleMarker(\n",
       "                [-34.64868027, -58.49962423],\n",
       "                {&quot;bubblingMouseEvents&quot;: true, &quot;color&quot;: &quot;cornflowerblue&quot;, &quot;dashArray&quot;: null, &quot;dashOffset&quot;: null, &quot;fill&quot;: true, &quot;fillColor&quot;: &quot;cornflowerblue&quot;, &quot;fillOpacity&quot;: 0.6, &quot;fillRule&quot;: &quot;evenodd&quot;, &quot;lineCap&quot;: &quot;round&quot;, &quot;lineJoin&quot;: &quot;round&quot;, &quot;opacity&quot;: 1, &quot;radius&quot;: 6, &quot;stroke&quot;: false, &quot;weight&quot;: 3}\n",
       "            ).addTo(map_65086584e849e701b7a03696943cbf61);\n",
       "        \n",
       "    \n",
       "            var circle_marker_f1232b1883f3a9f55d49c0b1e1b3a59e = L.circleMarker(\n",
       "                [-34.64925746, -58.47155277],\n",
       "                {&quot;bubblingMouseEvents&quot;: true, &quot;color&quot;: &quot;cornflowerblue&quot;, &quot;dashArray&quot;: null, &quot;dashOffset&quot;: null, &quot;fill&quot;: true, &quot;fillColor&quot;: &quot;cornflowerblue&quot;, &quot;fillOpacity&quot;: 0.6, &quot;fillRule&quot;: &quot;evenodd&quot;, &quot;lineCap&quot;: &quot;round&quot;, &quot;lineJoin&quot;: &quot;round&quot;, &quot;opacity&quot;: 1, &quot;radius&quot;: 6, &quot;stroke&quot;: false, &quot;weight&quot;: 3}\n",
       "            ).addTo(map_65086584e849e701b7a03696943cbf61);\n",
       "        \n",
       "    \n",
       "            var circle_marker_f1b26e87209fce82d78f83fa417b1709 = L.circleMarker(\n",
       "                [-34.64938031, -58.44187596],\n",
       "                {&quot;bubblingMouseEvents&quot;: true, &quot;color&quot;: &quot;cornflowerblue&quot;, &quot;dashArray&quot;: null, &quot;dashOffset&quot;: null, &quot;fill&quot;: true, &quot;fillColor&quot;: &quot;cornflowerblue&quot;, &quot;fillOpacity&quot;: 0.6, &quot;fillRule&quot;: &quot;evenodd&quot;, &quot;lineCap&quot;: &quot;round&quot;, &quot;lineJoin&quot;: &quot;round&quot;, &quot;opacity&quot;: 1, &quot;radius&quot;: 6, &quot;stroke&quot;: false, &quot;weight&quot;: 3}\n",
       "            ).addTo(map_65086584e849e701b7a03696943cbf61);\n",
       "        \n",
       "    \n",
       "            var circle_marker_631f606bec13e13c369766fffa1435c1 = L.circleMarker(\n",
       "                [-34.64949724, -58.46958442],\n",
       "                {&quot;bubblingMouseEvents&quot;: true, &quot;color&quot;: &quot;cornflowerblue&quot;, &quot;dashArray&quot;: null, &quot;dashOffset&quot;: null, &quot;fill&quot;: true, &quot;fillColor&quot;: &quot;cornflowerblue&quot;, &quot;fillOpacity&quot;: 0.6, &quot;fillRule&quot;: &quot;evenodd&quot;, &quot;lineCap&quot;: &quot;round&quot;, &quot;lineJoin&quot;: &quot;round&quot;, &quot;opacity&quot;: 1, &quot;radius&quot;: 6, &quot;stroke&quot;: false, &quot;weight&quot;: 3}\n",
       "            ).addTo(map_65086584e849e701b7a03696943cbf61);\n",
       "        \n",
       "    \n",
       "            var circle_marker_e80541d7585448589231243f089f8e68 = L.circleMarker(\n",
       "                [-34.64972472, -58.51061062],\n",
       "                {&quot;bubblingMouseEvents&quot;: true, &quot;color&quot;: &quot;cornflowerblue&quot;, &quot;dashArray&quot;: null, &quot;dashOffset&quot;: null, &quot;fill&quot;: true, &quot;fillColor&quot;: &quot;cornflowerblue&quot;, &quot;fillOpacity&quot;: 0.6, &quot;fillRule&quot;: &quot;evenodd&quot;, &quot;lineCap&quot;: &quot;round&quot;, &quot;lineJoin&quot;: &quot;round&quot;, &quot;opacity&quot;: 1, &quot;radius&quot;: 6, &quot;stroke&quot;: false, &quot;weight&quot;: 3}\n",
       "            ).addTo(map_65086584e849e701b7a03696943cbf61);\n",
       "        \n",
       "    \n",
       "            var circle_marker_f1c6b67242bc16852146fc8990890828 = L.circleMarker(\n",
       "                [-34.65872088, -58.47010988],\n",
       "                {&quot;bubblingMouseEvents&quot;: true, &quot;color&quot;: &quot;cornflowerblue&quot;, &quot;dashArray&quot;: null, &quot;dashOffset&quot;: null, &quot;fill&quot;: true, &quot;fillColor&quot;: &quot;cornflowerblue&quot;, &quot;fillOpacity&quot;: 0.6, &quot;fillRule&quot;: &quot;evenodd&quot;, &quot;lineCap&quot;: &quot;round&quot;, &quot;lineJoin&quot;: &quot;round&quot;, &quot;opacity&quot;: 1, &quot;radius&quot;: 6, &quot;stroke&quot;: false, &quot;weight&quot;: 3}\n",
       "            ).addTo(map_65086584e849e701b7a03696943cbf61);\n",
       "        \n",
       "    \n",
       "            var circle_marker_fe4ec36eca896d7dbc16e5468342ec92 = L.circleMarker(\n",
       "                [-34.64991178, -58.42102679],\n",
       "                {&quot;bubblingMouseEvents&quot;: true, &quot;color&quot;: &quot;cornflowerblue&quot;, &quot;dashArray&quot;: null, &quot;dashOffset&quot;: null, &quot;fill&quot;: true, &quot;fillColor&quot;: &quot;cornflowerblue&quot;, &quot;fillOpacity&quot;: 0.6, &quot;fillRule&quot;: &quot;evenodd&quot;, &quot;lineCap&quot;: &quot;round&quot;, &quot;lineJoin&quot;: &quot;round&quot;, &quot;opacity&quot;: 1, &quot;radius&quot;: 6, &quot;stroke&quot;: false, &quot;weight&quot;: 3}\n",
       "            ).addTo(map_65086584e849e701b7a03696943cbf61);\n",
       "        \n",
       "    \n",
       "            var circle_marker_84bf72a94d047cb4b8f93c599f5ddc8f = L.circleMarker(\n",
       "                [-34.64991946, -58.46451841],\n",
       "                {&quot;bubblingMouseEvents&quot;: true, &quot;color&quot;: &quot;cornflowerblue&quot;, &quot;dashArray&quot;: null, &quot;dashOffset&quot;: null, &quot;fill&quot;: true, &quot;fillColor&quot;: &quot;cornflowerblue&quot;, &quot;fillOpacity&quot;: 0.6, &quot;fillRule&quot;: &quot;evenodd&quot;, &quot;lineCap&quot;: &quot;round&quot;, &quot;lineJoin&quot;: &quot;round&quot;, &quot;opacity&quot;: 1, &quot;radius&quot;: 6, &quot;stroke&quot;: false, &quot;weight&quot;: 3}\n",
       "            ).addTo(map_65086584e849e701b7a03696943cbf61);\n",
       "        \n",
       "    \n",
       "            var circle_marker_e4f56276edb20f5e222eccc1ec50e968 = L.circleMarker(\n",
       "                [-34.6500828, -58.42473018],\n",
       "                {&quot;bubblingMouseEvents&quot;: true, &quot;color&quot;: &quot;cornflowerblue&quot;, &quot;dashArray&quot;: null, &quot;dashOffset&quot;: null, &quot;fill&quot;: true, &quot;fillColor&quot;: &quot;cornflowerblue&quot;, &quot;fillOpacity&quot;: 0.6, &quot;fillRule&quot;: &quot;evenodd&quot;, &quot;lineCap&quot;: &quot;round&quot;, &quot;lineJoin&quot;: &quot;round&quot;, &quot;opacity&quot;: 1, &quot;radius&quot;: 6, &quot;stroke&quot;: false, &quot;weight&quot;: 3}\n",
       "            ).addTo(map_65086584e849e701b7a03696943cbf61);\n",
       "        \n",
       "    \n",
       "            var circle_marker_68ce2b459d9977b2c253418b7cb49819 = L.circleMarker(\n",
       "                [-34.65012801, -58.40544588],\n",
       "                {&quot;bubblingMouseEvents&quot;: true, &quot;color&quot;: &quot;cornflowerblue&quot;, &quot;dashArray&quot;: null, &quot;dashOffset&quot;: null, &quot;fill&quot;: true, &quot;fillColor&quot;: &quot;cornflowerblue&quot;, &quot;fillOpacity&quot;: 0.6, &quot;fillRule&quot;: &quot;evenodd&quot;, &quot;lineCap&quot;: &quot;round&quot;, &quot;lineJoin&quot;: &quot;round&quot;, &quot;opacity&quot;: 1, &quot;radius&quot;: 6, &quot;stroke&quot;: false, &quot;weight&quot;: 3}\n",
       "            ).addTo(map_65086584e849e701b7a03696943cbf61);\n",
       "        \n",
       "    \n",
       "            var circle_marker_171cad2ebfe16d66ddc69599955ac57b = L.circleMarker(\n",
       "                [-34.65869968, -58.49441273],\n",
       "                {&quot;bubblingMouseEvents&quot;: true, &quot;color&quot;: &quot;cornflowerblue&quot;, &quot;dashArray&quot;: null, &quot;dashOffset&quot;: null, &quot;fill&quot;: true, &quot;fillColor&quot;: &quot;cornflowerblue&quot;, &quot;fillOpacity&quot;: 0.6, &quot;fillRule&quot;: &quot;evenodd&quot;, &quot;lineCap&quot;: &quot;round&quot;, &quot;lineJoin&quot;: &quot;round&quot;, &quot;opacity&quot;: 1, &quot;radius&quot;: 6, &quot;stroke&quot;: false, &quot;weight&quot;: 3}\n",
       "            ).addTo(map_65086584e849e701b7a03696943cbf61);\n",
       "        \n",
       "    \n",
       "            var circle_marker_b32da1cf43fe35a87966ae8250c35c10 = L.circleMarker(\n",
       "                [-34.65015854, -58.49019551],\n",
       "                {&quot;bubblingMouseEvents&quot;: true, &quot;color&quot;: &quot;cornflowerblue&quot;, &quot;dashArray&quot;: null, &quot;dashOffset&quot;: null, &quot;fill&quot;: true, &quot;fillColor&quot;: &quot;cornflowerblue&quot;, &quot;fillOpacity&quot;: 0.6, &quot;fillRule&quot;: &quot;evenodd&quot;, &quot;lineCap&quot;: &quot;round&quot;, &quot;lineJoin&quot;: &quot;round&quot;, &quot;opacity&quot;: 1, &quot;radius&quot;: 6, &quot;stroke&quot;: false, &quot;weight&quot;: 3}\n",
       "            ).addTo(map_65086584e849e701b7a03696943cbf61);\n",
       "        \n",
       "    \n",
       "            var circle_marker_8cad4d5f7abbef1db6cf94bd977bc912 = L.circleMarker(\n",
       "                [-34.65021673, -58.47066794],\n",
       "                {&quot;bubblingMouseEvents&quot;: true, &quot;color&quot;: &quot;cornflowerblue&quot;, &quot;dashArray&quot;: null, &quot;dashOffset&quot;: null, &quot;fill&quot;: true, &quot;fillColor&quot;: &quot;cornflowerblue&quot;, &quot;fillOpacity&quot;: 0.6, &quot;fillRule&quot;: &quot;evenodd&quot;, &quot;lineCap&quot;: &quot;round&quot;, &quot;lineJoin&quot;: &quot;round&quot;, &quot;opacity&quot;: 1, &quot;radius&quot;: 6, &quot;stroke&quot;: false, &quot;weight&quot;: 3}\n",
       "            ).addTo(map_65086584e849e701b7a03696943cbf61);\n",
       "        \n",
       "    \n",
       "            var circle_marker_e8ddf257b6f97017a63af70dc465f0af = L.circleMarker(\n",
       "                [-34.6505529, -58.40969005],\n",
       "                {&quot;bubblingMouseEvents&quot;: true, &quot;color&quot;: &quot;cornflowerblue&quot;, &quot;dashArray&quot;: null, &quot;dashOffset&quot;: null, &quot;fill&quot;: true, &quot;fillColor&quot;: &quot;cornflowerblue&quot;, &quot;fillOpacity&quot;: 0.6, &quot;fillRule&quot;: &quot;evenodd&quot;, &quot;lineCap&quot;: &quot;round&quot;, &quot;lineJoin&quot;: &quot;round&quot;, &quot;opacity&quot;: 1, &quot;radius&quot;: 6, &quot;stroke&quot;: false, &quot;weight&quot;: 3}\n",
       "            ).addTo(map_65086584e849e701b7a03696943cbf61);\n",
       "        \n",
       "    \n",
       "            var circle_marker_fd05848d659bb6f22ce196035785ad6c = L.circleMarker(\n",
       "                [-34.65073916, -58.41146277],\n",
       "                {&quot;bubblingMouseEvents&quot;: true, &quot;color&quot;: &quot;cornflowerblue&quot;, &quot;dashArray&quot;: null, &quot;dashOffset&quot;: null, &quot;fill&quot;: true, &quot;fillColor&quot;: &quot;cornflowerblue&quot;, &quot;fillOpacity&quot;: 0.6, &quot;fillRule&quot;: &quot;evenodd&quot;, &quot;lineCap&quot;: &quot;round&quot;, &quot;lineJoin&quot;: &quot;round&quot;, &quot;opacity&quot;: 1, &quot;radius&quot;: 6, &quot;stroke&quot;: false, &quot;weight&quot;: 3}\n",
       "            ).addTo(map_65086584e849e701b7a03696943cbf61);\n",
       "        \n",
       "    \n",
       "            var circle_marker_74926808637e835c05c31111518119c5 = L.circleMarker(\n",
       "                [-34.63455776, -58.38685612],\n",
       "                {&quot;bubblingMouseEvents&quot;: true, &quot;color&quot;: &quot;cornflowerblue&quot;, &quot;dashArray&quot;: null, &quot;dashOffset&quot;: null, &quot;fill&quot;: true, &quot;fillColor&quot;: &quot;cornflowerblue&quot;, &quot;fillOpacity&quot;: 0.6, &quot;fillRule&quot;: &quot;evenodd&quot;, &quot;lineCap&quot;: &quot;round&quot;, &quot;lineJoin&quot;: &quot;round&quot;, &quot;opacity&quot;: 1, &quot;radius&quot;: 6, &quot;stroke&quot;: false, &quot;weight&quot;: 3}\n",
       "            ).addTo(map_65086584e849e701b7a03696943cbf61);\n",
       "        \n",
       "    \n",
       "            var circle_marker_8e0fcec4956d57be672592fc67805d7f = L.circleMarker(\n",
       "                [-34.63420319, -58.35608181],\n",
       "                {&quot;bubblingMouseEvents&quot;: true, &quot;color&quot;: &quot;cornflowerblue&quot;, &quot;dashArray&quot;: null, &quot;dashOffset&quot;: null, &quot;fill&quot;: true, &quot;fillColor&quot;: &quot;cornflowerblue&quot;, &quot;fillOpacity&quot;: 0.6, &quot;fillRule&quot;: &quot;evenodd&quot;, &quot;lineCap&quot;: &quot;round&quot;, &quot;lineJoin&quot;: &quot;round&quot;, &quot;opacity&quot;: 1, &quot;radius&quot;: 6, &quot;stroke&quot;: false, &quot;weight&quot;: 3}\n",
       "            ).addTo(map_65086584e849e701b7a03696943cbf61);\n",
       "        \n",
       "    \n",
       "            var circle_marker_f81b1e6bb93c21cb8152bcbf0ac41168 = L.circleMarker(\n",
       "                [-34.6341913, -58.49261744],\n",
       "                {&quot;bubblingMouseEvents&quot;: true, &quot;color&quot;: &quot;cornflowerblue&quot;, &quot;dashArray&quot;: null, &quot;dashOffset&quot;: null, &quot;fill&quot;: true, &quot;fillColor&quot;: &quot;cornflowerblue&quot;, &quot;fillOpacity&quot;: 0.6, &quot;fillRule&quot;: &quot;evenodd&quot;, &quot;lineCap&quot;: &quot;round&quot;, &quot;lineJoin&quot;: &quot;round&quot;, &quot;opacity&quot;: 1, &quot;radius&quot;: 6, &quot;stroke&quot;: false, &quot;weight&quot;: 3}\n",
       "            ).addTo(map_65086584e849e701b7a03696943cbf61);\n",
       "        \n",
       "    \n",
       "            var circle_marker_823bfa291a9dfeeef49a9ce845f99db8 = L.circleMarker(\n",
       "                [-34.62447891, -58.45457546],\n",
       "                {&quot;bubblingMouseEvents&quot;: true, &quot;color&quot;: &quot;cornflowerblue&quot;, &quot;dashArray&quot;: null, &quot;dashOffset&quot;: null, &quot;fill&quot;: true, &quot;fillColor&quot;: &quot;cornflowerblue&quot;, &quot;fillOpacity&quot;: 0.6, &quot;fillRule&quot;: &quot;evenodd&quot;, &quot;lineCap&quot;: &quot;round&quot;, &quot;lineJoin&quot;: &quot;round&quot;, &quot;opacity&quot;: 1, &quot;radius&quot;: 6, &quot;stroke&quot;: false, &quot;weight&quot;: 3}\n",
       "            ).addTo(map_65086584e849e701b7a03696943cbf61);\n",
       "        \n",
       "    \n",
       "            var circle_marker_bdd36398d30b3009192dc21e26d74eb9 = L.circleMarker(\n",
       "                [-34.67051543, -58.43284809],\n",
       "                {&quot;bubblingMouseEvents&quot;: true, &quot;color&quot;: &quot;cornflowerblue&quot;, &quot;dashArray&quot;: null, &quot;dashOffset&quot;: null, &quot;fill&quot;: true, &quot;fillColor&quot;: &quot;cornflowerblue&quot;, &quot;fillOpacity&quot;: 0.6, &quot;fillRule&quot;: &quot;evenodd&quot;, &quot;lineCap&quot;: &quot;round&quot;, &quot;lineJoin&quot;: &quot;round&quot;, &quot;opacity&quot;: 1, &quot;radius&quot;: 6, &quot;stroke&quot;: false, &quot;weight&quot;: 3}\n",
       "            ).addTo(map_65086584e849e701b7a03696943cbf61);\n",
       "        \n",
       "    \n",
       "            var circle_marker_0ac93e1c74462a0b1d55816bc4c23273 = L.circleMarker(\n",
       "                [-34.6224663, -58.38718297],\n",
       "                {&quot;bubblingMouseEvents&quot;: true, &quot;color&quot;: &quot;cornflowerblue&quot;, &quot;dashArray&quot;: null, &quot;dashOffset&quot;: null, &quot;fill&quot;: true, &quot;fillColor&quot;: &quot;cornflowerblue&quot;, &quot;fillOpacity&quot;: 0.6, &quot;fillRule&quot;: &quot;evenodd&quot;, &quot;lineCap&quot;: &quot;round&quot;, &quot;lineJoin&quot;: &quot;round&quot;, &quot;opacity&quot;: 1, &quot;radius&quot;: 6, &quot;stroke&quot;: false, &quot;weight&quot;: 3}\n",
       "            ).addTo(map_65086584e849e701b7a03696943cbf61);\n",
       "        \n",
       "    \n",
       "            var circle_marker_9a26fab36d0de8986f2353ae6fb2fcd9 = L.circleMarker(\n",
       "                [-34.62260331, -58.36523349],\n",
       "                {&quot;bubblingMouseEvents&quot;: true, &quot;color&quot;: &quot;cornflowerblue&quot;, &quot;dashArray&quot;: null, &quot;dashOffset&quot;: null, &quot;fill&quot;: true, &quot;fillColor&quot;: &quot;cornflowerblue&quot;, &quot;fillOpacity&quot;: 0.6, &quot;fillRule&quot;: &quot;evenodd&quot;, &quot;lineCap&quot;: &quot;round&quot;, &quot;lineJoin&quot;: &quot;round&quot;, &quot;opacity&quot;: 1, &quot;radius&quot;: 6, &quot;stroke&quot;: false, &quot;weight&quot;: 3}\n",
       "            ).addTo(map_65086584e849e701b7a03696943cbf61);\n",
       "        \n",
       "    \n",
       "            var circle_marker_e27ccc54b7a277fac1bd3ed59e4ae0ce = L.circleMarker(\n",
       "                [-34.67006054, -58.49573651],\n",
       "                {&quot;bubblingMouseEvents&quot;: true, &quot;color&quot;: &quot;cornflowerblue&quot;, &quot;dashArray&quot;: null, &quot;dashOffset&quot;: null, &quot;fill&quot;: true, &quot;fillColor&quot;: &quot;cornflowerblue&quot;, &quot;fillOpacity&quot;: 0.6, &quot;fillRule&quot;: &quot;evenodd&quot;, &quot;lineCap&quot;: &quot;round&quot;, &quot;lineJoin&quot;: &quot;round&quot;, &quot;opacity&quot;: 1, &quot;radius&quot;: 6, &quot;stroke&quot;: false, &quot;weight&quot;: 3}\n",
       "            ).addTo(map_65086584e849e701b7a03696943cbf61);\n",
       "        \n",
       "    \n",
       "            var circle_marker_adcf70501d5b208aa5b47606bada091f = L.circleMarker(\n",
       "                [-34.62284918, -58.51989389],\n",
       "                {&quot;bubblingMouseEvents&quot;: true, &quot;color&quot;: &quot;cornflowerblue&quot;, &quot;dashArray&quot;: null, &quot;dashOffset&quot;: null, &quot;fill&quot;: true, &quot;fillColor&quot;: &quot;cornflowerblue&quot;, &quot;fillOpacity&quot;: 0.6, &quot;fillRule&quot;: &quot;evenodd&quot;, &quot;lineCap&quot;: &quot;round&quot;, &quot;lineJoin&quot;: &quot;round&quot;, &quot;opacity&quot;: 1, &quot;radius&quot;: 6, &quot;stroke&quot;: false, &quot;weight&quot;: 3}\n",
       "            ).addTo(map_65086584e849e701b7a03696943cbf61);\n",
       "        \n",
       "    \n",
       "            var circle_marker_f3c6ac3dc0440b8edb29cfd9cad35147 = L.circleMarker(\n",
       "                [-34.62288231, -58.38099494],\n",
       "                {&quot;bubblingMouseEvents&quot;: true, &quot;color&quot;: &quot;cornflowerblue&quot;, &quot;dashArray&quot;: null, &quot;dashOffset&quot;: null, &quot;fill&quot;: true, &quot;fillColor&quot;: &quot;cornflowerblue&quot;, &quot;fillOpacity&quot;: 0.6, &quot;fillRule&quot;: &quot;evenodd&quot;, &quot;lineCap&quot;: &quot;round&quot;, &quot;lineJoin&quot;: &quot;round&quot;, &quot;opacity&quot;: 1, &quot;radius&quot;: 6, &quot;stroke&quot;: false, &quot;weight&quot;: 3}\n",
       "            ).addTo(map_65086584e849e701b7a03696943cbf61);\n",
       "        \n",
       "    \n",
       "            var circle_marker_3ad151c29f871e88b2d7d26feb4fab08 = L.circleMarker(\n",
       "                [-34.62297346, -58.39536773],\n",
       "                {&quot;bubblingMouseEvents&quot;: true, &quot;color&quot;: &quot;cornflowerblue&quot;, &quot;dashArray&quot;: null, &quot;dashOffset&quot;: null, &quot;fill&quot;: true, &quot;fillColor&quot;: &quot;cornflowerblue&quot;, &quot;fillOpacity&quot;: 0.6, &quot;fillRule&quot;: &quot;evenodd&quot;, &quot;lineCap&quot;: &quot;round&quot;, &quot;lineJoin&quot;: &quot;round&quot;, &quot;opacity&quot;: 1, &quot;radius&quot;: 6, &quot;stroke&quot;: false, &quot;weight&quot;: 3}\n",
       "            ).addTo(map_65086584e849e701b7a03696943cbf61);\n",
       "        \n",
       "    \n",
       "            var circle_marker_8db42687dc6138cdc129a0bc4af78787 = L.circleMarker(\n",
       "                [-34.62301748, -58.44362126],\n",
       "                {&quot;bubblingMouseEvents&quot;: true, &quot;color&quot;: &quot;cornflowerblue&quot;, &quot;dashArray&quot;: null, &quot;dashOffset&quot;: null, &quot;fill&quot;: true, &quot;fillColor&quot;: &quot;cornflowerblue&quot;, &quot;fillOpacity&quot;: 0.6, &quot;fillRule&quot;: &quot;evenodd&quot;, &quot;lineCap&quot;: &quot;round&quot;, &quot;lineJoin&quot;: &quot;round&quot;, &quot;opacity&quot;: 1, &quot;radius&quot;: 6, &quot;stroke&quot;: false, &quot;weight&quot;: 3}\n",
       "            ).addTo(map_65086584e849e701b7a03696943cbf61);\n",
       "        \n",
       "    \n",
       "            var circle_marker_e5c54cc28aeff577831d30b10abf5828 = L.circleMarker(\n",
       "                [-34.62330939, -58.45877601],\n",
       "                {&quot;bubblingMouseEvents&quot;: true, &quot;color&quot;: &quot;cornflowerblue&quot;, &quot;dashArray&quot;: null, &quot;dashOffset&quot;: null, &quot;fill&quot;: true, &quot;fillColor&quot;: &quot;cornflowerblue&quot;, &quot;fillOpacity&quot;: 0.6, &quot;fillRule&quot;: &quot;evenodd&quot;, &quot;lineCap&quot;: &quot;round&quot;, &quot;lineJoin&quot;: &quot;round&quot;, &quot;opacity&quot;: 1, &quot;radius&quot;: 6, &quot;stroke&quot;: false, &quot;weight&quot;: 3}\n",
       "            ).addTo(map_65086584e849e701b7a03696943cbf61);\n",
       "        \n",
       "    \n",
       "            var circle_marker_c1f7ccaed65eee65a79fcf0e0286d1a7 = L.circleMarker(\n",
       "                [-34.62352245, -58.39123782],\n",
       "                {&quot;bubblingMouseEvents&quot;: true, &quot;color&quot;: &quot;cornflowerblue&quot;, &quot;dashArray&quot;: null, &quot;dashOffset&quot;: null, &quot;fill&quot;: true, &quot;fillColor&quot;: &quot;cornflowerblue&quot;, &quot;fillOpacity&quot;: 0.6, &quot;fillRule&quot;: &quot;evenodd&quot;, &quot;lineCap&quot;: &quot;round&quot;, &quot;lineJoin&quot;: &quot;round&quot;, &quot;opacity&quot;: 1, &quot;radius&quot;: 6, &quot;stroke&quot;: false, &quot;weight&quot;: 3}\n",
       "            ).addTo(map_65086584e849e701b7a03696943cbf61);\n",
       "        \n",
       "    \n",
       "            var circle_marker_45af915f2029ac15eb7f9b659410e026 = L.circleMarker(\n",
       "                [-34.62352826, -58.44864864],\n",
       "                {&quot;bubblingMouseEvents&quot;: true, &quot;color&quot;: &quot;cornflowerblue&quot;, &quot;dashArray&quot;: null, &quot;dashOffset&quot;: null, &quot;fill&quot;: true, &quot;fillColor&quot;: &quot;cornflowerblue&quot;, &quot;fillOpacity&quot;: 0.6, &quot;fillRule&quot;: &quot;evenodd&quot;, &quot;lineCap&quot;: &quot;round&quot;, &quot;lineJoin&quot;: &quot;round&quot;, &quot;opacity&quot;: 1, &quot;radius&quot;: 6, &quot;stroke&quot;: false, &quot;weight&quot;: 3}\n",
       "            ).addTo(map_65086584e849e701b7a03696943cbf61);\n",
       "        \n",
       "    \n",
       "            var circle_marker_2d9e334b87a21aef1dcbd3b4d43e89ea = L.circleMarker(\n",
       "                [-34.62356174, -58.40042405],\n",
       "                {&quot;bubblingMouseEvents&quot;: true, &quot;color&quot;: &quot;cornflowerblue&quot;, &quot;dashArray&quot;: null, &quot;dashOffset&quot;: null, &quot;fill&quot;: true, &quot;fillColor&quot;: &quot;cornflowerblue&quot;, &quot;fillOpacity&quot;: 0.6, &quot;fillRule&quot;: &quot;evenodd&quot;, &quot;lineCap&quot;: &quot;round&quot;, &quot;lineJoin&quot;: &quot;round&quot;, &quot;opacity&quot;: 1, &quot;radius&quot;: 6, &quot;stroke&quot;: false, &quot;weight&quot;: 3}\n",
       "            ).addTo(map_65086584e849e701b7a03696943cbf61);\n",
       "        \n",
       "    \n",
       "            var circle_marker_bd8b890c27f2e7d687ac09d590606194 = L.circleMarker(\n",
       "                [-34.62367156, -58.36217754],\n",
       "                {&quot;bubblingMouseEvents&quot;: true, &quot;color&quot;: &quot;cornflowerblue&quot;, &quot;dashArray&quot;: null, &quot;dashOffset&quot;: null, &quot;fill&quot;: true, &quot;fillColor&quot;: &quot;cornflowerblue&quot;, &quot;fillOpacity&quot;: 0.6, &quot;fillRule&quot;: &quot;evenodd&quot;, &quot;lineCap&quot;: &quot;round&quot;, &quot;lineJoin&quot;: &quot;round&quot;, &quot;opacity&quot;: 1, &quot;radius&quot;: 6, &quot;stroke&quot;: false, &quot;weight&quot;: 3}\n",
       "            ).addTo(map_65086584e849e701b7a03696943cbf61);\n",
       "        \n",
       "    \n",
       "            var circle_marker_3bb1fd8e7f902b84e5387ca78cd61ad0 = L.circleMarker(\n",
       "                [-34.62438894, -58.40708125],\n",
       "                {&quot;bubblingMouseEvents&quot;: true, &quot;color&quot;: &quot;cornflowerblue&quot;, &quot;dashArray&quot;: null, &quot;dashOffset&quot;: null, &quot;fill&quot;: true, &quot;fillColor&quot;: &quot;cornflowerblue&quot;, &quot;fillOpacity&quot;: 0.6, &quot;fillRule&quot;: &quot;evenodd&quot;, &quot;lineCap&quot;: &quot;round&quot;, &quot;lineJoin&quot;: &quot;round&quot;, &quot;opacity&quot;: 1, &quot;radius&quot;: 6, &quot;stroke&quot;: false, &quot;weight&quot;: 3}\n",
       "            ).addTo(map_65086584e849e701b7a03696943cbf61);\n",
       "        \n",
       "    \n",
       "            var circle_marker_79a8106cba2c672c9d1709d4562a03e2 = L.circleMarker(\n",
       "                [-34.62453459, -58.39591856],\n",
       "                {&quot;bubblingMouseEvents&quot;: true, &quot;color&quot;: &quot;cornflowerblue&quot;, &quot;dashArray&quot;: null, &quot;dashOffset&quot;: null, &quot;fill&quot;: true, &quot;fillColor&quot;: &quot;cornflowerblue&quot;, &quot;fillOpacity&quot;: 0.6, &quot;fillRule&quot;: &quot;evenodd&quot;, &quot;lineCap&quot;: &quot;round&quot;, &quot;lineJoin&quot;: &quot;round&quot;, &quot;opacity&quot;: 1, &quot;radius&quot;: 6, &quot;stroke&quot;: false, &quot;weight&quot;: 3}\n",
       "            ).addTo(map_65086584e849e701b7a03696943cbf61);\n",
       "        \n",
       "    \n",
       "            var circle_marker_27b877d60fa9c8a17f7da46bb5f69b72 = L.circleMarker(\n",
       "                [-34.63412287, -58.39035581],\n",
       "                {&quot;bubblingMouseEvents&quot;: true, &quot;color&quot;: &quot;cornflowerblue&quot;, &quot;dashArray&quot;: null, &quot;dashOffset&quot;: null, &quot;fill&quot;: true, &quot;fillColor&quot;: &quot;cornflowerblue&quot;, &quot;fillOpacity&quot;: 0.6, &quot;fillRule&quot;: &quot;evenodd&quot;, &quot;lineCap&quot;: &quot;round&quot;, &quot;lineJoin&quot;: &quot;round&quot;, &quot;opacity&quot;: 1, &quot;radius&quot;: 6, &quot;stroke&quot;: false, &quot;weight&quot;: 3}\n",
       "            ).addTo(map_65086584e849e701b7a03696943cbf61);\n",
       "        \n",
       "    \n",
       "            var circle_marker_a4de86887d15664f4ac33fe24b51ecd3 = L.circleMarker(\n",
       "                [-34.62454175, -58.52449285],\n",
       "                {&quot;bubblingMouseEvents&quot;: true, &quot;color&quot;: &quot;cornflowerblue&quot;, &quot;dashArray&quot;: null, &quot;dashOffset&quot;: null, &quot;fill&quot;: true, &quot;fillColor&quot;: &quot;cornflowerblue&quot;, &quot;fillOpacity&quot;: 0.6, &quot;fillRule&quot;: &quot;evenodd&quot;, &quot;lineCap&quot;: &quot;round&quot;, &quot;lineJoin&quot;: &quot;round&quot;, &quot;opacity&quot;: 1, &quot;radius&quot;: 6, &quot;stroke&quot;: false, &quot;weight&quot;: 3}\n",
       "            ).addTo(map_65086584e849e701b7a03696943cbf61);\n",
       "        \n",
       "    \n",
       "            var circle_marker_944c9d6dc02bc57d91a8f8ceb8e444c2 = L.circleMarker(\n",
       "                [-34.62465368, -58.38211431],\n",
       "                {&quot;bubblingMouseEvents&quot;: true, &quot;color&quot;: &quot;cornflowerblue&quot;, &quot;dashArray&quot;: null, &quot;dashOffset&quot;: null, &quot;fill&quot;: true, &quot;fillColor&quot;: &quot;cornflowerblue&quot;, &quot;fillOpacity&quot;: 0.6, &quot;fillRule&quot;: &quot;evenodd&quot;, &quot;lineCap&quot;: &quot;round&quot;, &quot;lineJoin&quot;: &quot;round&quot;, &quot;opacity&quot;: 1, &quot;radius&quot;: 6, &quot;stroke&quot;: false, &quot;weight&quot;: 3}\n",
       "            ).addTo(map_65086584e849e701b7a03696943cbf61);\n",
       "        \n",
       "    \n",
       "            var circle_marker_2b13af7d0bb9e97f42a74cf6a2e2ac71 = L.circleMarker(\n",
       "                [-34.66902702, -58.45410344],\n",
       "                {&quot;bubblingMouseEvents&quot;: true, &quot;color&quot;: &quot;cornflowerblue&quot;, &quot;dashArray&quot;: null, &quot;dashOffset&quot;: null, &quot;fill&quot;: true, &quot;fillColor&quot;: &quot;cornflowerblue&quot;, &quot;fillOpacity&quot;: 0.6, &quot;fillRule&quot;: &quot;evenodd&quot;, &quot;lineCap&quot;: &quot;round&quot;, &quot;lineJoin&quot;: &quot;round&quot;, &quot;opacity&quot;: 1, &quot;radius&quot;: 6, &quot;stroke&quot;: false, &quot;weight&quot;: 3}\n",
       "            ).addTo(map_65086584e849e701b7a03696943cbf61);\n",
       "        \n",
       "    \n",
       "            var circle_marker_2e182b448f363b38624e5fa8df68f507 = L.circleMarker(\n",
       "                [-34.62477387, -58.39114932],\n",
       "                {&quot;bubblingMouseEvents&quot;: true, &quot;color&quot;: &quot;cornflowerblue&quot;, &quot;dashArray&quot;: null, &quot;dashOffset&quot;: null, &quot;fill&quot;: true, &quot;fillColor&quot;: &quot;cornflowerblue&quot;, &quot;fillOpacity&quot;: 0.6, &quot;fillRule&quot;: &quot;evenodd&quot;, &quot;lineCap&quot;: &quot;round&quot;, &quot;lineJoin&quot;: &quot;round&quot;, &quot;opacity&quot;: 1, &quot;radius&quot;: 6, &quot;stroke&quot;: false, &quot;weight&quot;: 3}\n",
       "            ).addTo(map_65086584e849e701b7a03696943cbf61);\n",
       "        \n",
       "    \n",
       "            var circle_marker_6f2febda36f9ec97fb1b274cb14e90f8 = L.circleMarker(\n",
       "                [-34.62499107, -58.44062219],\n",
       "                {&quot;bubblingMouseEvents&quot;: true, &quot;color&quot;: &quot;cornflowerblue&quot;, &quot;dashArray&quot;: null, &quot;dashOffset&quot;: null, &quot;fill&quot;: true, &quot;fillColor&quot;: &quot;cornflowerblue&quot;, &quot;fillOpacity&quot;: 0.6, &quot;fillRule&quot;: &quot;evenodd&quot;, &quot;lineCap&quot;: &quot;round&quot;, &quot;lineJoin&quot;: &quot;round&quot;, &quot;opacity&quot;: 1, &quot;radius&quot;: 6, &quot;stroke&quot;: false, &quot;weight&quot;: 3}\n",
       "            ).addTo(map_65086584e849e701b7a03696943cbf61);\n",
       "        \n",
       "    \n",
       "            var circle_marker_cdb279c8ab358a52305b9086b2450b70 = L.circleMarker(\n",
       "                [-34.62513374, -58.42717783],\n",
       "                {&quot;bubblingMouseEvents&quot;: true, &quot;color&quot;: &quot;cornflowerblue&quot;, &quot;dashArray&quot;: null, &quot;dashOffset&quot;: null, &quot;fill&quot;: true, &quot;fillColor&quot;: &quot;cornflowerblue&quot;, &quot;fillOpacity&quot;: 0.6, &quot;fillRule&quot;: &quot;evenodd&quot;, &quot;lineCap&quot;: &quot;round&quot;, &quot;lineJoin&quot;: &quot;round&quot;, &quot;opacity&quot;: 1, &quot;radius&quot;: 6, &quot;stroke&quot;: false, &quot;weight&quot;: 3}\n",
       "            ).addTo(map_65086584e849e701b7a03696943cbf61);\n",
       "        \n",
       "    \n",
       "            var circle_marker_16fffeb6c202cfa28beb08d6833e98a0 = L.circleMarker(\n",
       "                [-34.66874679, -58.47461076],\n",
       "                {&quot;bubblingMouseEvents&quot;: true, &quot;color&quot;: &quot;cornflowerblue&quot;, &quot;dashArray&quot;: null, &quot;dashOffset&quot;: null, &quot;fill&quot;: true, &quot;fillColor&quot;: &quot;cornflowerblue&quot;, &quot;fillOpacity&quot;: 0.6, &quot;fillRule&quot;: &quot;evenodd&quot;, &quot;lineCap&quot;: &quot;round&quot;, &quot;lineJoin&quot;: &quot;round&quot;, &quot;opacity&quot;: 1, &quot;radius&quot;: 6, &quot;stroke&quot;: false, &quot;weight&quot;: 3}\n",
       "            ).addTo(map_65086584e849e701b7a03696943cbf61);\n",
       "        \n",
       "    \n",
       "            var circle_marker_893bdeb696db48622535f3d3054807a5 = L.circleMarker(\n",
       "                [-34.62539009, -58.44788671],\n",
       "                {&quot;bubblingMouseEvents&quot;: true, &quot;color&quot;: &quot;cornflowerblue&quot;, &quot;dashArray&quot;: null, &quot;dashOffset&quot;: null, &quot;fill&quot;: true, &quot;fillColor&quot;: &quot;cornflowerblue&quot;, &quot;fillOpacity&quot;: 0.6, &quot;fillRule&quot;: &quot;evenodd&quot;, &quot;lineCap&quot;: &quot;round&quot;, &quot;lineJoin&quot;: &quot;round&quot;, &quot;opacity&quot;: 1, &quot;radius&quot;: 6, &quot;stroke&quot;: false, &quot;weight&quot;: 3}\n",
       "            ).addTo(map_65086584e849e701b7a03696943cbf61);\n",
       "        \n",
       "    \n",
       "            var circle_marker_bbc773e7443bf99de7ba37091e69cde8 = L.circleMarker(\n",
       "                [-34.62556293, -58.38247542],\n",
       "                {&quot;bubblingMouseEvents&quot;: true, &quot;color&quot;: &quot;cornflowerblue&quot;, &quot;dashArray&quot;: null, &quot;dashOffset&quot;: null, &quot;fill&quot;: true, &quot;fillColor&quot;: &quot;cornflowerblue&quot;, &quot;fillOpacity&quot;: 0.6, &quot;fillRule&quot;: &quot;evenodd&quot;, &quot;lineCap&quot;: &quot;round&quot;, &quot;lineJoin&quot;: &quot;round&quot;, &quot;opacity&quot;: 1, &quot;radius&quot;: 6, &quot;stroke&quot;: false, &quot;weight&quot;: 3}\n",
       "            ).addTo(map_65086584e849e701b7a03696943cbf61);\n",
       "        \n",
       "    \n",
       "            var circle_marker_812460de8fd979ba38d5ff5fc61e6855 = L.circleMarker(\n",
       "                [-34.62561234, -58.45743597],\n",
       "                {&quot;bubblingMouseEvents&quot;: true, &quot;color&quot;: &quot;cornflowerblue&quot;, &quot;dashArray&quot;: null, &quot;dashOffset&quot;: null, &quot;fill&quot;: true, &quot;fillColor&quot;: &quot;cornflowerblue&quot;, &quot;fillOpacity&quot;: 0.6, &quot;fillRule&quot;: &quot;evenodd&quot;, &quot;lineCap&quot;: &quot;round&quot;, &quot;lineJoin&quot;: &quot;round&quot;, &quot;opacity&quot;: 1, &quot;radius&quot;: 6, &quot;stroke&quot;: false, &quot;weight&quot;: 3}\n",
       "            ).addTo(map_65086584e849e701b7a03696943cbf61);\n",
       "        \n",
       "    \n",
       "            var circle_marker_ffa8e02fd8bfba3cacdd7e039aedaf56 = L.circleMarker(\n",
       "                [-34.62571878, -58.38247061],\n",
       "                {&quot;bubblingMouseEvents&quot;: true, &quot;color&quot;: &quot;cornflowerblue&quot;, &quot;dashArray&quot;: null, &quot;dashOffset&quot;: null, &quot;fill&quot;: true, &quot;fillColor&quot;: &quot;cornflowerblue&quot;, &quot;fillOpacity&quot;: 0.6, &quot;fillRule&quot;: &quot;evenodd&quot;, &quot;lineCap&quot;: &quot;round&quot;, &quot;lineJoin&quot;: &quot;round&quot;, &quot;opacity&quot;: 1, &quot;radius&quot;: 6, &quot;stroke&quot;: false, &quot;weight&quot;: 3}\n",
       "            ).addTo(map_65086584e849e701b7a03696943cbf61);\n",
       "        \n",
       "    \n",
       "            var circle_marker_7417d026fce18c28e52db247732cb1d1 = L.circleMarker(\n",
       "                [-34.62622851, -58.37960727],\n",
       "                {&quot;bubblingMouseEvents&quot;: true, &quot;color&quot;: &quot;cornflowerblue&quot;, &quot;dashArray&quot;: null, &quot;dashOffset&quot;: null, &quot;fill&quot;: true, &quot;fillColor&quot;: &quot;cornflowerblue&quot;, &quot;fillOpacity&quot;: 0.6, &quot;fillRule&quot;: &quot;evenodd&quot;, &quot;lineCap&quot;: &quot;round&quot;, &quot;lineJoin&quot;: &quot;round&quot;, &quot;opacity&quot;: 1, &quot;radius&quot;: 6, &quot;stroke&quot;: false, &quot;weight&quot;: 3}\n",
       "            ).addTo(map_65086584e849e701b7a03696943cbf61);\n",
       "        \n",
       "    \n",
       "            var circle_marker_c2d2c649518a0d695b1a83301536c563 = L.circleMarker(\n",
       "                [-34.62656868, -58.45593915],\n",
       "                {&quot;bubblingMouseEvents&quot;: true, &quot;color&quot;: &quot;cornflowerblue&quot;, &quot;dashArray&quot;: null, &quot;dashOffset&quot;: null, &quot;fill&quot;: true, &quot;fillColor&quot;: &quot;cornflowerblue&quot;, &quot;fillOpacity&quot;: 0.6, &quot;fillRule&quot;: &quot;evenodd&quot;, &quot;lineCap&quot;: &quot;round&quot;, &quot;lineJoin&quot;: &quot;round&quot;, &quot;opacity&quot;: 1, &quot;radius&quot;: 6, &quot;stroke&quot;: false, &quot;weight&quot;: 3}\n",
       "            ).addTo(map_65086584e849e701b7a03696943cbf61);\n",
       "        \n",
       "    \n",
       "            var circle_marker_1cd2404eabe7d2f40c7b5e4fffc916f8 = L.circleMarker(\n",
       "                [-34.62693865, -58.38223382],\n",
       "                {&quot;bubblingMouseEvents&quot;: true, &quot;color&quot;: &quot;cornflowerblue&quot;, &quot;dashArray&quot;: null, &quot;dashOffset&quot;: null, &quot;fill&quot;: true, &quot;fillColor&quot;: &quot;cornflowerblue&quot;, &quot;fillOpacity&quot;: 0.6, &quot;fillRule&quot;: &quot;evenodd&quot;, &quot;lineCap&quot;: &quot;round&quot;, &quot;lineJoin&quot;: &quot;round&quot;, &quot;opacity&quot;: 1, &quot;radius&quot;: 6, &quot;stroke&quot;: false, &quot;weight&quot;: 3}\n",
       "            ).addTo(map_65086584e849e701b7a03696943cbf61);\n",
       "        \n",
       "    \n",
       "            var circle_marker_a6e8fa3aa76fa2b16147d96f27ca47af = L.circleMarker(\n",
       "                [-34.67152226, -58.44483258],\n",
       "                {&quot;bubblingMouseEvents&quot;: true, &quot;color&quot;: &quot;cornflowerblue&quot;, &quot;dashArray&quot;: null, &quot;dashOffset&quot;: null, &quot;fill&quot;: true, &quot;fillColor&quot;: &quot;cornflowerblue&quot;, &quot;fillOpacity&quot;: 0.6, &quot;fillRule&quot;: &quot;evenodd&quot;, &quot;lineCap&quot;: &quot;round&quot;, &quot;lineJoin&quot;: &quot;round&quot;, &quot;opacity&quot;: 1, &quot;radius&quot;: 6, &quot;stroke&quot;: false, &quot;weight&quot;: 3}\n",
       "            ).addTo(map_65086584e849e701b7a03696943cbf61);\n",
       "        \n",
       "    \n",
       "            var circle_marker_59dcd716686210979c61a83fe6d03561 = L.circleMarker(\n",
       "                [-34.6719879, -58.46713742],\n",
       "                {&quot;bubblingMouseEvents&quot;: true, &quot;color&quot;: &quot;cornflowerblue&quot;, &quot;dashArray&quot;: null, &quot;dashOffset&quot;: null, &quot;fill&quot;: true, &quot;fillColor&quot;: &quot;cornflowerblue&quot;, &quot;fillOpacity&quot;: 0.6, &quot;fillRule&quot;: &quot;evenodd&quot;, &quot;lineCap&quot;: &quot;round&quot;, &quot;lineJoin&quot;: &quot;round&quot;, &quot;opacity&quot;: 1, &quot;radius&quot;: 6, &quot;stroke&quot;: false, &quot;weight&quot;: 3}\n",
       "            ).addTo(map_65086584e849e701b7a03696943cbf61);\n",
       "        \n",
       "    \n",
       "            var circle_marker_8fd07a891ac901bde269a241bc6d716b = L.circleMarker(\n",
       "                [-34.62200207, -58.37564821],\n",
       "                {&quot;bubblingMouseEvents&quot;: true, &quot;color&quot;: &quot;cornflowerblue&quot;, &quot;dashArray&quot;: null, &quot;dashOffset&quot;: null, &quot;fill&quot;: true, &quot;fillColor&quot;: &quot;cornflowerblue&quot;, &quot;fillOpacity&quot;: 0.6, &quot;fillRule&quot;: &quot;evenodd&quot;, &quot;lineCap&quot;: &quot;round&quot;, &quot;lineJoin&quot;: &quot;round&quot;, &quot;opacity&quot;: 1, &quot;radius&quot;: 6, &quot;stroke&quot;: false, &quot;weight&quot;: 3}\n",
       "            ).addTo(map_65086584e849e701b7a03696943cbf61);\n",
       "        \n",
       "    \n",
       "            var circle_marker_beba247beeddc89d284e09645bd10493 = L.circleMarker(\n",
       "                [-34.62163006, -58.39311376],\n",
       "                {&quot;bubblingMouseEvents&quot;: true, &quot;color&quot;: &quot;cornflowerblue&quot;, &quot;dashArray&quot;: null, &quot;dashOffset&quot;: null, &quot;fill&quot;: true, &quot;fillColor&quot;: &quot;cornflowerblue&quot;, &quot;fillOpacity&quot;: 0.6, &quot;fillRule&quot;: &quot;evenodd&quot;, &quot;lineCap&quot;: &quot;round&quot;, &quot;lineJoin&quot;: &quot;round&quot;, &quot;opacity&quot;: 1, &quot;radius&quot;: 6, &quot;stroke&quot;: false, &quot;weight&quot;: 3}\n",
       "            ).addTo(map_65086584e849e701b7a03696943cbf61);\n",
       "        \n",
       "    \n",
       "            var circle_marker_eae0c7700eb4a00edbf4194cb605f938 = L.circleMarker(\n",
       "                [-34.61783553, -58.40604003],\n",
       "                {&quot;bubblingMouseEvents&quot;: true, &quot;color&quot;: &quot;cornflowerblue&quot;, &quot;dashArray&quot;: null, &quot;dashOffset&quot;: null, &quot;fill&quot;: true, &quot;fillColor&quot;: &quot;cornflowerblue&quot;, &quot;fillOpacity&quot;: 0.6, &quot;fillRule&quot;: &quot;evenodd&quot;, &quot;lineCap&quot;: &quot;round&quot;, &quot;lineJoin&quot;: &quot;round&quot;, &quot;opacity&quot;: 1, &quot;radius&quot;: 6, &quot;stroke&quot;: false, &quot;weight&quot;: 3}\n",
       "            ).addTo(map_65086584e849e701b7a03696943cbf61);\n",
       "        \n",
       "    \n",
       "            var circle_marker_e9c556da6f2124dc4ae8216325c46ea3 = L.circleMarker(\n",
       "                [-34.61790839, -58.38746381],\n",
       "                {&quot;bubblingMouseEvents&quot;: true, &quot;color&quot;: &quot;cornflowerblue&quot;, &quot;dashArray&quot;: null, &quot;dashOffset&quot;: null, &quot;fill&quot;: true, &quot;fillColor&quot;: &quot;cornflowerblue&quot;, &quot;fillOpacity&quot;: 0.6, &quot;fillRule&quot;: &quot;evenodd&quot;, &quot;lineCap&quot;: &quot;round&quot;, &quot;lineJoin&quot;: &quot;round&quot;, &quot;opacity&quot;: 1, &quot;radius&quot;: 6, &quot;stroke&quot;: false, &quot;weight&quot;: 3}\n",
       "            ).addTo(map_65086584e849e701b7a03696943cbf61);\n",
       "        \n",
       "    \n",
       "            var circle_marker_9946396c9bb87184ffeba2c32616bd2f = L.circleMarker(\n",
       "                [-34.67494416, -58.47832463],\n",
       "                {&quot;bubblingMouseEvents&quot;: true, &quot;color&quot;: &quot;cornflowerblue&quot;, &quot;dashArray&quot;: null, &quot;dashOffset&quot;: null, &quot;fill&quot;: true, &quot;fillColor&quot;: &quot;cornflowerblue&quot;, &quot;fillOpacity&quot;: 0.6, &quot;fillRule&quot;: &quot;evenodd&quot;, &quot;lineCap&quot;: &quot;round&quot;, &quot;lineJoin&quot;: &quot;round&quot;, &quot;opacity&quot;: 1, &quot;radius&quot;: 6, &quot;stroke&quot;: false, &quot;weight&quot;: 3}\n",
       "            ).addTo(map_65086584e849e701b7a03696943cbf61);\n",
       "        \n",
       "    \n",
       "            var circle_marker_ab3218e88f488adc715666582a40abe5 = L.circleMarker(\n",
       "                [-34.61807951, -58.39032921],\n",
       "                {&quot;bubblingMouseEvents&quot;: true, &quot;color&quot;: &quot;cornflowerblue&quot;, &quot;dashArray&quot;: null, &quot;dashOffset&quot;: null, &quot;fill&quot;: true, &quot;fillColor&quot;: &quot;cornflowerblue&quot;, &quot;fillOpacity&quot;: 0.6, &quot;fillRule&quot;: &quot;evenodd&quot;, &quot;lineCap&quot;: &quot;round&quot;, &quot;lineJoin&quot;: &quot;round&quot;, &quot;opacity&quot;: 1, &quot;radius&quot;: 6, &quot;stroke&quot;: false, &quot;weight&quot;: 3}\n",
       "            ).addTo(map_65086584e849e701b7a03696943cbf61);\n",
       "        \n",
       "    \n",
       "            var circle_marker_79a5758a5cdfe8ef69b4e44cb1839446 = L.circleMarker(\n",
       "                [-34.61823178, -58.41803309],\n",
       "                {&quot;bubblingMouseEvents&quot;: true, &quot;color&quot;: &quot;cornflowerblue&quot;, &quot;dashArray&quot;: null, &quot;dashOffset&quot;: null, &quot;fill&quot;: true, &quot;fillColor&quot;: &quot;cornflowerblue&quot;, &quot;fillOpacity&quot;: 0.6, &quot;fillRule&quot;: &quot;evenodd&quot;, &quot;lineCap&quot;: &quot;round&quot;, &quot;lineJoin&quot;: &quot;round&quot;, &quot;opacity&quot;: 1, &quot;radius&quot;: 6, &quot;stroke&quot;: false, &quot;weight&quot;: 3}\n",
       "            ).addTo(map_65086584e849e701b7a03696943cbf61);\n",
       "        \n",
       "    \n",
       "            var circle_marker_d628a35e8a3d5460f6ce0da6d255051f = L.circleMarker(\n",
       "                [-34.61853244, -58.38109568],\n",
       "                {&quot;bubblingMouseEvents&quot;: true, &quot;color&quot;: &quot;cornflowerblue&quot;, &quot;dashArray&quot;: null, &quot;dashOffset&quot;: null, &quot;fill&quot;: true, &quot;fillColor&quot;: &quot;cornflowerblue&quot;, &quot;fillOpacity&quot;: 0.6, &quot;fillRule&quot;: &quot;evenodd&quot;, &quot;lineCap&quot;: &quot;round&quot;, &quot;lineJoin&quot;: &quot;round&quot;, &quot;opacity&quot;: 1, &quot;radius&quot;: 6, &quot;stroke&quot;: false, &quot;weight&quot;: 3}\n",
       "            ).addTo(map_65086584e849e701b7a03696943cbf61);\n",
       "        \n",
       "    \n",
       "            var circle_marker_92fc6a2a7aca37da270f655b5075c47e = L.circleMarker(\n",
       "                [-34.61866627, -58.40098306],\n",
       "                {&quot;bubblingMouseEvents&quot;: true, &quot;color&quot;: &quot;cornflowerblue&quot;, &quot;dashArray&quot;: null, &quot;dashOffset&quot;: null, &quot;fill&quot;: true, &quot;fillColor&quot;: &quot;cornflowerblue&quot;, &quot;fillOpacity&quot;: 0.6, &quot;fillRule&quot;: &quot;evenodd&quot;, &quot;lineCap&quot;: &quot;round&quot;, &quot;lineJoin&quot;: &quot;round&quot;, &quot;opacity&quot;: 1, &quot;radius&quot;: 6, &quot;stroke&quot;: false, &quot;weight&quot;: 3}\n",
       "            ).addTo(map_65086584e849e701b7a03696943cbf61);\n",
       "        \n",
       "    \n",
       "            var circle_marker_2908b9c399b56d7fe4e266d4454d5903 = L.circleMarker(\n",
       "                [-34.61866836, -58.41822901],\n",
       "                {&quot;bubblingMouseEvents&quot;: true, &quot;color&quot;: &quot;cornflowerblue&quot;, &quot;dashArray&quot;: null, &quot;dashOffset&quot;: null, &quot;fill&quot;: true, &quot;fillColor&quot;: &quot;cornflowerblue&quot;, &quot;fillOpacity&quot;: 0.6, &quot;fillRule&quot;: &quot;evenodd&quot;, &quot;lineCap&quot;: &quot;round&quot;, &quot;lineJoin&quot;: &quot;round&quot;, &quot;opacity&quot;: 1, &quot;radius&quot;: 6, &quot;stroke&quot;: false, &quot;weight&quot;: 3}\n",
       "            ).addTo(map_65086584e849e701b7a03696943cbf61);\n",
       "        \n",
       "    \n",
       "            var circle_marker_e9151ecec441aecb8699f4631acf7f4a = L.circleMarker(\n",
       "                [-34.61883916, -58.40351561],\n",
       "                {&quot;bubblingMouseEvents&quot;: true, &quot;color&quot;: &quot;cornflowerblue&quot;, &quot;dashArray&quot;: null, &quot;dashOffset&quot;: null, &quot;fill&quot;: true, &quot;fillColor&quot;: &quot;cornflowerblue&quot;, &quot;fillOpacity&quot;: 0.6, &quot;fillRule&quot;: &quot;evenodd&quot;, &quot;lineCap&quot;: &quot;round&quot;, &quot;lineJoin&quot;: &quot;round&quot;, &quot;opacity&quot;: 1, &quot;radius&quot;: 6, &quot;stroke&quot;: false, &quot;weight&quot;: 3}\n",
       "            ).addTo(map_65086584e849e701b7a03696943cbf61);\n",
       "        \n",
       "    \n",
       "            var circle_marker_a32d5fb0007f9f0293a04e637970218f = L.circleMarker(\n",
       "                [-34.61895467, -58.37456088],\n",
       "                {&quot;bubblingMouseEvents&quot;: true, &quot;color&quot;: &quot;cornflowerblue&quot;, &quot;dashArray&quot;: null, &quot;dashOffset&quot;: null, &quot;fill&quot;: true, &quot;fillColor&quot;: &quot;cornflowerblue&quot;, &quot;fillOpacity&quot;: 0.6, &quot;fillRule&quot;: &quot;evenodd&quot;, &quot;lineCap&quot;: &quot;round&quot;, &quot;lineJoin&quot;: &quot;round&quot;, &quot;opacity&quot;: 1, &quot;radius&quot;: 6, &quot;stroke&quot;: false, &quot;weight&quot;: 3}\n",
       "            ).addTo(map_65086584e849e701b7a03696943cbf61);\n",
       "        \n",
       "    \n",
       "            var circle_marker_fe7fd2e9135e23de7a7fa361f2719585 = L.circleMarker(\n",
       "                [-34.61943202, -58.40638983],\n",
       "                {&quot;bubblingMouseEvents&quot;: true, &quot;color&quot;: &quot;cornflowerblue&quot;, &quot;dashArray&quot;: null, &quot;dashOffset&quot;: null, &quot;fill&quot;: true, &quot;fillColor&quot;: &quot;cornflowerblue&quot;, &quot;fillOpacity&quot;: 0.6, &quot;fillRule&quot;: &quot;evenodd&quot;, &quot;lineCap&quot;: &quot;round&quot;, &quot;lineJoin&quot;: &quot;round&quot;, &quot;opacity&quot;: 1, &quot;radius&quot;: 6, &quot;stroke&quot;: false, &quot;weight&quot;: 3}\n",
       "            ).addTo(map_65086584e849e701b7a03696943cbf61);\n",
       "        \n",
       "    \n",
       "            var circle_marker_37eff45e06905281819000dfa82ff0b8 = L.circleMarker(\n",
       "                [-34.61945902, -58.4750156],\n",
       "                {&quot;bubblingMouseEvents&quot;: true, &quot;color&quot;: &quot;cornflowerblue&quot;, &quot;dashArray&quot;: null, &quot;dashOffset&quot;: null, &quot;fill&quot;: true, &quot;fillColor&quot;: &quot;cornflowerblue&quot;, &quot;fillOpacity&quot;: 0.6, &quot;fillRule&quot;: &quot;evenodd&quot;, &quot;lineCap&quot;: &quot;round&quot;, &quot;lineJoin&quot;: &quot;round&quot;, &quot;opacity&quot;: 1, &quot;radius&quot;: 6, &quot;stroke&quot;: false, &quot;weight&quot;: 3}\n",
       "            ).addTo(map_65086584e849e701b7a03696943cbf61);\n",
       "        \n",
       "    \n",
       "            var circle_marker_1798595f006c7a74847891f68f800666 = L.circleMarker(\n",
       "                [-34.61953517, -58.36907201],\n",
       "                {&quot;bubblingMouseEvents&quot;: true, &quot;color&quot;: &quot;cornflowerblue&quot;, &quot;dashArray&quot;: null, &quot;dashOffset&quot;: null, &quot;fill&quot;: true, &quot;fillColor&quot;: &quot;cornflowerblue&quot;, &quot;fillOpacity&quot;: 0.6, &quot;fillRule&quot;: &quot;evenodd&quot;, &quot;lineCap&quot;: &quot;round&quot;, &quot;lineJoin&quot;: &quot;round&quot;, &quot;opacity&quot;: 1, &quot;radius&quot;: 6, &quot;stroke&quot;: false, &quot;weight&quot;: 3}\n",
       "            ).addTo(map_65086584e849e701b7a03696943cbf61);\n",
       "        \n",
       "    \n",
       "            var circle_marker_04f7e12dc8a439ed12832bb7d7237a22 = L.circleMarker(\n",
       "                [-34.61964833, -58.39883882],\n",
       "                {&quot;bubblingMouseEvents&quot;: true, &quot;color&quot;: &quot;cornflowerblue&quot;, &quot;dashArray&quot;: null, &quot;dashOffset&quot;: null, &quot;fill&quot;: true, &quot;fillColor&quot;: &quot;cornflowerblue&quot;, &quot;fillOpacity&quot;: 0.6, &quot;fillRule&quot;: &quot;evenodd&quot;, &quot;lineCap&quot;: &quot;round&quot;, &quot;lineJoin&quot;: &quot;round&quot;, &quot;opacity&quot;: 1, &quot;radius&quot;: 6, &quot;stroke&quot;: false, &quot;weight&quot;: 3}\n",
       "            ).addTo(map_65086584e849e701b7a03696943cbf61);\n",
       "        \n",
       "    \n",
       "            var circle_marker_b8c62c7a4818889d8b77c9ff1d350d2d = L.circleMarker(\n",
       "                [-34.61971907, -58.40778291],\n",
       "                {&quot;bubblingMouseEvents&quot;: true, &quot;color&quot;: &quot;cornflowerblue&quot;, &quot;dashArray&quot;: null, &quot;dashOffset&quot;: null, &quot;fill&quot;: true, &quot;fillColor&quot;: &quot;cornflowerblue&quot;, &quot;fillOpacity&quot;: 0.6, &quot;fillRule&quot;: &quot;evenodd&quot;, &quot;lineCap&quot;: &quot;round&quot;, &quot;lineJoin&quot;: &quot;round&quot;, &quot;opacity&quot;: 1, &quot;radius&quot;: 6, &quot;stroke&quot;: false, &quot;weight&quot;: 3}\n",
       "            ).addTo(map_65086584e849e701b7a03696943cbf61);\n",
       "        \n",
       "    \n",
       "            var circle_marker_08b6b67d78b34e168b0cdac36b16f68e = L.circleMarker(\n",
       "                [-34.61984745, -58.47293407],\n",
       "                {&quot;bubblingMouseEvents&quot;: true, &quot;color&quot;: &quot;cornflowerblue&quot;, &quot;dashArray&quot;: null, &quot;dashOffset&quot;: null, &quot;fill&quot;: true, &quot;fillColor&quot;: &quot;cornflowerblue&quot;, &quot;fillOpacity&quot;: 0.6, &quot;fillRule&quot;: &quot;evenodd&quot;, &quot;lineCap&quot;: &quot;round&quot;, &quot;lineJoin&quot;: &quot;round&quot;, &quot;opacity&quot;: 1, &quot;radius&quot;: 6, &quot;stroke&quot;: false, &quot;weight&quot;: 3}\n",
       "            ).addTo(map_65086584e849e701b7a03696943cbf61);\n",
       "        \n",
       "    \n",
       "            var circle_marker_330924b0d6079c5feb0929c622d4fc0b = L.circleMarker(\n",
       "                [-34.62025108, -58.49021952],\n",
       "                {&quot;bubblingMouseEvents&quot;: true, &quot;color&quot;: &quot;cornflowerblue&quot;, &quot;dashArray&quot;: null, &quot;dashOffset&quot;: null, &quot;fill&quot;: true, &quot;fillColor&quot;: &quot;cornflowerblue&quot;, &quot;fillOpacity&quot;: 0.6, &quot;fillRule&quot;: &quot;evenodd&quot;, &quot;lineCap&quot;: &quot;round&quot;, &quot;lineJoin&quot;: &quot;round&quot;, &quot;opacity&quot;: 1, &quot;radius&quot;: 6, &quot;stroke&quot;: false, &quot;weight&quot;: 3}\n",
       "            ).addTo(map_65086584e849e701b7a03696943cbf61);\n",
       "        \n",
       "    \n",
       "            var circle_marker_ba6364712290a85f2014f91fb3fa53bf = L.circleMarker(\n",
       "                [-34.62036547, -58.41635217],\n",
       "                {&quot;bubblingMouseEvents&quot;: true, &quot;color&quot;: &quot;cornflowerblue&quot;, &quot;dashArray&quot;: null, &quot;dashOffset&quot;: null, &quot;fill&quot;: true, &quot;fillColor&quot;: &quot;cornflowerblue&quot;, &quot;fillOpacity&quot;: 0.6, &quot;fillRule&quot;: &quot;evenodd&quot;, &quot;lineCap&quot;: &quot;round&quot;, &quot;lineJoin&quot;: &quot;round&quot;, &quot;opacity&quot;: 1, &quot;radius&quot;: 6, &quot;stroke&quot;: false, &quot;weight&quot;: 3}\n",
       "            ).addTo(map_65086584e849e701b7a03696943cbf61);\n",
       "        \n",
       "    \n",
       "            var circle_marker_5fff36ed72a3a06c90e2b253ecc859e2 = L.circleMarker(\n",
       "                [-34.62038137, -58.45322169],\n",
       "                {&quot;bubblingMouseEvents&quot;: true, &quot;color&quot;: &quot;cornflowerblue&quot;, &quot;dashArray&quot;: null, &quot;dashOffset&quot;: null, &quot;fill&quot;: true, &quot;fillColor&quot;: &quot;cornflowerblue&quot;, &quot;fillOpacity&quot;: 0.6, &quot;fillRule&quot;: &quot;evenodd&quot;, &quot;lineCap&quot;: &quot;round&quot;, &quot;lineJoin&quot;: &quot;round&quot;, &quot;opacity&quot;: 1, &quot;radius&quot;: 6, &quot;stroke&quot;: false, &quot;weight&quot;: 3}\n",
       "            ).addTo(map_65086584e849e701b7a03696943cbf61);\n",
       "        \n",
       "    \n",
       "            var circle_marker_3c4426fbc1f73d0ba541780202a23c52 = L.circleMarker(\n",
       "                [-34.62049672, -58.47418944],\n",
       "                {&quot;bubblingMouseEvents&quot;: true, &quot;color&quot;: &quot;cornflowerblue&quot;, &quot;dashArray&quot;: null, &quot;dashOffset&quot;: null, &quot;fill&quot;: true, &quot;fillColor&quot;: &quot;cornflowerblue&quot;, &quot;fillOpacity&quot;: 0.6, &quot;fillRule&quot;: &quot;evenodd&quot;, &quot;lineCap&quot;: &quot;round&quot;, &quot;lineJoin&quot;: &quot;round&quot;, &quot;opacity&quot;: 1, &quot;radius&quot;: 6, &quot;stroke&quot;: false, &quot;weight&quot;: 3}\n",
       "            ).addTo(map_65086584e849e701b7a03696943cbf61);\n",
       "        \n",
       "    \n",
       "            var circle_marker_8b6f8e0fe94df654733c08463949be14 = L.circleMarker(\n",
       "                [-34.62073702, -58.50751833],\n",
       "                {&quot;bubblingMouseEvents&quot;: true, &quot;color&quot;: &quot;cornflowerblue&quot;, &quot;dashArray&quot;: null, &quot;dashOffset&quot;: null, &quot;fill&quot;: true, &quot;fillColor&quot;: &quot;cornflowerblue&quot;, &quot;fillOpacity&quot;: 0.6, &quot;fillRule&quot;: &quot;evenodd&quot;, &quot;lineCap&quot;: &quot;round&quot;, &quot;lineJoin&quot;: &quot;round&quot;, &quot;opacity&quot;: 1, &quot;radius&quot;: 6, &quot;stroke&quot;: false, &quot;weight&quot;: 3}\n",
       "            ).addTo(map_65086584e849e701b7a03696943cbf61);\n",
       "        \n",
       "    \n",
       "            var circle_marker_750d029a2b05e1f8b76388ba703ababd = L.circleMarker(\n",
       "                [-34.67323292, -58.45966521],\n",
       "                {&quot;bubblingMouseEvents&quot;: true, &quot;color&quot;: &quot;cornflowerblue&quot;, &quot;dashArray&quot;: null, &quot;dashOffset&quot;: null, &quot;fill&quot;: true, &quot;fillColor&quot;: &quot;cornflowerblue&quot;, &quot;fillOpacity&quot;: 0.6, &quot;fillRule&quot;: &quot;evenodd&quot;, &quot;lineCap&quot;: &quot;round&quot;, &quot;lineJoin&quot;: &quot;round&quot;, &quot;opacity&quot;: 1, &quot;radius&quot;: 6, &quot;stroke&quot;: false, &quot;weight&quot;: 3}\n",
       "            ).addTo(map_65086584e849e701b7a03696943cbf61);\n",
       "        \n",
       "    \n",
       "            var circle_marker_a160c5612c683a6a7e48e72ab0f08e61 = L.circleMarker(\n",
       "                [-34.62085945, -58.41509546],\n",
       "                {&quot;bubblingMouseEvents&quot;: true, &quot;color&quot;: &quot;cornflowerblue&quot;, &quot;dashArray&quot;: null, &quot;dashOffset&quot;: null, &quot;fill&quot;: true, &quot;fillColor&quot;: &quot;cornflowerblue&quot;, &quot;fillOpacity&quot;: 0.6, &quot;fillRule&quot;: &quot;evenodd&quot;, &quot;lineCap&quot;: &quot;round&quot;, &quot;lineJoin&quot;: &quot;round&quot;, &quot;opacity&quot;: 1, &quot;radius&quot;: 6, &quot;stroke&quot;: false, &quot;weight&quot;: 3}\n",
       "            ).addTo(map_65086584e849e701b7a03696943cbf61);\n",
       "        \n",
       "    \n",
       "            var circle_marker_2b77904ee054883fb98e0c64f82a3ab0 = L.circleMarker(\n",
       "                [-34.62113271, -58.40280471],\n",
       "                {&quot;bubblingMouseEvents&quot;: true, &quot;color&quot;: &quot;cornflowerblue&quot;, &quot;dashArray&quot;: null, &quot;dashOffset&quot;: null, &quot;fill&quot;: true, &quot;fillColor&quot;: &quot;cornflowerblue&quot;, &quot;fillOpacity&quot;: 0.6, &quot;fillRule&quot;: &quot;evenodd&quot;, &quot;lineCap&quot;: &quot;round&quot;, &quot;lineJoin&quot;: &quot;round&quot;, &quot;opacity&quot;: 1, &quot;radius&quot;: 6, &quot;stroke&quot;: false, &quot;weight&quot;: 3}\n",
       "            ).addTo(map_65086584e849e701b7a03696943cbf61);\n",
       "        \n",
       "    \n",
       "            var circle_marker_2227c0529985b1b63a23695bd89d07cf = L.circleMarker(\n",
       "                [-34.67316502, -58.50011639],\n",
       "                {&quot;bubblingMouseEvents&quot;: true, &quot;color&quot;: &quot;cornflowerblue&quot;, &quot;dashArray&quot;: null, &quot;dashOffset&quot;: null, &quot;fill&quot;: true, &quot;fillColor&quot;: &quot;cornflowerblue&quot;, &quot;fillOpacity&quot;: 0.6, &quot;fillRule&quot;: &quot;evenodd&quot;, &quot;lineCap&quot;: &quot;round&quot;, &quot;lineJoin&quot;: &quot;round&quot;, &quot;opacity&quot;: 1, &quot;radius&quot;: 6, &quot;stroke&quot;: false, &quot;weight&quot;: 3}\n",
       "            ).addTo(map_65086584e849e701b7a03696943cbf61);\n",
       "        \n",
       "    \n",
       "            var circle_marker_9b7b94be8e2abf3aa32d5b5c9c2d569d = L.circleMarker(\n",
       "                [-34.67233407, -58.47743966],\n",
       "                {&quot;bubblingMouseEvents&quot;: true, &quot;color&quot;: &quot;cornflowerblue&quot;, &quot;dashArray&quot;: null, &quot;dashOffset&quot;: null, &quot;fill&quot;: true, &quot;fillColor&quot;: &quot;cornflowerblue&quot;, &quot;fillOpacity&quot;: 0.6, &quot;fillRule&quot;: &quot;evenodd&quot;, &quot;lineCap&quot;: &quot;round&quot;, &quot;lineJoin&quot;: &quot;round&quot;, &quot;opacity&quot;: 1, &quot;radius&quot;: 6, &quot;stroke&quot;: false, &quot;weight&quot;: 3}\n",
       "            ).addTo(map_65086584e849e701b7a03696943cbf61);\n",
       "        \n",
       "    \n",
       "            var circle_marker_9fbd0c1998fa79f320f512ab6e4f5139 = L.circleMarker(\n",
       "                [-34.62140594, -58.47633683],\n",
       "                {&quot;bubblingMouseEvents&quot;: true, &quot;color&quot;: &quot;cornflowerblue&quot;, &quot;dashArray&quot;: null, &quot;dashOffset&quot;: null, &quot;fill&quot;: true, &quot;fillColor&quot;: &quot;cornflowerblue&quot;, &quot;fillOpacity&quot;: 0.6, &quot;fillRule&quot;: &quot;evenodd&quot;, &quot;lineCap&quot;: &quot;round&quot;, &quot;lineJoin&quot;: &quot;round&quot;, &quot;opacity&quot;: 1, &quot;radius&quot;: 6, &quot;stroke&quot;: false, &quot;weight&quot;: 3}\n",
       "            ).addTo(map_65086584e849e701b7a03696943cbf61);\n",
       "        \n",
       "    \n",
       "            var circle_marker_dde26861e0209bf2c3771ebc0ed5714a = L.circleMarker(\n",
       "                [-34.62147504, -58.4368044],\n",
       "                {&quot;bubblingMouseEvents&quot;: true, &quot;color&quot;: &quot;cornflowerblue&quot;, &quot;dashArray&quot;: null, &quot;dashOffset&quot;: null, &quot;fill&quot;: true, &quot;fillColor&quot;: &quot;cornflowerblue&quot;, &quot;fillOpacity&quot;: 0.6, &quot;fillRule&quot;: &quot;evenodd&quot;, &quot;lineCap&quot;: &quot;round&quot;, &quot;lineJoin&quot;: &quot;round&quot;, &quot;opacity&quot;: 1, &quot;radius&quot;: 6, &quot;stroke&quot;: false, &quot;weight&quot;: 3}\n",
       "            ).addTo(map_65086584e849e701b7a03696943cbf61);\n",
       "        \n",
       "    \n",
       "            var circle_marker_ec1c3db19393144d07307475625f9ce9 = L.circleMarker(\n",
       "                [-34.67216349, -58.46855503],\n",
       "                {&quot;bubblingMouseEvents&quot;: true, &quot;color&quot;: &quot;cornflowerblue&quot;, &quot;dashArray&quot;: null, &quot;dashOffset&quot;: null, &quot;fill&quot;: true, &quot;fillColor&quot;: &quot;cornflowerblue&quot;, &quot;fillOpacity&quot;: 0.6, &quot;fillRule&quot;: &quot;evenodd&quot;, &quot;lineCap&quot;: &quot;round&quot;, &quot;lineJoin&quot;: &quot;round&quot;, &quot;opacity&quot;: 1, &quot;radius&quot;: 6, &quot;stroke&quot;: false, &quot;weight&quot;: 3}\n",
       "            ).addTo(map_65086584e849e701b7a03696943cbf61);\n",
       "        \n",
       "    \n",
       "            var circle_marker_280227d47ba8295040d1f86545d45107 = L.circleMarker(\n",
       "                [-34.62694503, -58.37936704],\n",
       "                {&quot;bubblingMouseEvents&quot;: true, &quot;color&quot;: &quot;cornflowerblue&quot;, &quot;dashArray&quot;: null, &quot;dashOffset&quot;: null, &quot;fill&quot;: true, &quot;fillColor&quot;: &quot;cornflowerblue&quot;, &quot;fillOpacity&quot;: 0.6, &quot;fillRule&quot;: &quot;evenodd&quot;, &quot;lineCap&quot;: &quot;round&quot;, &quot;lineJoin&quot;: &quot;round&quot;, &quot;opacity&quot;: 1, &quot;radius&quot;: 6, &quot;stroke&quot;: false, &quot;weight&quot;: 3}\n",
       "            ).addTo(map_65086584e849e701b7a03696943cbf61);\n",
       "        \n",
       "    \n",
       "            var circle_marker_033eb5dfa6383c73e98382b913d71617 = L.circleMarker(\n",
       "                [-34.6269973, -58.42675754],\n",
       "                {&quot;bubblingMouseEvents&quot;: true, &quot;color&quot;: &quot;cornflowerblue&quot;, &quot;dashArray&quot;: null, &quot;dashOffset&quot;: null, &quot;fill&quot;: true, &quot;fillColor&quot;: &quot;cornflowerblue&quot;, &quot;fillOpacity&quot;: 0.6, &quot;fillRule&quot;: &quot;evenodd&quot;, &quot;lineCap&quot;: &quot;round&quot;, &quot;lineJoin&quot;: &quot;round&quot;, &quot;opacity&quot;: 1, &quot;radius&quot;: 6, &quot;stroke&quot;: false, &quot;weight&quot;: 3}\n",
       "            ).addTo(map_65086584e849e701b7a03696943cbf61);\n",
       "        \n",
       "    \n",
       "            var circle_marker_dd8cae2228b8f1a76e2e30ec831f7ede = L.circleMarker(\n",
       "                [-34.66777987, -58.4423972],\n",
       "                {&quot;bubblingMouseEvents&quot;: true, &quot;color&quot;: &quot;cornflowerblue&quot;, &quot;dashArray&quot;: null, &quot;dashOffset&quot;: null, &quot;fill&quot;: true, &quot;fillColor&quot;: &quot;cornflowerblue&quot;, &quot;fillOpacity&quot;: 0.6, &quot;fillRule&quot;: &quot;evenodd&quot;, &quot;lineCap&quot;: &quot;round&quot;, &quot;lineJoin&quot;: &quot;round&quot;, &quot;opacity&quot;: 1, &quot;radius&quot;: 6, &quot;stroke&quot;: false, &quot;weight&quot;: 3}\n",
       "            ).addTo(map_65086584e849e701b7a03696943cbf61);\n",
       "        \n",
       "    \n",
       "            var circle_marker_2c16f510e5c24e7b494c11875fddf713 = L.circleMarker(\n",
       "                [-34.62973033, -58.37724226],\n",
       "                {&quot;bubblingMouseEvents&quot;: true, &quot;color&quot;: &quot;cornflowerblue&quot;, &quot;dashArray&quot;: null, &quot;dashOffset&quot;: null, &quot;fill&quot;: true, &quot;fillColor&quot;: &quot;cornflowerblue&quot;, &quot;fillOpacity&quot;: 0.6, &quot;fillRule&quot;: &quot;evenodd&quot;, &quot;lineCap&quot;: &quot;round&quot;, &quot;lineJoin&quot;: &quot;round&quot;, &quot;opacity&quot;: 1, &quot;radius&quot;: 6, &quot;stroke&quot;: false, &quot;weight&quot;: 3}\n",
       "            ).addTo(map_65086584e849e701b7a03696943cbf61);\n",
       "        \n",
       "    \n",
       "            var circle_marker_9fb4de19030027675ef48301040636e1 = L.circleMarker(\n",
       "                [-34.62981124, -58.48493828],\n",
       "                {&quot;bubblingMouseEvents&quot;: true, &quot;color&quot;: &quot;cornflowerblue&quot;, &quot;dashArray&quot;: null, &quot;dashOffset&quot;: null, &quot;fill&quot;: true, &quot;fillColor&quot;: &quot;cornflowerblue&quot;, &quot;fillOpacity&quot;: 0.6, &quot;fillRule&quot;: &quot;evenodd&quot;, &quot;lineCap&quot;: &quot;round&quot;, &quot;lineJoin&quot;: &quot;round&quot;, &quot;opacity&quot;: 1, &quot;radius&quot;: 6, &quot;stroke&quot;: false, &quot;weight&quot;: 3}\n",
       "            ).addTo(map_65086584e849e701b7a03696943cbf61);\n",
       "        \n",
       "    \n",
       "            var circle_marker_2a7b7dcca224bcbaaa71d091bc4ebda1 = L.circleMarker(\n",
       "                [-34.63023775, -58.41644362],\n",
       "                {&quot;bubblingMouseEvents&quot;: true, &quot;color&quot;: &quot;cornflowerblue&quot;, &quot;dashArray&quot;: null, &quot;dashOffset&quot;: null, &quot;fill&quot;: true, &quot;fillColor&quot;: &quot;cornflowerblue&quot;, &quot;fillOpacity&quot;: 0.6, &quot;fillRule&quot;: &quot;evenodd&quot;, &quot;lineCap&quot;: &quot;round&quot;, &quot;lineJoin&quot;: &quot;round&quot;, &quot;opacity&quot;: 1, &quot;radius&quot;: 6, &quot;stroke&quot;: false, &quot;weight&quot;: 3}\n",
       "            ).addTo(map_65086584e849e701b7a03696943cbf61);\n",
       "        \n",
       "    \n",
       "            var circle_marker_78cf010a0a184238ded9c10f800f63d3 = L.circleMarker(\n",
       "                [-34.63035454, -58.41178165],\n",
       "                {&quot;bubblingMouseEvents&quot;: true, &quot;color&quot;: &quot;cornflowerblue&quot;, &quot;dashArray&quot;: null, &quot;dashOffset&quot;: null, &quot;fill&quot;: true, &quot;fillColor&quot;: &quot;cornflowerblue&quot;, &quot;fillOpacity&quot;: 0.6, &quot;fillRule&quot;: &quot;evenodd&quot;, &quot;lineCap&quot;: &quot;round&quot;, &quot;lineJoin&quot;: &quot;round&quot;, &quot;opacity&quot;: 1, &quot;radius&quot;: 6, &quot;stroke&quot;: false, &quot;weight&quot;: 3}\n",
       "            ).addTo(map_65086584e849e701b7a03696943cbf61);\n",
       "        \n",
       "    \n",
       "            var circle_marker_a0dae9fff378e1c9e982db5a80c82263 = L.circleMarker(\n",
       "                [-34.66437532, -58.43580656],\n",
       "                {&quot;bubblingMouseEvents&quot;: true, &quot;color&quot;: &quot;cornflowerblue&quot;, &quot;dashArray&quot;: null, &quot;dashOffset&quot;: null, &quot;fill&quot;: true, &quot;fillColor&quot;: &quot;cornflowerblue&quot;, &quot;fillOpacity&quot;: 0.6, &quot;fillRule&quot;: &quot;evenodd&quot;, &quot;lineCap&quot;: &quot;round&quot;, &quot;lineJoin&quot;: &quot;round&quot;, &quot;opacity&quot;: 1, &quot;radius&quot;: 6, &quot;stroke&quot;: false, &quot;weight&quot;: 3}\n",
       "            ).addTo(map_65086584e849e701b7a03696943cbf61);\n",
       "        \n",
       "    \n",
       "            var circle_marker_1b203552c846af54ffdbf91f04272aa1 = L.circleMarker(\n",
       "                [-34.63038658, -58.49807953],\n",
       "                {&quot;bubblingMouseEvents&quot;: true, &quot;color&quot;: &quot;cornflowerblue&quot;, &quot;dashArray&quot;: null, &quot;dashOffset&quot;: null, &quot;fill&quot;: true, &quot;fillColor&quot;: &quot;cornflowerblue&quot;, &quot;fillOpacity&quot;: 0.6, &quot;fillRule&quot;: &quot;evenodd&quot;, &quot;lineCap&quot;: &quot;round&quot;, &quot;lineJoin&quot;: &quot;round&quot;, &quot;opacity&quot;: 1, &quot;radius&quot;: 6, &quot;stroke&quot;: false, &quot;weight&quot;: 3}\n",
       "            ).addTo(map_65086584e849e701b7a03696943cbf61);\n",
       "        \n",
       "    \n",
       "            var circle_marker_7f17c9a733815f825a823dc1e45505d9 = L.circleMarker(\n",
       "                [-34.6305389, -58.41914024],\n",
       "                {&quot;bubblingMouseEvents&quot;: true, &quot;color&quot;: &quot;cornflowerblue&quot;, &quot;dashArray&quot;: null, &quot;dashOffset&quot;: null, &quot;fill&quot;: true, &quot;fillColor&quot;: &quot;cornflowerblue&quot;, &quot;fillOpacity&quot;: 0.6, &quot;fillRule&quot;: &quot;evenodd&quot;, &quot;lineCap&quot;: &quot;round&quot;, &quot;lineJoin&quot;: &quot;round&quot;, &quot;opacity&quot;: 1, &quot;radius&quot;: 6, &quot;stroke&quot;: false, &quot;weight&quot;: 3}\n",
       "            ).addTo(map_65086584e849e701b7a03696943cbf61);\n",
       "        \n",
       "    \n",
       "            var circle_marker_7208cb61dd5a4e1794588d96487f4479 = L.circleMarker(\n",
       "                [-34.63063795, -58.45157703],\n",
       "                {&quot;bubblingMouseEvents&quot;: true, &quot;color&quot;: &quot;cornflowerblue&quot;, &quot;dashArray&quot;: null, &quot;dashOffset&quot;: null, &quot;fill&quot;: true, &quot;fillColor&quot;: &quot;cornflowerblue&quot;, &quot;fillOpacity&quot;: 0.6, &quot;fillRule&quot;: &quot;evenodd&quot;, &quot;lineCap&quot;: &quot;round&quot;, &quot;lineJoin&quot;: &quot;round&quot;, &quot;opacity&quot;: 1, &quot;radius&quot;: 6, &quot;stroke&quot;: false, &quot;weight&quot;: 3}\n",
       "            ).addTo(map_65086584e849e701b7a03696943cbf61);\n",
       "        \n",
       "    \n",
       "            var circle_marker_66a54b7f28454cab77efb5673c77934a = L.circleMarker(\n",
       "                [-34.66292532, -58.43613623],\n",
       "                {&quot;bubblingMouseEvents&quot;: true, &quot;color&quot;: &quot;cornflowerblue&quot;, &quot;dashArray&quot;: null, &quot;dashOffset&quot;: null, &quot;fill&quot;: true, &quot;fillColor&quot;: &quot;cornflowerblue&quot;, &quot;fillOpacity&quot;: 0.6, &quot;fillRule&quot;: &quot;evenodd&quot;, &quot;lineCap&quot;: &quot;round&quot;, &quot;lineJoin&quot;: &quot;round&quot;, &quot;opacity&quot;: 1, &quot;radius&quot;: 6, &quot;stroke&quot;: false, &quot;weight&quot;: 3}\n",
       "            ).addTo(map_65086584e849e701b7a03696943cbf61);\n",
       "        \n",
       "    \n",
       "            var circle_marker_90d6fcbbd18c85ebb3895e211ef9b45e = L.circleMarker(\n",
       "                [-34.63089661, -58.42182126],\n",
       "                {&quot;bubblingMouseEvents&quot;: true, &quot;color&quot;: &quot;cornflowerblue&quot;, &quot;dashArray&quot;: null, &quot;dashOffset&quot;: null, &quot;fill&quot;: true, &quot;fillColor&quot;: &quot;cornflowerblue&quot;, &quot;fillOpacity&quot;: 0.6, &quot;fillRule&quot;: &quot;evenodd&quot;, &quot;lineCap&quot;: &quot;round&quot;, &quot;lineJoin&quot;: &quot;round&quot;, &quot;opacity&quot;: 1, &quot;radius&quot;: 6, &quot;stroke&quot;: false, &quot;weight&quot;: 3}\n",
       "            ).addTo(map_65086584e849e701b7a03696943cbf61);\n",
       "        \n",
       "    \n",
       "            var circle_marker_1c858c6a2c0240e38148fc5c832edb4f = L.circleMarker(\n",
       "                [-34.63099197, -58.3841088],\n",
       "                {&quot;bubblingMouseEvents&quot;: true, &quot;color&quot;: &quot;cornflowerblue&quot;, &quot;dashArray&quot;: null, &quot;dashOffset&quot;: null, &quot;fill&quot;: true, &quot;fillColor&quot;: &quot;cornflowerblue&quot;, &quot;fillOpacity&quot;: 0.6, &quot;fillRule&quot;: &quot;evenodd&quot;, &quot;lineCap&quot;: &quot;round&quot;, &quot;lineJoin&quot;: &quot;round&quot;, &quot;opacity&quot;: 1, &quot;radius&quot;: 6, &quot;stroke&quot;: false, &quot;weight&quot;: 3}\n",
       "            ).addTo(map_65086584e849e701b7a03696943cbf61);\n",
       "        \n",
       "    \n",
       "            var circle_marker_183f22e28c987f2301223a56229b9d0a = L.circleMarker(\n",
       "                [-34.63105973, -58.38691681],\n",
       "                {&quot;bubblingMouseEvents&quot;: true, &quot;color&quot;: &quot;cornflowerblue&quot;, &quot;dashArray&quot;: null, &quot;dashOffset&quot;: null, &quot;fill&quot;: true, &quot;fillColor&quot;: &quot;cornflowerblue&quot;, &quot;fillOpacity&quot;: 0.6, &quot;fillRule&quot;: &quot;evenodd&quot;, &quot;lineCap&quot;: &quot;round&quot;, &quot;lineJoin&quot;: &quot;round&quot;, &quot;opacity&quot;: 1, &quot;radius&quot;: 6, &quot;stroke&quot;: false, &quot;weight&quot;: 3}\n",
       "            ).addTo(map_65086584e849e701b7a03696943cbf61);\n",
       "        \n",
       "    \n",
       "            var circle_marker_b27c3a07e5dfc75d9bcc6d72f6fdf59e = L.circleMarker(\n",
       "                [-34.63107887, -58.36244648],\n",
       "                {&quot;bubblingMouseEvents&quot;: true, &quot;color&quot;: &quot;cornflowerblue&quot;, &quot;dashArray&quot;: null, &quot;dashOffset&quot;: null, &quot;fill&quot;: true, &quot;fillColor&quot;: &quot;cornflowerblue&quot;, &quot;fillOpacity&quot;: 0.6, &quot;fillRule&quot;: &quot;evenodd&quot;, &quot;lineCap&quot;: &quot;round&quot;, &quot;lineJoin&quot;: &quot;round&quot;, &quot;opacity&quot;: 1, &quot;radius&quot;: 6, &quot;stroke&quot;: false, &quot;weight&quot;: 3}\n",
       "            ).addTo(map_65086584e849e701b7a03696943cbf61);\n",
       "        \n",
       "    \n",
       "            var circle_marker_e10917a44889d6552101cc6503705401 = L.circleMarker(\n",
       "                [-34.63132912, -58.45715752],\n",
       "                {&quot;bubblingMouseEvents&quot;: true, &quot;color&quot;: &quot;cornflowerblue&quot;, &quot;dashArray&quot;: null, &quot;dashOffset&quot;: null, &quot;fill&quot;: true, &quot;fillColor&quot;: &quot;cornflowerblue&quot;, &quot;fillOpacity&quot;: 0.6, &quot;fillRule&quot;: &quot;evenodd&quot;, &quot;lineCap&quot;: &quot;round&quot;, &quot;lineJoin&quot;: &quot;round&quot;, &quot;opacity&quot;: 1, &quot;radius&quot;: 6, &quot;stroke&quot;: false, &quot;weight&quot;: 3}\n",
       "            ).addTo(map_65086584e849e701b7a03696943cbf61);\n",
       "        \n",
       "    \n",
       "            var circle_marker_297bc2f00692eaaa95790d7029d5cb6e = L.circleMarker(\n",
       "                [-34.63150425, -58.37261143],\n",
       "                {&quot;bubblingMouseEvents&quot;: true, &quot;color&quot;: &quot;cornflowerblue&quot;, &quot;dashArray&quot;: null, &quot;dashOffset&quot;: null, &quot;fill&quot;: true, &quot;fillColor&quot;: &quot;cornflowerblue&quot;, &quot;fillOpacity&quot;: 0.6, &quot;fillRule&quot;: &quot;evenodd&quot;, &quot;lineCap&quot;: &quot;round&quot;, &quot;lineJoin&quot;: &quot;round&quot;, &quot;opacity&quot;: 1, &quot;radius&quot;: 6, &quot;stroke&quot;: false, &quot;weight&quot;: 3}\n",
       "            ).addTo(map_65086584e849e701b7a03696943cbf61);\n",
       "        \n",
       "    \n",
       "            var circle_marker_907034dc06b3800259aecc409f5263f6 = L.circleMarker(\n",
       "                [-34.63168269, -58.38262614],\n",
       "                {&quot;bubblingMouseEvents&quot;: true, &quot;color&quot;: &quot;cornflowerblue&quot;, &quot;dashArray&quot;: null, &quot;dashOffset&quot;: null, &quot;fill&quot;: true, &quot;fillColor&quot;: &quot;cornflowerblue&quot;, &quot;fillOpacity&quot;: 0.6, &quot;fillRule&quot;: &quot;evenodd&quot;, &quot;lineCap&quot;: &quot;round&quot;, &quot;lineJoin&quot;: &quot;round&quot;, &quot;opacity&quot;: 1, &quot;radius&quot;: 6, &quot;stroke&quot;: false, &quot;weight&quot;: 3}\n",
       "            ).addTo(map_65086584e849e701b7a03696943cbf61);\n",
       "        \n",
       "    \n",
       "            var circle_marker_72ee2cbf5c042f0f5032ecbe199394e3 = L.circleMarker(\n",
       "                [-34.63174259, -58.41918902],\n",
       "                {&quot;bubblingMouseEvents&quot;: true, &quot;color&quot;: &quot;cornflowerblue&quot;, &quot;dashArray&quot;: null, &quot;dashOffset&quot;: null, &quot;fill&quot;: true, &quot;fillColor&quot;: &quot;cornflowerblue&quot;, &quot;fillOpacity&quot;: 0.6, &quot;fillRule&quot;: &quot;evenodd&quot;, &quot;lineCap&quot;: &quot;round&quot;, &quot;lineJoin&quot;: &quot;round&quot;, &quot;opacity&quot;: 1, &quot;radius&quot;: 6, &quot;stroke&quot;: false, &quot;weight&quot;: 3}\n",
       "            ).addTo(map_65086584e849e701b7a03696943cbf61);\n",
       "        \n",
       "    \n",
       "            var circle_marker_2b26577ea8169c3ca9bbc4a7dfd3c1f6 = L.circleMarker(\n",
       "                [-34.63189362, -58.39040293],\n",
       "                {&quot;bubblingMouseEvents&quot;: true, &quot;color&quot;: &quot;cornflowerblue&quot;, &quot;dashArray&quot;: null, &quot;dashOffset&quot;: null, &quot;fill&quot;: true, &quot;fillColor&quot;: &quot;cornflowerblue&quot;, &quot;fillOpacity&quot;: 0.6, &quot;fillRule&quot;: &quot;evenodd&quot;, &quot;lineCap&quot;: &quot;round&quot;, &quot;lineJoin&quot;: &quot;round&quot;, &quot;opacity&quot;: 1, &quot;radius&quot;: 6, &quot;stroke&quot;: false, &quot;weight&quot;: 3}\n",
       "            ).addTo(map_65086584e849e701b7a03696943cbf61);\n",
       "        \n",
       "    \n",
       "            var circle_marker_8f2736bf688e4a9650b99aa15c55a7cc = L.circleMarker(\n",
       "                [-34.6319325, -58.38332245],\n",
       "                {&quot;bubblingMouseEvents&quot;: true, &quot;color&quot;: &quot;cornflowerblue&quot;, &quot;dashArray&quot;: null, &quot;dashOffset&quot;: null, &quot;fill&quot;: true, &quot;fillColor&quot;: &quot;cornflowerblue&quot;, &quot;fillOpacity&quot;: 0.6, &quot;fillRule&quot;: &quot;evenodd&quot;, &quot;lineCap&quot;: &quot;round&quot;, &quot;lineJoin&quot;: &quot;round&quot;, &quot;opacity&quot;: 1, &quot;radius&quot;: 6, &quot;stroke&quot;: false, &quot;weight&quot;: 3}\n",
       "            ).addTo(map_65086584e849e701b7a03696943cbf61);\n",
       "        \n",
       "    \n",
       "            var circle_marker_82608b96650b7a7a89832dece36805fd = L.circleMarker(\n",
       "                [-34.63206174, -58.47460416],\n",
       "                {&quot;bubblingMouseEvents&quot;: true, &quot;color&quot;: &quot;cornflowerblue&quot;, &quot;dashArray&quot;: null, &quot;dashOffset&quot;: null, &quot;fill&quot;: true, &quot;fillColor&quot;: &quot;cornflowerblue&quot;, &quot;fillOpacity&quot;: 0.6, &quot;fillRule&quot;: &quot;evenodd&quot;, &quot;lineCap&quot;: &quot;round&quot;, &quot;lineJoin&quot;: &quot;round&quot;, &quot;opacity&quot;: 1, &quot;radius&quot;: 6, &quot;stroke&quot;: false, &quot;weight&quot;: 3}\n",
       "            ).addTo(map_65086584e849e701b7a03696943cbf61);\n",
       "        \n",
       "    \n",
       "            var circle_marker_359ea0bb2ff6e13a8c83ea5c86e5088c = L.circleMarker(\n",
       "                [-34.63215432, -58.46899119],\n",
       "                {&quot;bubblingMouseEvents&quot;: true, &quot;color&quot;: &quot;cornflowerblue&quot;, &quot;dashArray&quot;: null, &quot;dashOffset&quot;: null, &quot;fill&quot;: true, &quot;fillColor&quot;: &quot;cornflowerblue&quot;, &quot;fillOpacity&quot;: 0.6, &quot;fillRule&quot;: &quot;evenodd&quot;, &quot;lineCap&quot;: &quot;round&quot;, &quot;lineJoin&quot;: &quot;round&quot;, &quot;opacity&quot;: 1, &quot;radius&quot;: 6, &quot;stroke&quot;: false, &quot;weight&quot;: 3}\n",
       "            ).addTo(map_65086584e849e701b7a03696943cbf61);\n",
       "        \n",
       "    \n",
       "            var circle_marker_90047b3d1961cd53e001a4e7d5e2e4e1 = L.circleMarker(\n",
       "                [-34.63217813, -58.43706741],\n",
       "                {&quot;bubblingMouseEvents&quot;: true, &quot;color&quot;: &quot;cornflowerblue&quot;, &quot;dashArray&quot;: null, &quot;dashOffset&quot;: null, &quot;fill&quot;: true, &quot;fillColor&quot;: &quot;cornflowerblue&quot;, &quot;fillOpacity&quot;: 0.6, &quot;fillRule&quot;: &quot;evenodd&quot;, &quot;lineCap&quot;: &quot;round&quot;, &quot;lineJoin&quot;: &quot;round&quot;, &quot;opacity&quot;: 1, &quot;radius&quot;: 6, &quot;stroke&quot;: false, &quot;weight&quot;: 3}\n",
       "            ).addTo(map_65086584e849e701b7a03696943cbf61);\n",
       "        \n",
       "    \n",
       "            var circle_marker_c5c2faf92b6b91a3365b14c83d881853 = L.circleMarker(\n",
       "                [-34.63330028, -58.38641783],\n",
       "                {&quot;bubblingMouseEvents&quot;: true, &quot;color&quot;: &quot;cornflowerblue&quot;, &quot;dashArray&quot;: null, &quot;dashOffset&quot;: null, &quot;fill&quot;: true, &quot;fillColor&quot;: &quot;cornflowerblue&quot;, &quot;fillOpacity&quot;: 0.6, &quot;fillRule&quot;: &quot;evenodd&quot;, &quot;lineCap&quot;: &quot;round&quot;, &quot;lineJoin&quot;: &quot;round&quot;, &quot;opacity&quot;: 1, &quot;radius&quot;: 6, &quot;stroke&quot;: false, &quot;weight&quot;: 3}\n",
       "            ).addTo(map_65086584e849e701b7a03696943cbf61);\n",
       "        \n",
       "    \n",
       "            var circle_marker_fb8f11d166f604894e529fb4a2173401 = L.circleMarker(\n",
       "                [-34.63343907, -58.35975012],\n",
       "                {&quot;bubblingMouseEvents&quot;: true, &quot;color&quot;: &quot;cornflowerblue&quot;, &quot;dashArray&quot;: null, &quot;dashOffset&quot;: null, &quot;fill&quot;: true, &quot;fillColor&quot;: &quot;cornflowerblue&quot;, &quot;fillOpacity&quot;: 0.6, &quot;fillRule&quot;: &quot;evenodd&quot;, &quot;lineCap&quot;: &quot;round&quot;, &quot;lineJoin&quot;: &quot;round&quot;, &quot;opacity&quot;: 1, &quot;radius&quot;: 6, &quot;stroke&quot;: false, &quot;weight&quot;: 3}\n",
       "            ).addTo(map_65086584e849e701b7a03696943cbf61);\n",
       "        \n",
       "    \n",
       "            var circle_marker_2182ad09608044eaac32264523553964 = L.circleMarker(\n",
       "                [-34.63348678, -58.46851293],\n",
       "                {&quot;bubblingMouseEvents&quot;: true, &quot;color&quot;: &quot;cornflowerblue&quot;, &quot;dashArray&quot;: null, &quot;dashOffset&quot;: null, &quot;fill&quot;: true, &quot;fillColor&quot;: &quot;cornflowerblue&quot;, &quot;fillOpacity&quot;: 0.6, &quot;fillRule&quot;: &quot;evenodd&quot;, &quot;lineCap&quot;: &quot;round&quot;, &quot;lineJoin&quot;: &quot;round&quot;, &quot;opacity&quot;: 1, &quot;radius&quot;: 6, &quot;stroke&quot;: false, &quot;weight&quot;: 3}\n",
       "            ).addTo(map_65086584e849e701b7a03696943cbf61);\n",
       "        \n",
       "    \n",
       "            var circle_marker_0a6e0f61b6180b40696f99b747018809 = L.circleMarker(\n",
       "                [-34.66256502, -58.42493829],\n",
       "                {&quot;bubblingMouseEvents&quot;: true, &quot;color&quot;: &quot;cornflowerblue&quot;, &quot;dashArray&quot;: null, &quot;dashOffset&quot;: null, &quot;fill&quot;: true, &quot;fillColor&quot;: &quot;cornflowerblue&quot;, &quot;fillOpacity&quot;: 0.6, &quot;fillRule&quot;: &quot;evenodd&quot;, &quot;lineCap&quot;: &quot;round&quot;, &quot;lineJoin&quot;: &quot;round&quot;, &quot;opacity&quot;: 1, &quot;radius&quot;: 6, &quot;stroke&quot;: false, &quot;weight&quot;: 3}\n",
       "            ).addTo(map_65086584e849e701b7a03696943cbf61);\n",
       "        \n",
       "    \n",
       "            var circle_marker_00915daf71a6efcbaec29a877b3b86d4 = L.circleMarker(\n",
       "                [-34.63356284, -58.38313603],\n",
       "                {&quot;bubblingMouseEvents&quot;: true, &quot;color&quot;: &quot;cornflowerblue&quot;, &quot;dashArray&quot;: null, &quot;dashOffset&quot;: null, &quot;fill&quot;: true, &quot;fillColor&quot;: &quot;cornflowerblue&quot;, &quot;fillOpacity&quot;: 0.6, &quot;fillRule&quot;: &quot;evenodd&quot;, &quot;lineCap&quot;: &quot;round&quot;, &quot;lineJoin&quot;: &quot;round&quot;, &quot;opacity&quot;: 1, &quot;radius&quot;: 6, &quot;stroke&quot;: false, &quot;weight&quot;: 3}\n",
       "            ).addTo(map_65086584e849e701b7a03696943cbf61);\n",
       "        \n",
       "    \n",
       "            var circle_marker_32ba9c83fede0eb9df6dbb2a1981901c = L.circleMarker(\n",
       "                [-34.63376545, -58.46941984],\n",
       "                {&quot;bubblingMouseEvents&quot;: true, &quot;color&quot;: &quot;cornflowerblue&quot;, &quot;dashArray&quot;: null, &quot;dashOffset&quot;: null, &quot;fill&quot;: true, &quot;fillColor&quot;: &quot;cornflowerblue&quot;, &quot;fillOpacity&quot;: 0.6, &quot;fillRule&quot;: &quot;evenodd&quot;, &quot;lineCap&quot;: &quot;round&quot;, &quot;lineJoin&quot;: &quot;round&quot;, &quot;opacity&quot;: 1, &quot;radius&quot;: 6, &quot;stroke&quot;: false, &quot;weight&quot;: 3}\n",
       "            ).addTo(map_65086584e849e701b7a03696943cbf61);\n",
       "        \n",
       "    \n",
       "            var circle_marker_6a15ab9763c6028a3a1ed5434f1560ad = L.circleMarker(\n",
       "                [-34.63382309, -58.52108101],\n",
       "                {&quot;bubblingMouseEvents&quot;: true, &quot;color&quot;: &quot;cornflowerblue&quot;, &quot;dashArray&quot;: null, &quot;dashOffset&quot;: null, &quot;fill&quot;: true, &quot;fillColor&quot;: &quot;cornflowerblue&quot;, &quot;fillOpacity&quot;: 0.6, &quot;fillRule&quot;: &quot;evenodd&quot;, &quot;lineCap&quot;: &quot;round&quot;, &quot;lineJoin&quot;: &quot;round&quot;, &quot;opacity&quot;: 1, &quot;radius&quot;: 6, &quot;stroke&quot;: false, &quot;weight&quot;: 3}\n",
       "            ).addTo(map_65086584e849e701b7a03696943cbf61);\n",
       "        \n",
       "    \n",
       "            var circle_marker_3abc440c64d73a435e4e76c8142be374 = L.circleMarker(\n",
       "                [-34.63395999, -58.51262106],\n",
       "                {&quot;bubblingMouseEvents&quot;: true, &quot;color&quot;: &quot;cornflowerblue&quot;, &quot;dashArray&quot;: null, &quot;dashOffset&quot;: null, &quot;fill&quot;: true, &quot;fillColor&quot;: &quot;cornflowerblue&quot;, &quot;fillOpacity&quot;: 0.6, &quot;fillRule&quot;: &quot;evenodd&quot;, &quot;lineCap&quot;: &quot;round&quot;, &quot;lineJoin&quot;: &quot;round&quot;, &quot;opacity&quot;: 1, &quot;radius&quot;: 6, &quot;stroke&quot;: false, &quot;weight&quot;: 3}\n",
       "            ).addTo(map_65086584e849e701b7a03696943cbf61);\n",
       "        \n",
       "    \n",
       "            var circle_marker_228ac4338c071709693c307acf5564da = L.circleMarker(\n",
       "                [-34.6297708, -58.39956546],\n",
       "                {&quot;bubblingMouseEvents&quot;: true, &quot;color&quot;: &quot;cornflowerblue&quot;, &quot;dashArray&quot;: null, &quot;dashOffset&quot;: null, &quot;fill&quot;: true, &quot;fillColor&quot;: &quot;cornflowerblue&quot;, &quot;fillOpacity&quot;: 0.6, &quot;fillRule&quot;: &quot;evenodd&quot;, &quot;lineCap&quot;: &quot;round&quot;, &quot;lineJoin&quot;: &quot;round&quot;, &quot;opacity&quot;: 1, &quot;radius&quot;: 6, &quot;stroke&quot;: false, &quot;weight&quot;: 3}\n",
       "            ).addTo(map_65086584e849e701b7a03696943cbf61);\n",
       "        \n",
       "    \n",
       "            var circle_marker_06e2d8ceb00788e99da30f040e7e35e7 = L.circleMarker(\n",
       "                [-34.62960517, -58.46064174],\n",
       "                {&quot;bubblingMouseEvents&quot;: true, &quot;color&quot;: &quot;cornflowerblue&quot;, &quot;dashArray&quot;: null, &quot;dashOffset&quot;: null, &quot;fill&quot;: true, &quot;fillColor&quot;: &quot;cornflowerblue&quot;, &quot;fillOpacity&quot;: 0.6, &quot;fillRule&quot;: &quot;evenodd&quot;, &quot;lineCap&quot;: &quot;round&quot;, &quot;lineJoin&quot;: &quot;round&quot;, &quot;opacity&quot;: 1, &quot;radius&quot;: 6, &quot;stroke&quot;: false, &quot;weight&quot;: 3}\n",
       "            ).addTo(map_65086584e849e701b7a03696943cbf61);\n",
       "        \n",
       "    \n",
       "            var circle_marker_00f5170631aa71e839b16ddc79b6ddbb = L.circleMarker(\n",
       "                [-34.62726382, -58.37560352],\n",
       "                {&quot;bubblingMouseEvents&quot;: true, &quot;color&quot;: &quot;cornflowerblue&quot;, &quot;dashArray&quot;: null, &quot;dashOffset&quot;: null, &quot;fill&quot;: true, &quot;fillColor&quot;: &quot;cornflowerblue&quot;, &quot;fillOpacity&quot;: 0.6, &quot;fillRule&quot;: &quot;evenodd&quot;, &quot;lineCap&quot;: &quot;round&quot;, &quot;lineJoin&quot;: &quot;round&quot;, &quot;opacity&quot;: 1, &quot;radius&quot;: 6, &quot;stroke&quot;: false, &quot;weight&quot;: 3}\n",
       "            ).addTo(map_65086584e849e701b7a03696943cbf61);\n",
       "        \n",
       "    \n",
       "            var circle_marker_023e404a2a1873af6cd7a00ec1a0d7a3 = L.circleMarker(\n",
       "                [-34.62955795, -58.46589308],\n",
       "                {&quot;bubblingMouseEvents&quot;: true, &quot;color&quot;: &quot;cornflowerblue&quot;, &quot;dashArray&quot;: null, &quot;dashOffset&quot;: null, &quot;fill&quot;: true, &quot;fillColor&quot;: &quot;cornflowerblue&quot;, &quot;fillOpacity&quot;: 0.6, &quot;fillRule&quot;: &quot;evenodd&quot;, &quot;lineCap&quot;: &quot;round&quot;, &quot;lineJoin&quot;: &quot;round&quot;, &quot;opacity&quot;: 1, &quot;radius&quot;: 6, &quot;stroke&quot;: false, &quot;weight&quot;: 3}\n",
       "            ).addTo(map_65086584e849e701b7a03696943cbf61);\n",
       "        \n",
       "    \n",
       "            var circle_marker_45dccad13e1d38577e248410939be635 = L.circleMarker(\n",
       "                [-34.62728101, -58.38222219],\n",
       "                {&quot;bubblingMouseEvents&quot;: true, &quot;color&quot;: &quot;cornflowerblue&quot;, &quot;dashArray&quot;: null, &quot;dashOffset&quot;: null, &quot;fill&quot;: true, &quot;fillColor&quot;: &quot;cornflowerblue&quot;, &quot;fillOpacity&quot;: 0.6, &quot;fillRule&quot;: &quot;evenodd&quot;, &quot;lineCap&quot;: &quot;round&quot;, &quot;lineJoin&quot;: &quot;round&quot;, &quot;opacity&quot;: 1, &quot;radius&quot;: 6, &quot;stroke&quot;: false, &quot;weight&quot;: 3}\n",
       "            ).addTo(map_65086584e849e701b7a03696943cbf61);\n",
       "        \n",
       "    \n",
       "            var circle_marker_9443c4b9fd84a9959934565b6d832ca3 = L.circleMarker(\n",
       "                [-34.62742408, -58.47110424],\n",
       "                {&quot;bubblingMouseEvents&quot;: true, &quot;color&quot;: &quot;cornflowerblue&quot;, &quot;dashArray&quot;: null, &quot;dashOffset&quot;: null, &quot;fill&quot;: true, &quot;fillColor&quot;: &quot;cornflowerblue&quot;, &quot;fillOpacity&quot;: 0.6, &quot;fillRule&quot;: &quot;evenodd&quot;, &quot;lineCap&quot;: &quot;round&quot;, &quot;lineJoin&quot;: &quot;round&quot;, &quot;opacity&quot;: 1, &quot;radius&quot;: 6, &quot;stroke&quot;: false, &quot;weight&quot;: 3}\n",
       "            ).addTo(map_65086584e849e701b7a03696943cbf61);\n",
       "        \n",
       "    \n",
       "            var circle_marker_61eba98e694928920d6a9ffd977d122f = L.circleMarker(\n",
       "                [-34.66684950051973, -58.47433193007387],\n",
       "                {&quot;bubblingMouseEvents&quot;: true, &quot;color&quot;: &quot;cornflowerblue&quot;, &quot;dashArray&quot;: null, &quot;dashOffset&quot;: null, &quot;fill&quot;: true, &quot;fillColor&quot;: &quot;cornflowerblue&quot;, &quot;fillOpacity&quot;: 0.6, &quot;fillRule&quot;: &quot;evenodd&quot;, &quot;lineCap&quot;: &quot;round&quot;, &quot;lineJoin&quot;: &quot;round&quot;, &quot;opacity&quot;: 1, &quot;radius&quot;: 6, &quot;stroke&quot;: false, &quot;weight&quot;: 3}\n",
       "            ).addTo(map_65086584e849e701b7a03696943cbf61);\n",
       "        \n",
       "    \n",
       "            var circle_marker_e0b3ce7c4205315e07d04b1704485329 = L.circleMarker(\n",
       "                [-34.62763661, -58.36737389],\n",
       "                {&quot;bubblingMouseEvents&quot;: true, &quot;color&quot;: &quot;cornflowerblue&quot;, &quot;dashArray&quot;: null, &quot;dashOffset&quot;: null, &quot;fill&quot;: true, &quot;fillColor&quot;: &quot;cornflowerblue&quot;, &quot;fillOpacity&quot;: 0.6, &quot;fillRule&quot;: &quot;evenodd&quot;, &quot;lineCap&quot;: &quot;round&quot;, &quot;lineJoin&quot;: &quot;round&quot;, &quot;opacity&quot;: 1, &quot;radius&quot;: 6, &quot;stroke&quot;: false, &quot;weight&quot;: 3}\n",
       "            ).addTo(map_65086584e849e701b7a03696943cbf61);\n",
       "        \n",
       "    \n",
       "            var circle_marker_d94e9d065a2bcc628b14803d316666a6 = L.circleMarker(\n",
       "                [-34.62764717, -58.37910942],\n",
       "                {&quot;bubblingMouseEvents&quot;: true, &quot;color&quot;: &quot;cornflowerblue&quot;, &quot;dashArray&quot;: null, &quot;dashOffset&quot;: null, &quot;fill&quot;: true, &quot;fillColor&quot;: &quot;cornflowerblue&quot;, &quot;fillOpacity&quot;: 0.6, &quot;fillRule&quot;: &quot;evenodd&quot;, &quot;lineCap&quot;: &quot;round&quot;, &quot;lineJoin&quot;: &quot;round&quot;, &quot;opacity&quot;: 1, &quot;radius&quot;: 6, &quot;stroke&quot;: false, &quot;weight&quot;: 3}\n",
       "            ).addTo(map_65086584e849e701b7a03696943cbf61);\n",
       "        \n",
       "    \n",
       "            var circle_marker_8a17b78254d27cf550440f5413e29a64 = L.circleMarker(\n",
       "                [-34.62764718, -58.37910943],\n",
       "                {&quot;bubblingMouseEvents&quot;: true, &quot;color&quot;: &quot;cornflowerblue&quot;, &quot;dashArray&quot;: null, &quot;dashOffset&quot;: null, &quot;fill&quot;: true, &quot;fillColor&quot;: &quot;cornflowerblue&quot;, &quot;fillOpacity&quot;: 0.6, &quot;fillRule&quot;: &quot;evenodd&quot;, &quot;lineCap&quot;: &quot;round&quot;, &quot;lineJoin&quot;: &quot;round&quot;, &quot;opacity&quot;: 1, &quot;radius&quot;: 6, &quot;stroke&quot;: false, &quot;weight&quot;: 3}\n",
       "            ).addTo(map_65086584e849e701b7a03696943cbf61);\n",
       "        \n",
       "    \n",
       "            var circle_marker_590bf5d2b65cc948566dc7f70e0d4302 = L.circleMarker(\n",
       "                [-34.62770192, -58.49022072],\n",
       "                {&quot;bubblingMouseEvents&quot;: true, &quot;color&quot;: &quot;cornflowerblue&quot;, &quot;dashArray&quot;: null, &quot;dashOffset&quot;: null, &quot;fill&quot;: true, &quot;fillColor&quot;: &quot;cornflowerblue&quot;, &quot;fillOpacity&quot;: 0.6, &quot;fillRule&quot;: &quot;evenodd&quot;, &quot;lineCap&quot;: &quot;round&quot;, &quot;lineJoin&quot;: &quot;round&quot;, &quot;opacity&quot;: 1, &quot;radius&quot;: 6, &quot;stroke&quot;: false, &quot;weight&quot;: 3}\n",
       "            ).addTo(map_65086584e849e701b7a03696943cbf61);\n",
       "        \n",
       "    \n",
       "            var circle_marker_f24dcfe285344434064e8abda7bdcb61 = L.circleMarker(\n",
       "                [-34.62771756, -58.47074114],\n",
       "                {&quot;bubblingMouseEvents&quot;: true, &quot;color&quot;: &quot;cornflowerblue&quot;, &quot;dashArray&quot;: null, &quot;dashOffset&quot;: null, &quot;fill&quot;: true, &quot;fillColor&quot;: &quot;cornflowerblue&quot;, &quot;fillOpacity&quot;: 0.6, &quot;fillRule&quot;: &quot;evenodd&quot;, &quot;lineCap&quot;: &quot;round&quot;, &quot;lineJoin&quot;: &quot;round&quot;, &quot;opacity&quot;: 1, &quot;radius&quot;: 6, &quot;stroke&quot;: false, &quot;weight&quot;: 3}\n",
       "            ).addTo(map_65086584e849e701b7a03696943cbf61);\n",
       "        \n",
       "    \n",
       "            var circle_marker_49b9f766e2b07b1394694e805b0aa8cc = L.circleMarker(\n",
       "                [-34.62772274, -58.52756365],\n",
       "                {&quot;bubblingMouseEvents&quot;: true, &quot;color&quot;: &quot;cornflowerblue&quot;, &quot;dashArray&quot;: null, &quot;dashOffset&quot;: null, &quot;fill&quot;: true, &quot;fillColor&quot;: &quot;cornflowerblue&quot;, &quot;fillOpacity&quot;: 0.6, &quot;fillRule&quot;: &quot;evenodd&quot;, &quot;lineCap&quot;: &quot;round&quot;, &quot;lineJoin&quot;: &quot;round&quot;, &quot;opacity&quot;: 1, &quot;radius&quot;: 6, &quot;stroke&quot;: false, &quot;weight&quot;: 3}\n",
       "            ).addTo(map_65086584e849e701b7a03696943cbf61);\n",
       "        \n",
       "    \n",
       "            var circle_marker_bad65d3495d3a2724abb1f0a7008b8f7 = L.circleMarker(\n",
       "                [-34.62783085, -58.3964074],\n",
       "                {&quot;bubblingMouseEvents&quot;: true, &quot;color&quot;: &quot;cornflowerblue&quot;, &quot;dashArray&quot;: null, &quot;dashOffset&quot;: null, &quot;fill&quot;: true, &quot;fillColor&quot;: &quot;cornflowerblue&quot;, &quot;fillOpacity&quot;: 0.6, &quot;fillRule&quot;: &quot;evenodd&quot;, &quot;lineCap&quot;: &quot;round&quot;, &quot;lineJoin&quot;: &quot;round&quot;, &quot;opacity&quot;: 1, &quot;radius&quot;: 6, &quot;stroke&quot;: false, &quot;weight&quot;: 3}\n",
       "            ).addTo(map_65086584e849e701b7a03696943cbf61);\n",
       "        \n",
       "    \n",
       "            var circle_marker_dbc379356889985e16400a7e37044063 = L.circleMarker(\n",
       "                [-34.62786038, -58.38281301],\n",
       "                {&quot;bubblingMouseEvents&quot;: true, &quot;color&quot;: &quot;cornflowerblue&quot;, &quot;dashArray&quot;: null, &quot;dashOffset&quot;: null, &quot;fill&quot;: true, &quot;fillColor&quot;: &quot;cornflowerblue&quot;, &quot;fillOpacity&quot;: 0.6, &quot;fillRule&quot;: &quot;evenodd&quot;, &quot;lineCap&quot;: &quot;round&quot;, &quot;lineJoin&quot;: &quot;round&quot;, &quot;opacity&quot;: 1, &quot;radius&quot;: 6, &quot;stroke&quot;: false, &quot;weight&quot;: 3}\n",
       "            ).addTo(map_65086584e849e701b7a03696943cbf61);\n",
       "        \n",
       "    \n",
       "            var circle_marker_eca6e157985d147c9bb10f8eec42f310 = L.circleMarker(\n",
       "                [-34.62794241, -58.3795169],\n",
       "                {&quot;bubblingMouseEvents&quot;: true, &quot;color&quot;: &quot;cornflowerblue&quot;, &quot;dashArray&quot;: null, &quot;dashOffset&quot;: null, &quot;fill&quot;: true, &quot;fillColor&quot;: &quot;cornflowerblue&quot;, &quot;fillOpacity&quot;: 0.6, &quot;fillRule&quot;: &quot;evenodd&quot;, &quot;lineCap&quot;: &quot;round&quot;, &quot;lineJoin&quot;: &quot;round&quot;, &quot;opacity&quot;: 1, &quot;radius&quot;: 6, &quot;stroke&quot;: false, &quot;weight&quot;: 3}\n",
       "            ).addTo(map_65086584e849e701b7a03696943cbf61);\n",
       "        \n",
       "    \n",
       "            var circle_marker_cbf3c9fea897b8b5f5e19540134195ec = L.circleMarker(\n",
       "                [-34.62801894, -58.4338197],\n",
       "                {&quot;bubblingMouseEvents&quot;: true, &quot;color&quot;: &quot;cornflowerblue&quot;, &quot;dashArray&quot;: null, &quot;dashOffset&quot;: null, &quot;fill&quot;: true, &quot;fillColor&quot;: &quot;cornflowerblue&quot;, &quot;fillOpacity&quot;: 0.6, &quot;fillRule&quot;: &quot;evenodd&quot;, &quot;lineCap&quot;: &quot;round&quot;, &quot;lineJoin&quot;: &quot;round&quot;, &quot;opacity&quot;: 1, &quot;radius&quot;: 6, &quot;stroke&quot;: false, &quot;weight&quot;: 3}\n",
       "            ).addTo(map_65086584e849e701b7a03696943cbf61);\n",
       "        \n",
       "    \n",
       "            var circle_marker_39b50d4a0df786601eb8e2f579e70e3e = L.circleMarker(\n",
       "                [-34.62828656, -58.4356488],\n",
       "                {&quot;bubblingMouseEvents&quot;: true, &quot;color&quot;: &quot;cornflowerblue&quot;, &quot;dashArray&quot;: null, &quot;dashOffset&quot;: null, &quot;fill&quot;: true, &quot;fillColor&quot;: &quot;cornflowerblue&quot;, &quot;fillOpacity&quot;: 0.6, &quot;fillRule&quot;: &quot;evenodd&quot;, &quot;lineCap&quot;: &quot;round&quot;, &quot;lineJoin&quot;: &quot;round&quot;, &quot;opacity&quot;: 1, &quot;radius&quot;: 6, &quot;stroke&quot;: false, &quot;weight&quot;: 3}\n",
       "            ).addTo(map_65086584e849e701b7a03696943cbf61);\n",
       "        \n",
       "    \n",
       "            var circle_marker_d7e77479ea70af4872232755a09082a4 = L.circleMarker(\n",
       "                [-34.62841919, -58.36926144],\n",
       "                {&quot;bubblingMouseEvents&quot;: true, &quot;color&quot;: &quot;cornflowerblue&quot;, &quot;dashArray&quot;: null, &quot;dashOffset&quot;: null, &quot;fill&quot;: true, &quot;fillColor&quot;: &quot;cornflowerblue&quot;, &quot;fillOpacity&quot;: 0.6, &quot;fillRule&quot;: &quot;evenodd&quot;, &quot;lineCap&quot;: &quot;round&quot;, &quot;lineJoin&quot;: &quot;round&quot;, &quot;opacity&quot;: 1, &quot;radius&quot;: 6, &quot;stroke&quot;: false, &quot;weight&quot;: 3}\n",
       "            ).addTo(map_65086584e849e701b7a03696943cbf61);\n",
       "        \n",
       "    \n",
       "            var circle_marker_376a5b6d6c098eb8d932819cc9494739 = L.circleMarker(\n",
       "                [-34.6284667, -58.41972364],\n",
       "                {&quot;bubblingMouseEvents&quot;: true, &quot;color&quot;: &quot;cornflowerblue&quot;, &quot;dashArray&quot;: null, &quot;dashOffset&quot;: null, &quot;fill&quot;: true, &quot;fillColor&quot;: &quot;cornflowerblue&quot;, &quot;fillOpacity&quot;: 0.6, &quot;fillRule&quot;: &quot;evenodd&quot;, &quot;lineCap&quot;: &quot;round&quot;, &quot;lineJoin&quot;: &quot;round&quot;, &quot;opacity&quot;: 1, &quot;radius&quot;: 6, &quot;stroke&quot;: false, &quot;weight&quot;: 3}\n",
       "            ).addTo(map_65086584e849e701b7a03696943cbf61);\n",
       "        \n",
       "    \n",
       "            var circle_marker_5c22b533a60415d07ef1131bbca0e8b6 = L.circleMarker(\n",
       "                [-34.62873635, -58.4099756],\n",
       "                {&quot;bubblingMouseEvents&quot;: true, &quot;color&quot;: &quot;cornflowerblue&quot;, &quot;dashArray&quot;: null, &quot;dashOffset&quot;: null, &quot;fill&quot;: true, &quot;fillColor&quot;: &quot;cornflowerblue&quot;, &quot;fillOpacity&quot;: 0.6, &quot;fillRule&quot;: &quot;evenodd&quot;, &quot;lineCap&quot;: &quot;round&quot;, &quot;lineJoin&quot;: &quot;round&quot;, &quot;opacity&quot;: 1, &quot;radius&quot;: 6, &quot;stroke&quot;: false, &quot;weight&quot;: 3}\n",
       "            ).addTo(map_65086584e849e701b7a03696943cbf61);\n",
       "        \n",
       "    \n",
       "            var circle_marker_098ce591354620f04f920c5ec624ab0d = L.circleMarker(\n",
       "                [-34.62884871, -58.46271207],\n",
       "                {&quot;bubblingMouseEvents&quot;: true, &quot;color&quot;: &quot;cornflowerblue&quot;, &quot;dashArray&quot;: null, &quot;dashOffset&quot;: null, &quot;fill&quot;: true, &quot;fillColor&quot;: &quot;cornflowerblue&quot;, &quot;fillOpacity&quot;: 0.6, &quot;fillRule&quot;: &quot;evenodd&quot;, &quot;lineCap&quot;: &quot;round&quot;, &quot;lineJoin&quot;: &quot;round&quot;, &quot;opacity&quot;: 1, &quot;radius&quot;: 6, &quot;stroke&quot;: false, &quot;weight&quot;: 3}\n",
       "            ).addTo(map_65086584e849e701b7a03696943cbf61);\n",
       "        \n",
       "    \n",
       "            var circle_marker_caa9237c95c4bd0854668a85c215cbd3 = L.circleMarker(\n",
       "                [-34.62902048, -58.50535541],\n",
       "                {&quot;bubblingMouseEvents&quot;: true, &quot;color&quot;: &quot;cornflowerblue&quot;, &quot;dashArray&quot;: null, &quot;dashOffset&quot;: null, &quot;fill&quot;: true, &quot;fillColor&quot;: &quot;cornflowerblue&quot;, &quot;fillOpacity&quot;: 0.6, &quot;fillRule&quot;: &quot;evenodd&quot;, &quot;lineCap&quot;: &quot;round&quot;, &quot;lineJoin&quot;: &quot;round&quot;, &quot;opacity&quot;: 1, &quot;radius&quot;: 6, &quot;stroke&quot;: false, &quot;weight&quot;: 3}\n",
       "            ).addTo(map_65086584e849e701b7a03696943cbf61);\n",
       "        \n",
       "    \n",
       "            var circle_marker_6d185c624f9ea47d2347536c01f907dd = L.circleMarker(\n",
       "                [-34.66677111, -58.44094791],\n",
       "                {&quot;bubblingMouseEvents&quot;: true, &quot;color&quot;: &quot;cornflowerblue&quot;, &quot;dashArray&quot;: null, &quot;dashOffset&quot;: null, &quot;fill&quot;: true, &quot;fillColor&quot;: &quot;cornflowerblue&quot;, &quot;fillOpacity&quot;: 0.6, &quot;fillRule&quot;: &quot;evenodd&quot;, &quot;lineCap&quot;: &quot;round&quot;, &quot;lineJoin&quot;: &quot;round&quot;, &quot;opacity&quot;: 1, &quot;radius&quot;: 6, &quot;stroke&quot;: false, &quot;weight&quot;: 3}\n",
       "            ).addTo(map_65086584e849e701b7a03696943cbf61);\n",
       "        \n",
       "    \n",
       "            var circle_marker_925eec3d7cfecb17b84ee722dcedec95 = L.circleMarker(\n",
       "                [-34.62913916, -58.46438789],\n",
       "                {&quot;bubblingMouseEvents&quot;: true, &quot;color&quot;: &quot;cornflowerblue&quot;, &quot;dashArray&quot;: null, &quot;dashOffset&quot;: null, &quot;fill&quot;: true, &quot;fillColor&quot;: &quot;cornflowerblue&quot;, &quot;fillOpacity&quot;: 0.6, &quot;fillRule&quot;: &quot;evenodd&quot;, &quot;lineCap&quot;: &quot;round&quot;, &quot;lineJoin&quot;: &quot;round&quot;, &quot;opacity&quot;: 1, &quot;radius&quot;: 6, &quot;stroke&quot;: false, &quot;weight&quot;: 3}\n",
       "            ).addTo(map_65086584e849e701b7a03696943cbf61);\n",
       "        \n",
       "    \n",
       "            var circle_marker_e7eb2cdd20b4d5366a0b96e897a9d33e = L.circleMarker(\n",
       "                [-34.62919627, -58.46325991],\n",
       "                {&quot;bubblingMouseEvents&quot;: true, &quot;color&quot;: &quot;cornflowerblue&quot;, &quot;dashArray&quot;: null, &quot;dashOffset&quot;: null, &quot;fill&quot;: true, &quot;fillColor&quot;: &quot;cornflowerblue&quot;, &quot;fillOpacity&quot;: 0.6, &quot;fillRule&quot;: &quot;evenodd&quot;, &quot;lineCap&quot;: &quot;round&quot;, &quot;lineJoin&quot;: &quot;round&quot;, &quot;opacity&quot;: 1, &quot;radius&quot;: 6, &quot;stroke&quot;: false, &quot;weight&quot;: 3}\n",
       "            ).addTo(map_65086584e849e701b7a03696943cbf61);\n",
       "        \n",
       "    \n",
       "            var circle_marker_4faccad77a8dcbd9f3c3f54cb5f5cf6e = L.circleMarker(\n",
       "                [-34.66518343, -58.45012957],\n",
       "                {&quot;bubblingMouseEvents&quot;: true, &quot;color&quot;: &quot;cornflowerblue&quot;, &quot;dashArray&quot;: null, &quot;dashOffset&quot;: null, &quot;fill&quot;: true, &quot;fillColor&quot;: &quot;cornflowerblue&quot;, &quot;fillOpacity&quot;: 0.6, &quot;fillRule&quot;: &quot;evenodd&quot;, &quot;lineCap&quot;: &quot;round&quot;, &quot;lineJoin&quot;: &quot;round&quot;, &quot;opacity&quot;: 1, &quot;radius&quot;: 6, &quot;stroke&quot;: false, &quot;weight&quot;: 3}\n",
       "            ).addTo(map_65086584e849e701b7a03696943cbf61);\n",
       "        \n",
       "    \n",
       "            var circle_marker_692b72a1e3cb7f26cc970b20c38b0d65 = L.circleMarker(\n",
       "                [-34.62930162, -58.40489318],\n",
       "                {&quot;bubblingMouseEvents&quot;: true, &quot;color&quot;: &quot;cornflowerblue&quot;, &quot;dashArray&quot;: null, &quot;dashOffset&quot;: null, &quot;fill&quot;: true, &quot;fillColor&quot;: &quot;cornflowerblue&quot;, &quot;fillOpacity&quot;: 0.6, &quot;fillRule&quot;: &quot;evenodd&quot;, &quot;lineCap&quot;: &quot;round&quot;, &quot;lineJoin&quot;: &quot;round&quot;, &quot;opacity&quot;: 1, &quot;radius&quot;: 6, &quot;stroke&quot;: false, &quot;weight&quot;: 3}\n",
       "            ).addTo(map_65086584e849e701b7a03696943cbf61);\n",
       "        \n",
       "    \n",
       "            var circle_marker_387c16b3042966d9ce79ebf92db58c08 = L.circleMarker(\n",
       "                [-34.62930339, -58.45546217],\n",
       "                {&quot;bubblingMouseEvents&quot;: true, &quot;color&quot;: &quot;cornflowerblue&quot;, &quot;dashArray&quot;: null, &quot;dashOffset&quot;: null, &quot;fill&quot;: true, &quot;fillColor&quot;: &quot;cornflowerblue&quot;, &quot;fillOpacity&quot;: 0.6, &quot;fillRule&quot;: &quot;evenodd&quot;, &quot;lineCap&quot;: &quot;round&quot;, &quot;lineJoin&quot;: &quot;round&quot;, &quot;opacity&quot;: 1, &quot;radius&quot;: 6, &quot;stroke&quot;: false, &quot;weight&quot;: 3}\n",
       "            ).addTo(map_65086584e849e701b7a03696943cbf61);\n",
       "        \n",
       "    \n",
       "            var circle_marker_60b157644bdd50fd54aa173b3ac85c78 = L.circleMarker(\n",
       "                [-34.62932696, -58.39092851],\n",
       "                {&quot;bubblingMouseEvents&quot;: true, &quot;color&quot;: &quot;cornflowerblue&quot;, &quot;dashArray&quot;: null, &quot;dashOffset&quot;: null, &quot;fill&quot;: true, &quot;fillColor&quot;: &quot;cornflowerblue&quot;, &quot;fillOpacity&quot;: 0.6, &quot;fillRule&quot;: &quot;evenodd&quot;, &quot;lineCap&quot;: &quot;round&quot;, &quot;lineJoin&quot;: &quot;round&quot;, &quot;opacity&quot;: 1, &quot;radius&quot;: 6, &quot;stroke&quot;: false, &quot;weight&quot;: 3}\n",
       "            ).addTo(map_65086584e849e701b7a03696943cbf61);\n",
       "        \n",
       "    \n",
       "            var circle_marker_68178772ec293953bcb6eb2e7624fb56 = L.circleMarker(\n",
       "                [-34.62933109, -58.44402387],\n",
       "                {&quot;bubblingMouseEvents&quot;: true, &quot;color&quot;: &quot;cornflowerblue&quot;, &quot;dashArray&quot;: null, &quot;dashOffset&quot;: null, &quot;fill&quot;: true, &quot;fillColor&quot;: &quot;cornflowerblue&quot;, &quot;fillOpacity&quot;: 0.6, &quot;fillRule&quot;: &quot;evenodd&quot;, &quot;lineCap&quot;: &quot;round&quot;, &quot;lineJoin&quot;: &quot;round&quot;, &quot;opacity&quot;: 1, &quot;radius&quot;: 6, &quot;stroke&quot;: false, &quot;weight&quot;: 3}\n",
       "            ).addTo(map_65086584e849e701b7a03696943cbf61);\n",
       "        \n",
       "    \n",
       "            var circle_marker_403c0a8b20638433a4325c2de770a46d = L.circleMarker(\n",
       "                [-34.62941648, -58.43052224],\n",
       "                {&quot;bubblingMouseEvents&quot;: true, &quot;color&quot;: &quot;cornflowerblue&quot;, &quot;dashArray&quot;: null, &quot;dashOffset&quot;: null, &quot;fill&quot;: true, &quot;fillColor&quot;: &quot;cornflowerblue&quot;, &quot;fillOpacity&quot;: 0.6, &quot;fillRule&quot;: &quot;evenodd&quot;, &quot;lineCap&quot;: &quot;round&quot;, &quot;lineJoin&quot;: &quot;round&quot;, &quot;opacity&quot;: 1, &quot;radius&quot;: 6, &quot;stroke&quot;: false, &quot;weight&quot;: 3}\n",
       "            ).addTo(map_65086584e849e701b7a03696943cbf61);\n",
       "        \n",
       "    \n",
       "            var circle_marker_ce2a2cc23b38d02c602c5d104ea4c7df = L.circleMarker(\n",
       "                [-34.62953445, -58.49485242],\n",
       "                {&quot;bubblingMouseEvents&quot;: true, &quot;color&quot;: &quot;cornflowerblue&quot;, &quot;dashArray&quot;: null, &quot;dashOffset&quot;: null, &quot;fill&quot;: true, &quot;fillColor&quot;: &quot;cornflowerblue&quot;, &quot;fillOpacity&quot;: 0.6, &quot;fillRule&quot;: &quot;evenodd&quot;, &quot;lineCap&quot;: &quot;round&quot;, &quot;lineJoin&quot;: &quot;round&quot;, &quot;opacity&quot;: 1, &quot;radius&quot;: 6, &quot;stroke&quot;: false, &quot;weight&quot;: 3}\n",
       "            ).addTo(map_65086584e849e701b7a03696943cbf61);\n",
       "        \n",
       "    \n",
       "            var circle_marker_6fd58c031721e1240d99092c95688336 = L.circleMarker(\n",
       "                [-34.62214953, -58.38099833],\n",
       "                {&quot;bubblingMouseEvents&quot;: true, &quot;color&quot;: &quot;cornflowerblue&quot;, &quot;dashArray&quot;: null, &quot;dashOffset&quot;: null, &quot;fill&quot;: true, &quot;fillColor&quot;: &quot;cornflowerblue&quot;, &quot;fillOpacity&quot;: 0.6, &quot;fillRule&quot;: &quot;evenodd&quot;, &quot;lineCap&quot;: &quot;round&quot;, &quot;lineJoin&quot;: &quot;round&quot;, &quot;opacity&quot;: 1, &quot;radius&quot;: 6, &quot;stroke&quot;: false, &quot;weight&quot;: 3}\n",
       "            ).addTo(map_65086584e849e701b7a03696943cbf61);\n",
       "        \n",
       "&lt;/script&gt;\n",
       "&lt;/html&gt;\" style=\"position:absolute;width:100%;height:100%;left:0;top:0;border:none !important;\" allowfullscreen webkitallowfullscreen mozallowfullscreen></iframe></div></div>"
      ],
      "text/plain": [
       "<folium.folium.Map at 0x1e600448210>"
      ]
     },
     "execution_count": 97,
     "metadata": {},
     "output_type": "execute_result"
    }
   ],
   "source": [
    "\n",
    "title_html = '''\n",
    "             <h3 align=\"center\" style=\"font-size:16px\"><b>{}</b></h3>\n",
    "             '''.format('Mapeo de accidentalidad')   \n",
    "\n",
    "m = folium.Map(location=[-34.61315, -58.37723], zoom_start=12)\n",
    "\n",
    "m.get_root().html.add_child(folium.Element(title_html))\n",
    "\n",
    "contador = 0\n",
    "accidentes_por_coordenada.values\n",
    "\n",
    "for lon,lat in accidentes_por_coordenada.index:\n",
    "    radius = 5 + int(accidentes_por_coordenada.values[contador])\n",
    "    if int(accidentes_por_coordenada.values[contador]) >2:\n",
    "\n",
    "        color = 'black'\n",
    "\n",
    "    else:\n",
    "        color = 'cornflowerblue'\n",
    "\n",
    "    folium.CircleMarker(\n",
    "        location=[lon, lat],\n",
    "        radius=radius,\n",
    "        color=color,\n",
    "        stroke=False,\n",
    "        fill=True,\n",
    "        fill_opacity=0.6,\n",
    "        opacity=1\n",
    "    ).add_to(m)\n",
    "    contador = contador+1\n",
    "\n",
    "print(\"Los puntos negros son las ubicaciones con más accidentes, o con mayor frecuencia\")   \n",
    "m\n"
   ]
  },
  {
   "cell_type": "code",
   "execution_count": 132,
   "id": "8f352712",
   "metadata": {},
   "outputs": [
    {
     "name": "stderr",
     "output_type": "stream",
     "text": [
      "Summarize dataset: 100%|██████████| 39/39 [00:04<00:00,  9.72it/s, Completed]                      \n",
      "Generate report structure: 100%|██████████| 1/1 [00:05<00:00,  5.24s/it]\n",
      "Render HTML: 100%|██████████| 1/1 [00:00<00:00,  1.35it/s]\n",
      "Export report to file: 100%|██████████| 1/1 [00:00<00:00, 123.09it/s]\n"
     ]
    }
   ],
   "source": [
    "profilling = ydata_profiling.ProfileReport(siniestros_viales_hechos)\n",
    "profilling.to_file(output_file='Hechos_Analysis.html')"
   ]
  },
  {
   "cell_type": "code",
   "execution_count": 131,
   "id": "f9492c9a",
   "metadata": {},
   "outputs": [
    {
     "name": "stderr",
     "output_type": "stream",
     "text": [
      "Summarize dataset:   0%|          | 0/5 [00:00<?, ?it/s]"
     ]
    },
    {
     "name": "stderr",
     "output_type": "stream",
     "text": [
      "Summarize dataset: 100%|██████████| 16/16 [00:00<00:00, 26.73it/s, Completed]                           \n",
      "Generate report structure: 100%|██████████| 1/1 [00:02<00:00,  2.12s/it]\n",
      "Render HTML: 100%|██████████| 1/1 [00:00<00:00,  4.37it/s]\n",
      "Export report to file: 100%|██████████| 1/1 [00:00<00:00, 89.15it/s]\n"
     ]
    }
   ],
   "source": [
    "profilling = ydata_profiling.ProfileReport(siniestros_viales_victimas)\n",
    "profilling.to_file(output_file='Victimas_Analysis.html')"
   ]
  }
 ],
 "metadata": {
  "kernelspec": {
   "display_name": "Python 3 (ipykernel)",
   "language": "python",
   "name": "python3"
  },
  "language_info": {
   "codemirror_mode": {
    "name": "ipython",
    "version": 3
   },
   "file_extension": ".py",
   "mimetype": "text/x-python",
   "name": "python",
   "nbconvert_exporter": "python",
   "pygments_lexer": "ipython3",
   "version": "3.11.7"
  }
 },
 "nbformat": 4,
 "nbformat_minor": 5
}
